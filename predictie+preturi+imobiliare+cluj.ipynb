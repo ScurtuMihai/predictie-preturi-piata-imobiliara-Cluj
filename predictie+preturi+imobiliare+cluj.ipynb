{
 "cells": [
  {
   "cell_type": "code",
   "execution_count": 1,
   "metadata": {
    "collapsed": true
   },
   "outputs": [],
   "source": [
    "import pandas as pd\n",
    "import numpy as np\n",
    "import matplotlib.pyplot as plt"
   ]
  },
  {
   "cell_type": "code",
   "execution_count": 2,
   "metadata": {
    "collapsed": true
   },
   "outputs": [],
   "source": [
    "pd.set_option('display.max_colwidth', -1)"
   ]
  },
  {
   "cell_type": "raw",
   "metadata": {},
   "source": [
    "Importam fisierele csv care contin anunturile cu apartamentele si garsoniere de vanzare"
   ]
  },
  {
   "cell_type": "code",
   "execution_count": 3,
   "metadata": {
    "collapsed": true
   },
   "outputs": [],
   "source": [
    "df = pd.read_csv(r'C:\\Users\\Scurtu Mihai\\Desktop\\proiect\\anunturi_piata_apartamente.csv', sep='\\t', encoding='utf-8')\n",
    "df_g = pd.read_csv(r'C:\\Users\\Scurtu Mihai\\Desktop\\proiect\\anunturi_piata_garsoniere.csv', sep='\\t', encoding='utf-8')"
   ]
  },
  {
   "cell_type": "raw",
   "metadata": {},
   "source": [
    "Garsonierele fiind doar cu o camera pe site nu apare categoria \"numar camere\" asa ca vom creea in data frame o noua coloana \"numar_camere\" si vom pune valoarea \"1\" pentru toate garsonierele."
   ]
  },
  {
   "cell_type": "code",
   "execution_count": 4,
   "metadata": {
    "collapsed": true
   },
   "outputs": [],
   "source": [
    "df_g['numar_camere'] = 1"
   ]
  },
  {
   "cell_type": "raw",
   "metadata": {},
   "source": [
    "Unim dataframe-urile"
   ]
  },
  {
   "cell_type": "code",
   "execution_count": 5,
   "metadata": {
    "collapsed": true
   },
   "outputs": [],
   "source": [
    "data = df.append(df_g)"
   ]
  },
  {
   "cell_type": "code",
   "execution_count": 6,
   "metadata": {
    "collapsed": true
   },
   "outputs": [],
   "source": [
    "data = data[data['titlu'] != 'Nu a fost deschis anuntul']"
   ]
  },
  {
   "cell_type": "raw",
   "metadata": {},
   "source": [
    "Am unit cele doua dataframe-uri si am eliminat anunturile care nu au fost deschise. \n",
    "Eroarea provine de la faptul ca in lista cu link-uri se aflau si link-urile de la pagini, astfel ca in aceste link-uri nu se afla un anunt propriu zis. \n",
    "Anunturile cu titlul 'Nu a fost deschis anuntul' sunt anunturi de la care nu au putut fi preluate date precum titlul anuntului.  Crawlerul a extras din link-urile de pe pagina nu doar link-urile care contin anunturi ci si link-ul cu toate anunturile de pe pagina. Din aceasta cauza avem 'Nu a fost deschis anuntul'."
   ]
  },
  {
   "cell_type": "code",
   "execution_count": 7,
   "metadata": {},
   "outputs": [
    {
     "data": {
      "text/plain": [
       "8270"
      ]
     },
     "execution_count": 7,
     "metadata": {},
     "output_type": "execute_result"
    }
   ],
   "source": [
    "len(data)"
   ]
  },
  {
   "cell_type": "code",
   "execution_count": 8,
   "metadata": {
    "collapsed": true
   },
   "outputs": [],
   "source": [
    "coloane = data.columns.tolist()"
   ]
  },
  {
   "cell_type": "code",
   "execution_count": 9,
   "metadata": {},
   "outputs": [
    {
     "data": {
      "text/plain": [
       "['titlu',\n",
       " 'pret',\n",
       " 'oras',\n",
       " 'grad_finisare',\n",
       " 'descriere',\n",
       " 'tip_oferta',\n",
       " 'persoana',\n",
       " 'etaj',\n",
       " 'vechime_imobil',\n",
       " 'numar_bai',\n",
       " 'numar_balcoane',\n",
       " 'geamuri_termopan',\n",
       " 'centrala_termica',\n",
       " 'compatimentare',\n",
       " 'parchet',\n",
       " 'confort',\n",
       " 'gresie',\n",
       " 'faianta',\n",
       " 'zugravit_lavabil',\n",
       " 'loc_parcare',\n",
       " 'agentie',\n",
       " 'numar_camere',\n",
       " 'strada',\n",
       " 'suprafata',\n",
       " 'cartier',\n",
       " 'link',\n",
       " 'modificari_interioare',\n",
       " 'balcoane_inchise',\n",
       " 'aer_conditionat',\n",
       " 'loc_in_pod',\n",
       " 'loc_in_pivnita',\n",
       " 'uscator']"
      ]
     },
     "execution_count": 9,
     "metadata": {},
     "output_type": "execute_result"
    }
   ],
   "source": [
    "coloane"
   ]
  },
  {
   "cell_type": "raw",
   "metadata": {},
   "source": [
    "Coloanele cele mai importante le vom introduce intr-o lista \"first\""
   ]
  },
  {
   "cell_type": "code",
   "execution_count": 10,
   "metadata": {
    "collapsed": true
   },
   "outputs": [],
   "source": [
    "first = ['pret', 'etaj', 'vechime_imobil', 'numar_camere', 'cartier', 'suprafata', 'compatimentare']"
   ]
  },
  {
   "cell_type": "raw",
   "metadata": {},
   "source": [
    "Verificam cate valori unice avem in fiecare coloana si cate valori nule avem in fiecare coloana"
   ]
  },
  {
   "cell_type": "code",
   "execution_count": 11,
   "metadata": {},
   "outputs": [
    {
     "name": "stdout",
     "output_type": "stream",
     "text": [
      "pret 85 000 EUR     205\n",
      "95 000 EUR     176\n",
      "75 000 EUR     167\n",
      "110 000 EUR    154\n",
      "65 000 EUR     152\n",
      "90 000 EUR     148\n",
      "70 000 EUR     146\n",
      "120 000 EUR    135\n",
      "100 000 EUR    135\n",
      "80 000 EUR     129\n",
      "105 000 EUR    117\n",
      "125 000 EUR    112\n",
      "72 000 EUR     106\n",
      "115 000 EUR    100\n",
      "78 000 EUR     94 \n",
      "45 000 EUR     93 \n",
      "87 000 EUR     85 \n",
      "82 000 EUR     84 \n",
      "69 000 EUR     80 \n",
      "60 000 EUR     75 \n",
      "130 000 EUR    74 \n",
      "89 000 EUR     74 \n",
      "79 000 EUR     73 \n",
      "76 000 EUR     71 \n",
      "77 000 EUR     71 \n",
      "68 000 EUR     70 \n",
      "99 000 EUR     69 \n",
      "93 000 EUR     67 \n",
      "50 000 EUR     67 \n",
      "55 000 EUR     66 \n",
      "               .. \n",
      "63 070 EUR     1  \n",
      "83 136 EUR     1  \n",
      "71 030 EUR     1  \n",
      "52 751 EUR     1  \n",
      "51 600 EUR     1  \n",
      "78 846 EUR     1  \n",
      "65 999 EUR     1  \n",
      "97 800 EUR     1  \n",
      "32 300 EUR     1  \n",
      "48 516 EUR     1  \n",
      "194 000 EUR    1  \n",
      "59 430 EUR     1  \n",
      "96 483 EUR     1  \n",
      "79 700 EUR     1  \n",
      "47 414 EUR     1  \n",
      "61 864 EUR     1  \n",
      "58 700 EUR     1  \n",
      "103 500 EUR    1  \n",
      "42 600 EUR     1  \n",
      "60 300 EUR     1  \n",
      "116 500 EUR    1  \n",
      "72 390 EUR     1  \n",
      "104 370 EUR    1  \n",
      "93 800 EUR     1  \n",
      "79 160 EUR     1  \n",
      "69 800 EUR     1  \n",
      "68 306 EUR     1  \n",
      "25 500 EUR     1  \n",
      "86 235 RON     1  \n",
      "61 094 EUR     1  \n",
      "Name: pret, Length: 950, dtype: int64\n",
      "etaj Etajul 1            1256\n",
      "Parter              1183\n",
      "Nespecificat        1162\n",
      "Etajul 2            990 \n",
      "Etajul 3            843 \n",
      "Etajul 4            757 \n",
      "Etaj intermediar    451 \n",
      "Etajul 5            236 \n",
      "Ultimul etaj        196 \n",
      "Etajul 7            181 \n",
      "Etajul 8            145 \n",
      "Etajul 6            124 \n",
      "Etajul 10           100 \n",
      "Etajul 9            97  \n",
      "Mansarda            80  \n",
      "Demisol             75  \n",
      "Name: etaj, dtype: int64\n",
      "vechime_imobil mai vechi de 2000    3292\n",
      "bloc nou             2663\n",
      "Nespecificat         1285\n",
      "In constructie       215 \n",
      "Name: vechime_imobil, dtype: int64\n",
      "numar_camere 2      3413\n",
      "3      2679\n",
      "1      824 \n",
      "4      755 \n",
      "1      512 \n",
      "5      56  \n",
      "6      11  \n",
      "8      1   \n",
      "4+     1   \n",
      "9      1   \n",
      "7      1   \n",
      "15     1   \n",
      "Name: numar_camere, dtype: int64\n",
      "cartier Manastur           1585\n",
      "Marasti            1432\n",
      "Gheorgheni         1059\n",
      "Centru             978 \n",
      "Zorilor            593 \n",
      "Grigorescu         455 \n",
      "Buna-Ziua          338 \n",
      "Floresti           324 \n",
      "Europa             240 \n",
      "Borhanci           160 \n",
      "Andrei Muresanu    135 \n",
      "Plopilor           125 \n",
      "Iris               123 \n",
      "Baciu              87  \n",
      "Gruia              70  \n",
      "Dambul-Rotund      57  \n",
      "Apahida            37  \n",
      "Gara               24  \n",
      "Someseni           24  \n",
      "Bulgaria           17  \n",
      "Faget              3   \n",
      "Feleacu            1   \n",
      "Sopor              1   \n",
      "Name: cartier, dtype: int64\n",
      "suprafata 65mp        415\n",
      "50mp        360\n",
      "52mp        309\n",
      "40mp        230\n",
      "70mp        212\n",
      "60mp        205\n",
      "54mp        199\n",
      "80mp        184\n",
      "42mp        168\n",
      "53mp        157\n",
      "48mp        155\n",
      "46mp        149\n",
      "56mp        143\n",
      "45mp        143\n",
      "68mp        142\n",
      "67mp        140\n",
      "55mp        136\n",
      "47mp        119\n",
      "78mp        118\n",
      "64mp        118\n",
      "58mp        117\n",
      "63mp        116\n",
      "51mp        116\n",
      "mp          110\n",
      "57mp        106\n",
      "28mp        104\n",
      "38mp        104\n",
      "49mp        102\n",
      "72mp        94 \n",
      "44mp        92 \n",
      "            .. \n",
      "54.66mp     1  \n",
      "162mp       1  \n",
      "57.39mp     1  \n",
      "63.23mp     1  \n",
      "69.17mp     1  \n",
      "56.9mp      1  \n",
      "35.54mp     1  \n",
      "39.01mp     1  \n",
      "34900mp     1  \n",
      "54.83mp     1  \n",
      "54.78mp     1  \n",
      "39.83mp     1  \n",
      "63.84mp     1  \n",
      "92.94mp     1  \n",
      "44.3mp      1  \n",
      "81.4mp      1  \n",
      "159mp       1  \n",
      "40.32mp     1  \n",
      "55.12mp     1  \n",
      "61.91mp     1  \n",
      "53.15mp     1  \n",
      "43.2mp      1  \n",
      "62.55mp     1  \n",
      "45.44mp     1  \n",
      "60.47mp     1  \n",
      "64.95mp     1  \n",
      "62.45mp     1  \n",
      "97.4mp      1  \n",
      "68.33mp     1  \n",
      "41.04mp     1  \n",
      "Name: suprafata, Length: 558, dtype: int64\n",
      "compatimentare Decomandat        4096\n",
      "Semidecomandat    2637\n",
      "Nespecificat      737 \n",
      "Open space        38  \n",
      "Nedecomandat      18  \n",
      "Circular          15  \n",
      "Vagon             3   \n",
      "Name: compatimentare, dtype: int64\n"
     ]
    }
   ],
   "source": [
    "for x in first:\n",
    "    print('{0}'.format(x) , data[x].value_counts())"
   ]
  },
  {
   "cell_type": "code",
   "execution_count": 12,
   "metadata": {},
   "outputs": [
    {
     "name": "stdout",
     "output_type": "stream",
     "text": [
      "titlu Apartament 2  camere de vanzare in Manastur                                                             112\n",
      "Apartament 2 camere                                                                                     105\n",
      "Apartament 3  camere de vanzare in Manastur                                                             101\n",
      "Apartament 2  camere de vanzare in Centru                                                               93 \n",
      "Apartament 2  camere de vanzare in Gheorgheni                                                           89 \n",
      "Apartament 3  camere de vanzare in Marasti                                                              86 \n",
      "Apartament 3 camere                                                                                     72 \n",
      "Apartament 2  camere de vanzare in Marasti                                                              62 \n",
      "Apartament 3  camere de vanzare in Buna Ziua                                                            54 \n",
      "Apartament 3  camere de vanzare in Centru                                                               54 \n",
      "Apartament 3  camere de vanzare in Gheorgheni                                                           50 \n",
      "Apartament 4  camere de vanzare in Manastur                                                             46 \n",
      "Apartament 2  camere de vanzare in Zorilor                                                              42 \n",
      "Garsoniera de vanzare in Marasti                                                                        37 \n",
      "Apartament 1 camera                                                                                     37 \n",
      "Apartament 2  camere de vanzare in Grigorescu                                                           35 \n",
      "Apartament 3  camere de vanzare in Zorilor                                                              35 \n",
      "Garsoniera de vanzare in Manastur                                                                       33 \n",
      "Apartament 2  camere de vanzare in Intre Lacuri                                                         30 \n",
      "Apartament 2  camere de vanzare in Buna Ziua                                                            27 \n",
      "Apartament o camera de vanzare in Marasti                                                               24 \n",
      "Apartament o camera de vanzare in Centru                                                                24 \n",
      "Apartament 2  camere de vanzare in Borhanci                                                             21 \n",
      "Apartament 2 camere cart. Marasti                                                                       20 \n",
      "Apartament 4  camere de vanzare in Marasti                                                              20 \n",
      "Apartament 3  camere de vanzare in Grigorescu                                                           18 \n",
      "Vand apartament cu 2 camere in cartierul Manastur                                                       17 \n",
      "Apartament 4  camere de vanzare in Zorilor                                                              16 \n",
      "Apartament o camera de vanzare in Manastur                                                              16 \n",
      "Apartament 4  camere de vanzare in Centru                                                               15 \n",
      "                                                                                                        .. \n",
      "Apartament 4 camere zona str. Paris                                                                     1  \n",
      "Apartament 3 camere confort sporit Marasti                                                              1  \n",
      "Vanzare Apartament 3 camere semidecomandat, 72 mp, Etajul parter din 6, in apropiere de CALEA ...       1  \n",
      "Apartament 3 camere de  vanzare in Cluj Napoca, Manastur ID 3760                                        1  \n",
      "Vanzare 2 camere imobil nou Marasti, zona Iulius Mall, cu garaj                                         1  \n",
      "Apartament în vila zona Grigorescu                                                                      1  \n",
      "Apartament 3 camere de  vanzare in Cluj Napoca, Europa ID 3826                                          1  \n",
      "Mein Haus: apartament cu 2 camere in Manastur (ID - 39561)                                              1  \n",
      "Mein Haus: apartament cu 3 camere in A.Muresanu (ID - 39410)                                            1  \n",
      " Apartament cu 3 camere, 100mp, Floresti zona Tineretului                                               1  \n",
      "Apartament 2 camere decomandat Zorilor, 50 mp, imobil reabilitat termic                                 1  \n",
      "Vanzare apartament 2 camere, decomandat, garaj, Plopilor                                                1  \n",
      "Apartament 2 camere, 50mp, decomandat - Plopilor                                                        1  \n",
      "Mein Haus: apartament cu 4 camere in Marasti (ID - 38154)                                               1  \n",
      "Apartament 2 camere 48 MP, semidecomandat Zona Donath                                                   1  \n",
      "Apartament 3 camere, terasa, 60 mp, Floresti                                                            1  \n",
      "Vanzare Apartament 3 camere semidecomandat, 77 mp, Etajul 3 din 7, in apropiere de NICOLAE TITULESCU    1  \n",
      "Apartament 4 camere de  vanzare in Cluj Napoca, Grigorescu ID 3800                                      1  \n",
      "Apartament decomandat langa Park Lake, etajul 3, 68 mp, optional garaj                                  1  \n",
      "Apartament 2 camere Plopilor Vechi ,Platina Mall ,Parcul Central                                        1  \n",
      "Vanzare Apartament 3 camere decomandat, 76 mp, Etajul 1 din 3, in apropiere de CALEA TURZII             1  \n",
      "Apartament 2 camere de  vanzare in Cluj Napoca, Manastur ID 4070                                        1  \n",
      "Vand gars., et. int., str. Rapsodiei si Pasteur, finisate cu parchet, gresie                            1  \n",
      "Apartament 2 camere, intre 49-66mp, etaj intermediar - Europa                                           1  \n",
      "Apartament 2 camere open space zona Mircea Eliade ,bloc nou                                             1  \n",
      "Apartament doua camere, doua balcoane, parcare cu CF, Floresti                                          1  \n",
      "Vanzare Garsoniera 22 mp; Etajul 2 din 4, in apropiere de BIZUSA                                        1  \n",
      "Apartament 3 camere, decomandat, etaj 2, finisat modern, Gheorgheni                                     1  \n",
      "Apartament 2 camere zona Eroilor                                                                        1  \n",
      "Mein Haus: apartament cu 3 camere in Manastur (ID - 38213)                                              1  \n",
      "Name: titlu, Length: 6141, dtype: int64\n",
      "pret 85 000 EUR     205\n",
      "95 000 EUR     176\n",
      "75 000 EUR     167\n",
      "110 000 EUR    154\n",
      "65 000 EUR     152\n",
      "90 000 EUR     148\n",
      "70 000 EUR     146\n",
      "120 000 EUR    135\n",
      "100 000 EUR    135\n",
      "80 000 EUR     129\n",
      "105 000 EUR    117\n",
      "125 000 EUR    112\n",
      "72 000 EUR     106\n",
      "115 000 EUR    100\n",
      "78 000 EUR     94 \n",
      "45 000 EUR     93 \n",
      "87 000 EUR     85 \n",
      "82 000 EUR     84 \n",
      "69 000 EUR     80 \n",
      "60 000 EUR     75 \n",
      "130 000 EUR    74 \n",
      "89 000 EUR     74 \n",
      "79 000 EUR     73 \n",
      "76 000 EUR     71 \n",
      "77 000 EUR     71 \n",
      "68 000 EUR     70 \n",
      "99 000 EUR     69 \n",
      "93 000 EUR     67 \n",
      "50 000 EUR     67 \n",
      "55 000 EUR     66 \n",
      "               .. \n",
      "63 070 EUR     1  \n",
      "83 136 EUR     1  \n",
      "71 030 EUR     1  \n",
      "52 751 EUR     1  \n",
      "51 600 EUR     1  \n",
      "78 846 EUR     1  \n",
      "65 999 EUR     1  \n",
      "97 800 EUR     1  \n",
      "32 300 EUR     1  \n",
      "48 516 EUR     1  \n",
      "194 000 EUR    1  \n",
      "59 430 EUR     1  \n",
      "96 483 EUR     1  \n",
      "79 700 EUR     1  \n",
      "47 414 EUR     1  \n",
      "61 864 EUR     1  \n",
      "58 700 EUR     1  \n",
      "103 500 EUR    1  \n",
      "42 600 EUR     1  \n",
      "60 300 EUR     1  \n",
      "116 500 EUR    1  \n",
      "72 390 EUR     1  \n",
      "104 370 EUR    1  \n",
      "93 800 EUR     1  \n",
      "79 160 EUR     1  \n",
      "69 800 EUR     1  \n",
      "68 306 EUR     1  \n",
      "25 500 EUR     1  \n",
      "86 235 RON     1  \n",
      "61 094 EUR     1  \n",
      "Name: pret, Length: 950, dtype: int64\n",
      "oras Cluj-Napoca, Cluj, Manastur           1585\n",
      "Cluj-Napoca, Cluj, Marasti            1432\n",
      "Cluj-Napoca, Cluj, Gheorgheni         1059\n",
      "Cluj-Napoca, Cluj, Centru             978 \n",
      "Cluj-Napoca, Cluj, Zorilor            593 \n",
      "Cluj-Napoca, Cluj, Grigorescu         455 \n",
      "Cluj-Napoca, Cluj                     402 \n",
      "Cluj-Napoca, Cluj, Buna-Ziua          338 \n",
      "Cluj-Napoca, Cluj, Floresti           324 \n",
      "Cluj-Napoca, Cluj, Europa             240 \n",
      "Cluj-Napoca, Cluj, Borhanci           160 \n",
      "Cluj-Napoca, Cluj, Andrei Muresanu    135 \n",
      "Cluj-Napoca, Cluj, Plopilor           125 \n",
      "Cluj-Napoca, Cluj, Iris               123 \n",
      "Cluj-Napoca, Cluj, Baciu              87  \n",
      "Cluj-Napoca, Cluj, Gruia              70  \n",
      "Cluj-Napoca, Cluj, Dambul-Rotund      57  \n",
      "Cluj-Napoca, Cluj, Apahida            37  \n",
      "Cluj-Napoca, Cluj, Gara               24  \n",
      "Cluj-Napoca, Cluj, Someseni           24  \n",
      "Cluj-Napoca, Cluj, Bulgaria           17  \n",
      "Cluj-Napoca, Cluj, Faget              3   \n",
      "Cluj-Napoca, Cluj, Sopor              1   \n",
      "Cluj-Napoca, Cluj, Feleacu            1   \n",
      "Name: oras, dtype: int64\n",
      "grad_finisare Nespecificat         2649\n",
      "Finisat modern       1218\n",
      "Semifinisat          1174\n",
      "Finisat clasic       811 \n",
      "Ultrafinisat         396 \n",
      "Nefinisat            236 \n",
      "Renovat              66  \n",
      "Necesita renovare    38  \n",
      "Name: grad_finisare, dtype: int64\n",
      "descriere     Tudoria ofera spre vanzare apartamente de 1 camera cu suprafete cuprinse intre 35 si 40 mp situate intr-un ansamblu rezidential nou edificat de catre unul dintre cei mai reputati dezvoltatori de pe piata de profil. Apartamentele sunt decomandate,  compuse din camera,  bucatarie,  baie,  hol si balcon si sunt localizate la etajele intermediare ale imobilului de 7 etaje. Se predau la stadiul semifinisat,  cu centrala termica individuala,  instalatii trase pe pozitii,  pereti gletuiti si sapa autonivelanta turnata. In vederea achizitionarii se solicita un avans de minim 15%. La plata integrala se ofera bonus un loc de parcare exterior al carui pret este de 3.000 Euro + TVA. Preturi incepand de la 1.155 Euro/mp,  TVA de 5% inclus,  in functie de pozitionarea si modalitatea de plata a apartamentului. Pentru informatii suplimentare nu ezitati sa ne contactati la numerele de telefon afisate sau la sediul agentiei,  pe Calea Dorobantilor,  nr. 70.                                                                                                                                                                                                                                                                                                                                                                                                                                                                                                                                                                9\n",
      "    IMOFINDER va propune spre vanzare apartamente intr-un proiect nou,  acesta dispune de o arhitectura moderna si de o functionalitate buna,  avand curte interioara cu spatii verzi,  iar spatiile comerciale situate la parterul imobilelor sunt destinate unor activitati menite sa ridice confortul viitorilor clienti.\\r  Proiectul se afla in apropierea numeroaselor scoli si gradinite si totodata este bine conectat prin mijloacele de transport in comun aflate in apropiere,  precum si alte puncte de interes: Piata Mihai Viteazu.\\r  Proiectul dispunde de apartamente cu 1,  2 si 3 camere,  locuri de parcare subterane,  iar apartamente se vor preda la clientul final semifinisate si spatiile comune vor fi finisate modern.\\rDispune de apartamente cu suprafete intre 42 mp si 73 mp utili.\\rPreturi incepand de la 1400 euro/mp cu TVA 5% inclus.\\rParcare 7500 euro cu TVA inclus.\\rFinalizare sfarsitul anului 2018.\\r\\rApartamentele se pot achizitiona prin credit bancar.\\rPentru mai multe detalii suplimentare,  oferete de pret personalizate,  precum si disponibilitatea apartamentelor asteptam sa ne contactati telefonic sau prin e-mail!                                                                                                                                                                                                                                                                                                                                                                              8\n",
      "    Tudoria ofera spre vanzare apartamente de 1 camera cu suprafete cuprinse intre 46 si 51 mp situate intr-un ansamblu rezidential nou edificat de catre unul dintre dezvoltatorii imobiliari de renume de pe piata de profil. Apartamentele sunt decomandate,  compuse din dormitor,  bucatarie,  baie,  hol si balcon si sunt localizate la etajele intermediare ale imobilului de 7 etaje. Se predau la stadiul semifinisat,  cu geamuri termopan,  centrala termica si calorifere,  usa metalica la intrare,  pereti gletuiti,  instalatii trase pe pozitii si sapa autonivelanta turnata. In vederea achizitionarii se solicita un avans de minim 10.000 Euro. La plata unui avans de peste 30% se ofera un discount in functie de cuantumul sumei achitate. Exista posibilitatea achizitionarii unor locuri de parcare subterana la pretul de 4.000 Euro/loc. Preturi cuprinse intre 52.000 si 58.000 Euro,  TVA de 5% inclus. Pentru informatii suplimentare nu ezitati sa ne contactati la numerele de telefon afisate sau la sediul agentiei,  pe Calea Dorobantilor,  nr. 70.                                                                                                                                                                                                                                                                                                                                                                                                                                                                     8\n",
      "    Tudoria ofera spre vanzare apartamente de 2 camere cu suprafete cuprinse intre 49 si 66 mp situate intr-un ansamblu rezidential nou edificat de catre unul dintre cei mai reputati dezvoltatori de pe piata de profil. Apartamentele sunt semidecomandate,  compuse din living+bucatarie open space,  dormitor,  baie si balcon si sunt localizate la etajele intermediare ale imobilului de 7 etaje. Se predau la stadiul semifinisat,  cu centrala termica individuala,  instalatii trase pe pozitii,  pereti gletuiti si sapa autonivelanta turnata. In vederea achizitionarii se solicita un avans de minim 15%. La plata integrala se ofera bonus un loc de parcare exterior al carui pret este de 3.000 Euro + TVA. Preturi incepand de la 1.155 Euro/mp,  TVA de 5% inclus,  in functie de pozitionarea si modalitatea de plata a apartamentului. Pentru informatii suplimentare nu ezitati sa ne contactati la numerele de telefon afisate sau la sediul agentiei,  pe Calea Dorobantilor,  nr. 70.                                                                                                                                                                                                                                                                                                                                                                                                                                                                                                                                              7\n",
      "    Tudoria ofera spre vanzare apartament in zona Pietei Zorilor! Apartamentul este situat la etajul 1 al unui imobil cu 4 etaje,  format din 4 camere decomandate,  bucatarie,  hol si 2 bai,  in suprafata utila de 78mp+logie. Apartamentul este mediu finisat,  detine centrala termica individuala,  tamplarie PVC cu geam termopan,  parchet lemn masiv in stare buna,  gresie si faianta,  oferit spre vanzare cu bucataria mobilata. Datorita locatiei,  recomandam aceasta oferta atat pentru locuinta,  cat si pentru investitie!                                                                                                                                                                                                                                                                                                                                                                                                                                                                                                                                                                                                                                                                                                                                                                                                                                                                                                                                                                                                                  7\n",
      "    Vand apartament o camera,  central situat,  str. Nasaud,  et.3/7,  decomandat,  compus din camera,  bucatarie,  baie,  balcon,  2 debarale, un hol la intrare,  cu C.T, usa antiefractie,  izolat exterior,  finisaje clasice,  locatie excelenta la 3 min de Iulius-Moll,  la 3 min de centru,  pret 59900eur.                                                                                                                                                                                                                                                                                                                                                                                                                                                                                                                                                                                                                                                                                                                                                                                                                                                                                                                                                                                                                                                                                                                                                                                                                                          6\n",
      "    Tudoria ofera spre vanzare un apartament in zona strazii Dorobantilor! Apartamentul este situat la etajul 7 al unui imobil cu 7 etaje,  format din camera,  bucatarie,  camara,  hol si baie,  in suprafata de 40 mp+ balcon. Finisajele imobilului sunt moderne. Orientarea sud-estica,  finisajele de calitate: centrala termica individuala,  ferestre termopan,  parchet laminat,  gresie si faianta moderna,  fac ca aceasta proprietate sa fie ideala alat pentru locuinta,  cat si pentru investitie. Informatii suplimentare pot fi furnizate telefonic la numerele afisate,  sau la sediul agentiei noastre,  pe Calea Dorobantilor,  Nr.70.                                                                                                                                                                                                                                                                                                                                                                                                                                                                                                                                                                                                                                                                                                                                                                                                                                                                                                    6\n",
      "    Tudoria ofera spre vanzare apartamente de 2 camere cu suprafete cuprinse intre 52 si 70 mp situate intr-un ansamblu rezidential nou edificat de catre unul dintre dezvoltatorii imobiliari de renume de pe piata de profil. Apartamentele sunt semidecomandate,  compuse din dormitor,  zona de zi + bucatarie,  baie,  hol si balcon si sunt localizate la etajele intermediare ale imobilului de 7 etaje. Se predau la stadiul semifinisat,  cu geamuri termopan,  centrala termica si calorifere,  usa metalica la intrare,  pereti gletuiti,  instalatii trase pe pozitii si sapa autonivelanta turnata. In vederea achizitionarii se solicita un avans de minim 10.000 Euro. La plata unui avans de peste 30% se ofera un discount in functie de cuantumul sumei achitate. Exista posibilitatea achizitionarii unor locuri de parcare subterana la pretul de 4.000 Euro/loc. Preturi cuprinse intre 59.000 si 75.000 Euro,  TVA de 5% inclus. Pentru informatii suplimentare nu ezitati sa ne contactati la numerele de telefon afisate sau la sediul agentiei,  pe Calea Dorobantilor,  nr. 70.                                                                                                                                                                                                                                                                                                                                                                                                                                                    6\n",
      "    IMOFINDER  va recomanda la vanzare un ansamblu rezidential modern,  situat in Buna Ziua,  zona Calea Turzii,  o zona in plina dezvoltare imobiliara . Sunt disponibile apartamente  de 2 si 3 camere cu suprafete intre 41 si 73 mp utili ce se vor preda semifinisate in luna iulie 2017. Locul de parcare 4000 Euro (neacoperit) sau 6000 Euro (acoperit). Pentru mai multe detalii,  va rugam sa ne contactati.                                                                                                                                                                                                                                                                                                                                                                                                                                                                                                                                                                                                                                                                                                                                                                                                                                                                                                                                                                                                                                                                                                                                       5\n",
      "    Tudoria ofera spre vanzare apartament de 4 camere situat in zona BIG a cartierului Manastur. Aflat la etajul intermediar al unui imobil reabilitat termic si monitorizat video interior/exterior,  apartamentul decomandat este compartimentat astfel : 4 camere,  bucatarie,  2 bai,  dressing si hol,  avand suprafata utila de 80mp + 2 balcoane inchise cu suprafata de10mp. Finisajele imobilului sunt moderne,  parchet lemn masiv in stare foarte buna,  gresie,  faianta,  centrala termica individuala,  ferestre termopan,  usa metalica,  sistem de aer conditionat,  instalatie electrica noua,  cabluri ingropate in sapa. Apartamentul se ofera spre vanzare cu bucataria mobilata si utilata,  restul camerelor fiind partial mobilate. Aflat in imediata vecinatate a mijloacelor de transport in comun,  scolilor,  gradintelor,  spatiilor de joaca,  institutiilor bancare,  farmaciilor si pietei agroalimentare,  aceasta oferta este ideala atat pentru investitie,  cat si pentru locuinta. Pentru informatii suplimentare nu ezitati sa ne contactati la numerele de telefon afisate sau la sediul agentiei noastre,  pe Calea Dorobantilor nr. 70.                                                                                                                                                                                                                                                                                                                                                                              5\n",
      "    Lider Imobiliare ofera spre vanzare apartament 2 camere decomandat confort unic situat in cartierul Manastur zona Sirena etaj 8 suprafata utila 42 mp baie balcon inchis beci boxa finisat cu parchet gresie faianta usa metalica geamuri termopan si centrala termica.Se vinde mobilat.Pret  58000 euro negociabi                                                                                                                                                                                                                                                                                                                                                                                                                                                                                                                                                                                                                                                                                                                                                                                                                                                                                                                                                                                                                                                                                                                                                                                                                                       4\n",
      "    Agentie Imobiliara va ofera spre vanzare apartament cu 2 camere in centru zona str. Horea,  parter/1,  74mp,  decomandat,  finisat modern,  centrala termica, termopane,  parchet din lemn masiv,  gresie si faianta moderne. Apartamentul poate fi achizitionat si prin credit,  ocupabil  imediat.                                                                                                                                                                                                                                                                                                                                                                                                                                                                                                                                                                                                                                                                                                                                                                                                                                                                                                                                                                                                                                                                                                                                                                                                                                                     4\n",
      "    Tudoria ofera spre vanzare apartament situat la etajul 2 al unei vile cu 6 apartamente. Imobilul este format din zona de zi,  bucatarie,  camara de alimente,  2 dormitoare,  2 bai (ambele cu geam),  hol si spatiu de depozitare,  in suprafata utila de 87mp+3 balcoane. Finisajele apartamentului sunt moderne,  parchet laminat,  gresie,  faianta,  detine centrala termica individuala,  ferestre termopan,  usa metalica,  oferit spre vanzare complet mobilat si utilat. Zona deosebita si suprafata generoasa,  recomanda aceasta oferta atat pentru investitie,  cat si pentru locuinta.                                                                                                                                                                                                                                                                                                                                                                                                                                                                                                                                                                                                                                                                                                                                                                                                                                                                                                                                                      4\n",
      "    Tudoria ofera spre vanzare apartament in zona Oncos! Apartamentul este situat la etajul 1 al unui imobil dispus pe 3 niveluri,  retras de la artera principala,  format din zona de zi,  bucatarie inchisa,  debara,  2 dormitoare,  2 bai si hol,  in suprafata utila de 105mp+terasa. Apartamentul este finisat,  detine centrala termica individuala,  ferestre termopan,  usa metalica si se ofera spre vanzare partial mobilat. In plus,  imobilul dispune de boxa la subsol si 2 locuri de parcare. Confortul sporit dat de suprafata generoasa,  compartimentarea ingenioasa,  orientarea sud-estica si zona in care este situat apartamentul,  recomanda aceasta oferta pentru locuinta. Informatii suplimentare pot fi obtinute telefonic,  sau la sediul agentiei noastre,  pe Calea Dorobantilor,  Nr.70.                                                                                                                                                                                                                                                                                                                                                                                                                                                                                                                                                                                                                                                                                                                                     4\n",
      "    Agentie Imobiliara va ofera spre vanzare apartament cu 2 camere in cartierul Marasti,  parter inalt/3,  bloc nou cu CF,  51mp+balcon,  semidec,  semifinisat cu centrala termica proprie,  termopane,  sapa,  glet,  usa metalica. Ocupabil imediat!!!!                                                                                                                                                                                                                                                                                                                                                                                                                                                                                                                                                                                                                                                                                                                                                                                                                                                                                                                                                                                                                                                                                                                                                                                                                                                                                                  4\n",
      "    IMOFINDER va propune la vanzare apartamente cu 2 si 3 camere cu diferite compartimentari situat in  zona Calea Baciului.  Apartamentele se predau in stadiul de semifinisat cuprinzand: sapa cu instalatii termice,  peretii vor fi gletuiti,  centrala termica proprie,  calorifere,  geamuri termopane,  usi interioare,  usa de intrare metalica ,  toate instalatiile electrice si sanitare pozate ,  inclusiv panoul electric,  iar balcoanele vor fi finisate complet cu gresie si balustrada. Se accepta si prima Casa.                                                                                                                                                                                                                                                                                                                                                                                                                                                                                                                                                                                                                                                                                                                                                                                                                                                                                                                                                                                                                           4\n",
      "    Tudoria ofera spre vanzare in exclusivitate apartament compus din o camera,  o bucatarie,  o baie,  un hol,  o debara si un balcon,  situat la etajul 3 al unui imobil dat in folosinta in anul 1995,  localizat pe Calea Dorobantilor. Unitatea locativa are o suprafata utila de 43, 33 mp,  beneficiaza de boxa la subsol si are o orientare integral vestica. Apartamentul este finisat clasic si este propus spre tranzactionare complet mobilat si utilat. Calitatea materialelor utilizate la edificarea imobilului asigura locatarilor un ridicat confort termic. Pozitionarea si orientarea apartamentului il fac ideal atat pentru locuinta,  cat si pentru investitie. Pentru informatii suplimentare nu ezitati sa ne contactati la numerele de telefon afisate sau la sediul agentiei,  pe Calea Dorobantilor,  Nr. 70.                                                                                                                                                                                                                                                                                                                                                                                                                                                                                                                                                                                                                                                                                                                     4\n",
      "    IMOFINDER va propune spre vanzare apartamente noi cu 1, 2 si 3 camere,  situate intr-un ansamblu deosebit,  zona IRA,  in apropiere de Leroy Merlin,  LIDL,  dispus S+P+6 Etaje. Acestea se vor preda semifinisate cu centrala termica proprie,  peretii tencuiti si gletuiti,  sapa autonivelanta,  instalatii trase si pozate. Executantul lucrarii are la activ deja mai multe proiecte realizate. preturiile incep de la 1035 euro/mp util,  TVA 5% inclus,  parcare subterana 4000 euro!                                                                                                                                                                                                                                                                                                                                                                                                                                                                                                                                                                                                                                                                                                                                                                                                                                                                                                                                                                                                                                                            4\n",
      "    Tudoria ofera spre vanzare un apartament de 2 camere in zona strazii Campului situat la etajul 2 al unui imobil nou cu 6 unitati locative. Suprafata utila a apartamentului este de 49 mp + 2 balcoane si este compartimentat astfel: dormitor,  living,  baie,  bucatarie si 2 balcoane. Orientarea este sud-vestica si este propus in vederea tranzactionarii finisat la cheie,  cu centrala termica individuala,  calorifere,  gresie,  faianta,  parchet,  usi interioare,  termopane si este ocupabil imediat. Terenul aferent imobilului este imprejmuit iar accesul se face prin poarta cu telecomanda. Exista locuri de parcare in curte,  iar la demisol parcari contra cost. Zona este de case,  imobilul este retras de la principala,  iar in apropiere se afla statie Ratuc. Pentru a va furniza informatii suplimentare sau pentru stabilirea unei vizionari nu ezitati sa ne contactati la numerele de telefon afisate sau la sediul agentiei,  pe Calea Dorobantilor,  Nr. 70.                                                                                                                                                                                                                                                                                                                                                                                                                                                                                                                                                           3\n",
      "    Va propunem un proiect nou in desfasurare aflat in cartierul Gheorgheni,  Cluj Napoca,  in apropiere de noul parc al orasului si de Iulius Mall. Imobilul cu regim de inaltime P+10,  contine 160 apartamente pe imobil: apartamente de 1,  2 si 3 camere. Stadiul de predare al apartamentelor este semifinisat,  insemnand: peretii gletuiti,  sapa,  geamuri termopan cu 3 sticle,  centrala termica,  usa de intrare,  instalatii electrice pe pozitie. Dupa preferinte apartamentele se pot achizitiona si finisate la cheie. Compartimentarile interioare sunt din caramida,  pentru o mai buna izolare fonica. Termenul de finalizare este 30 mai 2017. Locurile de parcare sunt interioare si sunt la pretul de 4000 euro la subsol 2 plus t.v.a si la subsol 1 pretul parcarilor este de 5000 euro plus t.v.a. Modalitatile de plata sunt flexibile incepand de la un avans de 5%. Puteti alege dintr-o gama variata de apartamente,  foarte bine compartimentate si dimensionate pentru toate gusturile si buzunarele. Un mare avantaj al imobilului este ca se afla in vecinatatea noului parc amanejat de primarie si foarte aproape de mijloacele de transport in comun. Pentru mai multe detalii si schite ne puteti contactat telefonic. Merita vazute!                                                                                                                                                                                                                                                                                   3\n",
      "    Tudoria ofera spre vanzare apartament de 3 camere cu suprafata utila de 86 mp + terasa 17 mp situat in cartierul Buna Ziua. Apartamentul spatios dispune de doua dormitoare,  doua bai,  living cu bucatarie si hol amenajat cu spatii de depozitare. Pretul include un loc de parcare in parcarea subterana. Apartamentul se vinde finisat si partial mobilat. In vederea tranzactionarii se solicita un avans de minim 50.000 euro. Pentru informatii suplimentare sau stabilirea unei vizionari nu ezitati sa ne contactati la numerele de telefon afisate sau la sediul agentiei,  pe Calea Dorobantilor,  Nr. 70.                                                                                                                                                                                                                                                                                                                                                                                                                                                                                                                                                                                                                                                                                                                                                                                                                                                                                                                                   3\n",
      "    Agentie Imobiliara va ofera spre vanzare apartament cu 1 camera in bloc nou cu finalizate in 2017,  etajul 3/5,  decomandat,  36mp+balcon,  semifinisat cu centrala termica proprie,  termopane,  sapa,  glet,  usa metalica,   apartamentul poate fi achizitionat si prin credit. 1200E/mp,   600 Eur/mp.                                                                                                                                                                                                                                                                                                                                                                                                                                                                                                                                                                                                                                                                                                                                                                                                                                                                                                                                                                                                                                                                                                                                                                                                                                               3\n",
      "    Agentie Imobiliara va ofera spre vanzare apartament cu 3 camere in cartierul Gheorgheni,  langa Iulius Mall,  la Viva City,  blocul verde,  etajul 3/11,  69mp+20mp terasa,  semidecomandat,  finisat modern,  mobilat si utilat modern.  Beneficiile imobilului: paza permanenta la intrare,  supraveghere video,  2 sali de petrecere,   2 terenuri de squash,  sala de fitnes,  loc de joaca pentru copii,  lac in curtea interioara. Apartamentul este ideal atat pentru investitie cat si pentru locuinta,  apartamnetul poate fi achizitionat si prin credit.                                                                                                                                                                                                                                                                                                                                                                                                                                                                                                                                                                                                                                                                                                                                                                                                                                                                                                                                                                                      3\n",
      "    Agentie Imobiliara va ofera spre vanzare  apartament cu 3 camere in cartierul Manastur,  zona str. Campului,  bloc nou tip vila,   75mp cu CF,  semidec,  finisat modern,  cu centrala termica proprie,  termopane,  gresie si faianta moderne,  parchet laminat,  mobilat si utilat modern. Apartamentul dispune de loc de parcare,  pod,  20mp de teren,  apartamentul poate fi achizitionat si prin credit.                                                                                                                                                                                                                                                                                                                                                                                                                                                                                                                                                                                                                                                                                                                                                                                                                                                                                                                                                                                                                                                                                                                                           3\n",
      "    Agentia Tudoria ofera spre vanzare apartament situat la etajul 2 al unei vile cu 6 apartamente. Imobilul este format din zona de zi,  bucatarie,  camara de alimente,  2 dormitoare,  2 bai (ambele cu geam),  hol si spatiu de depozitare,  in suprafata utila de 87mp+3 balcoane. Finisajele apartamentului sunt moderne,  parchet laminat,  gresie,  faianta,  detine centrala termica individuala,  ferestre termopan,  usa metalica,  oferit spre vanzare complet mobilat si utilat. Zona deosebita si suprafata generoasa,  recomanda aceasta oferta atat pentru investitie,  cat si pentru locuinta.                                                                                                                                                                                                                                                                                                                                                                                                                                                                                                                                                                                                                                                                                                                                                                                                                                                                                                                                              3\n",
      "    IMOFINDER va prezinta spre vanzare un nou proiect care se situeaza in partea sud-estica a Clujului,  acest lucru facilitand accesibilitatea catre aeroportul international Avram Iancu Cluj-Napoca,   In imediata vecinatate a imobilului se afla atat facultatea FSEGA si ansamblul de birouri Iulius Bussines Center cat si parcul de agrement Iulius.\\r \\r   Imobilul dispune de o arhitectura moderna si de o functionalitate buna,  avand curtea interioara cu spatii verzi. Spatiile comerciale situate la parterul imobilelor sunt destinate unor activitati menite sa ridice confortul viitorilor locatari.\\rProiectul se afla in apropierea numeroaselor scoli si gradinite si totodata este bine conectat prin mijloacele de transport in comun aflate in apropiere si de alte puncte de interes.\\rProiectul dispune de apartamente cu 1,  2 si 3 camere,  locuri de parcare subterane. \\rApartamente se vor preda la clientul final semifinisate si spatiile comune vor fi finisate modern.\\r\\rPreturile incep de la 1450 euro/mp util + TVA. Pretul final se stabileste in functie de avansul achitat. \\rAvansul minim este de 30%.\\rLa pretul apartamentului se adauga si terasele,  pretul este de 725 euro /mp. + TVA\\rPret garaj: 6500 euro + TVA.\\r\\rApartamentele se pot achizitiona si prin credit bancar.\\r\\rAcest proiect se va finaliza in anul 2018.\\r\\rPentru mai multe detalii suplimentare,  oferete de pret personalizate,  precum si disponibilitatea apartamentelor asteptam sa ne contactati telefonic sau prin e-mail!    3\n",
      "    Tudoria ofera spre vanzare apartament in cartierul Manastur,  zona complexului Big! Apartamentul este situat la etajul 6 al unui imobil reabilitat termic cu 8 etaje,  format din living,  2 dormitoare,  bucatarie,  debara,  hol si 2 bai,  in suprafata utila de 65mp+ balcon . Finisajele apartamentului sunt moderne,  parchet laminat,  gresie,  faianta moderna,  detine centrala termica individuala,  ferestre termopan,  usa metalica si se ofera spre vanzare mobilat. Pentru detalii si vizionari va rugam sa ne contactati la numerele de telefon afisate sau la sediul agentiei noastre,  pe Calea Dorobantilor,  Nr.70.                                                                                                                                                                                                                                                                                                                                                                                                                                                                                                                                                                                                                                                                                                                                                                                                                                                                                                                   3\n",
      "    Natanael Construct - Vând apartamente cu 1,  2 şi 3 camere,  la doar 2 minute de aeroport şi 10 minute de Iulius Mall. Suprafeţe cuprinse între 40 şi 75 mp utili,  de la 700 EUR/mp.                                                                                                                                                                                                                                                                                                                                                                                                                                                                                                                                                                                                                                                                                                                                                                                                                                                                                                                                                                                                                                                                                                                                                                                                                                                                                                                                                                    3\n",
      "    Tudoria ofera spre vanzare apartament in Marasti,  zona Calea Dorobantilor! Apartamentul este situat la etajul 1 al unui imobil cu 8 etaje,  format din 2 camere decomandate,  bucatarie,  baie si hol,  in suprafata utila de 59mp+2 balcoane. Apartamentul este finisat,  detine centrala termica individuala,  ferestre termopan,  usa metalica,  parchet laminat si se ofera spre vanzare mobilat si utilat. Exista si loc de parcare. Zona in care este amplasat imobilul recomanda aceasta proprietate atat pentru locuinta,  cat si pentru investitie! Informatii suplimentare pot fi obtinute telefonic la numerele de contact afisate,  sau la sediul agentiei noastre,  pe Calea Dorobantilor,  Nr.70!                                                                                                                                                                                                                                                                                                                                                                                                                                                                                                                                                                                                                                                                                                                                                                                                                                         3\n",
      "    Agentie Imobiliara va ofera spre vanzare apartament cu 2 camere in cartierul Marasti zona str. Aurel Vlaicu,  bloc nou cu termen de finalizare in Mai 2018,  regim de inaltime S+P+9E,  semidecomandat,  54.57mp+10mp balcon,   se preda in stadiul semifinisat cu centrala termica proprie,  termopane,  sapa,  glet,  usa metalica.                                                                                                                                                                                                                                                                                                                                                                                                                                                                                                                                                                                                                                                                                                                                                                                                                                                                                                                                                                                                                                                                                                                                                                                                                    3\n",
      "                                                                                                                                                                                                                                                                                                                                                                                                                                                                                                                                                                                                                                                                                                                                                                                                                                                                                                                                                                                                                                                                                                                                                                                                                                                                                                                                                                                                                                                                                                                                                            ..\n",
      "    Oportunitate de investitie! Va oferim spre vanzare apartament in cartierul Zorilor,  zona Mircea Eliade,  zona linistita ferita de zgomotul orasului. Apartamentul este situat la etajul 1 intr-un imobil dispus pe 2 nivele. Avand o suprafata utila de 81 mp dispune de living si bucatarie,  2 camere semidecomandate,  2 bai,  2 balcoane. Apartamentul se preda la stadiul de finisat ,  geamuri termoizolante din PVC si usa de la intrare metalica. Sistemul de incalzire in apartament este cu centrala termica. Se poate achizitiona parcare suterana la 8000 euro sau parcare exterioara la 3000 euro. Pentru detalii ne puteti contacta telefonic sau la sediul agentiei.                                                                                                                                                                                                                                                                                                                                                                                                                                                                                                                                                                                                                                                                                                                                                                                                                                                                     1\n",
      "    Beneficiaza de aceasta oferta exceptionala acum! EDIL va ofera spre vanzare un apartament in CLUJ-NAPOCA,  cartierul MANASTUR. Apartamentul de 3 camere are o suprafata utila de 96mp si este situat la etajul 4 din 4 etaje. Apartamentul este confort sporit semidecomandat si este dotat cu centrala proprie,  2 bai,  2 balcoane,  faianta moderna,  gresie moderna,  parchet laminat. Acesta are loc de parcare. Imobilul  mai are si alte dotari precum boxa,  debara,  interfon. Daca va place aceasta oferta sau pentru alte case nu ezitati sa ne contactati telefonic sau la sediul nostru EDIL,  Str. Iuliu Maniu,  Nr. 17,  Cluj-Napoca.  (ID:APCJ277916)                                                                                                                                                                                                                                                                                                                                                                                                                                                                                                                                                                                                                                                                                                                                                                                                                                                                                    1\n",
      "    CC4179761 : vanzare apartament patru camere in Gheorgheni-Capat Brancusi,  situat in bloc de 5 etaje construit in anul 2016.  Apartamentul este situat la etajul 2,  are living,  bucatarie separata,  trei dormitoare,  doua bai,  doua balcoane,  dressing,  este decomandat si are o suprafata totala de 100 mp,  respectiv  90 mp suprafata utila,  semifinisat,  sapa,  glet,  geamuri termopan,  centrala termica proprie,  usa metalica la intrare,  posibilitate de achizitie loc de parcare cu CF. Pret 100000 Euro.                                                                                                                                                                                                                                                                                                                                                                                                                                                                                                                                                                                                                                                                                                                                                                                                                                                                                                                                                                                                                            1\n",
      "    Koncept imobiliare va propune spre vanzare un apartament cu 3 camere semidecomandat in cartierul Buna Ziua. Apartamentul este situat la etajul 1 a unui imobil nou cu 6 etaje si are o suprafata utila de 104mp. Apartamentul este compus din: 2 dormitoare,  living,  bucatarie,  2 bai,  antreu si o terasa de 17mp. Apartamentul este finisat,  mobilat si utilat modern. Pentru informatii suplimentare,  pentru programarea unei vizionari sau pentru a afla oferta noastra completa nu ezitati sa ne contactati telefonic,  prin e-mail sau la sediul agentiei noastre,  pe str. Napoca nr. 10.                                                                                                                                                                                                                                                                                                                                                                                                                                                                                                                                                                                                                                                                                                                                                                                                                                                                                                                                                    1\n",
      "    Va oferim spre vanare un apartament in cartierul Manastur,  amplasat la parterul unui imobil reabilitat termic dispus P+10E.\\r\\rAvand o suprafata utila de 52 mp,  acesta este compus din 2 camere decomandate,  1 antreu,  1 bucatarie,  1 baie cu geam,  1 balcon,  1 debara si 1 camara de alimente. \\r\\rFinisajele se prezinta moderne si clasice: pardoseala cu parchet din lemn masiv foarte bine intretinut si linoleum,  pereti cu lavabil,  faianta si gresie moderna si clasica in bucatarie si in baie,  geamuri termoizolante din pvc,  usi interioare de lemn si usa de la intrare metalica. Proprietatea beneficiaza de centrala termica proprie si loc de parcare in vecinatatea imobilului. \\r\\rPentru mai multe informatii,  ne puteti contacta cu incredere.                                                                                                                                                                                                                                                                                                                                                                                                                                                                                                                                                                                                                                                                                                                                                                           1\n",
      "    Ocazie! Apartament in vila,  zona linistita,  multa verdeata. Va oferim spre vanzare apartament 5 camere in Manastur,  zona Campului,  situat la parterul unui imobil cu 1 etaj. Avand o suprafata utila de 115 mp dispune de 3 dormitoare,  living,  bucatarie,  dresing,  camera centrala,  2 bai,  balcon,  terasa,  parcare pavata,  gard,  porti,  gazon. Se preda la stadiul de semifinisat cu pereti gletuiti,  sapa egalizatoare,  geamuri termoizolante cu 3 sticle si profil din PVC,  incalzire in pardoseala. Pentru detalii ne puteti contactati telefonic sau la sediul agentiei.                                                                                                                                                                                                                                                                                                                                                                                                                                                                                                                                                                                                                                                                                                                                                                                                                                                                                                                                                          1\n",
      "    MEIN HAUS,  vinde apartament 1 camera,  confort sporit,  49 mp,  decomandat,  in Marasti,  zona FSEGA,  in constructie noua finalizata,  finisat,  contorizat (apa si gaz) - centrala termica,  termopan,  mobilat,  orientare E,  balcon,  parchet,  gresie si faianta moderna,  usa metalica.                                                                                                                                                                                                                                                                                                                                                                                                                                                                                                                                                                                                                                                                                                                                                                                                                                                                                                                                                                                                                                                                                                                                                                                                                                                          1\n",
      "    Propunem spre vanzare apartament cu 2 camere,  decomandat,  ce dispune de o suprafata utila de 56 mp,  pozitionat la etaj intermediar/4E,  situat in cartierul Gheorgheni,  in zona Iulius Mall,  pe strada Snagov.\\rImobilul este compartimentat astfel: 1 living cu 1 bucatarie,  2 dormitoare,  1 hol,  1 baie si 1 balcon.\\rDotari: centrala termica,  geamuri termopan cu tamplarie din PVC,  usa antiefractie,  usi interioare,  parchet,  faianta,  gresie.\\rEste izolat termic.\\rSe vinde complet mobilat si utilat.\\rIn pret sunt incluse doua locuri de parcare.                                                                                                                                                                                                                                                                                                                                                                                                                                                                                                                                                                                                                                                                                                                                                                                                                                                                                                                                                                               1\n",
      "    MEIN HAUS,  vinde apartament 2 camere,  35 mp,  decomandat,  etaj 3,  in Centru,  strada Horea,  finisat,  contorizat (apa si gaz) - centrala termica,  termopan,  bucatarie mobilata,  parchet,  gresie si faianta,  usa metalica.                                                                                                                                                                                                                                                                                                                                                                                                                                                                                                                                                                                                                                                                                                                                                                                                                                                                                                                                                                                                                                                                                                                                                                                                                                                                                                                      1\n",
      "    Ideal Investitie! Apartament 1 camera in zona caminelor studentesti din Marasti!\\rVa oferim spre vanzare apartament in cartierul Marasti,  intr-un proiect nou avand regim de inaltime S+P+4E.\\rApartamentul este situat la etajul 3 intr-un imobil nou,  are suprafata utila de 43 mp si este compartimentat astfel: bucatarie,  1 camera,  1 hol,  1 baie cu geam si 1 balcon de 6.40 mp.\\rSe preda la stadiul de semifinisat astfel: sapa egalizatoare,  pereti cu glet,  geamuri termoizolante din PVC,  usa intrare metalica,  instalatii electrice si sanitare trase pe pozitie.\\rSistemul de incalzire se realizeaza cu ajutorul centralei termice proprii.\\rSe poate achizitiona parcare subterana la pretul de 6000 euro.\\rDatorita pozitionarii sale,  acest imobil este ideal pentru investitie,  pretul unei chirii in zona este de 300-350 euro.\\rIn acest imobil mai sunt disponibile apartamente si cu suprafata utila mai mare.\\rPretul afisat include TVA de 5%.\\rPentru mai multe detalii si pentru a stabili o vizionare apelati cu incredere la agentia noastra.                                                                                                                                                                                                                                                                                                                                                                                                                                                                     1\n",
      "    MEIN HAUS,  vinde apartament 2 camere,  confort I,  40 mp,  etaj intermediar,  in Gheorgheni,  finisat clasic,  contorizat,  balcon inchis,  parchet,  gresie si faianta,  ocupabil imediat.                                                                                                                                                                                                                                                                                                                                                                                                                                                                                                                                                                                                                                                                                                                                                                                                                                                                                                                                                                                                                                                                                                                                                                                                                                                                                                                                                             1\n",
      "    Va propunem spre vanzare un apartament cu 2 camere decomandate,  situat intr-o zona linistita a cartierului Manastur,  aproape de mijloace de transport public si de centre comerciale. \\rSuprafata utila este de 39 mp,  locuinta fiind compusa din 2 camere,  hol,  baie,  bucatarie si logie inchisa.\\rApartamentul se vinde finisat clasic,  cu centrala termica,  geamuri de lemn parchet din lemn masiv,  gresie,  faianta,  usa metalica la intrare. La cerere se poate vinde mobilat si utilat.\\rVa stam la dispozitie pentru mai multe detalii sau daca doriti programarea ueni vizionari.                                                                                                                                                                                                                                                                                                                                                                                                                                                                                                                                                                                                                                                                                                                                                                                                                                                                                                                                                      1\n",
      "    Agentia  Piacenza intermerdiaza vanzare ap 2 camere in suprafata locuibila de 47, 46 mp+ balcon 5.64mp  la etaj 1 din 6 in catierul Marasti. Apartamentul se va preda la stadiul de  semifinisat sapa autonivelanta peretii gletuiti instalatii pe pozitie centrala termica calorifere finalizare 02 2018 parcare subterana 5000 euro . Pret 52206 euro la plata cash ,  avans 15 – 30 % - 57284 euro avans 50%- 54579 euro                                                                                                                                                                                                                                                                                                                                                                                                                                                                                                                                                                                                                                                                                                                                                                                                                                                                                                                                                                                                                                                                                                                              1\n",
      "    IMOFINDER va ofera un apartament cu 2 camere decomandate in zona Piata Marasti,  cu o suprafata utila de 44 mp este compartimentat in 2 camere,  bucatarie,  baie,  plus doua balconae,  geamuri termopan,  usa metalica,  situat la un etaj intermediar intr-un imobil cu 4 etaje intr-o zona buna aproape de piata,  banci,  Lidl,  si la doar cateva minute de Iulius Mall.                                                                                                                                                                                                                                                                                                                                                                                                                                                                                                                                                                                                                                                                                                                                                                                                                                                                                                                                                                                                                                                                                                                                                                           1\n",
      "    Apartamentul este format din 2 camere decomandate si are o suprafata de 44.75 mp. Apartamentul este format din 2 camere,  1 bucatarie,  1 baie si 2 balcoane fiind situat intr-un imobil reabilitat termic. Apartamentul este dotat cu geamuri termopane si usa metalica. Orientare apartamentului este N-S. Apartamentul este finisat mediu si se vinde complet mobilat si utilat clasic.                                                                                                                                                                                                                                                                                                                                                                                                                                                                                                                                                                                                                                                                                                                                                                                                                                                                                                                                                                                                                                                                                                                                                               1\n",
      "    Apartament semifinisat de vanzare in Donath Park. Apartamentul este situat la etaj intermediar intr-un imobil nou dotat cu interfon,  dispus pe 3 nivele. Avand o suprafata utila de 68 mp dispune de 3 camere ,  1 bucatarie,  2 bai,  1 balcon,  1 parcare. Apartamentul se vinde semifinisat,  nemobilat,  dotat cu centrala termica,  calorifere.\\rDaca aceasta este proprietatea de care sunteti interesati sau doriti orice informatie,  contactati-ne cu incredere!                                                                                                                                                                                                                                                                                                                                                                                                                                                                                                                                                                                                                                                                                                                                                                                                                                                                                                                                                                                                                                                                               1\n",
      "    IMOFINDE va ofera un apartament cu 2 camere in zona Iulius Mall,  cu o suprafata utila de 45 mp este compartimentat in living,  bucatarie,  dormitor,  baie,  debara,  plus un balcon inchis,  finisat modern,  centrala termica,  parchet din lem masiv,  se vinde complet mobilat si utilat,  intro zona linistita aproape de mijloacele de transport in comun.                                                                                                                                                                                                                                                                                                                                                                                                                                                                                                                                                                                                                                                                                                                                                                                                                                                                                                                                                                                                                                                                                                                                                                                        1\n",
      "    MEIN HAUS,  vinde garsoniera,  confort I,  27 mp,  etaj 2,  in Grigorescu,  strada Fantanele,  finisata,  contorizata (apa si gaz) - centrala termica,  complet mobilata si  utilata,  balcon,  parchet,  gresie si faianta.                                                                                                                                                                                                                                                                                                                                                                                                                                                                                                                                                                                                                                                                                                                                                                                                                                                                                                                                                                                                                                                                                                                                                                                                                                                                                                                             1\n",
      "    MEIN HAUS,  vinde apartament 4 camere,  confort I,  82 mp,  decomandat,  etaj intermediar,  in Manastur,  strada I.Mester,  superfinisat,  contorizat (apa si gaz) - centrala termica,  termopan,  izolat termic,  mobilat,  2 bai,  2 balcoane inchise,  parchet,  gresie si faianta moderna,  usa metalica.                                                                                                                                                                                                                                                                                                                                                                                                                                                                                                                                                                                                                                                                                                                                                                                                                                                                                                                                                                                                                                                                                                                                                                                                                                            1\n",
      "    Nu ratati oferta noastra! Apartament de vanzare in CLUJ-NAPOCA,  cartierul MANASTUR,  cu 3 camere,  situat la parter din 4 etaje,  avand o suprafata de 70 mp. Apartamentul este confort 1 decomandat si este dotat cu centrala proprie,  1 baie,  faianta clasica,  gresie clasica,  parchet laminat. Imobilul  mai are si alte dotari precum debara. Daca va place aceasta oferta sau pentru alte case nu ezitati sa ne contactati telefonic sau la sediul nostru EDIL,  Str. Iuliu Maniu,  Nr. 17,  Cluj-Napoca.  (ID:APCJ279850)                                                                                                                                                                                                                                                                                                                                                                                                                                                                                                                                                                                                                                                                                                                                                                                                                                                                                                                                                                                                                     1\n",
      "    MEIN HAUS,  vinde apartament 2 camere,  confort sporit,  66 mp,  etaj intermediar,  in Europa,  in constructie noua,  contorizat (apa si gaz) - centrala termica,  termopan,  balcon de 6mp,  usa metalica.                                                                                                                                                                                                                                                                                                                                                                                                                                                                                                                                                                                                                                                                                                                                                                                                                                                                                                                                                                                                                                                                                                                                                                                                                                                                                                                                              1\n",
      "    Va oferim spre vanzare apartament in cartierul Gheorgheni in zona Hermes. \\rAcesta este situat la etajul 5 intr-un imobil de 10 etaje si are suprafata utila de 38 mp. \\rApartamentul este compartimentat din 2 camere semidecomandate,  baie cu geam,  bucatarie ,  balcon. \\rOferta este finisata clasic si se vinde nemobilata.\\rDatorita pozitiei foarte bune fata de zonele de interes oferta este ideala atat pentru locuit,  cat si pentru investitie.                                                                                                                                                                                                                                                                                                                                                                                                                                                                                                                                                                                                                                                                                                                                                                                                                                                                                                                                                                                                                                                                                            1\n",
      "    Acest imobil este o oferta deosebita care prezinta numeroase avantaje si mi-ar face o deosebita placere sa va ofer mai multe detalii. EDIL ofera spre vanzare apartament cu 4 camere,  situat la etajul 9 din 10 etaje,  in CLUJ-NAPOCA,  cartierul ZORILOR. Suprafata acestuia este de 100 mp. Apartamentul este confort 1 decomandat si este dotat cu centrala proprie,  2 bai,  3 balcoane,  faianta moderna,  gresie moderna,  parchet laminat. Imobilul este mobilat si utilat modern. Daca va place aceasta oferta sau pentru alte case nu ezitati sa ne contactati telefonic sau la sediul nostru EDIL,  Str. Iuliu Maniu,  Nr. 17,  Cluj-Napoca.  (ID:APCJ277317)                                                                                                                                                                                                                                                                                                                                                                                                                                                                                                                                                                                                                                                                                                                                                                                                                                                                                1\n",
      "    Apartament in imobil nou,  teren in proprietate! Va oferim spre vanzare apartament cu 4 camere in zona strazii Dunarii,  la parterul unui imobil cu 3 etaje.\\rSuprafata utila este de 100 mp si dispune de 4 camere,  2 bai,  bucatarie.\\rApartamentul are o camera amenajata ca si spatiu comercial(coafor).\\rEste finisat modern,  cu parchet laminat in camere,  pereti cu lavabil,  gresie si faianta moderna in baie si bucatarie,  usa metalica la intrare. Incalzirea se face cu centrala termica proprie.\\rSe vinde semimobilat si dispune de 2 locuri de parcare.\\rPozitia sa,  la 10 minute de Iulius Mall,  o face ideala pentru locuit dar si pentru prestarea diferitelor activitati comerciale.\\rPentru programarea unei vizionari,  nu ezitati sa ne contactati chiar acum!                                                                                                                                                                                                                                                                                                                                                                                                                                                                                                                                                                                                                                                                                                                                                               1\n",
      "    MEIN HAUS,  vinde apartament 3 camere,  confort I,  66 mp,  etaj intermediar,  in Marasti,  in constructie noua,  contorizat (apa si gaz) - centrala termica,  termopan,  optional garaj sub bloc,  orientare SE,  2 bai,  balcon,  usa metalica.                                                                                                                                                                                                                                                                                                                                                                                                                                                                                                                                                                                                                                                                                                                                                                                                                                                                                                                                                                                                                                                                                                                                                                                                                                                                                                        1\n",
      "    Propunem spre vanzare apartament cu 4 camere,  dispus pe doua niveluri,  ultrafinisat,  situat in cartierul Manastur,  intr-o locatie linistita,  nou-dezvoltata.\\rApartamentul are o suprafata utila de 102 mp si este dispus pe doua niveluri,  respectiv etajul 5 + mansarda / P+5E+M,  intr-un imobil nou.\\rCompartimentare:\\r* Primul nivel / Etajul 5: hol,  bucatarie cu living,  1 dormitor,  1 baie,  1 terasa.\\r* Al doilea nivel / Mansarda: hol,  2 dormitoare,  1 baie.\\rApartamentul dispune de toate dotarile si utilitatile: centrala termica,  calorifere,  geamuri termopan,  usa antiefractie,  usi interioare,  parchet,  gresie,  faianta,  interfon.\\rSe poate vinde atat mobilat,  cat si nemobilat.\\rPretul include loc de parcare.                                                                                                                                                                                                                                                                                                                                                                                                                                                                                                                                                                                                                                                                                                                                                                                              1\n",
      "    Va propunem spre vanzare apartament finisat cu 2 camere in Gheorgheni,  zona Mercur. \\rEste compartimentat in 2 camere semidecomandate,  hol,  bucatarie,  balcon si baie avand suprafata utila de 48 mp. \\rEste finisat modern: ferestre termopan,  usa metalica la intrare. \\rApartamentul se vinde complet mobilat si utilat. \\rFiind pozitionat intr-o zona frumoasa si linistita cu acces usor spre zonele de interes oferta este ideala pentru investitie.                                                                                                                                                                                                                                                                                                                                                                                                                                                                                                                                                                                                                                                                                                                                                                                                                                                                                                                                                                                                                                                                                         1\n",
      "    MEIN HAUS,  vinde apartament 3 camere,  confort sporit,  82 mp,  decomandat,  etaj 1,  in A.Muresanu,  finisat,  contorizat (apa si gaz) - centrala termica,  termopan,  garaj sub bloc,  2 bai,  2 balcoane de 10 mp,  parchet,  gresie si faianta moderna,  usa metalica.                                                                                                                                                                                                                                                                                                                                                                                                                                                                                                                                                                                                                                                                                                                                                                                                                                                                                                                                                                                                                                                                                                                                                                                                                                                                              1\n",
      "    Nu ratati oferta noastra! EDIL va ofera spre vanzare un apartament cu 3 camere in CLUJ-NAPOCA,  cartierul MARASTI. Suprafata apartamentului este de 74mp si este situat la etajul 1 din 7 etaje. Apartamentul este confort sporit decomandat si este dotat cu centrala proprie,  2 bai,  3 balcoane,  faianta moderna,  gresie moderna,  parchet laminat. Imobilul mobilat si utilat modern mai are si alte dotari precum frigider,  masina de spalat,  aragaz,  boxa,  debara,  lift,  interfon. Daca va place aceasta oferta sau pentru alte case nu ezitati sa ne contactati telefonic sau la sediul nostru EDIL,  Str. Iuliu Maniu,  Nr. 17,  Cluj-Napoca.  (ID:APCJ277156)                                                                                                                                                                                                                                                                                                                                                                                                                                                                                                                                                                                                                                                                                                                                                                                                                                                                          1\n",
      "    Impakt Imobiliare va propune spre vanzare un apartament deosebit,  confort sporit cu o camera,  in cartierul Zorilor! Apartamentul are suprafata utila de 38 mp + balcon,  compus din camera,  bucatarie,  baie hol,  detine finisaje moderne,  centrala termica individuala,  se vinde mobilat si utilat. Apartamentul se afla in apropierea mijloacelor de transport in comun,  a scolilor si gradinitelor,  a magazinelor si altor puncte de interes!                                                                                                                                                                                                                                                                                                                                                                                                                                                                                                                                                                                                                                                                                                                                                                                                                                                                                                                                                                                                                                                                                                 1\n",
      "Name: descriere, Length: 8013, dtype: int64\n",
      "tip_oferta Vand    7764\n",
      "Name: tip_oferta, dtype: int64\n",
      "persoana Agentie Imobiliara    7262\n",
      "Persoana Fizica       448 \n",
      "Constructor           44  \n",
      "Lichidator            8   \n",
      "Persoana Juridica     2   \n",
      "Name: persoana, dtype: int64\n",
      "etaj Etajul 1            1256\n",
      "Parter              1183\n",
      "Nespecificat        1162\n",
      "Etajul 2            990 \n",
      "Etajul 3            843 \n",
      "Etajul 4            757 \n",
      "Etaj intermediar    451 \n",
      "Etajul 5            236 \n",
      "Ultimul etaj        196 \n",
      "Etajul 7            181 \n",
      "Etajul 8            145 \n",
      "Etajul 6            124 \n",
      "Etajul 10           100 \n",
      "Etajul 9            97  \n",
      "Mansarda            80  \n",
      "Demisol             75  \n",
      "Name: etaj, dtype: int64\n",
      "vechime_imobil mai vechi de 2000    3292\n",
      "bloc nou             2663\n",
      "Nespecificat         1285\n",
      "In constructie       215 \n",
      "Name: vechime_imobil, dtype: int64\n",
      "numar_bai 1               4303\n",
      "2               2019\n",
      "Nespecificat    1381\n",
      "3               43  \n",
      "4               6   \n",
      "1.0             6   \n",
      "Name: numar_bai, dtype: int64\n",
      "numar_balcoane 1                   3185\n",
      "Nespecificat        2852\n",
      "2                   1120\n",
      "Fara balcon         216 \n",
      "3                   137 \n",
      "Terasa              89  \n",
      "Balcon inchis       46  \n",
      "Balcoane inchise    8   \n",
      "1.0                 6   \n",
      "Name: numar_balcoane, dtype: int64\n",
      "geamuri_termopan Da    5277\n",
      "Nu    1108\n",
      "Name: geamuri_termopan, dtype: int64\n"
     ]
    },
    {
     "name": "stdout",
     "output_type": "stream",
     "text": [
      "centrala_termica Da    6184\n",
      "Nu    1468\n",
      "Name: centrala_termica, dtype: int64\n",
      "compatimentare Decomandat        4096\n",
      "Semidecomandat    2637\n",
      "Nespecificat      737 \n",
      "Open space        38  \n",
      "Nedecomandat      18  \n",
      "Circular          15  \n",
      "Vagon             3   \n",
      "Name: compatimentare, dtype: int64\n",
      "parchet Da    5205\n",
      "Nu    2230\n",
      "Name: parchet, dtype: int64\n",
      "confort 1               4231\n",
      "Sporit          1533\n",
      "Nespecificat    1180\n",
      "Unic            134 \n",
      "2               122 \n",
      "3               51  \n",
      "Name: confort, dtype: int64\n",
      "gresie Nu    3735\n",
      "Da    3620\n",
      "Name: gresie, dtype: int64\n",
      "faianta Da    5249\n",
      "Nu    2123\n",
      "Name: faianta, dtype: int64\n",
      "zugravit_lavabil Da    4765\n",
      "Nu    2409\n",
      "Name: zugravit_lavabil, dtype: int64\n",
      "loc_parcare Nu    3372\n",
      "Da    2490\n",
      "Name: loc_parcare, dtype: int64\n",
      "agentie NAPOCA Imobiliare           1459\n",
      "MEIN HAUS                   980 \n",
      "EDIL                        694 \n",
      "Axa Imobiliare              525 \n",
      "REMS Imobiliare             504 \n",
      "IMOFINDER                   435 \n",
      "Koncept Imobiliare          335 \n",
      "Habitas Imobiliare          273 \n",
      "Tara Imobiliare             240 \n",
      "Welt Imobiliare             218 \n",
      "MOBITIM                     146 \n",
      "Tudoria Real Estate         135 \n",
      "kassa imobiliare            119 \n",
      "Impakt                      76  \n",
      "Mein Haus                   58  \n",
      "Impakt Imobiliare           57  \n",
      "ClasicImobiliare            50  \n",
      "RE/MAX Exclusive            45  \n",
      "Camino Imobiliare           39  \n",
      "Metropolitan Real Estate    34  \n",
      "Nicole                      30  \n",
      "record imobiliare           25  \n",
      "lider                       24  \n",
      "RE/MAX Concept              23  \n",
      "NAPOCA IMOBILIARE           22  \n",
      "IMOBILI                     21  \n",
      "Agentia Tara                20  \n",
      "lider imobiliare            20  \n",
      "Tudoria                     18  \n",
      "Imobil Star                 17  \n",
      "                            ..  \n",
      "Anunt Privat                1   \n",
      "Apartamente Cluj            1   \n",
      "im                          1   \n",
      "pf                          1   \n",
      "Particular                  1   \n",
      "Imobiliare Dobra            1   \n",
      "Phi Smart                   1   \n",
      "Imobili                     1   \n",
      "Napoca Imobiliare           1   \n",
      "persoana fizica             1   \n",
      "SC Gillian Gheorghiu SRL    1   \n",
      "agentia tara                1   \n",
      "Pentalar imobiliare         1   \n",
      "IMPAKT IMOBILIARE           1   \n",
      "fara                        1   \n",
      "Saphir Imobiliare           1   \n",
      "Residence Imobiliare        1   \n",
      "Proprietar                  1   \n",
      "cordos imobiliare           1   \n",
      "Pro Dinamic                 1   \n",
      "TOP REAL INTERMED           1   \n",
      "Belmont                     1   \n",
      "MIRCEA P.F.A                1   \n",
      "mrm                         1   \n",
      "persona fizica              1   \n",
      "Rohouse                     1   \n",
      "Trust Imobiliare            1   \n",
      "Persoana Fizica             1   \n",
      "Persoana fizica             1   \n",
      "Piacenza                    1   \n",
      "Name: agentie, Length: 104, dtype: int64\n",
      "numar_camere 2      3413\n",
      "3      2679\n",
      "1      824 \n",
      "4      755 \n",
      "1      512 \n",
      "5      56  \n",
      "6      11  \n",
      "8      1   \n",
      "4+     1   \n",
      "9      1   \n",
      "7      1   \n",
      "15     1   \n",
      "Name: numar_camere, dtype: int64\n",
      "strada -                                              4145\n",
      ".                                              558 \n",
      "-                                              96  \n",
      "Fabricii                                       38  \n",
      "Dorobantilor                                   35  \n",
      "Horea                                          34  \n",
      "Campului                                       30  \n",
      "CALEA DOROBANTILOR                             27  \n",
      "Manastur                                       26  \n",
      "Florilor                                       26  \n",
      "CALEA TURZII                                   25  \n",
      "Donath                                         25  \n",
      "Buna Ziua                                      24  \n",
      "Calea Manastur                                 23  \n",
      "Aurel Vlaicu                                   23  \n",
      "MOTILOR                                        23  \n",
      "BUNA ZIUA                                      21  \n",
      "Observatorului                                 21  \n",
      "21 Decembrie                                   20  \n",
      "HOREA                                          20  \n",
      "MEHEDINTI                                      19  \n",
      "CAMPULUI                                       19  \n",
      "Titulescu                                      19  \n",
      "Plopilor                                       18  \n",
      "Bucegi                                         17  \n",
      "Izlazului                                      17  \n",
      "Traian                                         16  \n",
      "Marasti                                        16  \n",
      "Pasteur                                        16  \n",
      "Calea Turzii                                   16  \n",
      "                                               ..  \n",
      "Strada Traian, Cluj-Napoca 400000, România     1   \n",
      "MOLDOVEANU                                     1   \n",
      "zona Engels                                    1   \n",
      "aleea vidraru                                  1   \n",
      "Decebal/Traian                                 1   \n",
      "Aleea Gârbău                                   1   \n",
      "aleea Balea                                    1   \n",
      "venus                                          1   \n",
      "CETATE                                         1   \n",
      "petofi sandor                                  1   \n",
      "\\sdgzdj                                        1   \n",
      "Dr Louis Pasteur                               1   \n",
      "Rapsodiei                                      1   \n",
      "C.COPOSU                                       1   \n",
      "Albert Einstein                                1   \n",
      "sjbdfklgvbdfjkguitbvn                          1   \n",
      "N TITULESCU                                    1   \n",
      "Aleea Herculane, Cluj-Napoca, Romania          1   \n",
      "Cometei                                        1   \n",
      "1 DECEMBRIE 1918                               1   \n",
      "Somesului                                      1   \n",
      "zona str. Meteor                               1   \n",
      "Muzeului                                       1   \n",
      "\\azdsfgxfg                                     1   \n",
      "Trotusului                                     1   \n",
      "zona Septimiu Albini                           1   \n",
      "ROMUL LADEA                                    1   \n",
      "ygfhikup;'ko]-\\                                1   \n",
      "Piata Muzeului                                 1   \n",
      "Zona Oncos                                     1   \n",
      "Name: strada, Length: 1211, dtype: int64\n",
      "suprafata 65mp        415\n",
      "50mp        360\n",
      "52mp        309\n",
      "40mp        230\n",
      "70mp        212\n",
      "60mp        205\n",
      "54mp        199\n",
      "80mp        184\n",
      "42mp        168\n",
      "53mp        157\n",
      "48mp        155\n",
      "46mp        149\n",
      "56mp        143\n",
      "45mp        143\n",
      "68mp        142\n",
      "67mp        140\n",
      "55mp        136\n",
      "47mp        119\n",
      "78mp        118\n",
      "64mp        118\n",
      "58mp        117\n",
      "63mp        116\n",
      "51mp        116\n",
      "mp          110\n",
      "57mp        106\n",
      "28mp        104\n",
      "38mp        104\n",
      "49mp        102\n",
      "72mp        94 \n",
      "44mp        92 \n",
      "            .. \n",
      "54.66mp     1  \n",
      "162mp       1  \n",
      "57.39mp     1  \n",
      "63.23mp     1  \n",
      "69.17mp     1  \n",
      "56.9mp      1  \n",
      "35.54mp     1  \n",
      "39.01mp     1  \n",
      "34900mp     1  \n",
      "54.83mp     1  \n",
      "54.78mp     1  \n",
      "39.83mp     1  \n",
      "63.84mp     1  \n",
      "92.94mp     1  \n",
      "44.3mp      1  \n",
      "81.4mp      1  \n",
      "159mp       1  \n",
      "40.32mp     1  \n",
      "55.12mp     1  \n",
      "61.91mp     1  \n",
      "53.15mp     1  \n",
      "43.2mp      1  \n",
      "62.55mp     1  \n",
      "45.44mp     1  \n",
      "60.47mp     1  \n",
      "64.95mp     1  \n",
      "62.45mp     1  \n",
      "97.4mp      1  \n",
      "68.33mp     1  \n",
      "41.04mp     1  \n",
      "Name: suprafata, Length: 558, dtype: int64\n",
      "cartier Manastur           1585\n",
      "Marasti            1432\n",
      "Gheorgheni         1059\n",
      "Centru             978 \n",
      "Zorilor            593 \n",
      "Grigorescu         455 \n",
      "Buna-Ziua          338 \n",
      "Floresti           324 \n",
      "Europa             240 \n",
      "Borhanci           160 \n",
      "Andrei Muresanu    135 \n",
      "Plopilor           125 \n",
      "Iris               123 \n",
      "Baciu              87  \n",
      "Gruia              70  \n",
      "Dambul-Rotund      57  \n",
      "Apahida            37  \n",
      "Gara               24  \n",
      "Someseni           24  \n",
      "Bulgaria           17  \n",
      "Faget              3   \n",
      "Feleacu            1   \n",
      "Sopor              1   \n",
      "Name: cartier, dtype: int64\n",
      "link http://www.piata-az.ro/anunturi/oras-cluj-napoca/7601620    6\n",
      "http://www.piata-az.ro/anunturi/oras-cluj-napoca/7378313    1\n",
      "http://www.piata-az.ro/anunturi/oras-cluj-napoca/7530743    1\n",
      "http://www.piata-az.ro/anunturi/oras-cluj-napoca/7221201    1\n",
      "http://www.piata-az.ro/anunturi/oras-cluj-napoca/7446668    1\n",
      "http://www.piata-az.ro/anunturi/oras-cluj-napoca/7565108    1\n",
      "http://www.piata-az.ro/anunturi/oras-cluj-napoca/7526381    1\n",
      "http://www.piata-az.ro/anunturi/oras-cluj-napoca/7591227    1\n",
      "http://www.piata-az.ro/anunturi/oras-cluj-napoca/7540000    1\n",
      "http://www.piata-az.ro/anunturi/oras-cluj-napoca/7598340    1\n",
      "http://www.piata-az.ro/anunturi/oras-cluj-napoca/7446180    1\n",
      "http://www.piata-az.ro/anunturi/oras-cluj-napoca/7446861    1\n",
      "http://www.piata-az.ro/anunturi/oras-cluj-napoca/7220098    1\n",
      "http://www.piata-az.ro/anunturi/oras-cluj-napoca/7526799    1\n",
      "http://www.piata-az.ro/anunturi/oras-cluj-napoca/7553204    1\n",
      "http://www.piata-az.ro/anunturi/oras-cluj-napoca/7553269    1\n",
      "http://www.piata-az.ro/anunturi/oras-cluj-napoca/7452712    1\n",
      "http://www.piata-az.ro/anunturi/oras-cluj-napoca/7517826    1\n",
      "http://www.piata-az.ro/anunturi/oras-cluj-napoca/7507509    1\n",
      "http://www.piata-az.ro/anunturi/oras-cluj-napoca/7562624    1\n",
      "http://www.piata-az.ro/anunturi/oras-cluj-napoca/7600332    1\n",
      "http://www.piata-az.ro/anunturi/oras-cluj-napoca/7545683    1\n",
      "http://www.piata-az.ro/anunturi/oras-cluj-napoca/5783623    1\n",
      "http://www.piata-az.ro/anunturi/oras-cluj-napoca/7584408    1\n",
      "http://www.piata-az.ro/anunturi/oras-cluj-napoca/7464704    1\n",
      "http://www.piata-az.ro/anunturi/oras-cluj-napoca/7539442    1\n",
      "http://www.piata-az.ro/anunturi/oras-cluj-napoca/7506410    1\n",
      "http://www.piata-az.ro/anunturi/oras-cluj-napoca/7489944    1\n",
      "http://www.piata-az.ro/anunturi/oras-cluj-napoca/7457241    1\n",
      "http://www.piata-az.ro/anunturi/oras-cluj-napoca/7565070    1\n",
      "                                                           ..\n",
      "http://www.piata-az.ro/anunturi/oras-cluj-napoca/7600668    1\n",
      "http://www.piata-az.ro/anunturi/oras-cluj-napoca/7590295    1\n",
      "http://www.piata-az.ro/anunturi/oras-cluj-napoca/7252580    1\n",
      "http://www.piata-az.ro/anunturi/oras-cluj-napoca/7234658    1\n",
      "http://www.piata-az.ro/anunturi/oras-cluj-napoca/7495900    1\n",
      "http://www.piata-az.ro/anunturi/oras-cluj-napoca/7475343    1\n",
      "http://www.piata-az.ro/anunturi/oras-cluj-napoca/7524269    1\n",
      "http://www.piata-az.ro/anunturi/oras-cluj-napoca/7452448    1\n",
      "http://www.piata-az.ro/anunturi/oras-cluj-napoca/7299266    1\n",
      "http://www.piata-az.ro/anunturi/oras-cluj-napoca/7452210    1\n",
      "http://www.piata-az.ro/anunturi/oras-cluj-napoca/7599830    1\n",
      "http://www.piata-az.ro/anunturi/oras-cluj-napoca/7476741    1\n",
      "http://www.piata-az.ro/anunturi/oras-cluj-napoca/7457068    1\n",
      "http://www.piata-az.ro/anunturi/oras-cluj-napoca/7433552    1\n",
      "http://www.piata-az.ro/anunturi/oras-cluj-napoca/7431598    1\n",
      "http://www.piata-az.ro/anunturi/oras-cluj-napoca/7585172    1\n",
      "http://www.piata-az.ro/anunturi/oras-cluj-napoca/7296404    1\n",
      "http://www.piata-az.ro/anunturi/oras-cluj-napoca/7454675    1\n",
      "http://www.piata-az.ro/anunturi/oras-cluj-napoca/7518272    1\n",
      "http://www.piata-az.ro/anunturi/oras-cluj-napoca/7516281    1\n",
      "http://www.piata-az.ro/anunturi/oras-cluj-napoca/7328926    1\n",
      "http://www.piata-az.ro/anunturi/oras-cluj-napoca/7029629    1\n",
      "http://www.piata-az.ro/anunturi/oras-cluj-napoca/7250901    1\n",
      "http://www.piata-az.ro/anunturi/oras-cluj-napoca/7355221    1\n",
      "http://www.piata-az.ro/anunturi/oras-cluj-napoca/7359403    1\n",
      "http://www.piata-az.ro/anunturi/oras-cluj-napoca/7233648    1\n",
      "http://www.piata-az.ro/anunturi/oras-cluj-napoca/7476608    1\n",
      "http://www.piata-az.ro/anunturi/oras-cluj-napoca/7456806    1\n",
      "http://www.piata-az.ro/anunturi/oras-cluj-napoca/7446186    1\n",
      "http://www.piata-az.ro/anunturi/oras-cluj-napoca/7599837    1\n",
      "Name: link, Length: 8265, dtype: int64\n",
      "modificari_interioare Nu    3785\n",
      "Da    375 \n",
      "Name: modificari_interioare, dtype: int64\n",
      "balcoane_inchise Nu    2965\n",
      "Da    868 \n",
      "Name: balcoane_inchise, dtype: int64\n",
      "aer_conditionat Nu    5071\n",
      "Da    325 \n",
      "Name: aer_conditionat, dtype: int64\n",
      "loc_in_pod Nu    4224\n",
      "Da    714 \n",
      "Name: loc_in_pod, dtype: int64\n",
      "loc_in_pivnita Nu    4124\n",
      "Da    1025\n",
      "Name: loc_in_pivnita, dtype: int64\n",
      "uscator Nu    4250\n",
      "Da    671 \n",
      "Name: uscator, dtype: int64\n"
     ]
    }
   ],
   "source": [
    "for x in coloane:\n",
    "    print('{0}'.format(x) , data[x].value_counts())"
   ]
  },
  {
   "cell_type": "raw",
   "metadata": {},
   "source": [
    "Vom face cate o lista care sa fie conforma cu tipul de date a coloanelor.\n",
    "De exemplu in \"coloane_bool\" vom avea acele caracteristi pe care un utilizator cand introduce un anunt pe site poate alege sa bifeze in dreptul caracteristicii.\n",
    "In \"coloane_liber\" utilizatorul poate introduce ce valori doreste.\n",
    "In \"coloane_selectat\" utilizatorul trebuie sa selecteze dintr-un set de valori pe care site-ul le pune la indemana.\n",
    "\n",
    "nota: cand vorbim de utilizator ma refer la utilizatorul care introduce un anunt pe site-ul www.piata-az.ro"
   ]
  },
  {
   "cell_type": "code",
   "execution_count": 13,
   "metadata": {
    "collapsed": true
   },
   "outputs": [],
   "source": [
    "coloane_bool = [\n",
    " 'geamuri_termopan',\n",
    " 'centrala_termica',\n",
    " 'parchet',\n",
    " 'gresie',\n",
    " 'faianta',\n",
    " 'zugravit_lavabil',\n",
    " 'loc_parcare',\n",
    " 'modificari_interioare',\n",
    " 'balcoane_inchise',\n",
    " 'aer_conditionat',\n",
    " 'loc_in_pod',\n",
    " 'loc_in_pivnita',\n",
    " 'uscator']"
   ]
  },
  {
   "cell_type": "code",
   "execution_count": 14,
   "metadata": {
    "collapsed": true
   },
   "outputs": [],
   "source": [
    "coloane_liber = ['titlu',\n",
    " 'pret',\n",
    " 'descriere',\n",
    " 'agentie',\n",
    " 'strada',\n",
    " 'suprafata',\n",
    " 'link']"
   ]
  },
  {
   "cell_type": "code",
   "execution_count": 15,
   "metadata": {
    "collapsed": true
   },
   "outputs": [],
   "source": [
    "coloane_selectat = [\n",
    " 'oras',\n",
    " 'grad_finisare',\n",
    " 'tip_oferta',\n",
    " 'persoana',\n",
    " 'etaj',\n",
    " 'vechime_imobil',\n",
    " 'numar_bai',\n",
    " 'numar_balcoane',\n",
    " 'compatimentare',\n",
    " 'confort',\n",
    " 'cartier',]"
   ]
  },
  {
   "cell_type": "raw",
   "metadata": {},
   "source": [
    "Specificatii!!!\n",
    "La variabilele unde avem de bifat cand adaugam anuntul in caz ca nu bifam (de ex aer_conditionat) avem 2 rezultate: Nan values ori 'Nu'. In ambele situatii nu a fost bifata casuta din dreptul variabilei. La fel in cazul coloanelor unde trebuie sa selectam din niste valori daca nu a fost selectat nimic avem ori valori Nan (nule, not a number) ori avem \"Nespecificat\""
   ]
  },
  {
   "cell_type": "raw",
   "metadata": {},
   "source": [
    "Vom crea cate functii care ne ajuta sa grupam coloanele in functie de tipul de date, care ne ajuta sa vedem cate valori unice avem si cate valori nule avem intr-o lista de coloane"
   ]
  },
  {
   "cell_type": "code",
   "execution_count": 16,
   "metadata": {},
   "outputs": [
    {
     "data": {
      "text/plain": [
       "{dtype('O'): Index(['titlu', 'pret', 'oras', 'grad_finisare', 'descriere', 'tip_oferta',\n",
       "        'persoana', 'etaj', 'vechime_imobil', 'numar_bai', 'numar_balcoane',\n",
       "        'geamuri_termopan', 'centrala_termica', 'compatimentare', 'parchet',\n",
       "        'confort', 'gresie', 'faianta', 'zugravit_lavabil', 'loc_parcare',\n",
       "        'agentie', 'numar_camere', 'strada', 'suprafata', 'cartier', 'link',\n",
       "        'modificari_interioare', 'balcoane_inchise', 'aer_conditionat',\n",
       "        'loc_in_pod', 'loc_in_pivnita', 'uscator'],\n",
       "       dtype='object')}"
      ]
     },
     "execution_count": 16,
     "metadata": {},
     "output_type": "execute_result"
    }
   ],
   "source": [
    "data_types = data.columns.to_series().groupby(data.dtypes).groups\n",
    "data_types"
   ]
  },
  {
   "cell_type": "code",
   "execution_count": 17,
   "metadata": {
    "collapsed": true
   },
   "outputs": [],
   "source": [
    "def valori_unice(col):\n",
    "    for x in col:\n",
    "        print('{0}'.format(x) , data[x].value_counts())"
   ]
  },
  {
   "cell_type": "code",
   "execution_count": 18,
   "metadata": {
    "collapsed": true
   },
   "outputs": [],
   "source": [
    "def valori_nule(col):\n",
    "    for x in col:\n",
    "        print('{0}'.format(x) , data[x].isnull().sum())"
   ]
  },
  {
   "cell_type": "code",
   "execution_count": 19,
   "metadata": {
    "collapsed": true
   },
   "outputs": [],
   "source": [
    "def tipuri_date():\n",
    "    data_types = data.columns.to_series().groupby(data.dtypes).groups\n",
    "    return data_types"
   ]
  },
  {
   "cell_type": "code",
   "execution_count": 20,
   "metadata": {},
   "outputs": [
    {
     "name": "stdout",
     "output_type": "stream",
     "text": [
      "geamuri_termopan 1885\n",
      "centrala_termica 618\n",
      "parchet 835\n",
      "gresie 915\n",
      "faianta 898\n",
      "zugravit_lavabil 1096\n",
      "loc_parcare 2408\n",
      "modificari_interioare 4110\n",
      "balcoane_inchise 4437\n",
      "aer_conditionat 2874\n",
      "loc_in_pod 3332\n",
      "loc_in_pivnita 3121\n",
      "uscator 3349\n"
     ]
    }
   ],
   "source": [
    "_ = valori_nule(coloane_bool)"
   ]
  },
  {
   "cell_type": "code",
   "execution_count": 21,
   "metadata": {},
   "outputs": [
    {
     "name": "stdout",
     "output_type": "stream",
     "text": [
      "geamuri_termopan Da    5277\n",
      "Nu    1108\n",
      "Name: geamuri_termopan, dtype: int64\n",
      "centrala_termica Da    6184\n",
      "Nu    1468\n",
      "Name: centrala_termica, dtype: int64\n",
      "parchet Da    5205\n",
      "Nu    2230\n",
      "Name: parchet, dtype: int64\n",
      "gresie Nu    3735\n",
      "Da    3620\n",
      "Name: gresie, dtype: int64\n",
      "faianta Da    5249\n",
      "Nu    2123\n",
      "Name: faianta, dtype: int64\n",
      "zugravit_lavabil Da    4765\n",
      "Nu    2409\n",
      "Name: zugravit_lavabil, dtype: int64\n",
      "loc_parcare Nu    3372\n",
      "Da    2490\n",
      "Name: loc_parcare, dtype: int64\n",
      "modificari_interioare Nu    3785\n",
      "Da    375 \n",
      "Name: modificari_interioare, dtype: int64\n",
      "balcoane_inchise Nu    2965\n",
      "Da    868 \n",
      "Name: balcoane_inchise, dtype: int64\n",
      "aer_conditionat Nu    5071\n",
      "Da    325 \n",
      "Name: aer_conditionat, dtype: int64\n",
      "loc_in_pod Nu    4224\n",
      "Da    714 \n",
      "Name: loc_in_pod, dtype: int64\n",
      "loc_in_pivnita Nu    4124\n",
      "Da    1025\n",
      "Name: loc_in_pivnita, dtype: int64\n",
      "uscator Nu    4250\n",
      "Da    671 \n",
      "Name: uscator, dtype: int64\n"
     ]
    }
   ],
   "source": [
    "_ = valori_unice(coloane_bool)"
   ]
  },
  {
   "cell_type": "code",
   "execution_count": 22,
   "metadata": {
    "collapsed": true
   },
   "outputs": [],
   "source": [
    "data.replace(['Nu', 'Nespecificat'], [np.nan, np.nan], inplace=True)"
   ]
  },
  {
   "cell_type": "code",
   "execution_count": 23,
   "metadata": {},
   "outputs": [
    {
     "name": "stdout",
     "output_type": "stream",
     "text": [
      "geamuri_termopan Da    5277\n",
      "Name: geamuri_termopan, dtype: int64\n",
      "centrala_termica Da    6184\n",
      "Name: centrala_termica, dtype: int64\n",
      "parchet Da    5205\n",
      "Name: parchet, dtype: int64\n",
      "gresie Da    3620\n",
      "Name: gresie, dtype: int64\n",
      "faianta Da    5249\n",
      "Name: faianta, dtype: int64\n",
      "zugravit_lavabil Da    4765\n",
      "Name: zugravit_lavabil, dtype: int64\n",
      "loc_parcare Da    2490\n",
      "Name: loc_parcare, dtype: int64\n",
      "modificari_interioare Da    375\n",
      "Name: modificari_interioare, dtype: int64\n",
      "balcoane_inchise Da    868\n",
      "Name: balcoane_inchise, dtype: int64\n",
      "aer_conditionat Da    325\n",
      "Name: aer_conditionat, dtype: int64\n",
      "loc_in_pod Da    714\n",
      "Name: loc_in_pod, dtype: int64\n",
      "loc_in_pivnita Da    1025\n",
      "Name: loc_in_pivnita, dtype: int64\n",
      "uscator Da    671\n",
      "Name: uscator, dtype: int64\n"
     ]
    }
   ],
   "source": [
    "_ = valori_unice(coloane_bool)"
   ]
  },
  {
   "cell_type": "code",
   "execution_count": 24,
   "metadata": {},
   "outputs": [
    {
     "name": "stdout",
     "output_type": "stream",
     "text": [
      "geamuri_termopan 2993\n",
      "centrala_termica 2086\n",
      "parchet 3065\n",
      "gresie 4650\n",
      "faianta 3021\n",
      "zugravit_lavabil 3505\n",
      "loc_parcare 5780\n",
      "modificari_interioare 7895\n",
      "balcoane_inchise 7402\n",
      "aer_conditionat 7945\n",
      "loc_in_pod 7556\n",
      "loc_in_pivnita 7245\n",
      "uscator 7599\n"
     ]
    }
   ],
   "source": [
    "_ = valori_nule(coloane_bool)"
   ]
  },
  {
   "cell_type": "code",
   "execution_count": 25,
   "metadata": {},
   "outputs": [
    {
     "data": {
      "text/plain": [
       "{dtype('O'): Index(['titlu', 'pret', 'oras', 'grad_finisare', 'descriere', 'tip_oferta',\n",
       "        'persoana', 'etaj', 'vechime_imobil', 'numar_bai', 'numar_balcoane',\n",
       "        'geamuri_termopan', 'centrala_termica', 'compatimentare', 'parchet',\n",
       "        'confort', 'gresie', 'faianta', 'zugravit_lavabil', 'loc_parcare',\n",
       "        'agentie', 'numar_camere', 'strada', 'suprafata', 'cartier', 'link',\n",
       "        'modificari_interioare', 'balcoane_inchise', 'aer_conditionat',\n",
       "        'loc_in_pod', 'loc_in_pivnita', 'uscator'],\n",
       "       dtype='object')}"
      ]
     },
     "execution_count": 25,
     "metadata": {},
     "output_type": "execute_result"
    }
   ],
   "source": [
    "_ = tipuri_date()\n",
    "_"
   ]
  },
  {
   "cell_type": "raw",
   "metadata": {},
   "source": [
    "Vom modifica tipurile de date. Vom face coloanele \"pret\" si \"suprafata\" sa fie numerice."
   ]
  },
  {
   "cell_type": "code",
   "execution_count": 26,
   "metadata": {
    "collapsed": true
   },
   "outputs": [],
   "source": [
    "import re"
   ]
  },
  {
   "cell_type": "code",
   "execution_count": 27,
   "metadata": {
    "collapsed": true
   },
   "outputs": [],
   "source": [
    "def pret_modificare(column):\n",
    "    column = str(column)\n",
    "    column = re.sub(r'\\D', '', column)\n",
    "    column = int(column)\n",
    "    return column\n",
    "\n",
    "data['pret'] = data['pret'].apply(pret_modificare)"
   ]
  },
  {
   "cell_type": "code",
   "execution_count": 28,
   "metadata": {},
   "outputs": [
    {
     "data": {
      "text/plain": [
       "85000     205\n",
       "95000     176\n",
       "75000     167\n",
       "110000    154\n",
       "65000     152\n",
       "90000     148\n",
       "70000     146\n",
       "100000    136\n",
       "120000    135\n",
       "80000     129\n",
       "105000    117\n",
       "125000    112\n",
       "72000     106\n",
       "115000    100\n",
       "78000     94 \n",
       "45000     93 \n",
       "87000     85 \n",
       "82000     84 \n",
       "69000     80 \n",
       "60000     75 \n",
       "89000     74 \n",
       "130000    74 \n",
       "79000     73 \n",
       "77000     71 \n",
       "76000     71 \n",
       "68000     70 \n",
       "99000     69 \n",
       "50000     67 \n",
       "55000     67 \n",
       "93000     67 \n",
       "          .. \n",
       "237000    1  \n",
       "130500    1  \n",
       "44780     1  \n",
       "60830     1  \n",
       "81300     1  \n",
       "48516     1  \n",
       "96200     1  \n",
       "81991     1  \n",
       "81999     1  \n",
       "46365     1  \n",
       "40200     1  \n",
       "52778     1  \n",
       "32300     1  \n",
       "48700     1  \n",
       "98300     1  \n",
       "57300     1  \n",
       "32900     1  \n",
       "55375     1  \n",
       "73800     1  \n",
       "163900    1  \n",
       "24600     1  \n",
       "75719     1  \n",
       "73280     1  \n",
       "94150     1  \n",
       "153500    1  \n",
       "118610    1  \n",
       "85770     1  \n",
       "61094     1  \n",
       "85602     1  \n",
       "73700     1  \n",
       "Name: pret, Length: 937, dtype: int64"
      ]
     },
     "execution_count": 28,
     "metadata": {},
     "output_type": "execute_result"
    }
   ],
   "source": [
    "data.pret.value_counts()"
   ]
  },
  {
   "cell_type": "code",
   "execution_count": 29,
   "metadata": {},
   "outputs": [
    {
     "data": {
      "text/plain": [
       "65mp        415\n",
       "50mp        360\n",
       "52mp        309\n",
       "40mp        230\n",
       "70mp        212\n",
       "60mp        205\n",
       "54mp        199\n",
       "80mp        184\n",
       "42mp        168\n",
       "53mp        157\n",
       "48mp        155\n",
       "46mp        149\n",
       "56mp        143\n",
       "45mp        143\n",
       "68mp        142\n",
       "67mp        140\n",
       "55mp        136\n",
       "47mp        119\n",
       "78mp        118\n",
       "64mp        118\n",
       "58mp        117\n",
       "63mp        116\n",
       "51mp        116\n",
       "mp          110\n",
       "57mp        106\n",
       "28mp        104\n",
       "38mp        104\n",
       "49mp        102\n",
       "72mp        94 \n",
       "44mp        92 \n",
       "            .. \n",
       "54.66mp     1  \n",
       "162mp       1  \n",
       "57.39mp     1  \n",
       "63.23mp     1  \n",
       "69.17mp     1  \n",
       "56.9mp      1  \n",
       "35.54mp     1  \n",
       "39.01mp     1  \n",
       "34900mp     1  \n",
       "54.83mp     1  \n",
       "54.78mp     1  \n",
       "39.83mp     1  \n",
       "63.84mp     1  \n",
       "92.94mp     1  \n",
       "44.3mp      1  \n",
       "81.4mp      1  \n",
       "159mp       1  \n",
       "40.32mp     1  \n",
       "55.12mp     1  \n",
       "61.91mp     1  \n",
       "53.15mp     1  \n",
       "43.2mp      1  \n",
       "62.55mp     1  \n",
       "45.44mp     1  \n",
       "60.47mp     1  \n",
       "64.95mp     1  \n",
       "62.45mp     1  \n",
       "97.4mp      1  \n",
       "68.33mp     1  \n",
       "41.04mp     1  \n",
       "Name: suprafata, Length: 558, dtype: int64"
      ]
     },
     "execution_count": 29,
     "metadata": {},
     "output_type": "execute_result"
    }
   ],
   "source": [
    "data.suprafata.value_counts()"
   ]
  },
  {
   "cell_type": "code",
   "execution_count": 30,
   "metadata": {
    "collapsed": true
   },
   "outputs": [],
   "source": [
    "def supraf_mod(column):\n",
    "    column = str(column)\n",
    "    column = re.sub(r'mp', '', column)\n",
    "    return column\n",
    "data['suprafata'] = data['suprafata'].apply(supraf_mod)\n",
    "\n",
    "def supraf_modificare(column):\n",
    "    column = str(column)\n",
    "    column = re.sub(r'\\.\\d+', '', column)\n",
    "    return column\n",
    "data['suprafata'] = data['suprafata'].apply(supraf_modificare)"
   ]
  },
  {
   "cell_type": "code",
   "execution_count": 31,
   "metadata": {
    "collapsed": true
   },
   "outputs": [],
   "source": [
    "data = data[data['suprafata'] != ' ']\n",
    "\n",
    "def convert_int(rand):\n",
    "    rand = re.sub(r'\\s', '', rand)\n",
    "    rand = int(rand)\n",
    "    return rand\n",
    "\n",
    "contor = data['suprafata']==' '\n",
    "contor.sum()\n",
    "data['suprafata'] = data['suprafata'].apply(convert_int)"
   ]
  },
  {
   "cell_type": "code",
   "execution_count": 32,
   "metadata": {},
   "outputs": [
    {
     "data": {
      "text/plain": [
       "65       418\n",
       "50       370\n",
       "52       330\n",
       "40       236\n",
       "70       219\n",
       "60       211\n",
       "54       210\n",
       "80       187\n",
       "42       176\n",
       "53       170\n",
       "48       162\n",
       "56       157\n",
       "46       155\n",
       "45       152\n",
       "68       150\n",
       "55       149\n",
       "67       144\n",
       "58       129\n",
       "63       128\n",
       "47       127\n",
       "51       126\n",
       "57       125\n",
       "64       123\n",
       "78       122\n",
       "38       110\n",
       "49       110\n",
       "28       105\n",
       "72       100\n",
       "44       99 \n",
       "62       94 \n",
       "         .. \n",
       "174      1  \n",
       "186      1  \n",
       "198      1  \n",
       "206      1  \n",
       "226      1  \n",
       "322      1  \n",
       "370      1  \n",
       "8157     1  \n",
       "19       1  \n",
       "123      1  \n",
       "147      1  \n",
       "142      1  \n",
       "138      1  \n",
       "45000    1  \n",
       "133      1  \n",
       "188      1  \n",
       "212      1  \n",
       "420      1  \n",
       "2012     1  \n",
       "34900    1  \n",
       "129      1  \n",
       "137      1  \n",
       "457      1  \n",
       "153      1  \n",
       "161      1  \n",
       "173      1  \n",
       "217      1  \n",
       "159      1  \n",
       "285      1  \n",
       "233      1  \n",
       "Name: suprafata, Length: 180, dtype: int64"
      ]
     },
     "execution_count": 32,
     "metadata": {},
     "output_type": "execute_result"
    }
   ],
   "source": [
    "data.suprafata.value_counts()"
   ]
  },
  {
   "cell_type": "raw",
   "metadata": {},
   "source": [
    "Vom incepe procesul de curatare a datelor"
   ]
  },
  {
   "cell_type": "raw",
   "metadata": {},
   "source": [
    "Vom vedea cate apartamente au pretul mai mic de 10000 de euro."
   ]
  },
  {
   "cell_type": "code",
   "execution_count": 33,
   "metadata": {
    "collapsed": true
   },
   "outputs": [],
   "source": [
    "mask_pret = data['pret'] < 10000"
   ]
  },
  {
   "cell_type": "code",
   "execution_count": 34,
   "metadata": {},
   "outputs": [
    {
     "data": {
      "text/plain": [
       "79"
      ]
     },
     "execution_count": 34,
     "metadata": {},
     "output_type": "execute_result"
    }
   ],
   "source": [
    "mask_pret.sum()"
   ]
  },
  {
   "cell_type": "raw",
   "metadata": {},
   "source": [
    "Vom elimina preturile mai mici de 10000 de euro"
   ]
  },
  {
   "cell_type": "code",
   "execution_count": 35,
   "metadata": {
    "collapsed": true
   },
   "outputs": [],
   "source": [
    "data = data[data['pret'] > 10000]"
   ]
  },
  {
   "cell_type": "raw",
   "metadata": {},
   "source": [
    "Vom investiga cum sunt distribuitele datele cu ajutorul unei Histrograme si cu ajutorul unul box-plot."
   ]
  },
  {
   "cell_type": "code",
   "execution_count": 36,
   "metadata": {},
   "outputs": [
    {
     "data": {
      "image/png": "[encoded data removed]",
      "text/plain": [
       "<matplotlib.figure.Figure at 0x250345e9b70>"
      ]
     },
     "metadata": {},
     "output_type": "display_data"
    }
   ],
   "source": [
    "data.pret.hist(bins=30)\n",
    "plt.show()"
   ]
  },
  {
   "cell_type": "code",
   "execution_count": 37,
   "metadata": {},
   "outputs": [
    {
     "data": {
      "image/png": "[encoded data removed]",
      "text/plain": [
       "<matplotlib.figure.Figure at 0x250347fc320>"
      ]
     },
     "metadata": {},
     "output_type": "display_data"
    }
   ],
   "source": [
    "plt.boxplot(data.pret)\n",
    "plt.show()"
   ]
  },
  {
   "cell_type": "code",
   "execution_count": 38,
   "metadata": {},
   "outputs": [
    {
     "data": {
      "text/plain": [
       "173"
      ]
     },
     "execution_count": 38,
     "metadata": {},
     "output_type": "execute_result"
    }
   ],
   "source": [
    "mask_pret = data['pret'] >200000\n",
    "mask_pret.sum()"
   ]
  },
  {
   "cell_type": "raw",
   "metadata": {},
   "source": [
    "Vom investiga manual cateva anunturi care au pretul mai mare de 200.000 de euro ca sa vedem daca sunt data introduse gresit"
   ]
  },
  {
   "cell_type": "code",
   "execution_count": 39,
   "metadata": {},
   "outputs": [
    {
     "data": {
      "text/plain": [
       "34      http://www.piata-az.ro/anunturi/oras-cluj-napoca/7536832\n",
       "104     http://www.piata-az.ro/anunturi/oras-cluj-napoca/7597626\n",
       "375     http://www.piata-az.ro/anunturi/oras-cluj-napoca/7505767\n",
       "794     http://www.piata-az.ro/anunturi/oras-cluj-napoca/7597743\n",
       "803     http://www.piata-az.ro/anunturi/oras-cluj-napoca/7443036\n",
       "896     http://www.piata-az.ro/anunturi/oras-cluj-napoca/7286589\n",
       "1051    http://www.piata-az.ro/anunturi/oras-cluj-napoca/7316804\n",
       "1069    http://www.piata-az.ro/anunturi/oras-cluj-napoca/7431314\n",
       "1075    http://www.piata-az.ro/anunturi/oras-cluj-napoca/7518272\n",
       "1119    http://www.piata-az.ro/anunturi/oras-cluj-napoca/7442998\n",
       "1176    http://www.piata-az.ro/anunturi/oras-cluj-napoca/7165589\n",
       "1217    http://www.piata-az.ro/anunturi/oras-cluj-napoca/7346936\n",
       "1237    http://www.piata-az.ro/anunturi/oras-cluj-napoca/7418365\n",
       "1240    http://www.piata-az.ro/anunturi/oras-cluj-napoca/7298390\n",
       "1247    http://www.piata-az.ro/anunturi/oras-cluj-napoca/6453745\n",
       "1460    http://www.piata-az.ro/anunturi/oras-cluj-napoca/7451651\n",
       "1523    http://www.piata-az.ro/anunturi/oras-cluj-napoca/7454870\n",
       "1585    http://www.piata-az.ro/anunturi/oras-cluj-napoca/7328983\n",
       "1624    http://www.piata-az.ro/anunturi/oras-cluj-napoca/7320927\n",
       "1641    http://www.piata-az.ro/anunturi/oras-cluj-napoca/7094028\n",
       "1847    http://www.piata-az.ro/anunturi/oras-cluj-napoca/7509063\n",
       "2051    http://www.piata-az.ro/anunturi/oras-cluj-napoca/7045384\n",
       "2053    http://www.piata-az.ro/anunturi/oras-cluj-napoca/7433316\n",
       "2057    http://www.piata-az.ro/anunturi/oras-cluj-napoca/7397782\n",
       "2058    http://www.piata-az.ro/anunturi/oras-cluj-napoca/7048106\n",
       "2072    http://www.piata-az.ro/anunturi/oras-cluj-napoca/7433318\n",
       "2081    http://www.piata-az.ro/anunturi/oras-cluj-napoca/7433319\n",
       "2086    http://www.piata-az.ro/anunturi/oras-cluj-napoca/7028322\n",
       "2111    http://www.piata-az.ro/anunturi/oras-cluj-napoca/7083664\n",
       "2116    http://www.piata-az.ro/anunturi/oras-cluj-napoca/7446712\n",
       "                                  ...                           \n",
       "6648    http://www.piata-az.ro/anunturi/oras-cluj-napoca/7361925\n",
       "6901    http://www.piata-az.ro/anunturi/oras-cluj-napoca/7243890\n",
       "6903    http://www.piata-az.ro/anunturi/oras-cluj-napoca/7525706\n",
       "6906    http://www.piata-az.ro/anunturi/oras-cluj-napoca/7525734\n",
       "6907    http://www.piata-az.ro/anunturi/oras-cluj-napoca/7525845\n",
       "6958    http://www.piata-az.ro/anunturi/oras-cluj-napoca/7523329\n",
       "7018    http://www.piata-az.ro/anunturi/oras-cluj-napoca/7512574\n",
       "7050    http://www.piata-az.ro/anunturi/oras-cluj-napoca/7511366\n",
       "7052    http://www.piata-az.ro/anunturi/oras-cluj-napoca/7511383\n",
       "7098    http://www.piata-az.ro/anunturi/oras-cluj-napoca/7371838\n",
       "7105    http://www.piata-az.ro/anunturi/oras-cluj-napoca/7569778\n",
       "7124    http://www.piata-az.ro/anunturi/oras-cluj-napoca/7568422\n",
       "7128    http://www.piata-az.ro/anunturi/oras-cluj-napoca/7568364\n",
       "7134    http://www.piata-az.ro/anunturi/oras-cluj-napoca/7568275\n",
       "7248    http://www.piata-az.ro/anunturi/oras-cluj-napoca/7565819\n",
       "7249    http://www.piata-az.ro/anunturi/oras-cluj-napoca/7565814\n",
       "7280    http://www.piata-az.ro/anunturi/oras-cluj-napoca/7565440\n",
       "7283    http://www.piata-az.ro/anunturi/oras-cluj-napoca/7564785\n",
       "7320    http://www.piata-az.ro/anunturi/oras-cluj-napoca/7564274\n",
       "7329    http://www.piata-az.ro/anunturi/oras-cluj-napoca/7564213\n",
       "7335    http://www.piata-az.ro/anunturi/oras-cluj-napoca/7564117\n",
       "7505    http://www.piata-az.ro/anunturi/oras-cluj-napoca/7562068\n",
       "7644    http://www.piata-az.ro/anunturi/oras-cluj-napoca/7557370\n",
       "7651    http://www.piata-az.ro/anunturi/oras-cluj-napoca/7557333\n",
       "7800    http://www.piata-az.ro/anunturi/oras-cluj-napoca/7554081\n",
       "7859    http://www.piata-az.ro/anunturi/oras-cluj-napoca/7252808\n",
       "7959    http://www.piata-az.ro/anunturi/oras-cluj-napoca/7553239\n",
       "7960    http://www.piata-az.ro/anunturi/oras-cluj-napoca/7553232\n",
       "8025    http://www.piata-az.ro/anunturi/oras-cluj-napoca/7247877\n",
       "8118    http://www.piata-az.ro/anunturi/oras-cluj-napoca/7550520\n",
       "Name: link, Length: 173, dtype: object"
      ]
     },
     "execution_count": 39,
     "metadata": {},
     "output_type": "execute_result"
    }
   ],
   "source": [
    "data[mask_pret].link"
   ]
  },
  {
   "cell_type": "code",
   "execution_count": 40,
   "metadata": {
    "collapsed": true
   },
   "outputs": [],
   "source": [
    "data = data[data['pret'] < 200000]"
   ]
  },
  {
   "cell_type": "code",
   "execution_count": 41,
   "metadata": {},
   "outputs": [
    {
     "data": {
      "image/png": "[encoded data removed]",
      "text/plain": [
       "<matplotlib.figure.Figure at 0x250347ab048>"
      ]
     },
     "metadata": {},
     "output_type": "display_data"
    }
   ],
   "source": [
    "data.pret.hist(bins=20)\n",
    "plt.show()"
   ]
  },
  {
   "cell_type": "code",
   "execution_count": 42,
   "metadata": {},
   "outputs": [
    {
     "data": {
      "image/png": "[encoded data removed]",
      "text/plain": [
       "<matplotlib.figure.Figure at 0x250348c7cc0>"
      ]
     },
     "metadata": {},
     "output_type": "display_data"
    }
   ],
   "source": [
    "data.suprafata.hist(bins=30)\n",
    "plt.show()"
   ]
  },
  {
   "cell_type": "code",
   "execution_count": 43,
   "metadata": {
    "collapsed": true
   },
   "outputs": [],
   "source": [
    "data = data[data['suprafata'] < 250]"
   ]
  },
  {
   "cell_type": "code",
   "execution_count": 44,
   "metadata": {
    "collapsed": true
   },
   "outputs": [],
   "source": [
    "data = data[data['suprafata'] > 10]"
   ]
  },
  {
   "cell_type": "code",
   "execution_count": 45,
   "metadata": {},
   "outputs": [
    {
     "data": {
      "image/png": "[encoded data removed]",
      "text/plain": [
       "<matplotlib.figure.Figure at 0x25035055128>"
      ]
     },
     "metadata": {},
     "output_type": "display_data"
    }
   ],
   "source": [
    "data.suprafata.hist(bins=25)\n",
    "plt.show()"
   ]
  },
  {
   "cell_type": "code",
   "execution_count": 46,
   "metadata": {},
   "outputs": [
    {
     "data": {
      "text/plain": [
       "{dtype('int64'): Index(['pret', 'suprafata'], dtype='object'),\n",
       " dtype('O'): Index(['titlu', 'oras', 'grad_finisare', 'descriere', 'tip_oferta', 'persoana',\n",
       "        'etaj', 'vechime_imobil', 'numar_bai', 'numar_balcoane',\n",
       "        'geamuri_termopan', 'centrala_termica', 'compatimentare', 'parchet',\n",
       "        'confort', 'gresie', 'faianta', 'zugravit_lavabil', 'loc_parcare',\n",
       "        'agentie', 'numar_camere', 'strada', 'cartier', 'link',\n",
       "        'modificari_interioare', 'balcoane_inchise', 'aer_conditionat',\n",
       "        'loc_in_pod', 'loc_in_pivnita', 'uscator'],\n",
       "       dtype='object')}"
      ]
     },
     "execution_count": 46,
     "metadata": {},
     "output_type": "execute_result"
    }
   ],
   "source": [
    "_ = tipuri_date()\n",
    "_"
   ]
  },
  {
   "cell_type": "raw",
   "metadata": {},
   "source": [
    "Vom creea o coloana noua, \"pret/suprafata\", pentru a putea analiza mai bine datele."
   ]
  },
  {
   "cell_type": "code",
   "execution_count": 47,
   "metadata": {
    "collapsed": true
   },
   "outputs": [],
   "source": [
    "data['pret/suprafata']= data['pret'] // data['suprafata']"
   ]
  },
  {
   "cell_type": "code",
   "execution_count": 48,
   "metadata": {},
   "outputs": [
    {
     "data": {
      "text/plain": [
       "65     416\n",
       "50     365\n",
       "52     328\n",
       "40     235\n",
       "70     218\n",
       "60     208\n",
       "54     206\n",
       "80     185\n",
       "42     174\n",
       "53     165\n",
       "48     158\n",
       "56     156\n",
       "46     155\n",
       "45     151\n",
       "68     148\n",
       "55     147\n",
       "67     142\n",
       "63     128\n",
       "58     125\n",
       "57     124\n",
       "64     123\n",
       "47     123\n",
       "51     122\n",
       "78     122\n",
       "49     110\n",
       "38     109\n",
       "28     105\n",
       "44     99 \n",
       "72     99 \n",
       "75     92 \n",
       "       .. \n",
       "160    3  \n",
       "106    3  \n",
       "18     3  \n",
       "113    2  \n",
       "176    2  \n",
       "155    2  \n",
       "159    1  \n",
       "177    1  \n",
       "144    1  \n",
       "148    1  \n",
       "147    1  \n",
       "143    1  \n",
       "123    1  \n",
       "19     1  \n",
       "198    1  \n",
       "174    1  \n",
       "166    1  \n",
       "162    1  \n",
       "154    1  \n",
       "146    1  \n",
       "173    1  \n",
       "161    1  \n",
       "145    1  \n",
       "137    1  \n",
       "133    1  \n",
       "129    1  \n",
       "240    1  \n",
       "180    1  \n",
       "152    1  \n",
       "12     1  \n",
       "Name: suprafata, Length: 143, dtype: int64"
      ]
     },
     "execution_count": 48,
     "metadata": {},
     "output_type": "execute_result"
    }
   ],
   "source": [
    "data.suprafata.value_counts()"
   ]
  },
  {
   "cell_type": "code",
   "execution_count": 49,
   "metadata": {},
   "outputs": [
    {
     "data": {
      "image/png": "[encoded data removed]",
      "text/plain": [
       "<matplotlib.figure.Figure at 0x250350b5978>"
      ]
     },
     "metadata": {},
     "output_type": "display_data"
    }
   ],
   "source": [
    "data['pret/suprafata'].hist(bins=30)\n",
    "plt.show()"
   ]
  },
  {
   "cell_type": "raw",
   "metadata": {},
   "source": [
    "Vom formata coloana \"numar_camere\" pentru a avea doar date numerice de tip int."
   ]
  },
  {
   "cell_type": "code",
   "execution_count": 50,
   "metadata": {
    "collapsed": true
   },
   "outputs": [],
   "source": [
    "def camere_modificare(column):\n",
    "    column = str(column)\n",
    "    column = re.sub(r'\\D', '', column)\n",
    "    return column\n",
    "\n",
    "data['numar_camere'] = data['numar_camere'].apply(camere_modificare)"
   ]
  },
  {
   "cell_type": "code",
   "execution_count": 51,
   "metadata": {
    "collapsed": true
   },
   "outputs": [],
   "source": [
    "data = data[data['numar_camere'] != '']"
   ]
  },
  {
   "cell_type": "code",
   "execution_count": 52,
   "metadata": {
    "collapsed": true
   },
   "outputs": [],
   "source": [
    "def camere_int(column):\n",
    "    column = int(column)\n",
    "    return column\n",
    "\n",
    "data['numar_camere'] = data['numar_camere'].apply(camere_int)"
   ]
  },
  {
   "cell_type": "code",
   "execution_count": 53,
   "metadata": {},
   "outputs": [
    {
     "data": {
      "text/plain": [
       "2    3294\n",
       "3    2561\n",
       "1    1280\n",
       "4    662 \n",
       "5    31  \n",
       "6    5   \n",
       "7    1   \n",
       "Name: numar_camere, dtype: int64"
      ]
     },
     "execution_count": 53,
     "metadata": {},
     "output_type": "execute_result"
    }
   ],
   "source": [
    "data['numar_camere'].value_counts()"
   ]
  },
  {
   "cell_type": "code",
   "execution_count": 54,
   "metadata": {
    "collapsed": true
   },
   "outputs": [],
   "source": [
    "coloane = data.columns.tolist()"
   ]
  },
  {
   "cell_type": "code",
   "execution_count": 55,
   "metadata": {},
   "outputs": [
    {
     "data": {
      "text/plain": [
       "['titlu',\n",
       " 'pret',\n",
       " 'oras',\n",
       " 'grad_finisare',\n",
       " 'descriere',\n",
       " 'tip_oferta',\n",
       " 'persoana',\n",
       " 'etaj',\n",
       " 'vechime_imobil',\n",
       " 'numar_bai',\n",
       " 'numar_balcoane',\n",
       " 'geamuri_termopan',\n",
       " 'centrala_termica',\n",
       " 'compatimentare',\n",
       " 'parchet',\n",
       " 'confort',\n",
       " 'gresie',\n",
       " 'faianta',\n",
       " 'zugravit_lavabil',\n",
       " 'loc_parcare',\n",
       " 'agentie',\n",
       " 'numar_camere',\n",
       " 'strada',\n",
       " 'suprafata',\n",
       " 'cartier',\n",
       " 'link',\n",
       " 'modificari_interioare',\n",
       " 'balcoane_inchise',\n",
       " 'aer_conditionat',\n",
       " 'loc_in_pod',\n",
       " 'loc_in_pivnita',\n",
       " 'uscator',\n",
       " 'pret/suprafata']"
      ]
     },
     "execution_count": 55,
     "metadata": {},
     "output_type": "execute_result"
    }
   ],
   "source": [
    "coloane"
   ]
  },
  {
   "cell_type": "raw",
   "metadata": {},
   "source": [
    "Coloanele care contin date categorice le vom pune intr-o lista speciala pentru a putea crea variabile dummy."
   ]
  },
  {
   "cell_type": "code",
   "execution_count": 56,
   "metadata": {
    "collapsed": true
   },
   "outputs": [],
   "source": [
    "coloane_one_hot = ['grad_finisare',  'etaj', 'vechime_imobil', 'numar_bai', 'numar_balcoane', 'geamuri_termopan', 'centrala_termica', 'compatimentare', 'parchet', 'confort', 'gresie', 'faianta', 'zugravit_lavabil', 'loc_parcare', 'numar_camere',  'cartier','modificari_interioare', 'balcoane_inchise', 'aer_conditionat', 'loc_in_pod', 'loc_in_pivnita', 'uscator']"
   ]
  },
  {
   "cell_type": "code",
   "execution_count": 57,
   "metadata": {},
   "outputs": [
    {
     "name": "stdout",
     "output_type": "stream",
     "text": [
      "grad_finisare Finisat modern       1178\n",
      "Semifinisat          1100\n",
      "Finisat clasic       779 \n",
      "Ultrafinisat         369 \n",
      "Nefinisat            221 \n",
      "Renovat              62  \n",
      "Necesita renovare    35  \n",
      "Name: grad_finisare, dtype: int64\n",
      "etaj Etajul 1            1189\n",
      "Parter              1132\n",
      "Etajul 2            960 \n",
      "Etajul 3            818 \n",
      "Etajul 4            742 \n",
      "Etaj intermediar    422 \n",
      "Etajul 5            234 \n",
      "Ultimul etaj        191 \n",
      "Etajul 7            181 \n",
      "Etajul 8            143 \n",
      "Etajul 6            122 \n",
      "Etajul 9            97  \n",
      "Etajul 10           97  \n",
      "Mansarda            76  \n",
      "Demisol             70  \n",
      "Name: etaj, dtype: int64\n",
      "vechime_imobil mai vechi de 2000    3173\n",
      "bloc nou             2546\n",
      "In constructie       204 \n",
      "Name: vechime_imobil, dtype: int64\n",
      "numar_bai 1      4216\n",
      "2      1898\n",
      "3      27  \n",
      "1.0    6   \n",
      "4      1   \n",
      "Name: numar_bai, dtype: int64\n",
      "numar_balcoane 1                   3085\n",
      "2                   1093\n",
      "Fara balcon         208 \n",
      "3                   128 \n",
      "Terasa              85  \n",
      "Balcon inchis       45  \n",
      "Balcoane inchise    8   \n",
      "1.0                 6   \n",
      "Name: numar_balcoane, dtype: int64\n",
      "geamuri_termopan Da    5065\n",
      "Name: geamuri_termopan, dtype: int64\n",
      "centrala_termica Da    5932\n",
      "Name: centrala_termica, dtype: int64\n",
      "compatimentare Decomandat        3970\n",
      "Semidecomandat    2507\n",
      "Open space        37  \n",
      "Nedecomandat      17  \n",
      "Circular          14  \n",
      "Vagon             3   \n",
      "Name: compatimentare, dtype: int64\n",
      "parchet Da    5031\n",
      "Name: parchet, dtype: int64\n",
      "confort 1         4140\n",
      "Sporit    1434\n",
      "Unic      126 \n",
      "2         122 \n",
      "3         51  \n",
      "Name: confort, dtype: int64\n",
      "gresie Da    3509\n",
      "Name: gresie, dtype: int64\n",
      "faianta Da    5066\n",
      "Name: faianta, dtype: int64\n",
      "zugravit_lavabil Da    4617\n",
      "Name: zugravit_lavabil, dtype: int64\n",
      "loc_parcare Da    2389\n",
      "Name: loc_parcare, dtype: int64\n",
      "numar_camere 2    3294\n",
      "3    2561\n",
      "1    1280\n",
      "4    662 \n",
      "5    31  \n",
      "6    5   \n",
      "7    1   \n",
      "Name: numar_camere, dtype: int64\n",
      "cartier Manastur           1546\n",
      "Marasti            1385\n",
      "Gheorgheni         1021\n",
      "Centru             840 \n",
      "Zorilor            571 \n",
      "Grigorescu         424 \n",
      "Buna-Ziua          325 \n",
      "Floresti           313 \n",
      "Europa             236 \n",
      "Borhanci           155 \n",
      "Iris               118 \n",
      "Plopilor           116 \n",
      "Andrei Muresanu    111 \n",
      "Baciu              86  \n",
      "Gruia              64  \n",
      "Dambul-Rotund      49  \n",
      "Apahida            32  \n",
      "Someseni           24  \n",
      "Gara               21  \n",
      "Bulgaria           17  \n",
      "Faget              1   \n",
      "Feleacu            1   \n",
      "Sopor              1   \n",
      "Name: cartier, dtype: int64\n",
      "modificari_interioare Da    356\n",
      "Name: modificari_interioare, dtype: int64\n",
      "balcoane_inchise Da    847\n",
      "Name: balcoane_inchise, dtype: int64\n",
      "aer_conditionat Da    314\n",
      "Name: aer_conditionat, dtype: int64\n",
      "loc_in_pod Da    688\n",
      "Name: loc_in_pod, dtype: int64\n",
      "loc_in_pivnita Da    993\n",
      "Name: loc_in_pivnita, dtype: int64\n",
      "uscator Da    648\n",
      "Name: uscator, dtype: int64\n"
     ]
    }
   ],
   "source": [
    "_ = valori_unice(coloane_one_hot)\n",
    "_"
   ]
  },
  {
   "cell_type": "code",
   "execution_count": 58,
   "metadata": {},
   "outputs": [
    {
     "name": "stdout",
     "output_type": "stream",
     "text": [
      "grad_finisare 4090\n",
      "etaj 1360\n",
      "vechime_imobil 1911\n",
      "numar_bai 1686\n",
      "numar_balcoane 3176\n",
      "geamuri_termopan 2769\n",
      "centrala_termica 1902\n",
      "compatimentare 1286\n",
      "parchet 2803\n",
      "confort 1961\n",
      "gresie 4325\n",
      "faianta 2768\n",
      "zugravit_lavabil 3217\n",
      "loc_parcare 5445\n",
      "numar_camere 0\n",
      "cartier 377\n",
      "modificari_interioare 7478\n",
      "balcoane_inchise 6987\n",
      "aer_conditionat 7520\n",
      "loc_in_pod 7146\n",
      "loc_in_pivnita 6841\n",
      "uscator 7186\n"
     ]
    }
   ],
   "source": [
    "_ = valori_nule(coloane_one_hot)\n",
    "_"
   ]
  },
  {
   "cell_type": "code",
   "execution_count": 59,
   "metadata": {
    "collapsed": true
   },
   "outputs": [],
   "source": [
    "var_tinta = data.pret"
   ]
  },
  {
   "cell_type": "code",
   "execution_count": 60,
   "metadata": {
    "collapsed": true
   },
   "outputs": [],
   "source": [
    "var_intrare = data[coloane_one_hot]"
   ]
  },
  {
   "cell_type": "code",
   "execution_count": 61,
   "metadata": {
    "collapsed": true
   },
   "outputs": [],
   "source": [
    "var_intrare = pd.get_dummies(var_intrare, columns=coloane_one_hot)"
   ]
  },
  {
   "cell_type": "code",
   "execution_count": 62,
   "metadata": {},
   "outputs": [
    {
     "data": {
      "text/plain": [
       "['grad_finisare_Finisat clasic',\n",
       " 'grad_finisare_Finisat modern',\n",
       " 'grad_finisare_Necesita renovare',\n",
       " 'grad_finisare_Nefinisat',\n",
       " 'grad_finisare_Renovat',\n",
       " 'grad_finisare_Semifinisat',\n",
       " 'grad_finisare_Ultrafinisat',\n",
       " 'etaj_Demisol',\n",
       " 'etaj_Etaj intermediar',\n",
       " 'etaj_Etajul 1',\n",
       " 'etaj_Etajul 10',\n",
       " 'etaj_Etajul 2',\n",
       " 'etaj_Etajul 3',\n",
       " 'etaj_Etajul 4',\n",
       " 'etaj_Etajul 5',\n",
       " 'etaj_Etajul 6',\n",
       " 'etaj_Etajul 7',\n",
       " 'etaj_Etajul 8',\n",
       " 'etaj_Etajul 9',\n",
       " 'etaj_Mansarda',\n",
       " 'etaj_Parter',\n",
       " 'etaj_Ultimul etaj',\n",
       " 'vechime_imobil_In constructie',\n",
       " 'vechime_imobil_bloc nou',\n",
       " 'vechime_imobil_mai vechi de 2000',\n",
       " 'numar_bai_1.0',\n",
       " 'numar_bai_1',\n",
       " 'numar_bai_2',\n",
       " 'numar_bai_3',\n",
       " 'numar_bai_4',\n",
       " 'numar_balcoane_1.0',\n",
       " 'numar_balcoane_1',\n",
       " 'numar_balcoane_2',\n",
       " 'numar_balcoane_3',\n",
       " 'numar_balcoane_Balcoane inchise',\n",
       " 'numar_balcoane_Balcon inchis',\n",
       " 'numar_balcoane_Fara balcon',\n",
       " 'numar_balcoane_Terasa',\n",
       " 'geamuri_termopan_Da',\n",
       " 'centrala_termica_Da',\n",
       " 'compatimentare_Circular',\n",
       " 'compatimentare_Decomandat',\n",
       " 'compatimentare_Nedecomandat',\n",
       " 'compatimentare_Open space',\n",
       " 'compatimentare_Semidecomandat',\n",
       " 'compatimentare_Vagon',\n",
       " 'parchet_Da',\n",
       " 'confort_1',\n",
       " 'confort_2',\n",
       " 'confort_3',\n",
       " 'confort_Sporit',\n",
       " 'confort_Unic',\n",
       " 'gresie_Da',\n",
       " 'faianta_Da',\n",
       " 'zugravit_lavabil_Da',\n",
       " 'loc_parcare_Da',\n",
       " 'numar_camere_1',\n",
       " 'numar_camere_2',\n",
       " 'numar_camere_3',\n",
       " 'numar_camere_4',\n",
       " 'numar_camere_5',\n",
       " 'numar_camere_6',\n",
       " 'numar_camere_7',\n",
       " 'cartier_Andrei Muresanu',\n",
       " 'cartier_Apahida',\n",
       " 'cartier_Baciu',\n",
       " 'cartier_Borhanci',\n",
       " 'cartier_Bulgaria',\n",
       " 'cartier_Buna-Ziua',\n",
       " 'cartier_Centru',\n",
       " 'cartier_Dambul-Rotund',\n",
       " 'cartier_Europa',\n",
       " 'cartier_Faget',\n",
       " 'cartier_Feleacu',\n",
       " 'cartier_Floresti',\n",
       " 'cartier_Gara',\n",
       " 'cartier_Gheorgheni',\n",
       " 'cartier_Grigorescu',\n",
       " 'cartier_Gruia',\n",
       " 'cartier_Iris',\n",
       " 'cartier_Manastur',\n",
       " 'cartier_Marasti',\n",
       " 'cartier_Plopilor',\n",
       " 'cartier_Someseni',\n",
       " 'cartier_Sopor',\n",
       " 'cartier_Zorilor',\n",
       " 'modificari_interioare_Da',\n",
       " 'balcoane_inchise_Da',\n",
       " 'aer_conditionat_Da',\n",
       " 'loc_in_pod_Da',\n",
       " 'loc_in_pivnita_Da',\n",
       " 'uscator_Da']"
      ]
     },
     "execution_count": 62,
     "metadata": {},
     "output_type": "execute_result"
    }
   ],
   "source": [
    "var_intrare.columns.tolist()"
   ]
  },
  {
   "cell_type": "raw",
   "metadata": {},
   "source": [
    "Singura coloana care contine date numerice, continue, este \"suprafata\". Aceasta va fi adaugata data frame-ului care are variabilele de intrare dummy"
   ]
  },
  {
   "cell_type": "code",
   "execution_count": 63,
   "metadata": {
    "collapsed": true
   },
   "outputs": [],
   "source": [
    "var_intrare = pd.concat([var_intrare, data.suprafata], axis=1)"
   ]
  },
  {
   "cell_type": "code",
   "execution_count": 64,
   "metadata": {},
   "outputs": [
    {
     "name": "stderr",
     "output_type": "stream",
     "text": [
      "F:\\Anaconda323\\lib\\site-packages\\sklearn\\cross_validation.py:41: DeprecationWarning: This module was deprecated in version 0.18 in favor of the model_selection module into which all the refactored classes and functions are moved. Also note that the interface of the new CV iterators are different from that of this module. This module will be removed in 0.20.\n",
      "  \"This module will be removed in 0.20.\", DeprecationWarning)\n"
     ]
    }
   ],
   "source": [
    "from sklearn.model_selection import train_test_split\n",
    "from sklearn.metrics import mean_absolute_error\n",
    "from sklearn.tree import DecisionTreeRegressor\n",
    "from sklearn.metrics import median_absolute_error\n",
    "from sklearn.cross_validation import cross_val_score\n",
    "from sklearn.ensemble import AdaBoostRegressor\n",
    "from sklearn.metrics import median_absolute_error\n",
    "from sklearn import metrics"
   ]
  },
  {
   "cell_type": "raw",
   "metadata": {},
   "source": [
    "Pentru predictie vom folosire un arbore de decizie. Pentru a imbunatatii performantele acestuia vom aplica si algoritmul AdaBoost. \n",
    "Pentru a testa rezultatele vom folosi testare incrucisata."
   ]
  },
  {
   "cell_type": "code",
   "execution_count": 65,
   "metadata": {},
   "outputs": [
    {
     "name": "stdout",
     "output_type": "stream",
     "text": [
      "0.695271479096\n",
      "-11862.5960824\n"
     ]
    }
   ],
   "source": [
    "arbore = DecisionTreeRegressor(min_samples_leaf=15, max_depth=50)\n",
    "train_x, val_X, train_y, val_y = train_test_split(var_intrare, var_tinta, random_state = 0)\n",
    "\n",
    "arbore.fit(train_x, train_y)\n",
    "\n",
    "predictie = arbore.predict(val_X)\n",
    "\n",
    "\n",
    "\n",
    "scor = cross_val_score(arbore, var_intrare, var_tinta, cv=5)\n",
    "print(scor.mean())\n",
    "\n",
    "scor = cross_val_score(arbore, var_intrare, var_tinta, cv=5, scoring=\"neg_mean_absolute_error\")\n",
    "print(scor.mean())"
   ]
  },
  {
   "cell_type": "code",
   "execution_count": 66,
   "metadata": {},
   "outputs": [
    {
     "name": "stdout",
     "output_type": "stream",
     "text": [
      "0.771377253274\n",
      "-9691.46204193\n"
     ]
    }
   ],
   "source": [
    "arboreAda = AdaBoostRegressor(DecisionTreeRegressor(max_depth=50), n_estimators=200, random_state=1)\n",
    "arboreAda.fit(train_x, train_y)\n",
    "\n",
    "\n",
    "predictieAda = arboreAda.predict(val_X)\n",
    "\n",
    "scor = cross_val_score(arboreAda, var_intrare, var_tinta, cv=5)\n",
    "print(scor.mean())\n",
    "\n",
    "scor = cross_val_score(arboreAda, var_intrare, var_tinta, cv=5, scoring=\"neg_mean_absolute_error\")\n",
    "print(scor.mean())"
   ]
  },
  {
   "cell_type": "code",
   "execution_count": 67,
   "metadata": {},
   "outputs": [
    {
     "data": {
      "text/plain": [
       "grad_finisare_Finisat clasic        1 \n",
       "grad_finisare_Finisat modern        0 \n",
       "grad_finisare_Necesita renovare     0 \n",
       "grad_finisare_Nefinisat             0 \n",
       "grad_finisare_Renovat               0 \n",
       "grad_finisare_Semifinisat           0 \n",
       "grad_finisare_Ultrafinisat          0 \n",
       "etaj_Demisol                        0 \n",
       "etaj_Etaj intermediar               0 \n",
       "etaj_Etajul 1                       0 \n",
       "etaj_Etajul 10                      0 \n",
       "etaj_Etajul 2                       0 \n",
       "etaj_Etajul 3                       0 \n",
       "etaj_Etajul 4                       0 \n",
       "etaj_Etajul 5                       0 \n",
       "etaj_Etajul 6                       0 \n",
       "etaj_Etajul 7                       0 \n",
       "etaj_Etajul 8                       1 \n",
       "etaj_Etajul 9                       0 \n",
       "etaj_Mansarda                       0 \n",
       "etaj_Parter                         0 \n",
       "etaj_Ultimul etaj                   0 \n",
       "vechime_imobil_In constructie       0 \n",
       "vechime_imobil_bloc nou             0 \n",
       "vechime_imobil_mai vechi de 2000    1 \n",
       "numar_bai_1.0                       0 \n",
       "numar_bai_1                         0 \n",
       "numar_bai_2                         1 \n",
       "numar_bai_3                         0 \n",
       "numar_bai_4                         0 \n",
       "                                   .. \n",
       "cartier_Andrei Muresanu             0 \n",
       "cartier_Apahida                     0 \n",
       "cartier_Baciu                       0 \n",
       "cartier_Borhanci                    0 \n",
       "cartier_Bulgaria                    0 \n",
       "cartier_Buna-Ziua                   0 \n",
       "cartier_Centru                      0 \n",
       "cartier_Dambul-Rotund               0 \n",
       "cartier_Europa                      0 \n",
       "cartier_Faget                       0 \n",
       "cartier_Feleacu                     0 \n",
       "cartier_Floresti                    0 \n",
       "cartier_Gara                        0 \n",
       "cartier_Gheorgheni                  0 \n",
       "cartier_Grigorescu                  0 \n",
       "cartier_Gruia                       0 \n",
       "cartier_Iris                        0 \n",
       "cartier_Manastur                    0 \n",
       "cartier_Marasti                     1 \n",
       "cartier_Plopilor                    0 \n",
       "cartier_Someseni                    0 \n",
       "cartier_Sopor                       0 \n",
       "cartier_Zorilor                     0 \n",
       "modificari_interioare_Da            0 \n",
       "balcoane_inchise_Da                 0 \n",
       "aer_conditionat_Da                  0 \n",
       "loc_in_pod_Da                       0 \n",
       "loc_in_pivnita_Da                   0 \n",
       "uscator_Da                          0 \n",
       "suprafata                           78\n",
       "Name: 54, Length: 93, dtype: int64"
      ]
     },
     "execution_count": 67,
     "metadata": {},
     "output_type": "execute_result"
    }
   ],
   "source": [
    "var_intrare.iloc[50]"
   ]
  },
  {
   "cell_type": "code",
   "execution_count": 68,
   "metadata": {},
   "outputs": [
    {
     "data": {
      "text/plain": [
       "(7834, 93)"
      ]
     },
     "execution_count": 68,
     "metadata": {},
     "output_type": "execute_result"
    }
   ],
   "source": [
    "var_intrare.shape"
   ]
  },
  {
   "cell_type": "code",
   "execution_count": 69,
   "metadata": {},
   "outputs": [
    {
     "data": {
      "text/plain": [
       "(93,)"
      ]
     },
     "execution_count": 69,
     "metadata": {},
     "output_type": "execute_result"
    }
   ],
   "source": [
    "ex2 = var_intrare.iloc[50]\n",
    "ex2.shape"
   ]
  },
  {
   "cell_type": "code",
   "execution_count": 70,
   "metadata": {},
   "outputs": [
    {
     "name": "stderr",
     "output_type": "stream",
     "text": [
      "F:\\Anaconda323\\lib\\site-packages\\numpy\\core\\fromnumeric.py:57: FutureWarning: reshape is deprecated and will raise in a subsequent release. Please use .values.reshape(...) instead\n",
      "  return getattr(obj, method)(*args, **kwds)\n"
     ]
    }
   ],
   "source": [
    "ex2 = np.reshape(ex2,(-1, 93))"
   ]
  },
  {
   "cell_type": "code",
   "execution_count": 71,
   "metadata": {},
   "outputs": [
    {
     "data": {
      "text/plain": [
       "array([ 95000.])"
      ]
     },
     "execution_count": 71,
     "metadata": {},
     "output_type": "execute_result"
    }
   ],
   "source": [
    "prez = arboreAda.predict(ex2)\n",
    "prez"
   ]
  },
  {
   "cell_type": "code",
   "execution_count": 72,
   "metadata": {},
   "outputs": [
    {
     "data": {
      "text/plain": [
       "AdaBoostRegressor(base_estimator=DecisionTreeRegressor(criterion='mse', max_depth=50, max_features=None,\n",
       "           max_leaf_nodes=None, min_impurity_decrease=0.0,\n",
       "           min_impurity_split=None, min_samples_leaf=1,\n",
       "           min_samples_split=2, min_weight_fraction_leaf=0.0,\n",
       "           presort=False, random_state=None, splitter='best'),\n",
       "         learning_rate=1.0, loss='linear', n_estimators=200,\n",
       "         random_state=1)"
      ]
     },
     "execution_count": 72,
     "metadata": {},
     "output_type": "execute_result"
    }
   ],
   "source": [
    "arboreAdaBoost = AdaBoostRegressor(DecisionTreeRegressor(max_depth=50), n_estimators=200, random_state=1)\n",
    "arboreAdaBoost.fit(var_intrare, var_tinta)"
   ]
  },
  {
   "cell_type": "code",
   "execution_count": 73,
   "metadata": {},
   "outputs": [
    {
     "data": {
      "text/plain": [
       "array([ 93000.])"
      ]
     },
     "execution_count": 73,
     "metadata": {},
     "output_type": "execute_result"
    }
   ],
   "source": [
    "prezAdaBoost = arboreAdaBoost.predict(ex2)\n",
    "prezAdaBoost"
   ]
  },
  {
   "cell_type": "code",
   "execution_count": 74,
   "metadata": {},
   "outputs": [
    {
     "data": {
      "text/plain": [
       "90000"
      ]
     },
     "execution_count": 74,
     "metadata": {},
     "output_type": "execute_result"
    }
   ],
   "source": [
    "var_tinta.iloc[50]"
   ]
  },
  {
   "cell_type": "code",
   "execution_count": 75,
   "metadata": {},
   "outputs": [
    {
     "name": "stdout",
     "output_type": "stream",
     "text": [
      "0.771377253274\n"
     ]
    }
   ],
   "source": [
    "scor = cross_val_score(arboreAdaBoost, var_intrare, var_tinta, cv=5)\n",
    "print(scor.mean())"
   ]
  },
  {
   "cell_type": "code",
   "execution_count": null,
   "metadata": {
    "collapsed": true
   },
   "outputs": [],
   "source": []
  },
  {
   "cell_type": "raw",
   "metadata": {
    "collapsed": true
   },
   "source": [
    "Vom incerca sa facem o predictie eliminam valoriile extreme. Ne vom uita la pretul/suprafata al apartamentelor in functie de cate camere au si vom elimina valorile foarte mari si valorile foarte mici."
   ]
  },
  {
   "cell_type": "code",
   "execution_count": 76,
   "metadata": {},
   "outputs": [
    {
     "data": {
      "text/plain": [
       "1280"
      ]
     },
     "execution_count": 76,
     "metadata": {},
     "output_type": "execute_result"
    }
   ],
   "source": [
    "mask_c1 = data['numar_camere'] == 1\n",
    "data_c1 = data[mask_c1]\n",
    "mask_c1.sum()"
   ]
  },
  {
   "cell_type": "code",
   "execution_count": 77,
   "metadata": {},
   "outputs": [
    {
     "data": {
      "text/plain": [
       "3294"
      ]
     },
     "execution_count": 77,
     "metadata": {},
     "output_type": "execute_result"
    }
   ],
   "source": [
    "mask_c2 = data['numar_camere'] == 2\n",
    "data_c2 = data[mask_c2]\n",
    "mask_c2.sum()"
   ]
  },
  {
   "cell_type": "code",
   "execution_count": 78,
   "metadata": {},
   "outputs": [
    {
     "data": {
      "text/plain": [
       "2561"
      ]
     },
     "execution_count": 78,
     "metadata": {},
     "output_type": "execute_result"
    }
   ],
   "source": [
    "mask_c3 = data['numar_camere'] == 3\n",
    "data_c3 = data[mask_c3]\n",
    "mask_c3.sum()"
   ]
  },
  {
   "cell_type": "code",
   "execution_count": 79,
   "metadata": {},
   "outputs": [
    {
     "data": {
      "text/plain": [
       "662"
      ]
     },
     "execution_count": 79,
     "metadata": {},
     "output_type": "execute_result"
    }
   ],
   "source": [
    "mask_c4 = data['numar_camere'] == 4\n",
    "data_c4 = data[mask_c4]\n",
    "mask_c4.sum()"
   ]
  },
  {
   "cell_type": "code",
   "execution_count": 80,
   "metadata": {},
   "outputs": [
    {
     "data": {
      "image/png": "[encoded data removed]",
      "text/plain": [
       "<matplotlib.figure.Figure at 0x25036b51e80>"
      ]
     },
     "metadata": {},
     "output_type": "display_data"
    }
   ],
   "source": [
    "data_c1['pret/suprafata'].hist(bins=30)\n",
    "plt.show()\n"
   ]
  },
  {
   "cell_type": "code",
   "execution_count": 81,
   "metadata": {},
   "outputs": [
    {
     "data": {
      "image/png": "[encoded data removed]",
      "text/plain": [
       "<matplotlib.figure.Figure at 0x25036c3add8>"
      ]
     },
     "metadata": {},
     "output_type": "display_data"
    }
   ],
   "source": [
    "plt.boxplot(data_c1['pret/suprafata'])\n",
    "plt.show()"
   ]
  },
  {
   "cell_type": "code",
   "execution_count": 82,
   "metadata": {},
   "outputs": [
    {
     "data": {
      "image/png": "[encoded data removed]",
      "text/plain": [
       "<matplotlib.figure.Figure at 0x25036ce4438>"
      ]
     },
     "metadata": {},
     "output_type": "display_data"
    }
   ],
   "source": [
    "data_c2['pret/suprafata'].hist(bins=30)\n",
    "plt.show()"
   ]
  },
  {
   "cell_type": "code",
   "execution_count": 83,
   "metadata": {},
   "outputs": [
    {
     "data": {
      "image/png": "[encoded data removed]",
      "text/plain": [
       "<matplotlib.figure.Figure at 0x25036e34278>"
      ]
     },
     "metadata": {},
     "output_type": "display_data"
    }
   ],
   "source": [
    "plt.boxplot(data_c2['pret/suprafata'].values)\n",
    "plt.show()"
   ]
  },
  {
   "cell_type": "code",
   "execution_count": 84,
   "metadata": {},
   "outputs": [
    {
     "data": {
      "image/png": "[encoded data removed]",
      "text/plain": [
       "<matplotlib.figure.Figure at 0x25036e46358>"
      ]
     },
     "metadata": {},
     "output_type": "display_data"
    }
   ],
   "source": [
    "data_c3['pret/suprafata'].hist(bins=30)\n",
    "plt.show()\n"
   ]
  },
  {
   "cell_type": "code",
   "execution_count": 85,
   "metadata": {},
   "outputs": [
    {
     "data": {
      "image/png": "[encoded data removed]",
      "text/plain": [
       "<matplotlib.figure.Figure at 0x25036dc4518>"
      ]
     },
     "metadata": {},
     "output_type": "display_data"
    }
   ],
   "source": [
    "plt.boxplot(data_c3['pret/suprafata'].values)\n",
    "plt.show()"
   ]
  },
  {
   "cell_type": "code",
   "execution_count": 86,
   "metadata": {},
   "outputs": [
    {
     "data": {
      "image/png": "[encoded data removed]",
      "text/plain": [
       "<matplotlib.figure.Figure at 0x25036deb0f0>"
      ]
     },
     "metadata": {},
     "output_type": "display_data"
    }
   ],
   "source": [
    "data_c4['pret/suprafata'].hist(bins=30)\n",
    "plt.show()\n"
   ]
  },
  {
   "cell_type": "code",
   "execution_count": 87,
   "metadata": {},
   "outputs": [
    {
     "data": {
      "image/png": "[encoded data removed]",
      "text/plain": [
       "<matplotlib.figure.Figure at 0x25036eda208>"
      ]
     },
     "metadata": {},
     "output_type": "display_data"
    }
   ],
   "source": [
    "plt.boxplot(data_c4['pret/suprafata'].values)\n",
    "plt.show()"
   ]
  },
  {
   "cell_type": "code",
   "execution_count": 88,
   "metadata": {},
   "outputs": [
    {
     "data": {
      "text/plain": [
       "2    3294\n",
       "3    2561\n",
       "1    1280\n",
       "4    662 \n",
       "5    31  \n",
       "6    5   \n",
       "7    1   \n",
       "Name: numar_camere, dtype: int64"
      ]
     },
     "execution_count": 88,
     "metadata": {},
     "output_type": "execute_result"
    }
   ],
   "source": [
    "data['numar_camere'].value_counts()"
   ]
  },
  {
   "cell_type": "code",
   "execution_count": 89,
   "metadata": {
    "collapsed": true
   },
   "outputs": [],
   "source": [
    "data2 = data[data['pret/suprafata'] < 2500]"
   ]
  },
  {
   "cell_type": "code",
   "execution_count": 90,
   "metadata": {
    "collapsed": true
   },
   "outputs": [],
   "source": [
    "data2 = data2[data2['pret/suprafata'] > 600]"
   ]
  },
  {
   "cell_type": "code",
   "execution_count": 91,
   "metadata": {
    "collapsed": true
   },
   "outputs": [],
   "source": [
    "data_c1 = data_c1[data_c1['pret/suprafata'] < 2500]\n",
    "data_c1 = data_c1[data_c1['pret/suprafata'] > 750]"
   ]
  },
  {
   "cell_type": "code",
   "execution_count": 92,
   "metadata": {
    "collapsed": true
   },
   "outputs": [],
   "source": [
    "data_c2 = data_c2[data_c2['pret/suprafata'] < 2300]\n",
    "data_c2 = data_c2[data_c2['pret/suprafata'] > 750]"
   ]
  },
  {
   "cell_type": "code",
   "execution_count": 93,
   "metadata": {
    "collapsed": true
   },
   "outputs": [],
   "source": [
    "data_c3 = data_c3[data_c3['pret/suprafata'] < 2200]\n",
    "data_c3 = data_c3[data_c3['pret/suprafata'] > 700]"
   ]
  },
  {
   "cell_type": "code",
   "execution_count": 94,
   "metadata": {
    "collapsed": true
   },
   "outputs": [],
   "source": [
    "data_c4 = data_c4[data_c4['pret/suprafata'] < 2000]\n",
    "data_c4 = data_c4[data_c4['pret/suprafata'] > 700]"
   ]
  },
  {
   "cell_type": "code",
   "execution_count": 95,
   "metadata": {
    "collapsed": true
   },
   "outputs": [],
   "source": [
    "datac= data_c1.append(data_c2, ignore_index=True)"
   ]
  },
  {
   "cell_type": "code",
   "execution_count": 96,
   "metadata": {
    "collapsed": true
   },
   "outputs": [],
   "source": [
    "datac= datac.append(data_c3, ignore_index=True)"
   ]
  },
  {
   "cell_type": "code",
   "execution_count": 97,
   "metadata": {
    "collapsed": true
   },
   "outputs": [],
   "source": [
    "datac= datac.append(data_c4, ignore_index=True)"
   ]
  },
  {
   "cell_type": "code",
   "execution_count": 98,
   "metadata": {},
   "outputs": [
    {
     "data": {
      "text/plain": [
       "7527"
      ]
     },
     "execution_count": 98,
     "metadata": {},
     "output_type": "execute_result"
    }
   ],
   "source": [
    "len(datac)"
   ]
  },
  {
   "cell_type": "code",
   "execution_count": 99,
   "metadata": {},
   "outputs": [
    {
     "data": {
      "text/plain": [
       "['titlu',\n",
       " 'pret',\n",
       " 'oras',\n",
       " 'grad_finisare',\n",
       " 'descriere',\n",
       " 'tip_oferta',\n",
       " 'persoana',\n",
       " 'etaj',\n",
       " 'vechime_imobil',\n",
       " 'numar_bai',\n",
       " 'numar_balcoane',\n",
       " 'geamuri_termopan',\n",
       " 'centrala_termica',\n",
       " 'compatimentare',\n",
       " 'parchet',\n",
       " 'confort',\n",
       " 'gresie',\n",
       " 'faianta',\n",
       " 'zugravit_lavabil',\n",
       " 'loc_parcare',\n",
       " 'agentie',\n",
       " 'numar_camere',\n",
       " 'strada',\n",
       " 'suprafata',\n",
       " 'cartier',\n",
       " 'link',\n",
       " 'modificari_interioare',\n",
       " 'balcoane_inchise',\n",
       " 'aer_conditionat',\n",
       " 'loc_in_pod',\n",
       " 'loc_in_pivnita',\n",
       " 'uscator',\n",
       " 'pret/suprafata']"
      ]
     },
     "execution_count": 99,
     "metadata": {},
     "output_type": "execute_result"
    }
   ],
   "source": [
    "datac.columns.tolist()"
   ]
  },
  {
   "cell_type": "code",
   "execution_count": 100,
   "metadata": {
    "collapsed": true
   },
   "outputs": [],
   "source": [
    "var_tinta2 = datac.pret"
   ]
  },
  {
   "cell_type": "code",
   "execution_count": 101,
   "metadata": {
    "collapsed": true
   },
   "outputs": [],
   "source": [
    "var_intrare2 = datac[coloane_one_hot]"
   ]
  },
  {
   "cell_type": "code",
   "execution_count": 102,
   "metadata": {
    "collapsed": true
   },
   "outputs": [],
   "source": [
    "var_intrare2 = pd.get_dummies(var_intrare2, columns=coloane_one_hot)"
   ]
  },
  {
   "cell_type": "code",
   "execution_count": 103,
   "metadata": {
    "collapsed": true
   },
   "outputs": [],
   "source": [
    "var_intrare2 = pd.concat([var_intrare2, datac.suprafata], axis=1)"
   ]
  },
  {
   "cell_type": "code",
   "execution_count": 104,
   "metadata": {},
   "outputs": [
    {
     "name": "stdout",
     "output_type": "stream",
     "text": [
      "0.529828458283\n",
      "-11599.3587646\n"
     ]
    }
   ],
   "source": [
    "arbore2 = DecisionTreeRegressor(min_samples_leaf=30, max_depth=20)\n",
    "train_x, val_X, train_y, val_y = train_test_split(var_intrare2, var_tinta2, random_state = 0)\n",
    "\n",
    "arbore2.fit(train_x, train_y)\n",
    "\n",
    "predictie2 = arbore2.predict(val_X)\n",
    "\n",
    "#print(mean_absolute_error(val_y, predictie))\n",
    "#print(median_absolute_error(val_y, predictie))\n",
    "\n",
    "scor = cross_val_score(arbore2, var_intrare2, var_tinta2, cv=5)\n",
    "print(scor.mean())\n",
    "\n",
    "scor = cross_val_score(arbore2, var_intrare2, var_tinta2, cv=5, scoring=\"neg_mean_absolute_error\")\n",
    "print(scor.mean())"
   ]
  },
  {
   "cell_type": "code",
   "execution_count": 105,
   "metadata": {},
   "outputs": [
    {
     "name": "stdout",
     "output_type": "stream",
     "text": [
      "0.600613246648\n",
      "-10384.2045443\n"
     ]
    }
   ],
   "source": [
    "arboreAda2 = AdaBoostRegressor(DecisionTreeRegressor(max_depth=50), n_estimators=200, random_state=1)\n",
    "arboreAda2.fit(train_x, train_y)\n",
    "\n",
    "# get predicted prices on validation data\n",
    "predictieAda2 = arboreAda2.predict(val_X)\n",
    "\n",
    "scor = cross_val_score(arboreAda2, var_intrare2, var_tinta2, cv=5)\n",
    "print(scor.mean())\n",
    "\n",
    "scor = cross_val_score(arboreAda2, var_intrare2, var_tinta2, cv=5, scoring=\"neg_mean_absolute_error\")\n",
    "print(scor.mean())"
   ]
  },
  {
   "cell_type": "raw",
   "metadata": {},
   "source": [
    "Vedem ca predictia se inrautateste o data cu eliminarea datelor."
   ]
  },
  {
   "cell_type": "code",
   "execution_count": 106,
   "metadata": {},
   "outputs": [
    {
     "data": {
      "text/plain": [
       "2    3113\n",
       "3    2517\n",
       "1    1255\n",
       "4    642 \n",
       "Name: numar_camere, dtype: int64"
      ]
     },
     "execution_count": 106,
     "metadata": {},
     "output_type": "execute_result"
    }
   ],
   "source": [
    "datac['numar_camere'].value_counts()"
   ]
  },
  {
   "cell_type": "code",
   "execution_count": 107,
   "metadata": {},
   "outputs": [
    {
     "data": {
      "image/png": "[encoded data removed]",
      "text/plain": [
       "<matplotlib.figure.Figure at 0x25036e83e10>"
      ]
     },
     "metadata": {},
     "output_type": "display_data"
    }
   ],
   "source": [
    "datac['pret/suprafata'].hist(bins=20)\n",
    "plt.show()"
   ]
  },
  {
   "cell_type": "code",
   "execution_count": 108,
   "metadata": {},
   "outputs": [
    {
     "data": {
      "image/png": "[encoded data removed]",
      "text/plain": [
       "<matplotlib.figure.Figure at 0x250370bff98>"
      ]
     },
     "metadata": {},
     "output_type": "display_data"
    }
   ],
   "source": [
    "data['pret/suprafata'].hist(bins=20)\n",
    "plt.show()"
   ]
  },
  {
   "cell_type": "code",
   "execution_count": 109,
   "metadata": {
    "collapsed": true
   },
   "outputs": [],
   "source": [
    "_ = tipuri_date()"
   ]
  },
  {
   "cell_type": "code",
   "execution_count": 110,
   "metadata": {},
   "outputs": [
    {
     "data": {
      "text/plain": [
       "{dtype('int64'): Index(['pret', 'numar_camere', 'suprafata', 'pret/suprafata'], dtype='object'),\n",
       " dtype('O'): Index(['titlu', 'oras', 'grad_finisare', 'descriere', 'tip_oferta', 'persoana',\n",
       "        'etaj', 'vechime_imobil', 'numar_bai', 'numar_balcoane',\n",
       "        'geamuri_termopan', 'centrala_termica', 'compatimentare', 'parchet',\n",
       "        'confort', 'gresie', 'faianta', 'zugravit_lavabil', 'loc_parcare',\n",
       "        'agentie', 'strada', 'cartier', 'link', 'modificari_interioare',\n",
       "        'balcoane_inchise', 'aer_conditionat', 'loc_in_pod', 'loc_in_pivnita',\n",
       "        'uscator'],\n",
       "       dtype='object')}"
      ]
     },
     "execution_count": 110,
     "metadata": {},
     "output_type": "execute_result"
    }
   ],
   "source": [
    "_"
   ]
  },
  {
   "cell_type": "code",
   "execution_count": 111,
   "metadata": {},
   "outputs": [
    {
     "data": {
      "text/plain": [
       "Manastur           1546\n",
       "Marasti            1385\n",
       "Gheorgheni         1021\n",
       "Centru             840 \n",
       "Zorilor            571 \n",
       "Grigorescu         424 \n",
       "Buna-Ziua          325 \n",
       "Floresti           313 \n",
       "Europa             236 \n",
       "Borhanci           155 \n",
       "Iris               118 \n",
       "Plopilor           116 \n",
       "Andrei Muresanu    111 \n",
       "Baciu              86  \n",
       "Gruia              64  \n",
       "Dambul-Rotund      49  \n",
       "Apahida            32  \n",
       "Someseni           24  \n",
       "Gara               21  \n",
       "Bulgaria           17  \n",
       "Faget              1   \n",
       "Feleacu            1   \n",
       "Sopor              1   \n",
       "Name: cartier, dtype: int64"
      ]
     },
     "execution_count": 111,
     "metadata": {},
     "output_type": "execute_result"
    }
   ],
   "source": [
    "data['cartier'].value_counts()"
   ]
  },
  {
   "cell_type": "raw",
   "metadata": {},
   "source": [
    "Vom incerca sa facem o predictie mai buna eliminand cartiere din preajma Clujul si apartamentele care sunt in constructie."
   ]
  },
  {
   "cell_type": "code",
   "execution_count": 112,
   "metadata": {
    "collapsed": true
   },
   "outputs": [],
   "source": [
    "data2 = data.copy()"
   ]
  },
  {
   "cell_type": "code",
   "execution_count": 113,
   "metadata": {
    "collapsed": true
   },
   "outputs": [],
   "source": [
    "data2['cartier'].dropna(inplace=True)"
   ]
  },
  {
   "cell_type": "code",
   "execution_count": 114,
   "metadata": {},
   "outputs": [
    {
     "data": {
      "text/html": [
       "<div>\n",
       "<style>\n",
       "    .dataframe thead tr:only-child th {\n",
       "        text-align: right;\n",
       "    }\n",
       "\n",
       "    .dataframe thead th {\n",
       "        text-align: left;\n",
       "    }\n",
       "\n",
       "    .dataframe tbody tr th {\n",
       "        vertical-align: top;\n",
       "    }\n",
       "</style>\n",
       "<table border=\"1\" class=\"dataframe\">\n",
       "  <thead>\n",
       "    <tr style=\"text-align: right;\">\n",
       "      <th></th>\n",
       "      <th>titlu</th>\n",
       "      <th>pret</th>\n",
       "      <th>oras</th>\n",
       "      <th>grad_finisare</th>\n",
       "      <th>descriere</th>\n",
       "      <th>tip_oferta</th>\n",
       "      <th>persoana</th>\n",
       "      <th>etaj</th>\n",
       "      <th>vechime_imobil</th>\n",
       "      <th>numar_bai</th>\n",
       "      <th>...</th>\n",
       "      <th>suprafata</th>\n",
       "      <th>cartier</th>\n",
       "      <th>link</th>\n",
       "      <th>modificari_interioare</th>\n",
       "      <th>balcoane_inchise</th>\n",
       "      <th>aer_conditionat</th>\n",
       "      <th>loc_in_pod</th>\n",
       "      <th>loc_in_pivnita</th>\n",
       "      <th>uscator</th>\n",
       "      <th>pret/suprafata</th>\n",
       "    </tr>\n",
       "  </thead>\n",
       "  <tbody>\n",
       "    <tr>\n",
       "      <th>0</th>\n",
       "      <td>Apartament 4  camere de vanzare in Buna Ziua</td>\n",
       "      <td>87000</td>\n",
       "      <td>Cluj-Napoca, Cluj, Buna-Ziua</td>\n",
       "      <td>Semifinisat</td>\n",
       "      <td>Oportunitate de investitie! Va oferim spre vanzare apartament pe 2 nivele,  cu scara interioara, in cartierul Buna Ziua,  zona Nicolae Tonitza,  aproape de magazine si mijloace de transport in comun. Apartamentul este situat la etajul 3 intr-un imobil dispus P+3E+pod. Avand o suprafata utila de 94 m pe 1 nivel si 84 mp pe nivelul 2 - pod,  dispune de 4 camere semidecomandate,  o bucatarie,  2 bai,  2 logii, la nivelul 1 si un open space la nivelul 2 in pod. Apartamentul se preda la stadiul de semifinisat,  glet pentru pereti,  sapa autonivelanta pentru pardoseala,  CT si calorifere,  geamuri termoizolante din PVC,  usa metalica la intrare,  toate instalatiile trase pe pozitie. Pentru detalii ne puteti contacta telefonic sau la sediul agentiei.</td>\n",
       "      <td>Vand</td>\n",
       "      <td>Agentie Imobiliara</td>\n",
       "      <td>Etajul 3</td>\n",
       "      <td>bloc nou</td>\n",
       "      <td>2</td>\n",
       "      <td>...</td>\n",
       "      <td>94</td>\n",
       "      <td>Buna-Ziua</td>\n",
       "      <td>http://www.piata-az.ro/anunturi/oras-cluj-napoca/7377245</td>\n",
       "      <td>NaN</td>\n",
       "      <td>NaN</td>\n",
       "      <td>NaN</td>\n",
       "      <td>NaN</td>\n",
       "      <td>NaN</td>\n",
       "      <td>NaN</td>\n",
       "      <td>925</td>\n",
       "    </tr>\n",
       "    <tr>\n",
       "      <th>1</th>\n",
       "      <td>Apartament o camera de vanzare in Zorilor</td>\n",
       "      <td>41000</td>\n",
       "      <td>Cluj-Napoca, Cluj, Zorilor</td>\n",
       "      <td>Semifinisat</td>\n",
       "      <td>Oportunitate de investitie! Va oferim spre vanzare apartament la etaj intermediar,  in cartierul Zorilor,  zona Zorilor,  aproape de mijloace de transport,  zona linistita ferita de zgomotul orasului. Apartamentul este situat la etajul 3 intr-un imobil dispus pe 5 nivele. Avand o suprafata utila de 31 mp dispune de o camera semidecomandata,  o bucatarie,  o baie,  un balcon. Finisajele de tip semifinisat sunt evidentiate astfel: pereti cu glet,  geamuri termoizolante tripan din PVC,   usa de la intrare metalica,  instalatiile la pozitie. Sistemul de incalzire in apartament este cu centrala termica. Termen estimat de finalizare al imobilului,  31.01.2018. Optional se poate achizitiona parcare exterioara la un pret de 3000 euro,  sau parcare subterana la un pret de 6000 euro. Pentru detalii ne puteti contacta telefonic sau la sediul agentiei.</td>\n",
       "      <td>Vand</td>\n",
       "      <td>Agentie Imobiliara</td>\n",
       "      <td>Etajul 3</td>\n",
       "      <td>bloc nou</td>\n",
       "      <td>1</td>\n",
       "      <td>...</td>\n",
       "      <td>31</td>\n",
       "      <td>Zorilor</td>\n",
       "      <td>http://www.piata-az.ro/anunturi/oras-cluj-napoca/7397801</td>\n",
       "      <td>NaN</td>\n",
       "      <td>NaN</td>\n",
       "      <td>NaN</td>\n",
       "      <td>NaN</td>\n",
       "      <td>NaN</td>\n",
       "      <td>NaN</td>\n",
       "      <td>1322</td>\n",
       "    </tr>\n",
       "    <tr>\n",
       "      <th>2</th>\n",
       "      <td>Apartament 2  camere de vanzare in Zorilor</td>\n",
       "      <td>82000</td>\n",
       "      <td>Cluj-Napoca, Cluj, Zorilor</td>\n",
       "      <td>NaN</td>\n",
       "      <td>Oportunitate de investitie! Apartament cu finisaje de calitate superioara si dotari cu aparatura de calitate deosebita. Va oferim spre vanzare apartament in cartierul Zorilor,  zona Calea Turzii,  aproape de statie mijloace de transport,  zona linistita ferita de zgomotul orasului. Apartamentul este situat la parter intr-un imobil dispus pe 7 nivele. Avand o suprafata utila de 57 mp dispune de 2 camere semidecomandate,  o bucatarie,  o baie,  un balcon si 2 locuri de parcare. Finisajele de tip modern sunt evidentiate astfel: pardoseala cu parchet laminat,  gresie,  pereti cu lavabil,  bucatarie si baie cu faianta si gresie moderna. Sistemul de incalzire in apartament este cu centrala termica. Apartamentul se vinde complet mobilat si utilat cu frigider,  cuptor electric,  plita electrica,  masina de spalat vase ,  masina de spalat haine,  sistem audio in camera,  baie si bucatarie,  2 LCD-uri,  aer conditionat,  sistem de alarma conectat la firma de paza. Imobilul dipune de iesire exterioara din balcon spre un spatiu amenajat de 300 m,  o gradina amenajata in spatele blocului,  imprejmuita,  dar fara acte de proprietate. Pentru detalii ne puteti contacata telefonic sau la sediul agentiei.</td>\n",
       "      <td>Vand</td>\n",
       "      <td>Agentie Imobiliara</td>\n",
       "      <td>Parter</td>\n",
       "      <td>bloc nou</td>\n",
       "      <td>1</td>\n",
       "      <td>...</td>\n",
       "      <td>57</td>\n",
       "      <td>Zorilor</td>\n",
       "      <td>http://www.piata-az.ro/anunturi/oras-cluj-napoca/7356879</td>\n",
       "      <td>NaN</td>\n",
       "      <td>NaN</td>\n",
       "      <td>NaN</td>\n",
       "      <td>NaN</td>\n",
       "      <td>NaN</td>\n",
       "      <td>NaN</td>\n",
       "      <td>1438</td>\n",
       "    </tr>\n",
       "    <tr>\n",
       "      <th>3</th>\n",
       "      <td>Apartament 3  camere de vanzare in Marasti</td>\n",
       "      <td>86500</td>\n",
       "      <td>Cluj-Napoca, Cluj, Marasti</td>\n",
       "      <td>Semifinisat</td>\n",
       "      <td>Oportunitate! Va oferim spre vanzare ultimul apartament in bloc nou finalizat la etaj intermediar la 300 m de Kaufland Marasti.\\rSuprafata utila este de 67 mp si este compartimentat astfel: 2 dormitoare,  living,  bucatarie,  2 bai cu geam,  1 balcon si hol la intrare.\\rSe vinde la stadiul de semifinisat cu instalatiile trase pe pozitii,  geamuri termopan,  usa de intrare metalica,  sapa autonivelanta,  glet. Incalzirea se face cu centrala termica proprie.\\rConstructia este una calitativa de la constructor cu portofoliu in Cluj-Napoca avand ca principiu calitatea lucrarii.\\rApartamentul se afla la etajul 3 din 4 al unui imobil dotat cu lift. \\rExista posibilitatea de achizitie a unui loc de parcare contracost.\\rPredarea imobilului spre finisare se face in luna noiembrie.\\rPentru a programa o vizionare nu ezitati sa ne contactati chiar acum!</td>\n",
       "      <td>Vand</td>\n",
       "      <td>Agentie Imobiliara</td>\n",
       "      <td>Etajul 3</td>\n",
       "      <td>bloc nou</td>\n",
       "      <td>2</td>\n",
       "      <td>...</td>\n",
       "      <td>67</td>\n",
       "      <td>Marasti</td>\n",
       "      <td>http://www.piata-az.ro/anunturi/oras-cluj-napoca/7405819</td>\n",
       "      <td>NaN</td>\n",
       "      <td>NaN</td>\n",
       "      <td>NaN</td>\n",
       "      <td>NaN</td>\n",
       "      <td>NaN</td>\n",
       "      <td>NaN</td>\n",
       "      <td>1291</td>\n",
       "    </tr>\n",
       "    <tr>\n",
       "      <th>4</th>\n",
       "      <td>Apartament o camera de vanzare in Centru</td>\n",
       "      <td>73000</td>\n",
       "      <td>Cluj-Napoca, Cluj, Centru</td>\n",
       "      <td>NaN</td>\n",
       "      <td>Apartament cu terasa generoasa si parcare subterana! Va oferim  spre vanzare apartament in Cluj Napoca,  cartierul Centru,  zona Platinia Mall. Apartamentul este situat la parter intr-un imobil nou dispus pe 4 nivele. Avand o suprafata utila de 37 mp,  dispune de o camera decomandata,  o bucatarie,  o baie,  o terasa,  un garaj. Finisajele de tip modern sunt evidentiate astfel: pardoseala cu parchet laminat,  pereti cu lavabil,  bucatarie cu faianta moderna,  gresie moderna si baie cu faianta moderna,  gresie moderna,  geamuri termoizolante din PVC,  usi interioare din lemn,   usa de la intrare metalica. Sistemul de incalzire in apartament este cu centrala termica. Apartamentul se vinde  mobilat modern,   utilat,  fiind dotat cu lift,   interfon. Este ideal pentru investitie! Acesta fiind inchiriat la 500 euro se poate achizitiona cu preluare de chirias!</td>\n",
       "      <td>Vand</td>\n",
       "      <td>Agentie Imobiliara</td>\n",
       "      <td>Parter</td>\n",
       "      <td>bloc nou</td>\n",
       "      <td>1</td>\n",
       "      <td>...</td>\n",
       "      <td>37</td>\n",
       "      <td>Centru</td>\n",
       "      <td>http://www.piata-az.ro/anunturi/oras-cluj-napoca/7393276</td>\n",
       "      <td>NaN</td>\n",
       "      <td>NaN</td>\n",
       "      <td>NaN</td>\n",
       "      <td>NaN</td>\n",
       "      <td>NaN</td>\n",
       "      <td>NaN</td>\n",
       "      <td>1972</td>\n",
       "    </tr>\n",
       "  </tbody>\n",
       "</table>\n",
       "<p>5 rows × 33 columns</p>\n",
       "</div>"
      ],
      "text/plain": [
       "                                          titlu   pret  \\\n",
       "0  Apartament 4  camere de vanzare in Buna Ziua  87000   \n",
       "1  Apartament o camera de vanzare in Zorilor     41000   \n",
       "2  Apartament 2  camere de vanzare in Zorilor    82000   \n",
       "3  Apartament 3  camere de vanzare in Marasti    86500   \n",
       "4  Apartament o camera de vanzare in Centru      73000   \n",
       "\n",
       "                           oras grad_finisare  \\\n",
       "0  Cluj-Napoca, Cluj, Buna-Ziua  Semifinisat    \n",
       "1  Cluj-Napoca, Cluj, Zorilor    Semifinisat    \n",
       "2  Cluj-Napoca, Cluj, Zorilor    NaN            \n",
       "3  Cluj-Napoca, Cluj, Marasti    Semifinisat    \n",
       "4  Cluj-Napoca, Cluj, Centru     NaN            \n",
       "\n",
       "                                                                                                                                                                                                                                                                                                                                                                                                                                                                                                                                                                                                                                                                                                                                                                                                                                                                                                                                                                                                                                                                                                                                                                                                                                                    descriere  \\\n",
       "0      Oportunitate de investitie! Va oferim spre vanzare apartament pe 2 nivele,  cu scara interioara, in cartierul Buna Ziua,  zona Nicolae Tonitza,  aproape de magazine si mijloace de transport in comun. Apartamentul este situat la etajul 3 intr-un imobil dispus P+3E+pod. Avand o suprafata utila de 94 m pe 1 nivel si 84 mp pe nivelul 2 - pod,  dispune de 4 camere semidecomandate,  o bucatarie,  2 bai,  2 logii, la nivelul 1 si un open space la nivelul 2 in pod. Apartamentul se preda la stadiul de semifinisat,  glet pentru pereti,  sapa autonivelanta pentru pardoseala,  CT si calorifere,  geamuri termoizolante din PVC,  usa metalica la intrare,  toate instalatiile trase pe pozitie. Pentru detalii ne puteti contacta telefonic sau la sediul agentiei.                                                                                                                                                                                                                                                                                                                                                                                                                                                                        \n",
       "1      Oportunitate de investitie! Va oferim spre vanzare apartament la etaj intermediar,  in cartierul Zorilor,  zona Zorilor,  aproape de mijloace de transport,  zona linistita ferita de zgomotul orasului. Apartamentul este situat la etajul 3 intr-un imobil dispus pe 5 nivele. Avand o suprafata utila de 31 mp dispune de o camera semidecomandata,  o bucatarie,  o baie,  un balcon. Finisajele de tip semifinisat sunt evidentiate astfel: pereti cu glet,  geamuri termoizolante tripan din PVC,   usa de la intrare metalica,  instalatiile la pozitie. Sistemul de incalzire in apartament este cu centrala termica. Termen estimat de finalizare al imobilului,  31.01.2018. Optional se poate achizitiona parcare exterioara la un pret de 3000 euro,  sau parcare subterana la un pret de 6000 euro. Pentru detalii ne puteti contacta telefonic sau la sediul agentiei.                                                                                                                                                                                                                                                                                                                                                                     \n",
       "2      Oportunitate de investitie! Apartament cu finisaje de calitate superioara si dotari cu aparatura de calitate deosebita. Va oferim spre vanzare apartament in cartierul Zorilor,  zona Calea Turzii,  aproape de statie mijloace de transport,  zona linistita ferita de zgomotul orasului. Apartamentul este situat la parter intr-un imobil dispus pe 7 nivele. Avand o suprafata utila de 57 mp dispune de 2 camere semidecomandate,  o bucatarie,  o baie,  un balcon si 2 locuri de parcare. Finisajele de tip modern sunt evidentiate astfel: pardoseala cu parchet laminat,  gresie,  pereti cu lavabil,  bucatarie si baie cu faianta si gresie moderna. Sistemul de incalzire in apartament este cu centrala termica. Apartamentul se vinde complet mobilat si utilat cu frigider,  cuptor electric,  plita electrica,  masina de spalat vase ,  masina de spalat haine,  sistem audio in camera,  baie si bucatarie,  2 LCD-uri,  aer conditionat,  sistem de alarma conectat la firma de paza. Imobilul dipune de iesire exterioara din balcon spre un spatiu amenajat de 300 m,  o gradina amenajata in spatele blocului,  imprejmuita,  dar fara acte de proprietate. Pentru detalii ne puteti contacata telefonic sau la sediul agentiei.   \n",
       "3      Oportunitate! Va oferim spre vanzare ultimul apartament in bloc nou finalizat la etaj intermediar la 300 m de Kaufland Marasti.\\rSuprafata utila este de 67 mp si este compartimentat astfel: 2 dormitoare,  living,  bucatarie,  2 bai cu geam,  1 balcon si hol la intrare.\\rSe vinde la stadiul de semifinisat cu instalatiile trase pe pozitii,  geamuri termopan,  usa de intrare metalica,  sapa autonivelanta,  glet. Incalzirea se face cu centrala termica proprie.\\rConstructia este una calitativa de la constructor cu portofoliu in Cluj-Napoca avand ca principiu calitatea lucrarii.\\rApartamentul se afla la etajul 3 din 4 al unui imobil dotat cu lift. \\rExista posibilitatea de achizitie a unui loc de parcare contracost.\\rPredarea imobilului spre finisare se face in luna noiembrie.\\rPentru a programa o vizionare nu ezitati sa ne contactati chiar acum!                                                                                                                                                                                                                                                                                                                                                                     \n",
       "4      Apartament cu terasa generoasa si parcare subterana! Va oferim  spre vanzare apartament in Cluj Napoca,  cartierul Centru,  zona Platinia Mall. Apartamentul este situat la parter intr-un imobil nou dispus pe 4 nivele. Avand o suprafata utila de 37 mp,  dispune de o camera decomandata,  o bucatarie,  o baie,  o terasa,  un garaj. Finisajele de tip modern sunt evidentiate astfel: pardoseala cu parchet laminat,  pereti cu lavabil,  bucatarie cu faianta moderna,  gresie moderna si baie cu faianta moderna,  gresie moderna,  geamuri termoizolante din PVC,  usi interioare din lemn,   usa de la intrare metalica. Sistemul de incalzire in apartament este cu centrala termica. Apartamentul se vinde  mobilat modern,   utilat,  fiind dotat cu lift,   interfon. Este ideal pentru investitie! Acesta fiind inchiriat la 500 euro se poate achizitiona cu preluare de chirias!                                                                                                                                                                                                                                                                                                                                                       \n",
       "\n",
       "  tip_oferta            persoana      etaj vechime_imobil numar_bai  \\\n",
       "0  Vand       Agentie Imobiliara  Etajul 3  bloc nou       2          \n",
       "1  Vand       Agentie Imobiliara  Etajul 3  bloc nou       1          \n",
       "2  Vand       Agentie Imobiliara  Parter    bloc nou       1          \n",
       "3  Vand       Agentie Imobiliara  Etajul 3  bloc nou       2          \n",
       "4  Vand       Agentie Imobiliara  Parter    bloc nou       1          \n",
       "\n",
       "       ...       suprafata    cartier  \\\n",
       "0      ...        94        Buna-Ziua   \n",
       "1      ...        31        Zorilor     \n",
       "2      ...        57        Zorilor     \n",
       "3      ...        67        Marasti     \n",
       "4      ...        37        Centru      \n",
       "\n",
       "                                                       link  \\\n",
       "0  http://www.piata-az.ro/anunturi/oras-cluj-napoca/7377245   \n",
       "1  http://www.piata-az.ro/anunturi/oras-cluj-napoca/7397801   \n",
       "2  http://www.piata-az.ro/anunturi/oras-cluj-napoca/7356879   \n",
       "3  http://www.piata-az.ro/anunturi/oras-cluj-napoca/7405819   \n",
       "4  http://www.piata-az.ro/anunturi/oras-cluj-napoca/7393276   \n",
       "\n",
       "  modificari_interioare balcoane_inchise aer_conditionat loc_in_pod  \\\n",
       "0  NaN                   NaN              NaN             NaN         \n",
       "1  NaN                   NaN              NaN             NaN         \n",
       "2  NaN                   NaN              NaN             NaN         \n",
       "3  NaN                   NaN              NaN             NaN         \n",
       "4  NaN                   NaN              NaN             NaN         \n",
       "\n",
       "  loc_in_pivnita uscator pret/suprafata  \n",
       "0  NaN            NaN     925            \n",
       "1  NaN            NaN     1322           \n",
       "2  NaN            NaN     1438           \n",
       "3  NaN            NaN     1291           \n",
       "4  NaN            NaN     1972           \n",
       "\n",
       "[5 rows x 33 columns]"
      ]
     },
     "execution_count": 114,
     "metadata": {},
     "output_type": "execute_result"
    }
   ],
   "source": [
    "data2.head()"
   ]
  },
  {
   "cell_type": "code",
   "execution_count": 115,
   "metadata": {
    "collapsed": true
   },
   "outputs": [],
   "source": [
    "cartiere_afara = ['Borhanci', 'Faget', 'Feleacu', 'Sopor', 'Someseni', 'Apahida', 'Dambul-Rotund', 'Baciu']"
   ]
  },
  {
   "cell_type": "code",
   "execution_count": 116,
   "metadata": {},
   "outputs": [
    {
     "data": {
      "text/plain": [
       "mai vechi de 2000    3173\n",
       "bloc nou             2546\n",
       "In constructie       204 \n",
       "Name: vechime_imobil, dtype: int64"
      ]
     },
     "execution_count": 116,
     "metadata": {},
     "output_type": "execute_result"
    }
   ],
   "source": [
    "data2['vechime_imobil'].value_counts()"
   ]
  },
  {
   "cell_type": "code",
   "execution_count": 117,
   "metadata": {
    "collapsed": true
   },
   "outputs": [],
   "source": [
    "data2 = data2[data2['vechime_imobil'] != 'In constructie']"
   ]
  },
  {
   "cell_type": "code",
   "execution_count": 118,
   "metadata": {
    "collapsed": true
   },
   "outputs": [],
   "source": [
    "for i in cartiere_afara:\n",
    "    data2 = data2[data2['cartier'] != i]"
   ]
  },
  {
   "cell_type": "code",
   "execution_count": 119,
   "metadata": {},
   "outputs": [
    {
     "data": {
      "text/plain": [
       "mai vechi de 2000    3132\n",
       "bloc nou             2313\n",
       "Name: vechime_imobil, dtype: int64"
      ]
     },
     "execution_count": 119,
     "metadata": {},
     "output_type": "execute_result"
    }
   ],
   "source": [
    "data2['vechime_imobil'].value_counts()"
   ]
  },
  {
   "cell_type": "code",
   "execution_count": 120,
   "metadata": {},
   "outputs": [
    {
     "data": {
      "text/plain": [
       "Manastur           1542\n",
       "Marasti            1336\n",
       "Gheorgheni         999 \n",
       "Centru             827 \n",
       "Zorilor            561 \n",
       "Grigorescu         416 \n",
       "Buna-Ziua          309 \n",
       "Floresti           303 \n",
       "Europa             215 \n",
       "Plopilor           116 \n",
       "Andrei Muresanu    111 \n",
       "Iris               105 \n",
       "Gruia              64  \n",
       "Gara               21  \n",
       "Bulgaria           17  \n",
       "Name: cartier, dtype: int64"
      ]
     },
     "execution_count": 120,
     "metadata": {},
     "output_type": "execute_result"
    }
   ],
   "source": [
    "data2['cartier'].value_counts()"
   ]
  },
  {
   "cell_type": "code",
   "execution_count": 121,
   "metadata": {},
   "outputs": [
    {
     "data": {
      "text/plain": [
       "(7316, 33)"
      ]
     },
     "execution_count": 121,
     "metadata": {},
     "output_type": "execute_result"
    }
   ],
   "source": [
    "data2.shape"
   ]
  },
  {
   "cell_type": "code",
   "execution_count": 122,
   "metadata": {
    "collapsed": true
   },
   "outputs": [],
   "source": [
    "data2 = data2[data2['numar_camere'] <5]"
   ]
  },
  {
   "cell_type": "code",
   "execution_count": 123,
   "metadata": {
    "collapsed": true
   },
   "outputs": [],
   "source": [
    "var_tinta3 = data2.pret"
   ]
  },
  {
   "cell_type": "code",
   "execution_count": 124,
   "metadata": {
    "collapsed": true
   },
   "outputs": [],
   "source": [
    "var_intrare3 = data2[coloane_one_hot]"
   ]
  },
  {
   "cell_type": "code",
   "execution_count": 125,
   "metadata": {
    "collapsed": true
   },
   "outputs": [],
   "source": [
    "var_intrare3 = pd.get_dummies(var_intrare3, columns=coloane_one_hot)"
   ]
  },
  {
   "cell_type": "code",
   "execution_count": 126,
   "metadata": {
    "collapsed": true
   },
   "outputs": [],
   "source": [
    "var_intrare3 = pd.concat([var_intrare3, data2.suprafata], axis=1)"
   ]
  },
  {
   "cell_type": "code",
   "execution_count": 127,
   "metadata": {},
   "outputs": [
    {
     "name": "stdout",
     "output_type": "stream",
     "text": [
      "0.711173228619\n",
      "-11441.4608932\n"
     ]
    }
   ],
   "source": [
    "arbore3 = DecisionTreeRegressor(min_samples_leaf=15, max_depth=50)\n",
    "train_x, val_X, train_y, val_y = train_test_split(var_intrare3, var_tinta3, random_state = 0)\n",
    "\n",
    "arbore3.fit(train_x, train_y)\n",
    "\n",
    "predictie3 = arbore3.predict(val_X)\n",
    "\n",
    "#print(mean_absolute_error(val_y, predictie))\n",
    "#print(median_absolute_error(val_y, predictie))\n",
    "\n",
    "scor = cross_val_score(arbore3, var_intrare3, var_tinta3, cv=5)\n",
    "print(scor.mean())\n",
    "\n",
    "scor = cross_val_score(arbore3, var_intrare3, var_tinta3, cv=5, scoring=\"neg_mean_absolute_error\")\n",
    "print(scor.mean())"
   ]
  },
  {
   "cell_type": "code",
   "execution_count": 128,
   "metadata": {},
   "outputs": [
    {
     "name": "stdout",
     "output_type": "stream",
     "text": [
      "0.76714495586\n",
      "-9766.2152222\n"
     ]
    }
   ],
   "source": [
    "arboreAda3 = AdaBoostRegressor(DecisionTreeRegressor(max_depth=50), n_estimators=200, random_state=1)\n",
    "arboreAda3.fit(train_x, train_y)\n",
    "\n",
    "# get predicted prices on validation data\n",
    "predictieAda3 = arboreAda3.predict(val_X)\n",
    "\n",
    "scor = cross_val_score(arboreAda3, var_intrare3, var_tinta3, cv=5)\n",
    "print(scor.mean())\n",
    "\n",
    "scor = cross_val_score(arboreAda3, var_intrare3, var_tinta3, cv=5, scoring=\"neg_mean_absolute_error\")\n",
    "print(scor.mean())"
   ]
  },
  {
   "cell_type": "raw",
   "metadata": {},
   "source": [
    "Rezultatul predictiei este asemanator cu cel in care am folosit toate datele dupa o prima curatare a datelor. Dezavantajul aici este ca eliminam o categorie de date care ne pot fi de folos"
   ]
  },
  {
   "cell_type": "code",
   "execution_count": 129,
   "metadata": {},
   "outputs": [
    {
     "data": {
      "text/plain": [
       "7834"
      ]
     },
     "execution_count": 129,
     "metadata": {},
     "output_type": "execute_result"
    }
   ],
   "source": [
    "len(data)"
   ]
  },
  {
   "cell_type": "code",
   "execution_count": 130,
   "metadata": {},
   "outputs": [
    {
     "data": {
      "image/png": "[encoded data removed]",
      "text/plain": [
       "<matplotlib.figure.Figure at 0x250391730f0>"
      ]
     },
     "metadata": {},
     "output_type": "display_data"
    }
   ],
   "source": [
    "data.pret.hist(bins=20)\n",
    "plt.show()"
   ]
  },
  {
   "cell_type": "code",
   "execution_count": 131,
   "metadata": {},
   "outputs": [
    {
     "data": {
      "image/png": "[encoded data removed]",
      "text/plain": [
       "<matplotlib.figure.Figure at 0x25036fad710>"
      ]
     },
     "metadata": {},
     "output_type": "display_data"
    }
   ],
   "source": [
    "data.suprafata.hist(bins=20)\n",
    "plt.show()"
   ]
  },
  {
   "cell_type": "code",
   "execution_count": 132,
   "metadata": {},
   "outputs": [
    {
     "data": {
      "image/png": "[encoded data removed]",
      "text/plain": [
       "<matplotlib.figure.Figure at 0x25036cf88d0>"
      ]
     },
     "metadata": {},
     "output_type": "display_data"
    }
   ],
   "source": [
    "data['pret/suprafata'].hist(bins=30)\n",
    "plt.show()"
   ]
  },
  {
   "cell_type": "code",
   "execution_count": 133,
   "metadata": {},
   "outputs": [
    {
     "data": {
      "image/png": "[encoded data removed]",
      "text/plain": [
       "<matplotlib.figure.Figure at 0x25036cf8710>"
      ]
     },
     "metadata": {},
     "output_type": "display_data"
    }
   ],
   "source": [
    "data['numar_camere'].hist(bins=7)\n",
    "plt.show()"
   ]
  },
  {
   "cell_type": "code",
   "execution_count": 134,
   "metadata": {},
   "outputs": [
    {
     "data": {
      "image/png": "[encoded data removed]",
      "text/plain": [
       "<matplotlib.figure.Figure at 0x25036cccbe0>"
      ]
     },
     "metadata": {},
     "output_type": "display_data"
    }
   ],
   "source": [
    "plt.boxplot(data['pret/suprafata'])\n",
    "plt.show()"
   ]
  },
  {
   "cell_type": "code",
   "execution_count": 135,
   "metadata": {},
   "outputs": [
    {
     "data": {
      "image/png": "[encoded data removed]",
      "text/plain": [
       "<matplotlib.figure.Figure at 0x250370498d0>"
      ]
     },
     "metadata": {},
     "output_type": "display_data"
    }
   ],
   "source": [
    "plt.boxplot(data['pret'])\n",
    "plt.show()"
   ]
  },
  {
   "cell_type": "code",
   "execution_count": 136,
   "metadata": {},
   "outputs": [
    {
     "data": {
      "image/png": "[encoded data removed]",
      "text/plain": [
       "<matplotlib.figure.Figure at 0x25036c306a0>"
      ]
     },
     "metadata": {},
     "output_type": "display_data"
    }
   ],
   "source": [
    "plt.boxplot(data['suprafata'])\n",
    "plt.show()"
   ]
  },
  {
   "cell_type": "code",
   "execution_count": 137,
   "metadata": {
    "collapsed": true
   },
   "outputs": [],
   "source": [
    "lista_cartiere = data.cartier.unique()"
   ]
  },
  {
   "cell_type": "code",
   "execution_count": 138,
   "metadata": {
    "collapsed": true
   },
   "outputs": [],
   "source": [
    "lista_cartiere=lista_cartiere.tolist()"
   ]
  },
  {
   "cell_type": "code",
   "execution_count": 139,
   "metadata": {
    "collapsed": true
   },
   "outputs": [],
   "source": [
    "lista_col = data.columns.tolist()"
   ]
  },
  {
   "cell_type": "code",
   "execution_count": 140,
   "metadata": {},
   "outputs": [
    {
     "data": {
      "text/plain": [
       "['titlu',\n",
       " 'pret',\n",
       " 'oras',\n",
       " 'grad_finisare',\n",
       " 'descriere',\n",
       " 'tip_oferta',\n",
       " 'persoana',\n",
       " 'etaj',\n",
       " 'vechime_imobil',\n",
       " 'numar_bai',\n",
       " 'numar_balcoane',\n",
       " 'geamuri_termopan',\n",
       " 'centrala_termica',\n",
       " 'compatimentare',\n",
       " 'parchet',\n",
       " 'confort',\n",
       " 'gresie',\n",
       " 'faianta',\n",
       " 'zugravit_lavabil',\n",
       " 'loc_parcare',\n",
       " 'agentie',\n",
       " 'numar_camere',\n",
       " 'strada',\n",
       " 'suprafata',\n",
       " 'cartier',\n",
       " 'link',\n",
       " 'modificari_interioare',\n",
       " 'balcoane_inchise',\n",
       " 'aer_conditionat',\n",
       " 'loc_in_pod',\n",
       " 'loc_in_pivnita',\n",
       " 'uscator',\n",
       " 'pret/suprafata']"
      ]
     },
     "execution_count": 140,
     "metadata": {},
     "output_type": "execute_result"
    }
   ],
   "source": [
    "lista_col"
   ]
  },
  {
   "cell_type": "code",
   "execution_count": 141,
   "metadata": {
    "collapsed": true
   },
   "outputs": [],
   "source": [
    "second = ['persoana', 'etaj', 'vechime_imobil', 'compatimentare', 'confort', 'cartier', 'numar_camere']"
   ]
  },
  {
   "cell_type": "code",
   "execution_count": 142,
   "metadata": {},
   "outputs": [
    {
     "name": "stdout",
     "output_type": "stream",
     "text": [
      "persoana Agentie Imobiliara    6932\n",
      "Persoana Fizica       396 \n",
      "Constructor           17  \n",
      "Lichidator            5   \n",
      "Persoana Juridica     2   \n",
      "Name: persoana, dtype: int64\n",
      "etaj Etajul 1            1189\n",
      "Parter              1132\n",
      "Etajul 2            960 \n",
      "Etajul 3            818 \n",
      "Etajul 4            742 \n",
      "Etaj intermediar    422 \n",
      "Etajul 5            234 \n",
      "Ultimul etaj        191 \n",
      "Etajul 7            181 \n",
      "Etajul 8            143 \n",
      "Etajul 6            122 \n",
      "Etajul 9            97  \n",
      "Etajul 10           97  \n",
      "Mansarda            76  \n",
      "Demisol             70  \n",
      "Name: etaj, dtype: int64\n",
      "vechime_imobil mai vechi de 2000    3173\n",
      "bloc nou             2546\n",
      "In constructie       204 \n",
      "Name: vechime_imobil, dtype: int64\n",
      "compatimentare Decomandat        3970\n",
      "Semidecomandat    2507\n",
      "Open space        37  \n",
      "Nedecomandat      17  \n",
      "Circular          14  \n",
      "Vagon             3   \n",
      "Name: compatimentare, dtype: int64\n",
      "confort 1         4140\n",
      "Sporit    1434\n",
      "Unic      126 \n",
      "2         122 \n",
      "3         51  \n",
      "Name: confort, dtype: int64\n",
      "cartier Manastur           1546\n",
      "Marasti            1385\n",
      "Gheorgheni         1021\n",
      "Centru             840 \n",
      "Zorilor            571 \n",
      "Grigorescu         424 \n",
      "Buna-Ziua          325 \n",
      "Floresti           313 \n",
      "Europa             236 \n",
      "Borhanci           155 \n",
      "Iris               118 \n",
      "Plopilor           116 \n",
      "Andrei Muresanu    111 \n",
      "Baciu              86  \n",
      "Gruia              64  \n",
      "Dambul-Rotund      49  \n",
      "Apahida            32  \n",
      "Someseni           24  \n",
      "Gara               21  \n",
      "Bulgaria           17  \n",
      "Faget              1   \n",
      "Feleacu            1   \n",
      "Sopor              1   \n",
      "Name: cartier, dtype: int64\n",
      "numar_camere 2    3294\n",
      "3    2561\n",
      "1    1280\n",
      "4    662 \n",
      "5    31  \n",
      "6    5   \n",
      "7    1   \n",
      "Name: numar_camere, dtype: int64\n"
     ]
    }
   ],
   "source": [
    "_ = valori_unice(second)"
   ]
  },
  {
   "cell_type": "code",
   "execution_count": 143,
   "metadata": {},
   "outputs": [
    {
     "name": "stdout",
     "output_type": "stream",
     "text": [
      "persoana 482\n",
      "etaj 1360\n",
      "vechime_imobil 1911\n",
      "compatimentare 1286\n",
      "confort 1961\n",
      "cartier 377\n",
      "numar_camere 0\n"
     ]
    }
   ],
   "source": [
    "_ = valori_nule(second)"
   ]
  },
  {
   "cell_type": "code",
   "execution_count": 144,
   "metadata": {},
   "outputs": [
    {
     "data": {
      "text/plain": [
       "{dtype('int64'): Index(['pret', 'numar_camere', 'suprafata', 'pret/suprafata'], dtype='object'),\n",
       " dtype('O'): Index(['titlu', 'oras', 'grad_finisare', 'descriere', 'tip_oferta', 'persoana',\n",
       "        'etaj', 'vechime_imobil', 'numar_bai', 'numar_balcoane',\n",
       "        'geamuri_termopan', 'centrala_termica', 'compatimentare', 'parchet',\n",
       "        'confort', 'gresie', 'faianta', 'zugravit_lavabil', 'loc_parcare',\n",
       "        'agentie', 'strada', 'cartier', 'link', 'modificari_interioare',\n",
       "        'balcoane_inchise', 'aer_conditionat', 'loc_in_pod', 'loc_in_pivnita',\n",
       "        'uscator'],\n",
       "       dtype='object')}"
      ]
     },
     "execution_count": 144,
     "metadata": {},
     "output_type": "execute_result"
    }
   ],
   "source": [
    "tipuri_date()"
   ]
  },
  {
   "cell_type": "code",
   "execution_count": 145,
   "metadata": {},
   "outputs": [
    {
     "data": {
      "text/html": [
       "<div>\n",
       "<style>\n",
       "    .dataframe thead tr:only-child th {\n",
       "        text-align: right;\n",
       "    }\n",
       "\n",
       "    .dataframe thead th {\n",
       "        text-align: left;\n",
       "    }\n",
       "\n",
       "    .dataframe tbody tr th {\n",
       "        vertical-align: top;\n",
       "    }\n",
       "</style>\n",
       "<table border=\"1\" class=\"dataframe\">\n",
       "  <thead>\n",
       "    <tr style=\"text-align: right;\">\n",
       "      <th></th>\n",
       "      <th>pret</th>\n",
       "      <th>numar_camere</th>\n",
       "      <th>suprafata</th>\n",
       "      <th>pret/suprafata</th>\n",
       "    </tr>\n",
       "  </thead>\n",
       "  <tbody>\n",
       "    <tr>\n",
       "      <th>count</th>\n",
       "      <td>7834.000000</td>\n",
       "      <td>7834.000000</td>\n",
       "      <td>7834.000000</td>\n",
       "      <td>7834.000000</td>\n",
       "    </tr>\n",
       "    <tr>\n",
       "      <th>mean</th>\n",
       "      <td>84865.168496</td>\n",
       "      <td>2.347587</td>\n",
       "      <td>60.018764</td>\n",
       "      <td>1447.895711</td>\n",
       "    </tr>\n",
       "    <tr>\n",
       "      <th>std</th>\n",
       "      <td>31384.934515</td>\n",
       "      <td>0.869833</td>\n",
       "      <td>21.697579</td>\n",
       "      <td>334.628688</td>\n",
       "    </tr>\n",
       "    <tr>\n",
       "      <th>min</th>\n",
       "      <td>17000.000000</td>\n",
       "      <td>1.000000</td>\n",
       "      <td>11.000000</td>\n",
       "      <td>435.000000</td>\n",
       "    </tr>\n",
       "    <tr>\n",
       "      <th>25%</th>\n",
       "      <td>63500.000000</td>\n",
       "      <td>2.000000</td>\n",
       "      <td>46.000000</td>\n",
       "      <td>1250.000000</td>\n",
       "    </tr>\n",
       "    <tr>\n",
       "      <th>50%</th>\n",
       "      <td>80000.000000</td>\n",
       "      <td>2.000000</td>\n",
       "      <td>57.000000</td>\n",
       "      <td>1439.000000</td>\n",
       "    </tr>\n",
       "    <tr>\n",
       "      <th>75%</th>\n",
       "      <td>100000.000000</td>\n",
       "      <td>3.000000</td>\n",
       "      <td>70.000000</td>\n",
       "      <td>1625.000000</td>\n",
       "    </tr>\n",
       "    <tr>\n",
       "      <th>max</th>\n",
       "      <td>199900.000000</td>\n",
       "      <td>7.000000</td>\n",
       "      <td>240.000000</td>\n",
       "      <td>3245.000000</td>\n",
       "    </tr>\n",
       "  </tbody>\n",
       "</table>\n",
       "</div>"
      ],
      "text/plain": [
       "                pret  numar_camere    suprafata  pret/suprafata\n",
       "count  7834.000000    7834.000000   7834.000000  7834.000000   \n",
       "mean   84865.168496   2.347587      60.018764    1447.895711   \n",
       "std    31384.934515   0.869833      21.697579    334.628688    \n",
       "min    17000.000000   1.000000      11.000000    435.000000    \n",
       "25%    63500.000000   2.000000      46.000000    1250.000000   \n",
       "50%    80000.000000   2.000000      57.000000    1439.000000   \n",
       "75%    100000.000000  3.000000      70.000000    1625.000000   \n",
       "max    199900.000000  7.000000      240.000000   3245.000000   "
      ]
     },
     "execution_count": 145,
     "metadata": {},
     "output_type": "execute_result"
    }
   ],
   "source": [
    "data.describe()"
   ]
  },
  {
   "cell_type": "raw",
   "metadata": {},
   "source": []
  },
  {
   "cell_type": "code",
   "execution_count": null,
   "metadata": {
    "collapsed": true
   },
   "outputs": [],
   "source": []
  },
  {
   "cell_type": "code",
   "execution_count": 146,
   "metadata": {},
   "outputs": [
    {
     "data": {
      "image/png": "[encoded data removed]",
      "text/plain": [
       "<matplotlib.figure.Figure at 0x25036cc19e8>"
      ]
     },
     "metadata": {},
     "output_type": "display_data"
    }
   ],
   "source": [
    "pd.value_counts(data['cartier']).plot.bar()\n",
    "plt.show()"
   ]
  },
  {
   "cell_type": "code",
   "execution_count": 147,
   "metadata": {},
   "outputs": [
    {
     "data": {
      "image/png": "[encoded data removed]",
      "text/plain": [
       "<matplotlib.figure.Figure at 0x25036ba2d68>"
      ]
     },
     "metadata": {},
     "output_type": "display_data"
    }
   ],
   "source": [
    "pd.value_counts(data['grad_finisare']).plot.bar()\n",
    "plt.show()"
   ]
  },
  {
   "cell_type": "code",
   "execution_count": 148,
   "metadata": {},
   "outputs": [
    {
     "data": {
      "image/png": "[encoded data removed]",
      "text/plain": [
       "<matplotlib.figure.Figure at 0x25036de5780>"
      ]
     },
     "metadata": {},
     "output_type": "display_data"
    }
   ],
   "source": [
    "pd.value_counts(data['confort']).plot.bar()\n",
    "plt.show()"
   ]
  },
  {
   "cell_type": "code",
   "execution_count": 149,
   "metadata": {},
   "outputs": [
    {
     "data": {
      "image/png": "[encoded data removed]",
      "text/plain": [
       "<matplotlib.figure.Figure at 0x2503911f710>"
      ]
     },
     "metadata": {},
     "output_type": "display_data"
    }
   ],
   "source": [
    "pd.value_counts(data['numar_camere']).plot.bar()\n",
    "plt.show()"
   ]
  },
  {
   "cell_type": "code",
   "execution_count": 150,
   "metadata": {},
   "outputs": [
    {
     "data": {
      "image/png": "[encoded data removed]",
      "text/plain": [
       "<matplotlib.figure.Figure at 0x25036e86a90>"
      ]
     },
     "metadata": {},
     "output_type": "display_data"
    }
   ],
   "source": [
    "pd.value_counts(data['etaj']).plot.bar()\n",
    "plt.show()"
   ]
  },
  {
   "cell_type": "code",
   "execution_count": 151,
   "metadata": {},
   "outputs": [
    {
     "data": {
      "image/png": "[encoded data removed]",
      "text/plain": [
       "<matplotlib.figure.Figure at 0x25036f54c18>"
      ]
     },
     "metadata": {},
     "output_type": "display_data"
    }
   ],
   "source": [
    "pd.value_counts(data['vechime_imobil']).plot.bar()\n",
    "plt.show()"
   ]
  },
  {
   "cell_type": "code",
   "execution_count": 152,
   "metadata": {},
   "outputs": [
    {
     "data": {
      "text/plain": [
       "[4, 1, 2, 3, 6, 5, 7]"
      ]
     },
     "execution_count": 152,
     "metadata": {},
     "output_type": "execute_result"
    }
   ],
   "source": [
    "camere = data['numar_camere'].unique()\n",
    "camere = camere.tolist()\n",
    "camere"
   ]
  },
  {
   "cell_type": "code",
   "execution_count": null,
   "metadata": {
    "collapsed": true
   },
   "outputs": [],
   "source": []
  }
 ],
 "metadata": {
  "kernelspec": {
   "display_name": "Python 3",
   "language": "python",
   "name": "python3"
  },
  "language_info": {
   "codemirror_mode": {
    "name": "ipython",
    "version": 3
   },
   "file_extension": ".py",
   "mimetype": "text/x-python",
   "name": "python",
   "nbconvert_exporter": "python",
   "pygments_lexer": "ipython3",
   "version": "3.6.2"
  }
 },
 "nbformat": 4,
 "nbformat_minor": 2
}
