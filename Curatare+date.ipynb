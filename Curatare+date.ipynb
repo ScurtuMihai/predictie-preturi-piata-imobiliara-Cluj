{
 "cells": [
  {
   "cell_type": "code",
   "execution_count": 1,
   "metadata": {
    "collapsed": true
   },
   "outputs": [],
   "source": [
    "import pandas as pd\n",
    "import numpy as np\n",
    "import matplotlib.pyplot as plt"
   ]
  },
  {
   "cell_type": "code",
   "execution_count": 2,
   "metadata": {
    "collapsed": true
   },
   "outputs": [],
   "source": [
    "pd.set_option('display.max_colwidth', -1)\n",
    "pd.set_option(\"display.max_rows\", 20)"
   ]
  },
  {
   "cell_type": "markdown",
   "metadata": {},
   "source": [
    "Importam fisierele csv care contin anunturile cu apartamentele si garsoniere de vanzare"
   ]
  },
  {
   "cell_type": "code",
   "execution_count": 3,
   "metadata": {
    "collapsed": true
   },
   "outputs": [],
   "source": [
    "path_apartamente = r'C:\\Users\\Scurtu Mihai\\Desktop\\proiect\\anunturi_piata_apartamente.csv'\n",
    "path_garsoniere = r'C:\\Users\\Scurtu Mihai\\Desktop\\proiect\\anunturi_piata_garsoniere.csv'"
   ]
  },
  {
   "cell_type": "code",
   "execution_count": 4,
   "metadata": {
    "collapsed": true
   },
   "outputs": [],
   "source": [
    "df = pd.read_csv(path_apartamente, sep='\\t', encoding='utf-8')\n",
    "df_g = pd.read_csv(path_garsoniere, sep='\\t', encoding='utf-8')"
   ]
  },
  {
   "cell_type": "markdown",
   "metadata": {},
   "source": [
    "Garsonierele fiind doar cu o camera pe site nu apare categoria \"numar camere\" asa ca vom creea in data frame o noua coloana \"numar_camere\" si vom pune valoarea \"1\" pentru toate garsonierele."
   ]
  },
  {
   "cell_type": "code",
   "execution_count": 5,
   "metadata": {
    "collapsed": true
   },
   "outputs": [],
   "source": [
    "df_g['numar_camere'] = 1"
   ]
  },
  {
   "cell_type": "markdown",
   "metadata": {},
   "source": [
    "Unim dataframe-urile"
   ]
  },
  {
   "cell_type": "code",
   "execution_count": 6,
   "metadata": {
    "collapsed": true
   },
   "outputs": [],
   "source": [
    "data = df.append(df_g)"
   ]
  },
  {
   "cell_type": "code",
   "execution_count": 7,
   "metadata": {
    "collapsed": true
   },
   "outputs": [],
   "source": [
    "data = data[data['titlu'] != 'Nu a fost deschis anuntul']"
   ]
  },
  {
   "cell_type": "raw",
   "metadata": {},
   "source": [
    "Am unit cele doua dataframe-uri si am eliminat anunturile care nu au fost deschise. \n",
    "Eroarea provine de la faptul ca in lista cu link-uri se aflau si link-urile de la pagini, astfel ca in aceste link-uri nu se afla un anunt propriu zis. \n",
    "Anunturile cu titlul 'Nu a fost deschis anuntul' sunt anunturi de la care nu au putut fi preluate date precum titlul anuntului.  Crawlerul a extras din link-urile de pe pagina nu doar link-urile care contin anunturi ci si link-ul cu toate anunturile de pe pagina. Din aceasta cauza avem 'Nu a fost deschis anuntul'."
   ]
  },
  {
   "cell_type": "code",
   "execution_count": 8,
   "metadata": {},
   "outputs": [
    {
     "data": {
      "text/plain": [
       "8270"
      ]
     },
     "execution_count": 8,
     "metadata": {},
     "output_type": "execute_result"
    }
   ],
   "source": [
    "len(data)"
   ]
  },
  {
   "cell_type": "code",
   "execution_count": 9,
   "metadata": {
    "collapsed": true
   },
   "outputs": [],
   "source": [
    "coloane = data.columns.tolist()"
   ]
  },
  {
   "cell_type": "markdown",
   "metadata": {},
   "source": [
    "Coloanele cele mai importante le vom introduce intr-o lista \"first\""
   ]
  },
  {
   "cell_type": "code",
   "execution_count": 10,
   "metadata": {
    "collapsed": true
   },
   "outputs": [],
   "source": [
    "first = ['pret', 'etaj', 'vechime_imobil', 'numar_camere', 'cartier', 'suprafata', 'compatimentare']"
   ]
  },
  {
   "cell_type": "markdown",
   "metadata": {},
   "source": [
    "Vom face cate o lista care sa fie conforma cu tipul de date a coloanelor.\n",
    "De exemplu in \"coloane_bool\" vom avea acele caracteristi pe care un utilizator cand introduce un anunt pe site poate alege sa bifeze in dreptul caracteristicii.\n",
    "In \"coloane_liber\" utilizatorul poate introduce ce valori doreste.\n",
    "In \"coloane_selectat\" utilizatorul trebuie sa selecteze dintr-un set de valori pe care site-ul le pune la indemana.\n",
    "\n",
    "nota: cand vorbim de utilizator ma refer la utilizatorul care introduce un anunt pe site-ul www.piata-az.ro"
   ]
  },
  {
   "cell_type": "code",
   "execution_count": 11,
   "metadata": {
    "collapsed": true
   },
   "outputs": [],
   "source": [
    "coloane_bool = [\n",
    " 'geamuri_termopan',\n",
    " 'centrala_termica',\n",
    " 'parchet',\n",
    " 'gresie',\n",
    " 'faianta',\n",
    " 'zugravit_lavabil',\n",
    " 'loc_parcare',\n",
    " 'modificari_interioare',\n",
    " 'balcoane_inchise',\n",
    " 'aer_conditionat',\n",
    " 'loc_in_pod',\n",
    " 'loc_in_pivnita',\n",
    " 'uscator']"
   ]
  },
  {
   "cell_type": "code",
   "execution_count": 12,
   "metadata": {
    "collapsed": true
   },
   "outputs": [],
   "source": [
    "coloane_liber = ['titlu',\n",
    " 'pret',\n",
    " 'descriere',\n",
    " 'agentie',\n",
    " 'strada',\n",
    " 'suprafata',\n",
    " 'link']"
   ]
  },
  {
   "cell_type": "code",
   "execution_count": 13,
   "metadata": {
    "collapsed": true
   },
   "outputs": [],
   "source": [
    "coloane_selectat = [\n",
    " 'oras',\n",
    " 'grad_finisare',\n",
    " 'tip_oferta',\n",
    " 'persoana',\n",
    " 'etaj',\n",
    " 'vechime_imobil',\n",
    " 'numar_bai',\n",
    " 'numar_balcoane',\n",
    " 'compatimentare',\n",
    " 'confort',\n",
    " 'cartier']"
   ]
  },
  {
   "cell_type": "markdown",
   "metadata": {},
   "source": [
    "Vom crea cate functii care ne ajuta sa grupam coloanele in functie de tipul de date, care ne ajuta sa vedem cate valori unice avem si cate valori nule avem intr-o lista de coloane"
   ]
  },
  {
   "cell_type": "code",
   "execution_count": 14,
   "metadata": {
    "collapsed": true
   },
   "outputs": [],
   "source": [
    "def valori_unice(col):\n",
    "    for x in col:\n",
    "        print('{0} \\n\\n'.format(x) , data[x].value_counts())\n",
    "        print('\\n')"
   ]
  },
  {
   "cell_type": "code",
   "execution_count": 15,
   "metadata": {
    "collapsed": true
   },
   "outputs": [],
   "source": [
    "def valori_nule(col):\n",
    "    for x in col:\n",
    "        print('{0}'.format(x) , data[x].isnull().sum())"
   ]
  },
  {
   "cell_type": "code",
   "execution_count": 16,
   "metadata": {
    "collapsed": true
   },
   "outputs": [],
   "source": [
    "def tipuri_date():\n",
    "    data_types = data.columns.to_series().groupby(data.dtypes).groups\n",
    "    return data_types"
   ]
  },
  {
   "cell_type": "markdown",
   "metadata": {},
   "source": [
    "Vom afisa numarul valori unice din fiecare coloana, numarul de valori nule si tipul de date a fiecarei coloane"
   ]
  },
  {
   "cell_type": "code",
   "execution_count": 17,
   "metadata": {},
   "outputs": [
    {
     "name": "stdout",
     "output_type": "stream",
     "text": [
      "titlu \n",
      "\n",
      " Apartament 2  camere de vanzare in Manastur                                                  112\n",
      "Apartament 2 camere                                                                          105\n",
      "Apartament 3  camere de vanzare in Manastur                                                  101\n",
      "Apartament 2  camere de vanzare in Centru                                                    93 \n",
      "Apartament 2  camere de vanzare in Gheorgheni                                                89 \n",
      "Apartament 3  camere de vanzare in Marasti                                                   86 \n",
      "Apartament 3 camere                                                                          72 \n",
      "Apartament 2  camere de vanzare in Marasti                                                   62 \n",
      "Apartament 3  camere de vanzare in Buna Ziua                                                 54 \n",
      "Apartament 3  camere de vanzare in Centru                                                    54 \n",
      "                                                                                             .. \n",
      "Vanzare Apartament 2 camere decomandat, 67 mp, Etajul 1 din 3, in apropiere de LUNCII        1  \n",
      "Vanzare apatament 4 camere, Buna Ziua                                                        1  \n",
      "Apartament cu o camere in zona centala-Investitie                                            1  \n",
      "Mein Haus: apartament cu 2 camere in Manastur (ID - 38253)                                   1  \n",
      "Vand apartament cu 4 camere ultrafinisat, la 2 min de The Office!                            1  \n",
      "Vanzare Apartament 2 camere decomandat, 52 mp, Etajul 1 din 5, in apropiere de DECEBAL       1  \n",
      "Vanzare Apartament 4 camere decomandat, 70 mp, Etajul 1 din 4, in apropiere de ION MESTER    1  \n",
      "Apartament 3 camere in zona Diana                                                            1  \n",
      "Apartament cu parcare in zona semicentrala, 2 bai, 65 mp                                     1  \n",
      "Apartament 3 camere in Buna Ziua (ID - 38363)                                                1  \n",
      "Name: titlu, Length: 6141, dtype: int64\n",
      "\n",
      "\n",
      "pret \n",
      "\n",
      " 85 000 EUR      205\n",
      "95 000 EUR      176\n",
      "75 000 EUR      167\n",
      "110 000 EUR     154\n",
      "65 000 EUR      152\n",
      "90 000 EUR      148\n",
      "70 000 EUR      146\n",
      "100 000 EUR     135\n",
      "120 000 EUR     135\n",
      "80 000 EUR      129\n",
      "               ... \n",
      "214 000 EUR     1  \n",
      "65 400 EUR      1  \n",
      "42 330 EUR      1  \n",
      "178 857 EUR     1  \n",
      "48 450 EUR      1  \n",
      "47 250 EUR      1  \n",
      "54 050 EUR      1  \n",
      "186 000 EUR     1  \n",
      "62 370 EUR      1  \n",
      "2 000 EUR/mp    1  \n",
      "Name: pret, Length: 950, dtype: int64\n",
      "\n",
      "\n",
      "oras \n",
      "\n",
      " Cluj-Napoca, Cluj, Manastur         1585\n",
      "Cluj-Napoca, Cluj, Marasti          1432\n",
      "Cluj-Napoca, Cluj, Gheorgheni       1059\n",
      "Cluj-Napoca, Cluj, Centru           978 \n",
      "Cluj-Napoca, Cluj, Zorilor          593 \n",
      "Cluj-Napoca, Cluj, Grigorescu       455 \n",
      "Cluj-Napoca, Cluj                   402 \n",
      "Cluj-Napoca, Cluj, Buna-Ziua        338 \n",
      "Cluj-Napoca, Cluj, Floresti         324 \n",
      "Cluj-Napoca, Cluj, Europa           240 \n",
      "                                   ...  \n",
      "Cluj-Napoca, Cluj, Baciu            87  \n",
      "Cluj-Napoca, Cluj, Gruia            70  \n",
      "Cluj-Napoca, Cluj, Dambul-Rotund    57  \n",
      "Cluj-Napoca, Cluj, Apahida          37  \n",
      "Cluj-Napoca, Cluj, Someseni         24  \n",
      "Cluj-Napoca, Cluj, Gara             24  \n",
      "Cluj-Napoca, Cluj, Bulgaria         17  \n",
      "Cluj-Napoca, Cluj, Faget            3   \n",
      "Cluj-Napoca, Cluj, Feleacu          1   \n",
      "Cluj-Napoca, Cluj, Sopor            1   \n",
      "Name: oras, Length: 24, dtype: int64\n",
      "\n",
      "\n",
      "grad_finisare \n",
      "\n",
      " Nespecificat         2649\n",
      "Finisat modern       1218\n",
      "Semifinisat          1174\n",
      "Finisat clasic       811 \n",
      "Ultrafinisat         396 \n",
      "Nefinisat            236 \n",
      "Renovat              66  \n",
      "Necesita renovare    38  \n",
      "Name: grad_finisare, dtype: int64\n",
      "\n",
      "\n",
      "descriere \n",
      "\n",
      "     Tudoria ofera spre vanzare apartamente de 1 camera cu suprafete cuprinse intre 35 si 40 mp situate intr-un ansamblu rezidential nou edificat de catre unul dintre cei mai reputati dezvoltatori de pe piata de profil. Apartamentele sunt decomandate,  compuse din camera,  bucatarie,  baie,  hol si balcon si sunt localizate la etajele intermediare ale imobilului de 7 etaje. Se predau la stadiul semifinisat,  cu centrala termica individuala,  instalatii trase pe pozitii,  pereti gletuiti si sapa autonivelanta turnata. In vederea achizitionarii se solicita un avans de minim 15%. La plata integrala se ofera bonus un loc de parcare exterior al carui pret este de 3.000 Euro + TVA. Preturi incepand de la 1.155 Euro/mp,  TVA de 5% inclus,  in functie de pozitionarea si modalitatea de plata a apartamentului. Pentru informatii suplimentare nu ezitati sa ne contactati la numerele de telefon afisate sau la sediul agentiei,  pe Calea Dorobantilor,  nr. 70.                                                                                                                                                                                                                                                                                                                                                                                                                                                                                                                                                                                                                                                                                                                                                                                                                                                                                                                                                                                                                                                                                                                                                                                                                                                                                                                                                                                                                                                                                                                                                                                                                                                                                                                                                                                                                        9\n",
      "    IMOFINDER va propune spre vanzare apartamente intr-un proiect nou,  acesta dispune de o arhitectura moderna si de o functionalitate buna,  avand curte interioara cu spatii verzi,  iar spatiile comerciale situate la parterul imobilelor sunt destinate unor activitati menite sa ridice confortul viitorilor clienti.\\r  Proiectul se afla in apropierea numeroaselor scoli si gradinite si totodata este bine conectat prin mijloacele de transport in comun aflate in apropiere,  precum si alte puncte de interes: Piata Mihai Viteazu.\\r  Proiectul dispunde de apartamente cu 1,  2 si 3 camere,  locuri de parcare subterane,  iar apartamente se vor preda la clientul final semifinisate si spatiile comune vor fi finisate modern.\\rDispune de apartamente cu suprafete intre 42 mp si 73 mp utili.\\rPreturi incepand de la 1400 euro/mp cu TVA 5% inclus.\\rParcare 7500 euro cu TVA inclus.\\rFinalizare sfarsitul anului 2018.\\r\\rApartamentele se pot achizitiona prin credit bancar.\\rPentru mai multe detalii suplimentare,  oferete de pret personalizate,  precum si disponibilitatea apartamentelor asteptam sa ne contactati telefonic sau prin e-mail!                                                                                                                                                                                                                                                                                                                                                                                                                                                                                                                                                                                                                                                                                                                                                                                                                                                                                                                                                                                                                                                                                                                                                                                                                                                                                                                                                                                                                                                                                                                                                                                                                                      8\n",
      "    Tudoria ofera spre vanzare apartamente de 1 camera cu suprafete cuprinse intre 46 si 51 mp situate intr-un ansamblu rezidential nou edificat de catre unul dintre dezvoltatorii imobiliari de renume de pe piata de profil. Apartamentele sunt decomandate,  compuse din dormitor,  bucatarie,  baie,  hol si balcon si sunt localizate la etajele intermediare ale imobilului de 7 etaje. Se predau la stadiul semifinisat,  cu geamuri termopan,  centrala termica si calorifere,  usa metalica la intrare,  pereti gletuiti,  instalatii trase pe pozitii si sapa autonivelanta turnata. In vederea achizitionarii se solicita un avans de minim 10.000 Euro. La plata unui avans de peste 30% se ofera un discount in functie de cuantumul sumei achitate. Exista posibilitatea achizitionarii unor locuri de parcare subterana la pretul de 4.000 Euro/loc. Preturi cuprinse intre 52.000 si 58.000 Euro,  TVA de 5% inclus. Pentru informatii suplimentare nu ezitati sa ne contactati la numerele de telefon afisate sau la sediul agentiei,  pe Calea Dorobantilor,  nr. 70.                                                                                                                                                                                                                                                                                                                                                                                                                                                                                                                                                                                                                                                                                                                                                                                                                                                                                                                                                                                                                                                                                                                                                                                                                                                                                                                                                                                                                                                                                                                                                                                                                                                                                                                             8\n",
      "    Tudoria ofera spre vanzare apartament in zona Pietei Zorilor! Apartamentul este situat la etajul 1 al unui imobil cu 4 etaje,  format din 4 camere decomandate,  bucatarie,  hol si 2 bai,  in suprafata utila de 78mp+logie. Apartamentul este mediu finisat,  detine centrala termica individuala,  tamplarie PVC cu geam termopan,  parchet lemn masiv in stare buna,  gresie si faianta,  oferit spre vanzare cu bucataria mobilata. Datorita locatiei,  recomandam aceasta oferta atat pentru locuinta,  cat si pentru investitie!                                                                                                                                                                                                                                                                                                                                                                                                                                                                                                                                                                                                                                                                                                                                                                                                                                                                                                                                                                                                                                                                                                                                                                                                                                                                                                                                                                                                                                                                                                                                                                                                                                                                                                                                                                                                                                                                                                                                                                                                                                                                                                                                                                                                                                                                          7\n",
      "    Tudoria ofera spre vanzare apartamente de 2 camere cu suprafete cuprinse intre 49 si 66 mp situate intr-un ansamblu rezidential nou edificat de catre unul dintre cei mai reputati dezvoltatori de pe piata de profil. Apartamentele sunt semidecomandate,  compuse din living+bucatarie open space,  dormitor,  baie si balcon si sunt localizate la etajele intermediare ale imobilului de 7 etaje. Se predau la stadiul semifinisat,  cu centrala termica individuala,  instalatii trase pe pozitii,  pereti gletuiti si sapa autonivelanta turnata. In vederea achizitionarii se solicita un avans de minim 15%. La plata integrala se ofera bonus un loc de parcare exterior al carui pret este de 3.000 Euro + TVA. Preturi incepand de la 1.155 Euro/mp,  TVA de 5% inclus,  in functie de pozitionarea si modalitatea de plata a apartamentului. Pentru informatii suplimentare nu ezitati sa ne contactati la numerele de telefon afisate sau la sediul agentiei,  pe Calea Dorobantilor,  nr. 70.                                                                                                                                                                                                                                                                                                                                                                                                                                                                                                                                                                                                                                                                                                                                                                                                                                                                                                                                                                                                                                                                                                                                                                                                                                                                                                                                                                                                                                                                                                                                                                                                                                                                                                                                                                                                      7\n",
      "    Tudoria ofera spre vanzare apartamente de 2 camere cu suprafete cuprinse intre 52 si 70 mp situate intr-un ansamblu rezidential nou edificat de catre unul dintre dezvoltatorii imobiliari de renume de pe piata de profil. Apartamentele sunt semidecomandate,  compuse din dormitor,  zona de zi + bucatarie,  baie,  hol si balcon si sunt localizate la etajele intermediare ale imobilului de 7 etaje. Se predau la stadiul semifinisat,  cu geamuri termopan,  centrala termica si calorifere,  usa metalica la intrare,  pereti gletuiti,  instalatii trase pe pozitii si sapa autonivelanta turnata. In vederea achizitionarii se solicita un avans de minim 10.000 Euro. La plata unui avans de peste 30% se ofera un discount in functie de cuantumul sumei achitate. Exista posibilitatea achizitionarii unor locuri de parcare subterana la pretul de 4.000 Euro/loc. Preturi cuprinse intre 59.000 si 75.000 Euro,  TVA de 5% inclus. Pentru informatii suplimentare nu ezitati sa ne contactati la numerele de telefon afisate sau la sediul agentiei,  pe Calea Dorobantilor,  nr. 70.                                                                                                                                                                                                                                                                                                                                                                                                                                                                                                                                                                                                                                                                                                                                                                                                                                                                                                                                                                                                                                                                                                                                                                                                                                                                                                                                                                                                                                                                                                                                                                                                                                                                                                            6\n",
      "    Tudoria ofera spre vanzare un apartament in zona strazii Dorobantilor! Apartamentul este situat la etajul 7 al unui imobil cu 7 etaje,  format din camera,  bucatarie,  camara,  hol si baie,  in suprafata de 40 mp+ balcon. Finisajele imobilului sunt moderne. Orientarea sud-estica,  finisajele de calitate: centrala termica individuala,  ferestre termopan,  parchet laminat,  gresie si faianta moderna,  fac ca aceasta proprietate sa fie ideala alat pentru locuinta,  cat si pentru investitie. Informatii suplimentare pot fi furnizate telefonic la numerele afisate,  sau la sediul agentiei noastre,  pe Calea Dorobantilor,  Nr.70.                                                                                                                                                                                                                                                                                                                                                                                                                                                                                                                                                                                                                                                                                                                                                                                                                                                                                                                                                                                                                                                                                                                                                                                                                                                                                                                                                                                                                                                                                                                                                                                                                                                                                                                                                                                                                                                                                                                                                                                                                                                                                                                                                            6\n",
      "    Vand apartament o camera,  central situat,  str. Nasaud,  et.3/7,  decomandat,  compus din camera,  bucatarie,  baie,  balcon,  2 debarale, un hol la intrare,  cu C.T, usa antiefractie,  izolat exterior,  finisaje clasice,  locatie excelenta la 3 min de Iulius-Moll,  la 3 min de centru,  pret 59900eur.                                                                                                                                                                                                                                                                                                                                                                                                                                                                                                                                                                                                                                                                                                                                                                                                                                                                                                                                                                                                                                                                                                                                                                                                                                                                                                                                                                                                                                                                                                                                                                                                                                                                                                                                                                                                                                                                                                                                                                                                                                                                                                                                                                                                                                                                                                                                                                                                                                                                                                  6\n",
      "    Tudoria ofera spre vanzare apartament de 4 camere situat in zona BIG a cartierului Manastur. Aflat la etajul intermediar al unui imobil reabilitat termic si monitorizat video interior/exterior,  apartamentul decomandat este compartimentat astfel : 4 camere,  bucatarie,  2 bai,  dressing si hol,  avand suprafata utila de 80mp + 2 balcoane inchise cu suprafata de10mp. Finisajele imobilului sunt moderne,  parchet lemn masiv in stare foarte buna,  gresie,  faianta,  centrala termica individuala,  ferestre termopan,  usa metalica,  sistem de aer conditionat,  instalatie electrica noua,  cabluri ingropate in sapa. Apartamentul se ofera spre vanzare cu bucataria mobilata si utilata,  restul camerelor fiind partial mobilate. Aflat in imediata vecinatate a mijloacelor de transport in comun,  scolilor,  gradintelor,  spatiilor de joaca,  institutiilor bancare,  farmaciilor si pietei agroalimentare,  aceasta oferta este ideala atat pentru investitie,  cat si pentru locuinta. Pentru informatii suplimentare nu ezitati sa ne contactati la numerele de telefon afisate sau la sediul agentiei noastre,  pe Calea Dorobantilor nr. 70.                                                                                                                                                                                                                                                                                                                                                                                                                                                                                                                                                                                                                                                                                                                                                                                                                                                                                                                                                                                                                                                                                                                                                                                                                                                                                                                                                                                                                                                                                                                                                                                                                                      5\n",
      "    IMOFINDER  va recomanda la vanzare un ansamblu rezidential modern,  situat in Buna Ziua,  zona Calea Turzii,  o zona in plina dezvoltare imobiliara . Sunt disponibile apartamente  de 2 si 3 camere cu suprafete intre 41 si 73 mp utili ce se vor preda semifinisate in luna iulie 2017. Locul de parcare 4000 Euro (neacoperit) sau 6000 Euro (acoperit). Pentru mai multe detalii,  va rugam sa ne contactati.                                                                                                                                                                                                                                                                                                                                                                                                                                                                                                                                                                                                                                                                                                                                                                                                                                                                                                                                                                                                                                                                                                                                                                                                                                                                                                                                                                                                                                                                                                                                                                                                                                                                                                                                                                                                                                                                                                                                                                                                                                                                                                                                                                                                                                                                                                                                                                                               5\n",
      "                                                                                                                                                                                                                                                                                                                                                                                                                                                                                                                                                                                                                                                                                                                                                                                                                                                                                                                                                                                                                                                                                                                                                                                                                                                                                                                                                                                                                                                                                                                                                                                                                                                                                                                                                                                                                                                                                                                                                                                                                                                                                                                                                                                                                                                                                                                                                                                                                                                                                                                                                                                                                                                                                                                                                                                                                    ..\n",
      "    Apartament la casa in zona centrala!\\rVa oferim spre vanzare un apartament in Cluj Napoca,  zona Semicentrala a orasului. Apartamentul este amplasat la parterul unui imobil reabilitat termic dispus pe P+E+Pod. Avand o suprafata utila de 65 mp,  dispune de 3 camere semidecomandate,  1 bucatarie spatioasa,  1 baie cu geam,  1 debara si 1 pivnita. Finisajele de tip clasic si modern sunt evidentiate astfel: pardoseala cu parchet laminat,  pereti cu lavabil,  faianta si gresie moderna in bucatrie,  faianta si gresie clasica in baiea,  geamuri termoizolante din PVC,  usi interioare din lemn si usa de la intrare metalica. Sistemul de incalzire in apartament este cu centrala termica. Apartamentul se vinde utilat si partial mobilat si il recomandam cu incredere datorita zonei cu acces facil,  punctele majore de interes fiind la doar 2 minute in orice directie. Proprietatea este ideala atat pentru investitie cat si pentru locuinta. Pentru mai multe detalii dar si pentru o consiliere cat mai eficienta,  ne puteti contacta cu incredere.                                                                                                                                                                                                                                                                                                                                                                                                                                                                                                                                                                                                                                                                                                                                                                                                                                                                                                                                                                                                                                                                                                                                                                                                                                                                                                                                                                                                                                                                                                                                                                                                                                                                                                                                 1\n",
      "    Proiect rezidential in apropierea aeroportului Avram Iancu din Cluj Napoca! Va prezentam spre vanzare apartamente intr-o zona linistita,  cu mult spatiu verde,  in cartierul Marasti,  in apropierea aeroportului. Complexul rezidential se afla intr-o zona deosebita,  avand in apropiere supermarketuri,  scoli,  gradinite,  farmacii si mijloace de transport in comun. Apartamentele se afla intr-un imobil dispus D+P+6E+R si este impartit astfel: Parter: ap 1- 3 camere are 62 mp; Ap 2 - 2 camere,  are 51 mp; Ap 3 - 2 camere,  are 54 mp; Ap 4- 2 camere,  are 50 mp; Ap 5- 3 camere,  are 62 mp;  \\rEtajul 1: AP 6 - 3 camere,  are 72 mp + balcon de 5 mp; Ap 7 - 2 camere,  are 60 mp + balcon de 3 mp; AP 8 - 2 camere,  are 53 mp + balcon de 3 mp; Ap 9- 2 camere,  are 54 mp + terasa de 9 mp; AP 10- 2 camere,  are 51 mp + balcon de 3 mp; AP 11 - 2 camere,  are 46 mp + balcon de 3 mp; AP 12 - 2 camere,  are 50 mp + balcon de 3 mp; AP 13 -3 camere,  are 62 mp + balcon de 3 mp; Ap 14 - 2 camere,  are 52 mp + balcon de 3 mp; Ap 15 - 3 camere,  are 60 mp + balcon de 3 mp; Ap 16 - 3 camere,  are 70 mp + balcon de 4 mp;\\rEtajele 2,  3,  4 ,  5 sunt identice la compartimentare si impartire cu etajul 1. Etajul 6 : Ap 61 - 2 camere,  are 58 mp + terasa de 15 mp; AP 62 - 2 camere,  are 55 mp + o terasa de 43 mp; AP 63- 2 camere,  are  53 mp + terasa de 31 mp. AP 64 - 2 camere,  are 52 mp + balcon de 2 mp; Ap 65- 2 camere,  are 46 mp + balcon de 3 mp; Ap 66 - 3 camere,  are 76 mp + balcon de 3 mp; Ap 67- 3 camere,  are 67 mp + balcon de 3 mp; Ap 68 - 3 camere,  are 70 mp + terasa de 13 mp; Ap 69 - 2 camere,  are 58 m+ terasa de 15 mp;\\rEtajul 7: Ap 70 - 2 camere,  are 58 mp + balcon de 10 mp; Ap 71 - 2 camere,  are 55 mp + terasa 17 mp; Ap 72 - 2 camere,  are 54 mp + terasa de 21 mp; Ap 73 - 3 camere,  are 60 mp + terasa 14 mp; Ap 74 - 3 camere,  are 61 mp + terasa 14 mp; Ap 75 - 3 camere,  are 65 mp + terasa 29 mp; Ap 76 - 2 camere,  are 58 mp + terasa 21 mp; Ap 77 - 2 camere,  are 58 mp + terasa 10 mp;\\rImobilul dispune de  de locuri de parcare care se pot achizitiona separat atat in interior cat si la exterior. \\rPretul apartamentelor variaza intre 1050- 1230 euro/mp + TVA de 5%,  dar in functie de avansul achitat si de etajul si compartimentarea aleasa se poate face o negociere a pretului. Predarea acestora se va face in toamna anului 2018 la stadiul de semifinisat : pereti gletuiti,  centrala termica,  usa metalica la intrare. \\rDatorita pozitionarii foarte bune si a calitatii constructiei recomandam cu incredere aceste apartamente deosebite. Pentru vizionarea acestora,  cat si pentru orice detalii  si informatii va stam cu drag la dispozitie. Va astept cu drag la vizionare .    1\n",
      "    MEIN HAUS,  vinde apartament 3 camere,  confort I,  69 mp,  decomandat,  in Marasti,  finisat,  contorizat (apa si gaz) - centrala termica,  termopan,  2 garaje,  2 bai,  balcon de 9 mp,  parchet,  gresie si faianta,  usi interior schimbate,  izolat termic.                                                                                                                                                                                                                                                                                                                                                                                                                                                                                                                                                                                                                                                                                                                                                                                                                                                                                                                                                                                                                                                                                                                                                                                                                                                                                                                                                                                                                                                                                                                                                                                                                                                                                                                                                                                                                                                                                                                                                                                                                                                                                                                                                                                                                                                                                                                                                                                                                                                                                                                                                1\n",
      "    Agentia Piacenza vinde apartament cu 1 camera in cartierul Marasti,  zona strazii Fabricii,  constructie noua,  decomandat,  suprafata 42 mp,  balcon,  etaj 8/8 ,  semifinisat,  geamuri termopan,  usa metalica,  centrala termica. Pret 46000 euro                                                                                                                                                                                                                                                                                                                                                                                                                                                                                                                                                                                                                                                                                                                                                                                                                                                                                                                                                                                                                                                                                                                                                                                                                                                                                                                                                                                                                                                                                                                                                                                                                                                                                                                                                                                                                                                                                                                                                                                                                                                                                                                                                                                                                                                                                                                                                                                                                                                                                                                                                            1\n",
      "    Va prezentam o oferta exceptionala! Avem placerea de a va oferi spre vanzare un apartament cu 2 camere,  situat la etajul 4 din 4 etaje,  in localitatea CLUJ-NAPOCA,  cartierul MANASTUR. Apartamentul este confort unic semidecomandat si este dotat cu centrala proprie,  1 baie,  faianta moderna,  gresie moderna,  parchet laminat. Imobilul semimobilat mai are si alte dotari precum debara,  interfon. Daca va place aceasta oferta sau pentru alte oferte nu ezitati sa ne contactati telefonic sau la sediul nostru EDIL,  Str. Iuliu Maniu,  Nr. 17,  Cluj-Napoca.  (ID:APCJ283318)                                                                                                                                                                                                                                                                                                                                                                                                                                                                                                                                                                                                                                                                                                                                                                                                                                                                                                                                                                                                                                                                                                                                                                                                                                                                                                                                                                                                                                                                                                                                                                                                                                                                                                                                                                                                                                                                                                                                                                                                                                                                                                                                                                                                                  1\n",
      "    Apartament modern la casa in zona Semicentrala,  Marasti!!! Dispune de 2 camere decomandate,  hol,  bucatarie,  baie,  camara si o curte comuna cu alte apartamente. Este situat la parterul unei case care va ofera posibilitatea de mansardare si are o suprafata utila de 75 mp. Finisajele sunt moderne: centrala termica proprie,  plafon izolat termic,  pardoseala din parchet laminat,  geamuri termoizolante din PVC,  lavabil,  gresie si faianta,  usi de lemn. Apartament recomandat datorita zonei,  aproape de mijloacele de transport si 15 minute fata de Centrul orasului. Se vinde cu bucatarie mobilata modern. Pentru orice informatie suplimentara sau pentru stabilirea unei vizionari,  contactati-ne de urgenta.                                                                                                                                                                                                                                                                                                                                                                                                                                                                                                                                                                                                                                                                                                                                                                                                                                                                                                                                                                                                                                                                                                                                                                                                                                                                                                                                                                                                                                                                                                                                                                                                                                                                                                                                                                                                                                                                                                                                                                                                                                                                         1\n",
      "    De vanzare garsoniera,  cu suprafata utila de 24 mp,  decomandata,  ce necesita lucrari de renovare,  situata in Cluj-Napoca,  in cartierul Marasti,  pe strada Campina.\\rGarsoniera este pozitionata la etajul 3/3,  dispune de balcon si este finisata clasic.                                                                                                                                                                                                                                                                                                                                                                                                                                                                                                                                                                                                                                                                                                                                                                                                                                                                                                                                                                                                                                                                                                                                                                                                                                                                                                                                                                                                                                                                                                                                                                                                                                                                                                                                                                                                                                                                                                                                                                                                                                                                                                                                                                                                                                                                                                                                                                                                                                                                                                                                                 1\n",
      "    MEIN HAUS,  vinde apartament 1 camera confort I,  37 mp,  decomandat,  in Marasti,  strada Dunarii,  finisat,  contorizat,  centrala termica,  termopan,  parcare,  beci,  parchet,  gresie si faianta moderna,  usa metalica.                                                                                                                                                                                                                                                                                                                                                                                                                                                                                                                                                                                                                                                                                                                                                                                                                                                                                                                                                                                                                                                                                                                                                                                                                                                                                                                                                                                                                                                                                                                                                                                                                                                                                                                                                                                                                                                                                                                                                                                                                                                                                                                                                                                                                                                                                                                                                                                                                                                                                                                                                                                   1\n",
      "    Vinde ap. 2 cam.,  str. Eroilor,  et. 1,  nefinisat,  terasa 10 mp,  parchet lemn masiv,  pretabil locuinta,  birou,  50 mp,  70.000 EUR.                                                                                                                                                                                                                                                                                                                                                                                                                                                                                                                                                                                                                                                                                                                                                                                                                                                                                                                                                                                                                                                                                                                                                                                                                                                                                                                                                                                                                                                                                                                                                                                                                                                                                                                                                                                                                                                                                                                                                                                                                                                                                                                                                                                                                                                                                                                                                                                                                                                                                                                                                                                                                                                                        1\n",
      "    Aceasta oferta exceptionala este sub pretul pietei! EDIL va ofera spre vanzare o garsoniera ,  situata la etajul 2 din 4 etaje,  in CLUJ-NAPOCA,  cartierul GHEORGHENI,  in apropiere de IULIUS MALL. Suprafata acesteia este de 22 mp. Garsoniera este confort 2 si este dotata cu 1 baie,  faianta clasica,  gresie clasica,  mocheta,  parchet masiv. Imobilul mobilat clasic mai are si alte dotari precum frigider,  masina de spalat,  aragaz,  interfon. Daca va place aceasta oferta sau pentru alte oferte nu ezitati sa ne contactati telefonic sau la sediul nostru EDIL,  Str. Iuliu Maniu,  Nr. 17,  Cluj-Napoca.  (ID:GACJ283118)                                                                                                                                                                                                                                                                                                                                                                                                                                                                                                                                                                                                                                                                                                                                                                                                                                                                                                                                                                                                                                                                                                                                                                                                                                                                                                                                                                                                                                                                                                                                                                                                                                                                                                                                                                                                                                                                                                                                                                                                                                                                                                                                                                  1\n",
      "Name: descriere, Length: 8013, dtype: int64\n",
      "\n",
      "\n",
      "tip_oferta \n",
      "\n",
      " Vand    7764\n",
      "Name: tip_oferta, dtype: int64\n",
      "\n",
      "\n",
      "persoana \n",
      "\n",
      " Agentie Imobiliara    7262\n",
      "Persoana Fizica       448 \n",
      "Constructor           44  \n",
      "Lichidator            8   \n",
      "Persoana Juridica     2   \n",
      "Name: persoana, dtype: int64\n",
      "\n",
      "\n",
      "etaj \n",
      "\n",
      " Etajul 1            1256\n",
      "Parter              1183\n",
      "Nespecificat        1162\n",
      "Etajul 2            990 \n",
      "Etajul 3            843 \n",
      "Etajul 4            757 \n",
      "Etaj intermediar    451 \n",
      "Etajul 5            236 \n",
      "Ultimul etaj        196 \n",
      "Etajul 7            181 \n",
      "Etajul 8            145 \n",
      "Etajul 6            124 \n",
      "Etajul 10           100 \n",
      "Etajul 9            97  \n",
      "Mansarda            80  \n",
      "Demisol             75  \n",
      "Name: etaj, dtype: int64\n",
      "\n",
      "\n",
      "vechime_imobil \n",
      "\n",
      " mai vechi de 2000    3292\n",
      "bloc nou             2663\n",
      "Nespecificat         1285\n",
      "In constructie       215 \n",
      "Name: vechime_imobil, dtype: int64\n",
      "\n",
      "\n",
      "numar_bai \n",
      "\n",
      " 1               4303\n",
      "2               2019\n",
      "Nespecificat    1381\n",
      "3               43  \n",
      "4               6   \n",
      "1.0             6   \n",
      "Name: numar_bai, dtype: int64\n",
      "\n",
      "\n",
      "numar_balcoane \n",
      "\n",
      " 1                   3185\n",
      "Nespecificat        2852\n",
      "2                   1120\n",
      "Fara balcon         216 \n",
      "3                   137 \n",
      "Terasa              89  \n",
      "Balcon inchis       46  \n",
      "Balcoane inchise    8   \n",
      "1.0                 6   \n",
      "Name: numar_balcoane, dtype: int64\n",
      "\n",
      "\n",
      "geamuri_termopan \n",
      "\n",
      " Da    5277\n",
      "Nu    1108\n",
      "Name: geamuri_termopan, dtype: int64\n",
      "\n",
      "\n",
      "centrala_termica \n",
      "\n",
      " Da    6184\n",
      "Nu    1468\n",
      "Name: centrala_termica, dtype: int64\n",
      "\n",
      "\n",
      "compatimentare \n",
      "\n",
      " Decomandat        4096\n",
      "Semidecomandat    2637\n",
      "Nespecificat      737 \n",
      "Open space        38  \n",
      "Nedecomandat      18  \n",
      "Circular          15  \n",
      "Vagon             3   \n",
      "Name: compatimentare, dtype: int64\n",
      "\n",
      "\n",
      "parchet \n",
      "\n",
      " Da    5205\n",
      "Nu    2230\n",
      "Name: parchet, dtype: int64\n",
      "\n",
      "\n",
      "confort \n",
      "\n",
      " 1               4231\n",
      "Sporit          1533\n",
      "Nespecificat    1180\n",
      "Unic            134 \n",
      "2               122 \n",
      "3               51  \n",
      "Name: confort, dtype: int64\n",
      "\n"
     ]
    },
    {
     "name": "stdout",
     "output_type": "stream",
     "text": [
      "\n",
      "gresie \n",
      "\n",
      " Nu    3735\n",
      "Da    3620\n",
      "Name: gresie, dtype: int64\n",
      "\n",
      "\n",
      "faianta \n",
      "\n",
      " Da    5249\n",
      "Nu    2123\n",
      "Name: faianta, dtype: int64\n",
      "\n",
      "\n",
      "zugravit_lavabil \n",
      "\n",
      " Da    4765\n",
      "Nu    2409\n",
      "Name: zugravit_lavabil, dtype: int64\n",
      "\n",
      "\n",
      "loc_parcare \n",
      "\n",
      " Nu    3372\n",
      "Da    2490\n",
      "Name: loc_parcare, dtype: int64\n",
      "\n",
      "\n",
      "agentie \n",
      "\n",
      " NAPOCA Imobiliare     1459\n",
      "MEIN HAUS             980 \n",
      "EDIL                  694 \n",
      "Axa Imobiliare        525 \n",
      "REMS Imobiliare       504 \n",
      "IMOFINDER             435 \n",
      "Koncept Imobiliare    335 \n",
      "Habitas Imobiliare    273 \n",
      "Tara Imobiliare       240 \n",
      "Welt Imobiliare       218 \n",
      "                     ...  \n",
      "mrm                   1   \n",
      "Proprietar            1   \n",
      "EUMIPA                1   \n",
      "Rohouse               1   \n",
      "IMPAKT IMOBILIARE     1   \n",
      "fara                  1   \n",
      "Imobili               1   \n",
      "persoana fizica       1   \n",
      "pf                    1   \n",
      "Anunt Privat          1   \n",
      "Name: agentie, Length: 104, dtype: int64\n",
      "\n",
      "\n",
      "numar_camere \n",
      "\n",
      " 2      3413\n",
      "3      2679\n",
      "1      824 \n",
      "4      755 \n",
      "1      512 \n",
      "5      56  \n",
      "6      11  \n",
      "4+     1   \n",
      "9      1   \n",
      "15     1   \n",
      "7      1   \n",
      "8      1   \n",
      "Name: numar_camere, dtype: int64\n",
      "\n",
      "\n",
      "strada \n",
      "\n",
      " -                                            4145\n",
      ".                                            558 \n",
      "-                                            96  \n",
      "Fabricii                                     38  \n",
      "Dorobantilor                                 35  \n",
      "Horea                                        34  \n",
      "Campului                                     30  \n",
      "CALEA DOROBANTILOR                           27  \n",
      "Florilor                                     26  \n",
      "Manastur                                     26  \n",
      "                                             ..  \n",
      "Vidraru                                      1   \n",
      "Ciucas                                       1   \n",
      "zona Calea Turzii                            1   \n",
      "Strada Parâng, Cluj-Napoca, România          1   \n",
      "buna                                         1   \n",
      "Strada Soimului                              1   \n",
      "Aleea Iezer, Cluj-Napoca 400000, Romania     1   \n",
      "zona str. Dumitru Mocanu                     1   \n",
      "Padurii, 8/ Dealul de Jos, Fn                1   \n",
      "Diana                                        1   \n",
      "Name: strada, Length: 1211, dtype: int64\n",
      "\n",
      "\n",
      "suprafata \n",
      "\n",
      " 65mp        415\n",
      "50mp        360\n",
      "52mp        309\n",
      "40mp        230\n",
      "70mp        212\n",
      "60mp        205\n",
      "54mp        199\n",
      "80mp        184\n",
      "42mp        168\n",
      "53mp        157\n",
      "           ... \n",
      "59.06mp     1  \n",
      "46.26mp     1  \n",
      "156mp       1  \n",
      "42.21mp     1  \n",
      "68.2mp      1  \n",
      "51.34mp     1  \n",
      "92.94mp     1  \n",
      "51.95mp     1  \n",
      "55.37mp     1  \n",
      "77.82mp     1  \n",
      "Name: suprafata, Length: 558, dtype: int64\n",
      "\n",
      "\n",
      "cartier \n",
      "\n",
      " Manastur         1585\n",
      "Marasti          1432\n",
      "Gheorgheni       1059\n",
      "Centru           978 \n",
      "Zorilor          593 \n",
      "Grigorescu       455 \n",
      "Buna-Ziua        338 \n",
      "Floresti         324 \n",
      "Europa           240 \n",
      "Borhanci         160 \n",
      "                ...  \n",
      "Baciu            87  \n",
      "Gruia            70  \n",
      "Dambul-Rotund    57  \n",
      "Apahida          37  \n",
      "Gara             24  \n",
      "Someseni         24  \n",
      "Bulgaria         17  \n",
      "Faget            3   \n",
      "Sopor            1   \n",
      "Feleacu          1   \n",
      "Name: cartier, Length: 23, dtype: int64\n",
      "\n",
      "\n",
      "link \n",
      "\n",
      " http://www.piata-az.ro/anunturi/oras-cluj-napoca/7601620    6\n",
      "http://www.piata-az.ro/anunturi/oras-cluj-napoca/7519710    1\n",
      "http://www.piata-az.ro/anunturi/oras-cluj-napoca/6657725    1\n",
      "http://www.piata-az.ro/anunturi/oras-cluj-napoca/7519684    1\n",
      "http://www.piata-az.ro/anunturi/oras-cluj-napoca/7363590    1\n",
      "http://www.piata-az.ro/anunturi/oras-cluj-napoca/7308387    1\n",
      "http://www.piata-az.ro/anunturi/oras-cluj-napoca/7269830    1\n",
      "http://www.piata-az.ro/anunturi/oras-cluj-napoca/7541201    1\n",
      "http://www.piata-az.ro/anunturi/oras-cluj-napoca/7531855    1\n",
      "http://www.piata-az.ro/anunturi/oras-cluj-napoca/7004996    1\n",
      "                                                           ..\n",
      "http://www.piata-az.ro/anunturi/oras-cluj-napoca/7596827    1\n",
      "http://www.piata-az.ro/anunturi/oras-cluj-napoca/7418424    1\n",
      "http://www.piata-az.ro/anunturi/oras-cluj-napoca/7539514    1\n",
      "http://www.piata-az.ro/anunturi/oras-cluj-napoca/7480558    1\n",
      "http://www.piata-az.ro/anunturi/oras-cluj-napoca/7429247    1\n",
      "http://www.piata-az.ro/anunturi/oras-cluj-napoca/7543780    1\n",
      "http://www.piata-az.ro/anunturi/oras-cluj-napoca/7456907    1\n",
      "http://www.piata-az.ro/anunturi/oras-cluj-napoca/7539750    1\n",
      "http://www.piata-az.ro/anunturi/oras-cluj-napoca/7466159    1\n",
      "http://www.piata-az.ro/anunturi/oras-cluj-napoca/7506410    1\n",
      "Name: link, Length: 8265, dtype: int64\n",
      "\n",
      "\n",
      "modificari_interioare \n",
      "\n",
      " Nu    3785\n",
      "Da    375 \n",
      "Name: modificari_interioare, dtype: int64\n",
      "\n",
      "\n",
      "balcoane_inchise \n",
      "\n",
      " Nu    2965\n",
      "Da    868 \n",
      "Name: balcoane_inchise, dtype: int64\n",
      "\n",
      "\n",
      "aer_conditionat \n",
      "\n",
      " Nu    5071\n",
      "Da    325 \n",
      "Name: aer_conditionat, dtype: int64\n",
      "\n",
      "\n",
      "loc_in_pod \n",
      "\n",
      " Nu    4224\n",
      "Da    714 \n",
      "Name: loc_in_pod, dtype: int64\n",
      "\n",
      "\n",
      "loc_in_pivnita \n",
      "\n",
      " Nu    4124\n",
      "Da    1025\n",
      "Name: loc_in_pivnita, dtype: int64\n",
      "\n",
      "\n",
      "uscator \n",
      "\n",
      " Nu    4250\n",
      "Da    671 \n",
      "Name: uscator, dtype: int64\n",
      "\n",
      "\n"
     ]
    }
   ],
   "source": [
    "_ = valori_unice(coloane)"
   ]
  },
  {
   "cell_type": "code",
   "execution_count": 18,
   "metadata": {},
   "outputs": [
    {
     "name": "stdout",
     "output_type": "stream",
     "text": [
      "titlu 0\n",
      "pret 0\n",
      "oras 0\n",
      "grad_finisare 1682\n",
      "descriere 2\n",
      "tip_oferta 506\n",
      "persoana 506\n",
      "etaj 394\n",
      "vechime_imobil 815\n",
      "numar_bai 512\n",
      "numar_balcoane 611\n",
      "geamuri_termopan 1885\n",
      "centrala_termica 618\n",
      "compatimentare 726\n",
      "parchet 835\n",
      "confort 1019\n",
      "gresie 915\n",
      "faianta 898\n",
      "zugravit_lavabil 1096\n",
      "loc_parcare 2408\n",
      "agentie 1400\n",
      "numar_camere 15\n",
      "strada 190\n",
      "suprafata 0\n",
      "cartier 402\n",
      "link 0\n",
      "modificari_interioare 4110\n",
      "balcoane_inchise 4437\n",
      "aer_conditionat 2874\n",
      "loc_in_pod 3332\n",
      "loc_in_pivnita 3121\n",
      "uscator 3349\n"
     ]
    }
   ],
   "source": [
    "_ = valori_nule(coloane)"
   ]
  },
  {
   "cell_type": "code",
   "execution_count": 19,
   "metadata": {},
   "outputs": [
    {
     "data": {
      "text/plain": [
       "{dtype('O'): Index(['titlu', 'pret', 'oras', 'grad_finisare', 'descriere', 'tip_oferta',\n",
       "        'persoana', 'etaj', 'vechime_imobil', 'numar_bai', 'numar_balcoane',\n",
       "        'geamuri_termopan', 'centrala_termica', 'compatimentare', 'parchet',\n",
       "        'confort', 'gresie', 'faianta', 'zugravit_lavabil', 'loc_parcare',\n",
       "        'agentie', 'numar_camere', 'strada', 'suprafata', 'cartier', 'link',\n",
       "        'modificari_interioare', 'balcoane_inchise', 'aer_conditionat',\n",
       "        'loc_in_pod', 'loc_in_pivnita', 'uscator'],\n",
       "       dtype='object')}"
      ]
     },
     "execution_count": 19,
     "metadata": {},
     "output_type": "execute_result"
    }
   ],
   "source": [
    "_ = tipuri_date()\n",
    "_"
   ]
  },
  {
   "cell_type": "code",
   "execution_count": 20,
   "metadata": {},
   "outputs": [
    {
     "name": "stdout",
     "output_type": "stream",
     "text": [
      "geamuri_termopan \n",
      "\n",
      " Da    5277\n",
      "Nu    1108\n",
      "Name: geamuri_termopan, dtype: int64\n",
      "\n",
      "\n",
      "centrala_termica \n",
      "\n",
      " Da    6184\n",
      "Nu    1468\n",
      "Name: centrala_termica, dtype: int64\n",
      "\n",
      "\n",
      "parchet \n",
      "\n",
      " Da    5205\n",
      "Nu    2230\n",
      "Name: parchet, dtype: int64\n",
      "\n",
      "\n",
      "gresie \n",
      "\n",
      " Nu    3735\n",
      "Da    3620\n",
      "Name: gresie, dtype: int64\n",
      "\n",
      "\n",
      "faianta \n",
      "\n",
      " Da    5249\n",
      "Nu    2123\n",
      "Name: faianta, dtype: int64\n",
      "\n",
      "\n",
      "zugravit_lavabil \n",
      "\n",
      " Da    4765\n",
      "Nu    2409\n",
      "Name: zugravit_lavabil, dtype: int64\n",
      "\n",
      "\n",
      "loc_parcare \n",
      "\n",
      " Nu    3372\n",
      "Da    2490\n",
      "Name: loc_parcare, dtype: int64\n",
      "\n",
      "\n",
      "modificari_interioare \n",
      "\n",
      " Nu    3785\n",
      "Da    375 \n",
      "Name: modificari_interioare, dtype: int64\n",
      "\n",
      "\n",
      "balcoane_inchise \n",
      "\n",
      " Nu    2965\n",
      "Da    868 \n",
      "Name: balcoane_inchise, dtype: int64\n",
      "\n",
      "\n",
      "aer_conditionat \n",
      "\n",
      " Nu    5071\n",
      "Da    325 \n",
      "Name: aer_conditionat, dtype: int64\n",
      "\n",
      "\n",
      "loc_in_pod \n",
      "\n",
      " Nu    4224\n",
      "Da    714 \n",
      "Name: loc_in_pod, dtype: int64\n",
      "\n",
      "\n",
      "loc_in_pivnita \n",
      "\n",
      " Nu    4124\n",
      "Da    1025\n",
      "Name: loc_in_pivnita, dtype: int64\n",
      "\n",
      "\n",
      "uscator \n",
      "\n",
      " Nu    4250\n",
      "Da    671 \n",
      "Name: uscator, dtype: int64\n",
      "\n",
      "\n"
     ]
    }
   ],
   "source": [
    "_ = valori_unice(coloane_bool)"
   ]
  },
  {
   "cell_type": "code",
   "execution_count": 21,
   "metadata": {},
   "outputs": [
    {
     "name": "stdout",
     "output_type": "stream",
     "text": [
      "geamuri_termopan 1885\n",
      "centrala_termica 618\n",
      "parchet 835\n",
      "gresie 915\n",
      "faianta 898\n",
      "zugravit_lavabil 1096\n",
      "loc_parcare 2408\n",
      "modificari_interioare 4110\n",
      "balcoane_inchise 4437\n",
      "aer_conditionat 2874\n",
      "loc_in_pod 3332\n",
      "loc_in_pivnita 3121\n",
      "uscator 3349\n"
     ]
    }
   ],
   "source": [
    "_ = valori_nule(coloane_bool)"
   ]
  },
  {
   "cell_type": "code",
   "execution_count": 22,
   "metadata": {
    "collapsed": true
   },
   "outputs": [],
   "source": [
    "data.replace(['Nu', 'Nespecificat'], [np.nan, np.nan], inplace=True)"
   ]
  },
  {
   "cell_type": "code",
   "execution_count": 23,
   "metadata": {
    "collapsed": true
   },
   "outputs": [],
   "source": [
    "_ = None\n",
    "_"
   ]
  },
  {
   "cell_type": "code",
   "execution_count": 24,
   "metadata": {},
   "outputs": [
    {
     "name": "stdout",
     "output_type": "stream",
     "text": [
      "geamuri_termopan 2993\n",
      "centrala_termica 2086\n",
      "parchet 3065\n",
      "gresie 4650\n",
      "faianta 3021\n",
      "zugravit_lavabil 3505\n",
      "loc_parcare 5780\n",
      "modificari_interioare 7895\n",
      "balcoane_inchise 7402\n",
      "aer_conditionat 7945\n",
      "loc_in_pod 7556\n",
      "loc_in_pivnita 7245\n",
      "uscator 7599\n"
     ]
    }
   ],
   "source": [
    "_ = valori_nule(coloane_bool)"
   ]
  },
  {
   "cell_type": "code",
   "execution_count": 25,
   "metadata": {},
   "outputs": [
    {
     "name": "stdout",
     "output_type": "stream",
     "text": [
      "geamuri_termopan \n",
      "\n",
      " Da    5277\n",
      "Name: geamuri_termopan, dtype: int64\n",
      "\n",
      "\n",
      "centrala_termica \n",
      "\n",
      " Da    6184\n",
      "Name: centrala_termica, dtype: int64\n",
      "\n",
      "\n",
      "parchet \n",
      "\n",
      " Da    5205\n",
      "Name: parchet, dtype: int64\n",
      "\n",
      "\n",
      "gresie \n",
      "\n",
      " Da    3620\n",
      "Name: gresie, dtype: int64\n",
      "\n",
      "\n",
      "faianta \n",
      "\n",
      " Da    5249\n",
      "Name: faianta, dtype: int64\n",
      "\n",
      "\n",
      "zugravit_lavabil \n",
      "\n",
      " Da    4765\n",
      "Name: zugravit_lavabil, dtype: int64\n",
      "\n",
      "\n",
      "loc_parcare \n",
      "\n",
      " Da    2490\n",
      "Name: loc_parcare, dtype: int64\n",
      "\n",
      "\n",
      "modificari_interioare \n",
      "\n",
      " Da    375\n",
      "Name: modificari_interioare, dtype: int64\n",
      "\n",
      "\n",
      "balcoane_inchise \n",
      "\n",
      " Da    868\n",
      "Name: balcoane_inchise, dtype: int64\n",
      "\n",
      "\n",
      "aer_conditionat \n",
      "\n",
      " Da    325\n",
      "Name: aer_conditionat, dtype: int64\n",
      "\n",
      "\n",
      "loc_in_pod \n",
      "\n",
      " Da    714\n",
      "Name: loc_in_pod, dtype: int64\n",
      "\n",
      "\n",
      "loc_in_pivnita \n",
      "\n",
      " Da    1025\n",
      "Name: loc_in_pivnita, dtype: int64\n",
      "\n",
      "\n",
      "uscator \n",
      "\n",
      " Da    671\n",
      "Name: uscator, dtype: int64\n",
      "\n",
      "\n"
     ]
    }
   ],
   "source": [
    "_ = valori_unice(coloane_bool)"
   ]
  },
  {
   "cell_type": "markdown",
   "metadata": {},
   "source": [
    "Vom modifica tipurile de date. Vom face coloanele \"pret\" si \"suprafata\" sa fie numerice."
   ]
  },
  {
   "cell_type": "code",
   "execution_count": 26,
   "metadata": {
    "collapsed": true
   },
   "outputs": [],
   "source": [
    "import re"
   ]
  },
  {
   "cell_type": "code",
   "execution_count": 27,
   "metadata": {
    "collapsed": true
   },
   "outputs": [],
   "source": [
    "def pret_modificare(column):\n",
    "    column = str(column)\n",
    "    column = re.sub(r'\\D', '', column)\n",
    "    column = int(column)\n",
    "    return column\n",
    "\n",
    "data['pret'] = data['pret'].apply(pret_modificare)"
   ]
  },
  {
   "cell_type": "code",
   "execution_count": 28,
   "metadata": {},
   "outputs": [
    {
     "data": {
      "text/plain": [
       "dtype('int64')"
      ]
     },
     "execution_count": 28,
     "metadata": {},
     "output_type": "execute_result"
    }
   ],
   "source": [
    "data.pret.dtypes"
   ]
  },
  {
   "cell_type": "code",
   "execution_count": 29,
   "metadata": {
    "collapsed": true
   },
   "outputs": [],
   "source": [
    "def supraf_mod(column):\n",
    "    column = str(column)\n",
    "    column = re.sub(r'mp', '', column)\n",
    "    return column\n",
    "data['suprafata'] = data['suprafata'].apply(supraf_mod)\n",
    "\n",
    "def supraf_modificare(column):\n",
    "    column = str(column)\n",
    "    column = re.sub(r'\\.\\d+', '', column)\n",
    "    return column\n",
    "data['suprafata'] = data['suprafata'].apply(supraf_modificare)"
   ]
  },
  {
   "cell_type": "code",
   "execution_count": 30,
   "metadata": {
    "collapsed": true
   },
   "outputs": [],
   "source": [
    "data = data[data['suprafata'] != ' ']\n",
    "\n",
    "def convert_int(rand):\n",
    "    rand = re.sub(r'\\s', '', rand)\n",
    "    rand = int(rand)\n",
    "    return rand\n",
    "\n",
    "contor = data['suprafata']==' '\n",
    "contor.sum()\n",
    "data['suprafata'] = data['suprafata'].apply(convert_int)"
   ]
  },
  {
   "cell_type": "code",
   "execution_count": 31,
   "metadata": {},
   "outputs": [
    {
     "data": {
      "text/plain": [
       "dtype('int64')"
      ]
     },
     "execution_count": 31,
     "metadata": {},
     "output_type": "execute_result"
    }
   ],
   "source": [
    "data.suprafata.dtypes"
   ]
  },
  {
   "cell_type": "markdown",
   "metadata": {},
   "source": [
    "Vom incepe procesul de curatare a datelor"
   ]
  },
  {
   "cell_type": "markdown",
   "metadata": {},
   "source": [
    "Vom vedea cate apartamente au pretul mai mic de 10000 de euro."
   ]
  },
  {
   "cell_type": "code",
   "execution_count": 32,
   "metadata": {
    "collapsed": true
   },
   "outputs": [],
   "source": [
    "mask_pret = data['pret'] < 10000"
   ]
  },
  {
   "cell_type": "code",
   "execution_count": 33,
   "metadata": {},
   "outputs": [
    {
     "data": {
      "text/plain": [
       "79"
      ]
     },
     "execution_count": 33,
     "metadata": {},
     "output_type": "execute_result"
    }
   ],
   "source": [
    "mask_pret.sum()"
   ]
  },
  {
   "cell_type": "markdown",
   "metadata": {},
   "source": [
    "Vom elimina preturile mai mici de 10000 de euro"
   ]
  },
  {
   "cell_type": "code",
   "execution_count": 34,
   "metadata": {
    "collapsed": true
   },
   "outputs": [],
   "source": [
    "data = data[data['pret'] > 10000]"
   ]
  },
  {
   "cell_type": "code",
   "execution_count": 35,
   "metadata": {},
   "outputs": [
    {
     "data": {
      "text/plain": [
       "34"
      ]
     },
     "execution_count": 35,
     "metadata": {},
     "output_type": "execute_result"
    }
   ],
   "source": [
    "mask_pret = data['pret'] >300000\n",
    "mask_pret.sum()"
   ]
  },
  {
   "cell_type": "code",
   "execution_count": 36,
   "metadata": {
    "collapsed": true
   },
   "outputs": [],
   "source": [
    "data = data[data['pret'] < 300000]"
   ]
  },
  {
   "cell_type": "code",
   "execution_count": 37,
   "metadata": {},
   "outputs": [
    {
     "data": {
      "image/png": "[encoded data removed]",
      "text/plain": [
       "<matplotlib.figure.Figure at 0x162bf4f5d68>"
      ]
     },
     "metadata": {},
     "output_type": "display_data"
    }
   ],
   "source": [
    "data.pret.hist(bins=20)\n",
    "plt.show()"
   ]
  },
  {
   "cell_type": "code",
   "execution_count": 38,
   "metadata": {},
   "outputs": [
    {
     "data": {
      "image/png": "[encoded data removed]",
      "text/plain": [
       "<matplotlib.figure.Figure at 0x162bfccb320>"
      ]
     },
     "metadata": {},
     "output_type": "display_data"
    }
   ],
   "source": [
    "plt.boxplot(data.pret)\n",
    "plt.show()"
   ]
  },
  {
   "cell_type": "code",
   "execution_count": 39,
   "metadata": {
    "collapsed": true
   },
   "outputs": [],
   "source": [
    "data = data[data['suprafata'] < 250]"
   ]
  },
  {
   "cell_type": "code",
   "execution_count": 40,
   "metadata": {
    "collapsed": true
   },
   "outputs": [],
   "source": [
    "data = data[data['suprafata'] > 10]"
   ]
  },
  {
   "cell_type": "code",
   "execution_count": 41,
   "metadata": {},
   "outputs": [
    {
     "data": {
      "image/png": "[encoded data removed]",
      "text/plain": [
       "<matplotlib.figure.Figure at 0x162bfff2668>"
      ]
     },
     "metadata": {},
     "output_type": "display_data"
    }
   ],
   "source": [
    "data.suprafata.hist(bins=25)\n",
    "plt.show()"
   ]
  },
  {
   "cell_type": "code",
   "execution_count": 42,
   "metadata": {},
   "outputs": [
    {
     "data": {
      "text/plain": [
       "{dtype('int64'): Index(['pret', 'suprafata'], dtype='object'),\n",
       " dtype('O'): Index(['titlu', 'oras', 'grad_finisare', 'descriere', 'tip_oferta', 'persoana',\n",
       "        'etaj', 'vechime_imobil', 'numar_bai', 'numar_balcoane',\n",
       "        'geamuri_termopan', 'centrala_termica', 'compatimentare', 'parchet',\n",
       "        'confort', 'gresie', 'faianta', 'zugravit_lavabil', 'loc_parcare',\n",
       "        'agentie', 'numar_camere', 'strada', 'cartier', 'link',\n",
       "        'modificari_interioare', 'balcoane_inchise', 'aer_conditionat',\n",
       "        'loc_in_pod', 'loc_in_pivnita', 'uscator'],\n",
       "       dtype='object')}"
      ]
     },
     "execution_count": 42,
     "metadata": {},
     "output_type": "execute_result"
    }
   ],
   "source": [
    "_ = tipuri_date()\n",
    "_"
   ]
  },
  {
   "cell_type": "markdown",
   "metadata": {},
   "source": [
    "Vom creea o coloana noua, \"pret/suprafata\", pentru a putea analiza mai bine datele."
   ]
  },
  {
   "cell_type": "code",
   "execution_count": 43,
   "metadata": {
    "collapsed": true
   },
   "outputs": [],
   "source": [
    "data['pret/suprafata']= data['pret'] // data['suprafata']"
   ]
  },
  {
   "cell_type": "code",
   "execution_count": 44,
   "metadata": {},
   "outputs": [
    {
     "data": {
      "text/plain": [
       "dtype('int64')"
      ]
     },
     "execution_count": 44,
     "metadata": {},
     "output_type": "execute_result"
    }
   ],
   "source": [
    "data.suprafata.dtypes"
   ]
  },
  {
   "cell_type": "code",
   "execution_count": 45,
   "metadata": {},
   "outputs": [
    {
     "data": {
      "image/png": "[encoded data removed]",
      "text/plain": [
       "<matplotlib.figure.Figure at 0x162c00502e8>"
      ]
     },
     "metadata": {},
     "output_type": "display_data"
    }
   ],
   "source": [
    "data['pret/suprafata'].hist(bins=30)\n",
    "plt.show()"
   ]
  },
  {
   "cell_type": "code",
   "execution_count": 46,
   "metadata": {},
   "outputs": [
    {
     "data": {
      "image/png": "[encoded data removed]",
      "text/plain": [
       "<matplotlib.figure.Figure at 0x162c0220048>"
      ]
     },
     "metadata": {},
     "output_type": "display_data"
    }
   ],
   "source": [
    "plt.boxplot(data['pret/suprafata'])\n",
    "plt.show()"
   ]
  },
  {
   "cell_type": "markdown",
   "metadata": {},
   "source": [
    "Vom formata coloana \"numar_camere\" pentru a avea doar date numerice de tip int."
   ]
  },
  {
   "cell_type": "code",
   "execution_count": 47,
   "metadata": {
    "collapsed": true
   },
   "outputs": [],
   "source": [
    "def camere_modificare(column):\n",
    "    column = str(column)\n",
    "    column = re.sub(r'\\D', '', column)\n",
    "    return column\n",
    "\n",
    "data['numar_camere'] = data['numar_camere'].apply(camere_modificare)"
   ]
  },
  {
   "cell_type": "code",
   "execution_count": 48,
   "metadata": {
    "collapsed": true
   },
   "outputs": [],
   "source": [
    "data = data[data['numar_camere'] != '']"
   ]
  },
  {
   "cell_type": "code",
   "execution_count": 49,
   "metadata": {
    "collapsed": true
   },
   "outputs": [],
   "source": [
    "def camere_int(column):\n",
    "    column = int(column)\n",
    "    return column\n",
    "\n",
    "data['numar_camere'] = data['numar_camere'].apply(camere_int)"
   ]
  },
  {
   "cell_type": "code",
   "execution_count": 50,
   "metadata": {},
   "outputs": [
    {
     "data": {
      "text/plain": [
       "2    3302\n",
       "3    2618\n",
       "1    1280\n",
       "4    730 \n",
       "5    54  \n",
       "6    8   \n",
       "7    1   \n",
       "Name: numar_camere, dtype: int64"
      ]
     },
     "execution_count": 50,
     "metadata": {},
     "output_type": "execute_result"
    }
   ],
   "source": [
    "data['numar_camere'].value_counts()"
   ]
  },
  {
   "cell_type": "code",
   "execution_count": 51,
   "metadata": {
    "collapsed": true
   },
   "outputs": [],
   "source": [
    "coloane = data.columns.tolist()"
   ]
  },
  {
   "cell_type": "code",
   "execution_count": 52,
   "metadata": {},
   "outputs": [
    {
     "data": {
      "text/plain": [
       "['titlu',\n",
       " 'pret',\n",
       " 'oras',\n",
       " 'grad_finisare',\n",
       " 'descriere',\n",
       " 'tip_oferta',\n",
       " 'persoana',\n",
       " 'etaj',\n",
       " 'vechime_imobil',\n",
       " 'numar_bai',\n",
       " 'numar_balcoane',\n",
       " 'geamuri_termopan',\n",
       " 'centrala_termica',\n",
       " 'compatimentare',\n",
       " 'parchet',\n",
       " 'confort',\n",
       " 'gresie',\n",
       " 'faianta',\n",
       " 'zugravit_lavabil',\n",
       " 'loc_parcare',\n",
       " 'agentie',\n",
       " 'numar_camere',\n",
       " 'strada',\n",
       " 'suprafata',\n",
       " 'cartier',\n",
       " 'link',\n",
       " 'modificari_interioare',\n",
       " 'balcoane_inchise',\n",
       " 'aer_conditionat',\n",
       " 'loc_in_pod',\n",
       " 'loc_in_pivnita',\n",
       " 'uscator',\n",
       " 'pret/suprafata']"
      ]
     },
     "execution_count": 52,
     "metadata": {},
     "output_type": "execute_result"
    }
   ],
   "source": [
    "coloane"
   ]
  },
  {
   "cell_type": "code",
   "execution_count": 53,
   "metadata": {},
   "outputs": [
    {
     "data": {
      "text/plain": [
       "7993"
      ]
     },
     "execution_count": 53,
     "metadata": {},
     "output_type": "execute_result"
    }
   ],
   "source": [
    "len(data)"
   ]
  },
  {
   "cell_type": "code",
   "execution_count": 54,
   "metadata": {
    "collapsed": true
   },
   "outputs": [],
   "source": [
    "data.dropna(subset=['cartier'], inplace=True) "
   ]
  },
  {
   "cell_type": "code",
   "execution_count": 55,
   "metadata": {},
   "outputs": [
    {
     "data": {
      "text/plain": [
       "7613"
      ]
     },
     "execution_count": 55,
     "metadata": {},
     "output_type": "execute_result"
    }
   ],
   "source": [
    "len(data)"
   ]
  },
  {
   "cell_type": "code",
   "execution_count": 56,
   "metadata": {},
   "outputs": [
    {
     "data": {
      "text/plain": [
       "['pret',\n",
       " 'etaj',\n",
       " 'vechime_imobil',\n",
       " 'numar_camere',\n",
       " 'cartier',\n",
       " 'suprafata',\n",
       " 'compatimentare']"
      ]
     },
     "execution_count": 56,
     "metadata": {},
     "output_type": "execute_result"
    }
   ],
   "source": [
    "first"
   ]
  },
  {
   "cell_type": "code",
   "execution_count": 57,
   "metadata": {},
   "outputs": [
    {
     "name": "stdout",
     "output_type": "stream",
     "text": [
      "pret 0\n",
      "etaj 1298\n",
      "vechime_imobil 1843\n",
      "numar_camere 0\n",
      "cartier 0\n",
      "suprafata 0\n",
      "compatimentare 1216\n"
     ]
    }
   ],
   "source": [
    "_ = valori_nule(first)"
   ]
  },
  {
   "cell_type": "code",
   "execution_count": 58,
   "metadata": {},
   "outputs": [
    {
     "name": "stdout",
     "output_type": "stream",
     "text": [
      "titlu \n",
      "\n",
      " Apartament 2  camere de vanzare in Manastur                                                  112\n",
      "Apartament 3  camere de vanzare in Manastur                                                  101\n",
      "Apartament 2 camere                                                                          94 \n",
      "Apartament 2  camere de vanzare in Centru                                                    93 \n",
      "Apartament 2  camere de vanzare in Gheorgheni                                                89 \n",
      "Apartament 3  camere de vanzare in Marasti                                                   86 \n",
      "Apartament 3 camere                                                                          64 \n",
      "Apartament 2  camere de vanzare in Marasti                                                   62 \n",
      "Apartament 3  camere de vanzare in Buna Ziua                                                 54 \n",
      "Apartament 3  camere de vanzare in Centru                                                    51 \n",
      "                                                                                             .. \n",
      "Vanzare apatament 4 camere, Buna Ziua                                                        1  \n",
      "Garsoniera confort 1 in Manastur, mobilata                                                   1  \n",
      "Vand apartament cu 4 camere ultrafinisat, la 2 min de The Office!                            1  \n",
      "Vanzare Apartament 2 camere decomandat, 52 mp, Etajul 1 din 5, in apropiere de DECEBAL       1  \n",
      "Vanzare Apartament 4 camere decomandat, 70 mp, Etajul 1 din 4, in apropiere de ION MESTER    1  \n",
      "Apartament 3 camere in zona Diana                                                            1  \n",
      "Apartament cu parcare in zona semicentrala, 2 bai, 65 mp                                     1  \n",
      "Mein Haus: apartament cu 2 camere in Gheorgheni (ID - 39817)                                 1  \n",
      "Mein Haus: apartament cu 4 camere in Marasti (ID - 38392)                                    1  \n",
      "Apartament 3 camere in Buna Ziua (ID - 38363)                                                1  \n",
      "Name: titlu, Length: 5631, dtype: int64\n",
      "\n",
      "\n",
      "pret \n",
      "\n",
      " 85000     197\n",
      "95000     170\n",
      "75000     153\n",
      "110000    148\n",
      "65000     147\n",
      "90000     145\n",
      "70000     133\n",
      "100000    130\n",
      "120000    126\n",
      "80000     125\n",
      "         ... \n",
      "57702     1  \n",
      "283000    1  \n",
      "86400     1  \n",
      "33158     1  \n",
      "94600     1  \n",
      "65950     1  \n",
      "61864     1  \n",
      "106950    1  \n",
      "61944     1  \n",
      "24600     1  \n",
      "Name: pret, Length: 824, dtype: int64\n",
      "\n",
      "\n",
      "oras \n",
      "\n",
      " Cluj-Napoca, Cluj, Manastur         1550\n",
      "Cluj-Napoca, Cluj, Marasti          1389\n",
      "Cluj-Napoca, Cluj, Gheorgheni       1028\n",
      "Cluj-Napoca, Cluj, Centru           928 \n",
      "Cluj-Napoca, Cluj, Zorilor          575 \n",
      "Cluj-Napoca, Cluj, Grigorescu       433 \n",
      "Cluj-Napoca, Cluj, Buna-Ziua        331 \n",
      "Cluj-Napoca, Cluj, Floresti         313 \n",
      "Cluj-Napoca, Cluj, Europa           237 \n",
      "Cluj-Napoca, Cluj, Borhanci         155 \n",
      "                                   ...  \n",
      "Cluj-Napoca, Cluj, Baciu            86  \n",
      "Cluj-Napoca, Cluj, Gruia            69  \n",
      "Cluj-Napoca, Cluj, Dambul-Rotund    49  \n",
      "Cluj-Napoca, Cluj, Apahida          32  \n",
      "Cluj-Napoca, Cluj, Someseni         24  \n",
      "Cluj-Napoca, Cluj, Gara             23  \n",
      "Cluj-Napoca, Cluj, Bulgaria         17  \n",
      "Cluj-Napoca, Cluj, Faget            2   \n",
      "Cluj-Napoca, Cluj, Feleacu          1   \n",
      "Cluj-Napoca, Cluj, Sopor            1   \n",
      "Name: oras, Length: 23, dtype: int64\n",
      "\n",
      "\n",
      "grad_finisare \n",
      "\n",
      " Finisat modern       1165\n",
      "Semifinisat          983 \n",
      "Finisat clasic       779 \n",
      "Ultrafinisat         376 \n",
      "Nefinisat            224 \n",
      "Renovat              63  \n",
      "Necesita renovare    37  \n",
      "Name: grad_finisare, dtype: int64\n",
      "\n",
      "\n",
      "descriere \n",
      "\n",
      "     Tudoria ofera spre vanzare apartamente de 1 camera cu suprafete cuprinse intre 46 si 51 mp situate intr-un ansamblu rezidential nou edificat de catre unul dintre dezvoltatorii imobiliari de renume de pe piata de profil. Apartamentele sunt decomandate,  compuse din dormitor,  bucatarie,  baie,  hol si balcon si sunt localizate la etajele intermediare ale imobilului de 7 etaje. Se predau la stadiul semifinisat,  cu geamuri termopan,  centrala termica si calorifere,  usa metalica la intrare,  pereti gletuiti,  instalatii trase pe pozitii si sapa autonivelanta turnata. In vederea achizitionarii se solicita un avans de minim 10.000 Euro. La plata unui avans de peste 30% se ofera un discount in functie de cuantumul sumei achitate. Exista posibilitatea achizitionarii unor locuri de parcare subterana la pretul de 4.000 Euro/loc. Preturi cuprinse intre 52.000 si 58.000 Euro,  TVA de 5% inclus. Pentru informatii suplimentare nu ezitati sa ne contactati la numerele de telefon afisate sau la sediul agentiei,  pe Calea Dorobantilor,  nr. 70.                                                                                           8\n",
      "    IMOFINDER va propune spre vanzare apartamente intr-un proiect nou,  acesta dispune de o arhitectura moderna si de o functionalitate buna,  avand curte interioara cu spatii verzi,  iar spatiile comerciale situate la parterul imobilelor sunt destinate unor activitati menite sa ridice confortul viitorilor clienti.\\r  Proiectul se afla in apropierea numeroaselor scoli si gradinite si totodata este bine conectat prin mijloacele de transport in comun aflate in apropiere,  precum si alte puncte de interes: Piata Mihai Viteazu.\\r  Proiectul dispunde de apartamente cu 1,  2 si 3 camere,  locuri de parcare subterane,  iar apartamente se vor preda la clientul final semifinisate si spatiile comune vor fi finisate modern.\\rDispune de apartamente cu suprafete intre 42 mp si 73 mp utili.\\rPreturi incepand de la 1400 euro/mp cu TVA 5% inclus.\\rParcare 7500 euro cu TVA inclus.\\rFinalizare sfarsitul anului 2018.\\r\\rApartamentele se pot achizitiona prin credit bancar.\\rPentru mai multe detalii suplimentare,  oferete de pret personalizate,  precum si disponibilitatea apartamentelor asteptam sa ne contactati telefonic sau prin e-mail!    8\n",
      "    Tudoria ofera spre vanzare apartament in zona Pietei Zorilor! Apartamentul este situat la etajul 1 al unui imobil cu 4 etaje,  format din 4 camere decomandate,  bucatarie,  hol si 2 bai,  in suprafata utila de 78mp+logie. Apartamentul este mediu finisat,  detine centrala termica individuala,  tamplarie PVC cu geam termopan,  parchet lemn masiv in stare buna,  gresie si faianta,  oferit spre vanzare cu bucataria mobilata. Datorita locatiei,  recomandam aceasta oferta atat pentru locuinta,  cat si pentru investitie!                                                                                                                                                                                                                                                                                                                                                                                                                                                                                                                                                                                                                                        7\n",
      "    Tudoria ofera spre vanzare apartamente de 1 camera cu suprafete cuprinse intre 35 si 40 mp situate intr-un ansamblu rezidential nou edificat de catre unul dintre cei mai reputati dezvoltatori de pe piata de profil. Apartamentele sunt decomandate,  compuse din camera,  bucatarie,  baie,  hol si balcon si sunt localizate la etajele intermediare ale imobilului de 7 etaje. Se predau la stadiul semifinisat,  cu centrala termica individuala,  instalatii trase pe pozitii,  pereti gletuiti si sapa autonivelanta turnata. In vederea achizitionarii se solicita un avans de minim 15%. La plata integrala se ofera bonus un loc de parcare exterior al carui pret este de 3.000 Euro + TVA. Preturi incepand de la 1.155 Euro/mp,  TVA de 5% inclus,  in functie de pozitionarea si modalitatea de plata a apartamentului. Pentru informatii suplimentare nu ezitati sa ne contactati la numerele de telefon afisate sau la sediul agentiei,  pe Calea Dorobantilor,  nr. 70.                                                                                                                                                                                      7\n",
      "    Tudoria ofera spre vanzare apartamente de 2 camere cu suprafete cuprinse intre 49 si 66 mp situate intr-un ansamblu rezidential nou edificat de catre unul dintre cei mai reputati dezvoltatori de pe piata de profil. Apartamentele sunt semidecomandate,  compuse din living+bucatarie open space,  dormitor,  baie si balcon si sunt localizate la etajele intermediare ale imobilului de 7 etaje. Se predau la stadiul semifinisat,  cu centrala termica individuala,  instalatii trase pe pozitii,  pereti gletuiti si sapa autonivelanta turnata. In vederea achizitionarii se solicita un avans de minim 15%. La plata integrala se ofera bonus un loc de parcare exterior al carui pret este de 3.000 Euro + TVA. Preturi incepand de la 1.155 Euro/mp,  TVA de 5% inclus,  in functie de pozitionarea si modalitatea de plata a apartamentului. Pentru informatii suplimentare nu ezitati sa ne contactati la numerele de telefon afisate sau la sediul agentiei,  pe Calea Dorobantilor,  nr. 70.                                                                                                                                                                    7\n",
      "    Vand apartament o camera,  central situat,  str. Nasaud,  et.3/7,  decomandat,  compus din camera,  bucatarie,  baie,  balcon,  2 debarale, un hol la intrare,  cu C.T, usa antiefractie,  izolat exterior,  finisaje clasice,  locatie excelenta la 3 min de Iulius-Moll,  la 3 min de centru,  pret 59900eur.                                                                                                                                                                                                                                                                                                                                                                                                                                                                                                                                                                                                                                                                                                                                                                                                                                                                6\n",
      "    Tudoria ofera spre vanzare un apartament in zona strazii Dorobantilor! Apartamentul este situat la etajul 7 al unui imobil cu 7 etaje,  format din camera,  bucatarie,  camara,  hol si baie,  in suprafata de 40 mp+ balcon. Finisajele imobilului sunt moderne. Orientarea sud-estica,  finisajele de calitate: centrala termica individuala,  ferestre termopan,  parchet laminat,  gresie si faianta moderna,  fac ca aceasta proprietate sa fie ideala alat pentru locuinta,  cat si pentru investitie. Informatii suplimentare pot fi furnizate telefonic la numerele afisate,  sau la sediul agentiei noastre,  pe Calea Dorobantilor,  Nr.70.                                                                                                                                                                                                                                                                                                                                                                                                                                                                                                                          6\n",
      "    Tudoria ofera spre vanzare apartamente de 2 camere cu suprafete cuprinse intre 52 si 70 mp situate intr-un ansamblu rezidential nou edificat de catre unul dintre dezvoltatorii imobiliari de renume de pe piata de profil. Apartamentele sunt semidecomandate,  compuse din dormitor,  zona de zi + bucatarie,  baie,  hol si balcon si sunt localizate la etajele intermediare ale imobilului de 7 etaje. Se predau la stadiul semifinisat,  cu geamuri termopan,  centrala termica si calorifere,  usa metalica la intrare,  pereti gletuiti,  instalatii trase pe pozitii si sapa autonivelanta turnata. In vederea achizitionarii se solicita un avans de minim 10.000 Euro. La plata unui avans de peste 30% se ofera un discount in functie de cuantumul sumei achitate. Exista posibilitatea achizitionarii unor locuri de parcare subterana la pretul de 4.000 Euro/loc. Preturi cuprinse intre 59.000 si 75.000 Euro,  TVA de 5% inclus. Pentru informatii suplimentare nu ezitati sa ne contactati la numerele de telefon afisate sau la sediul agentiei,  pe Calea Dorobantilor,  nr. 70.                                                                          6\n",
      "    IMOFINDER  va recomanda la vanzare un ansamblu rezidential modern,  situat in Buna Ziua,  zona Calea Turzii,  o zona in plina dezvoltare imobiliara . Sunt disponibile apartamente  de 2 si 3 camere cu suprafete intre 41 si 73 mp utili ce se vor preda semifinisate in luna iulie 2017. Locul de parcare 4000 Euro (neacoperit) sau 6000 Euro (acoperit). Pentru mai multe detalii,  va rugam sa ne contactati.                                                                                                                                                                                                                                                                                                                                                                                                                                                                                                                                                                                                                                                                                                                                                             5\n",
      "    Tudoria ofera spre vanzare apartament de 4 camere situat in zona BIG a cartierului Manastur. Aflat la etajul intermediar al unui imobil reabilitat termic si monitorizat video interior/exterior,  apartamentul decomandat este compartimentat astfel : 4 camere,  bucatarie,  2 bai,  dressing si hol,  avand suprafata utila de 80mp + 2 balcoane inchise cu suprafata de10mp. Finisajele imobilului sunt moderne,  parchet lemn masiv in stare foarte buna,  gresie,  faianta,  centrala termica individuala,  ferestre termopan,  usa metalica,  sistem de aer conditionat,  instalatie electrica noua,  cabluri ingropate in sapa. Apartamentul se ofera spre vanzare cu bucataria mobilata si utilata,  restul camerelor fiind partial mobilate. Aflat in imediata vecinatate a mijloacelor de transport in comun,  scolilor,  gradintelor,  spatiilor de joaca,  institutiilor bancare,  farmaciilor si pietei agroalimentare,  aceasta oferta este ideala atat pentru investitie,  cat si pentru locuinta. Pentru informatii suplimentare nu ezitati sa ne contactati la numerele de telefon afisate sau la sediul agentiei noastre,  pe Calea Dorobantilor nr. 70.    5\n",
      "                                                                                                                                                                                                                                                                                                                                                                                                                                                                                                                                                                                                                                                                                                                                                                                                                                                                                                                                                                                                                                                                                                                                                                                  ..\n",
      "    MEIN HAUS,  vinde apartament cu 1 camera,  confort I,  36 mp,  in Gheorgheni,  zona FSEGA,  finisata,  contorizata (apa si gaz) - centrala termica,  termopan,  parchet,  gresie si faianta moderna,  usa metalica.                                                                                                                                                                                                                                                                                                                                                                                                                                                                                                                                                                                                                                                                                                                                                                                                                                                                                                                                                            1\n",
      "    Agentia Mobitim vinde un apartament de 3 camere decomandat,  etaj 4/5,   2 bai ,  2 balcoane,  zona Kaufland in Marasti,  68 mp,  centrala termica,  geamuri termopan,  parchet,  lavabil,  gresie,  faianta,  mobilat si utilat. Pret 100000 euro.                                                                                                                                                                                                                                                                                                                                                                                                                                                                                                                                                                                                                                                                                                                                                                                                                                                                                                                            1\n",
      "    Zona linistita                                                                                                                                                                                                                                                                                                                                                                                                                                                                                                                                                                                                                                                                                                                                                                                                                                                                                                                                                                                                                                                                                                                                                                 1\n",
      "    Ultimele apartamente in constructie noua la 3 minute de Iulius Mall si in imediata vecinatate a noului comlex sportiv Gheorgheni!\\rSuprafata utila este de 44.09 + balcon de 2.58 mp si este compartimentat in dormitor,  living+bucatarie,  baie,  balcon si hol la intrare.\\rSe vinde la stadiul de semifinisat cu instalatiile trase pe pozitii,  geamuri termopan,  sapa egalizatoare,  usa de metal si incalzire in pardoseala Rehau.\\rPretul afisat nu include TVA iar separat exista posibilitatea de achizitie a locului de parcare.\\rZona este in continua dezvoltare si este la 3 minute de Iulius Mall,  aproape de facultati,  magazine,  scoli,  statii de autobuz si alte puncte de interes.\\rTermenul de predare este in toamna anului 2017.\\rPentru programarea unei vizionari nu ezitati sa ne contactati chiar acum!                                                                                                                                                                                                                                                                                                                                         1\n",
      "    Va oferim spre vanzare apartament in zona Piata Mihai Viteazu. Apartamentul de vanzare este compus din 3 camere semidecomandate,  bucatarie,  baie,  hol,  pivnita. Suprafata utila este de 74 mp si este situat la parterul unui imobil dispus pe 2 nivele. Finisajele sunt clasice si sunt dispuse astfel: pardoseala cu parchet din lemn masiv,  pereti cu lavabil,  usi interioare si de la intrare din lemn,  geamuri din sticla si lemn,  iar sistemul de incalzire este cu sobe de teracota. Apartamentul este ideal atat pentru locuinta cat si pentru investitie sau dezvolatrea propriei afaceri. Pentru mai multe detalii sau informatii nu ezitati sa ne contactati!                                                                                                                                                                                                                                                                                                                                                                                                                                                                                               1\n",
      "     Apartament in Gheorgheni,  zona Iuliu Mall.\\r\\rApartamentul este compus din 2 camere semidecomandate,  baie,  bucatarie,  hol,  balcon cu suprafata utila de 48 mp  si se afla intr-un imobil nou. Finisajele apartamentului sunt de  cea mai buna calitate. Apartamentul se preda finisat dar nemobilat.De asemenea,  se afla in imediata apropiere a mijloacelor de transport in comun si magazine. Complexul rezidential dispune de paza 24h/24h cu portar la intrarea in complex si foarte multe facilitati.                                                                                                                                                                                                                                                                                                                                                                                                                                                                                                                                                                                                                                                              1\n",
      "    De vanzare apartament cu 3 camere,  cu suprafata utila de 65 mp,  situat in cartierul Marasti,  in zona strazii Aurel Vlaicu. Apartamentul este pozitionat la etajul 4 al unui imobil dispus pe 4 nivele. \\rCompartimentarea este decomandata si gandita astfel: 3 camere,  1 bucatarie,  1 baie,  1 hol si 2 balcoane inchise.\\rApartamentul este finisat si dispune de centrala termica,  geamuri termopan cu tamplarie din PVC,  usa metalica la intrare,  usi interioare,  parchet,  gresie si faianta.                                                                                                                                                                                                                                                                                                                                                                                                                                                                                                                                                                                                                                                                    1\n",
      "    Apartament cu o camera de vanzare in CLUJ-NAPOCA,  cartierul CENTRAL,  zona Piata Muzeului,  situat la demisolul unei case istorice,  avand suprafata de 41 mp. Apartamentul este confort sporit,  semidecomandat,  avand o camera,  baie,  bucatarie,  complet finisat,  mobilat si utilat. Daca va place aceasta oferta sau pentru alte oferte nu ezitati sa ne contactati telefonic sau la sediul nostru EDIL,  Str. Iuliu Maniu,  Nr. 17,  Cluj-Napoca.  (ID:APCJ282554)                                                                                                                                                                                                                                                                                                                                                                                                                                                                                                                                                                                                                                                                                                   1\n",
      "    Habitas Imobiliare va ofera spre vanzare apartament cu 3 camere,  semidecomandat,  in Piata Muzeului,  zona ultracentrala,  pietonala.\\r\\rApartamentul este situat la etajul 1 al unei constructii cu un nivel,  are o suprafata utila de 65 mp si se compune din:\\r\\r- 3 camere,  bucatarie,  baie,  mansarda si beci.\\r\\rApartamentul este ultrafinisat,  a fost renovat integral cu materiale de constructie si instalatii premium,  in ton cu vechimea si arhitectura cladirii.\\r\\rDispune de centrala termica,  geamuri termopan din lemn,  parchet din lemn masiv,  baia si bucataria sunt finisate cu piatra naturala si marmura de calitate superioara . Instalatiile sanitare,  termice si electrice sunt refacute complet.\\r\\rApartamentul beneficiaza de pod mansardabil,  pe toata suprafata sa,  unde au fost trase utilitatile. \\r\\rSe va preda mobilat si utilat.\\r\\rUn apartament ideal pentru investitie!                                                                                                                                                                                                                                                     1\n",
      "    Aceasta oferta exceptionala este sub pretul pietei! EDIL va ofera spre vanzare o garsoniera ,  situata la etajul 2 din 4 etaje,  in CLUJ-NAPOCA,  cartierul GHEORGHENI,  in apropiere de IULIUS MALL. Suprafata acesteia este de 22 mp. Garsoniera este confort 2 si este dotata cu 1 baie,  faianta clasica,  gresie clasica,  mocheta,  parchet masiv. Imobilul mobilat clasic mai are si alte dotari precum frigider,  masina de spalat,  aragaz,  interfon. Daca va place aceasta oferta sau pentru alte oferte nu ezitati sa ne contactati telefonic sau la sediul nostru EDIL,  Str. Iuliu Maniu,  Nr. 17,  Cluj-Napoca.  (ID:GACJ283118)                                                                                                                                                                                                                                                                                                                                                                                                                                                                                                                                1\n",
      "Name: descriere, Length: 7390, dtype: int64\n",
      "\n",
      "\n",
      "tip_oferta \n",
      "\n",
      " Vand    7146\n",
      "Name: tip_oferta, dtype: int64\n",
      "\n",
      "\n",
      "persoana \n",
      "\n",
      " Agentie Imobiliara    6756\n",
      "Persoana Fizica       371 \n",
      "Constructor           16  \n",
      "Persoana Juridica     2   \n",
      "Lichidator            1   \n",
      "Name: persoana, dtype: int64\n",
      "\n",
      "\n",
      "etaj \n",
      "\n",
      " Etajul 1            1172\n",
      "Parter              1126\n",
      "Etajul 2            941 \n",
      "Etajul 3            800 \n",
      "Etajul 4            718 \n",
      "Etaj intermediar    384 \n",
      "Etajul 5            220 \n",
      "Ultimul etaj        186 \n",
      "Etajul 7            174 \n",
      "Etajul 8            136 \n",
      "Etajul 6            123 \n",
      "Etajul 10           99  \n",
      "Etajul 9            96  \n",
      "Mansarda            70  \n",
      "Demisol             70  \n",
      "Name: etaj, dtype: int64\n",
      "\n",
      "\n",
      "vechime_imobil \n",
      "\n",
      " mai vechi de 2000    3154\n",
      "bloc nou             2415\n",
      "In constructie       201 \n",
      "Name: vechime_imobil, dtype: int64\n",
      "\n",
      "\n",
      "numar_bai \n",
      "\n",
      " 1      3997\n",
      "2      1899\n",
      "3      38  \n",
      "1.0    6   \n",
      "4      2   \n",
      "Name: numar_bai, dtype: int64\n",
      "\n",
      "\n",
      "numar_balcoane \n",
      "\n",
      " 1                   2925\n",
      "2                   1069\n",
      "Fara balcon         203 \n",
      "3                   131 \n",
      "Terasa              78  \n",
      "Balcon inchis       41  \n",
      "Balcoane inchise    8   \n",
      "1.0                 6   \n",
      "Name: numar_balcoane, dtype: int64\n",
      "\n",
      "\n",
      "geamuri_termopan \n",
      "\n",
      " Da    4866\n",
      "Name: geamuri_termopan, dtype: int64\n",
      "\n",
      "\n",
      "centrala_termica \n",
      "\n",
      " Da    5772\n",
      "Name: centrala_termica, dtype: int64\n",
      "\n",
      "\n",
      "compatimentare \n",
      "\n",
      " Decomandat        3867\n",
      "Semidecomandat    2462\n",
      "Open space        34  \n",
      "Nedecomandat      16  \n",
      "Circular          15  \n",
      "Vagon             3   \n",
      "Name: compatimentare, dtype: int64\n",
      "\n",
      "\n",
      "parchet \n",
      "\n",
      " Da    4962\n",
      "Name: parchet, dtype: int64\n",
      "\n",
      "\n",
      "confort \n",
      "\n",
      " 1         4016\n",
      "Sporit    1453\n",
      "Unic      126 \n",
      "2         121 \n",
      "3         49  \n",
      "Name: confort, dtype: int64\n",
      "\n",
      "\n",
      "gresie \n",
      "\n",
      " Da    3420\n",
      "Name: gresie, dtype: int64\n",
      "\n",
      "\n",
      "faianta \n",
      "\n",
      " Da    5003\n",
      "Name: faianta, dtype: int64\n",
      "\n",
      "\n",
      "zugravit_lavabil \n",
      "\n"
     ]
    },
    {
     "name": "stdout",
     "output_type": "stream",
     "text": [
      " Da    4554\n",
      "Name: zugravit_lavabil, dtype: int64\n",
      "\n",
      "\n",
      "loc_parcare \n",
      "\n",
      " Da    2342\n",
      "Name: loc_parcare, dtype: int64\n",
      "\n",
      "\n",
      "agentie \n",
      "\n",
      " NAPOCA Imobiliare      1397\n",
      "MEIN HAUS              969 \n",
      "EDIL                   654 \n",
      "REMS Imobiliare        496 \n",
      "IMOFINDER              434 \n",
      "Axa Imobiliare         390 \n",
      "Koncept Imobiliare     334 \n",
      "Habitas Imobiliare     272 \n",
      "Tara Imobiliare        217 \n",
      "Welt Imobiliare        213 \n",
      "                      ...  \n",
      "Pentalar imobiliare    1   \n",
      "TOP REAL INTERMED      1   \n",
      "Piacenza               1   \n",
      "Apartamente Cluj       1   \n",
      "EUMIPA                 1   \n",
      "Imobiliare Dobra       1   \n",
      "pf                     1   \n",
      "Persoana fizica        1   \n",
      "fara                   1   \n",
      "Saphir Imobiliare      1   \n",
      "Name: agentie, Length: 98, dtype: int64\n",
      "\n",
      "\n",
      "numar_camere \n",
      "\n",
      " 2    3130\n",
      "3    2498\n",
      "1    1222\n",
      "4    704 \n",
      "5    50  \n",
      "6    8   \n",
      "7    1   \n",
      "Name: numar_camere, dtype: int64\n",
      "\n",
      "\n",
      "strada \n",
      "\n",
      " -                      3897\n",
      ".                      556 \n",
      "-                      95  \n",
      "Fabricii               36  \n",
      "Dorobantilor           35  \n",
      "Horea                  33  \n",
      "Campului               30  \n",
      "CALEA DOROBANTILOR     27  \n",
      "Manastur               25  \n",
      "Donath                 25  \n",
      "                       ..  \n",
      "Valea Garboului        1   \n",
      "rasaritului 73         1   \n",
      "flora parc             1   \n",
      "Zona ONCOS             1   \n",
      "Moldoveanu             1   \n",
      "Traian Mosoiu          1   \n",
      "zona Petrom            1   \n",
      "zona Teodor Mihali     1   \n",
      "pritax                 1   \n",
      "g alexandrescu         1   \n",
      "Name: strada, Length: 1115, dtype: int64\n",
      "\n",
      "\n",
      "suprafata \n",
      "\n",
      " 65     404\n",
      "50     343\n",
      "52     315\n",
      "40     225\n",
      "70     209\n",
      "60     199\n",
      "54     192\n",
      "80     182\n",
      "42     163\n",
      "48     155\n",
      "      ... \n",
      "153    1  \n",
      "137    1  \n",
      "133    1  \n",
      "129    1  \n",
      "212    1  \n",
      "188    1  \n",
      "156    1  \n",
      "152    1  \n",
      "148    1  \n",
      "12     1  \n",
      "Name: suprafata, Length: 162, dtype: int64\n",
      "\n",
      "\n",
      "cartier \n",
      "\n",
      " Manastur         1550\n",
      "Marasti          1389\n",
      "Gheorgheni       1028\n",
      "Centru           928 \n",
      "Zorilor          575 \n",
      "Grigorescu       433 \n",
      "Buna-Ziua        331 \n",
      "Floresti         313 \n",
      "Europa           237 \n",
      "Borhanci         155 \n",
      "                ...  \n",
      "Baciu            86  \n",
      "Gruia            69  \n",
      "Dambul-Rotund    49  \n",
      "Apahida          32  \n",
      "Someseni         24  \n",
      "Gara             23  \n",
      "Bulgaria         17  \n",
      "Faget            2   \n",
      "Sopor            1   \n",
      "Feleacu          1   \n",
      "Name: cartier, Length: 23, dtype: int64\n",
      "\n",
      "\n",
      "link \n",
      "\n",
      " http://www.piata-az.ro/anunturi/oras-cluj-napoca/7601620    6\n",
      "http://www.piata-az.ro/anunturi/oras-cluj-napoca/7519710    1\n",
      "http://www.piata-az.ro/anunturi/oras-cluj-napoca/7366537    1\n",
      "http://www.piata-az.ro/anunturi/oras-cluj-napoca/7519684    1\n",
      "http://www.piata-az.ro/anunturi/oras-cluj-napoca/7363590    1\n",
      "http://www.piata-az.ro/anunturi/oras-cluj-napoca/7308387    1\n",
      "http://www.piata-az.ro/anunturi/oras-cluj-napoca/7269830    1\n",
      "http://www.piata-az.ro/anunturi/oras-cluj-napoca/7541201    1\n",
      "http://www.piata-az.ro/anunturi/oras-cluj-napoca/7531855    1\n",
      "http://www.piata-az.ro/anunturi/oras-cluj-napoca/7004996    1\n",
      "                                                           ..\n",
      "http://www.piata-az.ro/anunturi/oras-cluj-napoca/7539514    1\n",
      "http://www.piata-az.ro/anunturi/oras-cluj-napoca/7480558    1\n",
      "http://www.piata-az.ro/anunturi/oras-cluj-napoca/7429247    1\n",
      "http://www.piata-az.ro/anunturi/oras-cluj-napoca/7543780    1\n",
      "http://www.piata-az.ro/anunturi/oras-cluj-napoca/7539750    1\n",
      "http://www.piata-az.ro/anunturi/oras-cluj-napoca/7466159    1\n",
      "http://www.piata-az.ro/anunturi/oras-cluj-napoca/7483153    1\n",
      "http://www.piata-az.ro/anunturi/oras-cluj-napoca/7544101    1\n",
      "http://www.piata-az.ro/anunturi/oras-cluj-napoca/7339022    1\n",
      "http://www.piata-az.ro/anunturi/oras-cluj-napoca/7506410    1\n",
      "Name: link, Length: 7608, dtype: int64\n",
      "\n",
      "\n",
      "modificari_interioare \n",
      "\n",
      " Da    350\n",
      "Name: modificari_interioare, dtype: int64\n",
      "\n",
      "\n",
      "balcoane_inchise \n",
      "\n",
      " Da    845\n",
      "Name: balcoane_inchise, dtype: int64\n",
      "\n",
      "\n",
      "aer_conditionat \n",
      "\n",
      " Da    315\n",
      "Name: aer_conditionat, dtype: int64\n",
      "\n",
      "\n",
      "loc_in_pod \n",
      "\n",
      " Da    700\n",
      "Name: loc_in_pod, dtype: int64\n",
      "\n",
      "\n",
      "loc_in_pivnita \n",
      "\n",
      " Da    994\n",
      "Name: loc_in_pivnita, dtype: int64\n",
      "\n",
      "\n",
      "uscator \n",
      "\n",
      " Da    656\n",
      "Name: uscator, dtype: int64\n",
      "\n",
      "\n",
      "pret/suprafata \n",
      "\n",
      " 1500    140\n",
      "1250    89 \n",
      "1666    82 \n",
      "1200    73 \n",
      "2000    68 \n",
      "1300    61 \n",
      "1400    58 \n",
      "1461    53 \n",
      "1333    51 \n",
      "1538    46 \n",
      "        .. \n",
      "1669    1  \n",
      "1689    1  \n",
      "1713    1  \n",
      "1745    1  \n",
      "1757    1  \n",
      "1765    1  \n",
      "1797    1  \n",
      "1817    1  \n",
      "1861    1  \n",
      "2061    1  \n",
      "Name: pret/suprafata, Length: 1357, dtype: int64\n",
      "\n",
      "\n"
     ]
    }
   ],
   "source": [
    "_ = valori_unice(coloane)\n",
    "_"
   ]
  },
  {
   "cell_type": "code",
   "execution_count": 59,
   "metadata": {
    "collapsed": true
   },
   "outputs": [],
   "source": [
    "writer = pd.ExcelWriter(r'C:\\Users\\Scurtu Mihai\\Desktop\\data_curate2.xlsx')\n",
    "data.to_excel(writer,'Sheet1')\n",
    "writer.save()"
   ]
  },
  {
   "cell_type": "code",
   "execution_count": 60,
   "metadata": {
    "collapsed": true
   },
   "outputs": [],
   "source": [
    "file_name= r'C:\\Users\\Scurtu Mihai\\Desktop\\date_curatate3.csv'\n",
    "data.to_csv(file_name, sep='\\t', encoding='utf-8', index=False)"
   ]
  },
  {
   "cell_type": "code",
   "execution_count": 61,
   "metadata": {
    "collapsed": true
   },
   "outputs": [],
   "source": [
    "file_name2= r'C:\\Users\\Scurtu Mihai\\Desktop\\date.pkl'"
   ]
  },
  {
   "cell_type": "code",
   "execution_count": 62,
   "metadata": {
    "collapsed": true
   },
   "outputs": [],
   "source": [
    "data.to_pickle(file_name2)"
   ]
  },
  {
   "cell_type": "code",
   "execution_count": null,
   "metadata": {
    "collapsed": true
   },
   "outputs": [],
   "source": []
  }
 ],
 "metadata": {
  "kernelspec": {
   "display_name": "Python 3",
   "language": "python",
   "name": "python3"
  },
  "language_info": {
   "codemirror_mode": {
    "name": "ipython",
    "version": 3
   },
   "file_extension": ".py",
   "mimetype": "text/x-python",
   "name": "python",
   "nbconvert_exporter": "python",
   "pygments_lexer": "ipython3",
   "version": "3.6.2"
  }
 },
 "nbformat": 4,
 "nbformat_minor": 2
}
