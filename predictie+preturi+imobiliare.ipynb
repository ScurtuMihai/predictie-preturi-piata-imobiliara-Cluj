{
 "cells": [
  {
   "cell_type": "code",
   "execution_count": 2,
   "metadata": {
    "collapsed": true
   },
   "outputs": [],
   "source": [
    "import pandas as pd\n",
    "import numpy as np\n",
    "import matplotlib.pyplot as plt"
   ]
  },
  {
   "cell_type": "code",
   "execution_count": 3,
   "metadata": {
    "collapsed": true
   },
   "outputs": [],
   "source": [
    "pd.set_option('display.max_colwidth', -1)"
   ]
  },
  {
   "cell_type": "raw",
   "metadata": {},
   "source": [
    "Importam fisierele csv care contin anunturile cu apartamentele si garsoniere de vanzare"
   ]
  },
  {
   "cell_type": "code",
   "execution_count": 4,
   "metadata": {
    "collapsed": true
   },
   "outputs": [],
   "source": [
    "df = pd.read_csv(r'C:\\Users\\Scurtu Mihai\\Desktop\\proiect\\anunturi_piata_apartamente.csv', sep='\\t', encoding='utf-8')\n",
    "df_g = pd.read_csv(r'C:\\Users\\Scurtu Mihai\\Desktop\\proiect\\anunturi_piata_garsoniere.csv', sep='\\t', encoding='utf-8')"
   ]
  },
  {
   "cell_type": "raw",
   "metadata": {},
   "source": [
    "Garsonierele fiind doar cu o camera pe site nu apare categoria \"numar camere\" asa ca vom creea in data frame o noua coloana \"numar_camere\" si vom pune valoarea \"1\" pentru toate garsonierele."
   ]
  },
  {
   "cell_type": "code",
   "execution_count": 5,
   "metadata": {
    "collapsed": true
   },
   "outputs": [],
   "source": [
    "df_g['numar_camere'] = 1"
   ]
  },
  {
   "cell_type": "raw",
   "metadata": {},
   "source": [
    "Unim dataframe-urile"
   ]
  },
  {
   "cell_type": "code",
   "execution_count": 6,
   "metadata": {
    "collapsed": true
   },
   "outputs": [],
   "source": [
    "data = df.append(df_g)"
   ]
  },
  {
   "cell_type": "code",
   "execution_count": 7,
   "metadata": {
    "collapsed": true
   },
   "outputs": [],
   "source": [
    "data = data[data['titlu'] != 'Nu a fost deschis anuntul']"
   ]
  },
  {
   "cell_type": "raw",
   "metadata": {},
   "source": [
    "Am unit cele doua dataframe-uri si am eliminat anunturile care nu au fost deschise. \n",
    "Eroarea provine de la faptul ca in lista cu link-uri se aflau si link-urile de la pagini, astfel ca in aceste link-uri nu se afla un anunt propriu zis. \n",
    "Anunturile cu titlul 'Nu a fost deschis anuntul' sunt anunturi de la care nu au putut fi preluate date precum titlul anuntului.  Crawlerul a extras din link-urile de pe pagina nu doar link-urile care contin anunturi ci si link-ul cu toate anunturile de pe pagina. Din aceasta cauza avem 'Nu a fost deschis anuntul'."
   ]
  },
  {
   "cell_type": "code",
   "execution_count": 8,
   "metadata": {},
   "outputs": [
    {
     "data": {
      "text/plain": [
       "8270"
      ]
     },
     "execution_count": 8,
     "metadata": {},
     "output_type": "execute_result"
    }
   ],
   "source": [
    "len(data)"
   ]
  },
  {
   "cell_type": "code",
   "execution_count": 9,
   "metadata": {
    "collapsed": true
   },
   "outputs": [],
   "source": [
    "coloane = data.columns.tolist()"
   ]
  },
  {
   "cell_type": "code",
   "execution_count": 10,
   "metadata": {},
   "outputs": [
    {
     "data": {
      "text/plain": [
       "['titlu',\n",
       " 'pret',\n",
       " 'oras',\n",
       " 'grad_finisare',\n",
       " 'descriere',\n",
       " 'tip_oferta',\n",
       " 'persoana',\n",
       " 'etaj',\n",
       " 'vechime_imobil',\n",
       " 'numar_bai',\n",
       " 'numar_balcoane',\n",
       " 'geamuri_termopan',\n",
       " 'centrala_termica',\n",
       " 'compatimentare',\n",
       " 'parchet',\n",
       " 'confort',\n",
       " 'gresie',\n",
       " 'faianta',\n",
       " 'zugravit_lavabil',\n",
       " 'loc_parcare',\n",
       " 'agentie',\n",
       " 'numar_camere',\n",
       " 'strada',\n",
       " 'suprafata',\n",
       " 'cartier',\n",
       " 'link',\n",
       " 'modificari_interioare',\n",
       " 'balcoane_inchise',\n",
       " 'aer_conditionat',\n",
       " 'loc_in_pod',\n",
       " 'loc_in_pivnita',\n",
       " 'uscator']"
      ]
     },
     "execution_count": 10,
     "metadata": {},
     "output_type": "execute_result"
    }
   ],
   "source": [
    "coloane"
   ]
  },
  {
   "cell_type": "raw",
   "metadata": {},
   "source": [
    "Coloanele cele mai importante le vom introduce intr-o lista \"first\""
   ]
  },
  {
   "cell_type": "code",
   "execution_count": 11,
   "metadata": {
    "collapsed": true
   },
   "outputs": [],
   "source": [
    "first = ['pret', 'etaj', 'vechime_imobil', 'numar_camere', 'cartier', 'suprafata', 'compatimentare']"
   ]
  },
  {
   "cell_type": "raw",
   "metadata": {},
   "source": [
    "Verificam cate valori unice avem in fiecare coloana si cate valori nule avem in fiecare coloana"
   ]
  },
  {
   "cell_type": "code",
   "execution_count": 12,
   "metadata": {},
   "outputs": [
    {
     "name": "stdout",
     "output_type": "stream",
     "text": [
      "pret 85 000 EUR     205\n",
      "95 000 EUR     176\n",
      "75 000 EUR     167\n",
      "110 000 EUR    154\n",
      "65 000 EUR     152\n",
      "90 000 EUR     148\n",
      "70 000 EUR     146\n",
      "100 000 EUR    135\n",
      "120 000 EUR    135\n",
      "80 000 EUR     129\n",
      "105 000 EUR    117\n",
      "125 000 EUR    112\n",
      "72 000 EUR     106\n",
      "115 000 EUR    100\n",
      "78 000 EUR     94 \n",
      "45 000 EUR     93 \n",
      "87 000 EUR     85 \n",
      "82 000 EUR     84 \n",
      "69 000 EUR     80 \n",
      "60 000 EUR     75 \n",
      "89 000 EUR     74 \n",
      "130 000 EUR    74 \n",
      "79 000 EUR     73 \n",
      "76 000 EUR     71 \n",
      "77 000 EUR     71 \n",
      "68 000 EUR     70 \n",
      "99 000 EUR     69 \n",
      "93 000 EUR     67 \n",
      "50 000 EUR     67 \n",
      "55 000 EUR     66 \n",
      "               .. \n",
      "52 600 EUR     1  \n",
      "199 900 EUR    1  \n",
      "70 575 EUR     1  \n",
      "41 550 EUR     1  \n",
      "600 EUR/mp     1  \n",
      "51 192 EUR     1  \n",
      "132 100 EUR    1  \n",
      "178 857 EUR    1  \n",
      "87 472 EUR     1  \n",
      "33 900 EUR     1  \n",
      "77 440 EUR     1  \n",
      "44 200 EUR     1  \n",
      "71 541 EUR     1  \n",
      "116 500 EUR    1  \n",
      "41 250 EUR     1  \n",
      "119 791 RON    1  \n",
      "85 770 EUR     1  \n",
      "109 200 EUR    1  \n",
      "95 468 EUR     1  \n",
      "60 700 EUR     1  \n",
      "48 020 EUR     1  \n",
      "52 700 EUR     1  \n",
      "72 396 EUR     1  \n",
      "84 200 EUR     1  \n",
      "95 700 EUR     1  \n",
      "37 620 EUR     1  \n",
      "50 800 EUR     1  \n",
      "60 100 EUR     1  \n",
      "26 600 EUR     1  \n",
      "86 705 EUR     1  \n",
      "Name: pret, Length: 950, dtype: int64\n",
      "etaj Etajul 1            1256\n",
      "Parter              1183\n",
      "Nespecificat        1162\n",
      "Etajul 2            990 \n",
      "Etajul 3            843 \n",
      "Etajul 4            757 \n",
      "Etaj intermediar    451 \n",
      "Etajul 5            236 \n",
      "Ultimul etaj        196 \n",
      "Etajul 7            181 \n",
      "Etajul 8            145 \n",
      "Etajul 6            124 \n",
      "Etajul 10           100 \n",
      "Etajul 9            97  \n",
      "Mansarda            80  \n",
      "Demisol             75  \n",
      "Name: etaj, dtype: int64\n",
      "vechime_imobil mai vechi de 2000    3292\n",
      "bloc nou             2663\n",
      "Nespecificat         1285\n",
      "In constructie       215 \n",
      "Name: vechime_imobil, dtype: int64\n",
      "numar_camere 2      3413\n",
      "3      2679\n",
      "1      824 \n",
      "4      755 \n",
      "1      512 \n",
      "5      56  \n",
      "6      11  \n",
      "15     1   \n",
      "7      1   \n",
      "8      1   \n",
      "9      1   \n",
      "4+     1   \n",
      "Name: numar_camere, dtype: int64\n",
      "cartier Manastur           1585\n",
      "Marasti            1432\n",
      "Gheorgheni         1059\n",
      "Centru             978 \n",
      "Zorilor            593 \n",
      "Grigorescu         455 \n",
      "Buna-Ziua          338 \n",
      "Floresti           324 \n",
      "Europa             240 \n",
      "Borhanci           160 \n",
      "Andrei Muresanu    135 \n",
      "Plopilor           125 \n",
      "Iris               123 \n",
      "Baciu              87  \n",
      "Gruia              70  \n",
      "Dambul-Rotund      57  \n",
      "Apahida            37  \n",
      "Gara               24  \n",
      "Someseni           24  \n",
      "Bulgaria           17  \n",
      "Faget              3   \n",
      "Feleacu            1   \n",
      "Sopor              1   \n",
      "Name: cartier, dtype: int64\n",
      "suprafata 65mp        415\n",
      "50mp        360\n",
      "52mp        309\n",
      "40mp        230\n",
      "70mp        212\n",
      "60mp        205\n",
      "54mp        199\n",
      "80mp        184\n",
      "42mp        168\n",
      "53mp        157\n",
      "48mp        155\n",
      "46mp        149\n",
      "56mp        143\n",
      "45mp        143\n",
      "68mp        142\n",
      "67mp        140\n",
      "55mp        136\n",
      "47mp        119\n",
      "64mp        118\n",
      "78mp        118\n",
      "58mp        117\n",
      "51mp        116\n",
      "63mp        116\n",
      "mp          110\n",
      "57mp        106\n",
      "38mp        104\n",
      "28mp        104\n",
      "49mp        102\n",
      "72mp        94 \n",
      "44mp        92 \n",
      "            .. \n",
      "457mp       1  \n",
      "36.94mp     1  \n",
      "53.25mp     1  \n",
      "285mp       1  \n",
      "67.68mp     1  \n",
      "52.76mp     1  \n",
      "60.25mp     1  \n",
      "53.15mp     1  \n",
      "47.5mp      1  \n",
      "181mp       1  \n",
      "43.45mp     1  \n",
      "37.84mp     1  \n",
      "57.04mp     1  \n",
      "133mp       1  \n",
      "48.15mp     1  \n",
      "81.4mp      1  \n",
      "60.33mp     1  \n",
      "94.8mp      1  \n",
      "44.35mp     1  \n",
      "38.72mp     1  \n",
      "55.36mp     1  \n",
      "12mp        1  \n",
      "62.71mp     1  \n",
      "55.4mp      1  \n",
      "60.3mp      1  \n",
      "43.43mp     1  \n",
      "52.41mp     1  \n",
      "60.47mp     1  \n",
      "96.83mp     1  \n",
      "58.17mp     1  \n",
      "Name: suprafata, Length: 558, dtype: int64\n",
      "compatimentare Decomandat        4096\n",
      "Semidecomandat    2637\n",
      "Nespecificat      737 \n",
      "Open space        38  \n",
      "Nedecomandat      18  \n",
      "Circular          15  \n",
      "Vagon             3   \n",
      "Name: compatimentare, dtype: int64\n"
     ]
    }
   ],
   "source": [
    "for x in first:\n",
    "    print('{0}'.format(x) , data[x].value_counts())"
   ]
  },
  {
   "cell_type": "code",
   "execution_count": 13,
   "metadata": {},
   "outputs": [
    {
     "name": "stdout",
     "output_type": "stream",
     "text": [
      "titlu Apartament 2  camere de vanzare in Manastur                                                      112\n",
      "Apartament 2 camere                                                                              105\n",
      "Apartament 3  camere de vanzare in Manastur                                                      101\n",
      "Apartament 2  camere de vanzare in Centru                                                        93 \n",
      "Apartament 2  camere de vanzare in Gheorgheni                                                    89 \n",
      "Apartament 3  camere de vanzare in Marasti                                                       86 \n",
      "Apartament 3 camere                                                                              72 \n",
      "Apartament 2  camere de vanzare in Marasti                                                       62 \n",
      "Apartament 3  camere de vanzare in Buna Ziua                                                     54 \n",
      "Apartament 3  camere de vanzare in Centru                                                        54 \n",
      "Apartament 3  camere de vanzare in Gheorgheni                                                    50 \n",
      "Apartament 4  camere de vanzare in Manastur                                                      46 \n",
      "Apartament 2  camere de vanzare in Zorilor                                                       42 \n",
      "Apartament 1 camera                                                                              37 \n",
      "Garsoniera de vanzare in Marasti                                                                 37 \n",
      "Apartament 2  camere de vanzare in Grigorescu                                                    35 \n",
      "Apartament 3  camere de vanzare in Zorilor                                                       35 \n",
      "Garsoniera de vanzare in Manastur                                                                33 \n",
      "Apartament 2  camere de vanzare in Intre Lacuri                                                  30 \n",
      "Apartament 2  camere de vanzare in Buna Ziua                                                     27 \n",
      "Apartament o camera de vanzare in Marasti                                                        24 \n",
      "Apartament o camera de vanzare in Centru                                                         24 \n",
      "Apartament 2  camere de vanzare in Borhanci                                                      21 \n",
      "Apartament 2 camere cart. Marasti                                                                20 \n",
      "Apartament 4  camere de vanzare in Marasti                                                       20 \n",
      "Apartament 3  camere de vanzare in Grigorescu                                                    18 \n",
      "Vand apartament cu 2 camere in cartierul Manastur                                                17 \n",
      "Apartament 4  camere de vanzare in Zorilor                                                       16 \n",
      "Apartament o camera de vanzare in Manastur                                                       16 \n",
      "Apartament 4  camere de vanzare in Centru                                                        15 \n",
      "                                                                                                 .. \n",
      "Vanzare Apartament 2 camere decomandat, 54 mp, Etajul parter din 8, in apropiere de CALEA ...    1  \n",
      "B1217 Vandapartament  2camere in Manastu                                                         1  \n",
      "Vanzare apartament 3 camere zona Piata Marasti                                                   1  \n",
      "Vanzare apartament 2 camere, Zorilor, ultrafinisat                                               1  \n",
      "Vanzare garsoniera Manastur, mobilata si utilata                                                 1  \n",
      "Mein Haus: apartament cu 4 camere in Marasti (ID - 38395)                                        1  \n",
      "Apartament bloc nou în zona Marasti                                                              1  \n",
      "Mein Haus: apartament cu 2 camere in Manastur (ID - 37273)                                       1  \n",
      "Mein Haus: apartament cu 2 camere in Marasti (ID - 38542)                                        1  \n",
      "Apartament 4 camere de  vanzare in Cluj Napoca, Manastur ID 4187                                 1  \n",
      "Apartament 3 camere de  vanzare in Cluj Napoca, Marasti ID 2422                                  1  \n",
      "Vanzare Apartament 2 camere decomandat, 54 mp, Etajul 8 din 10, in apropiere de MICUS            1  \n",
      "Apartament 2 camere, zona Golden Tulip                                                           1  \n",
      "Apartament 2 camere de  vanzare in Cluj Napoca, Manastur ID 4074                                 1  \n",
      "Apartamente de vanzare de 2 camere in Buna Ziua                                                  1  \n",
      "Vanzare apartament pe 2 nivele, gradina 350 mp, Manastur                                         1  \n",
      "Apartament decomandat, etajul 3, balcon, zona centrala                                           1  \n",
      "Apartament in vila, cu gradina, zona Parcului Central!                                           1  \n",
      "Apartament 2 camere decomandat,zona Pod Calvaria                                                 1  \n",
      "Mein Haus: apartament cu 3 camere in Manastur (ID - 38334)                                       1  \n",
      "Vanzare 2 camere, zona Calea Turzii, 56 mp + balcon                                              1  \n",
      "Apartament 3 camere decomndat in Gheorgheni                                                      1  \n",
      "Apartament 1 camera in proiect imobiliar de top                                                  1  \n",
      "Apartament modern 57 mp, etajul 3, mobilat, semicentral                                          1  \n",
      "Apartament 2 camere, 50 mp, decomandat, cartier Plopilor!                                        1  \n",
      "Apartament 3 camere  in apropiere de Iulius Mall                                                 1  \n",
      "Apartament 3 camere de  vanzare in Cluj Napoca, BUNA ZIUA ID 3172                                1  \n",
      "Ap. cu 2 camere semifinisat, etaj intermediar, lic de parcare, Europa                            1  \n",
      "Apartamente 2 camere decomandate, zona Dunarii                                                   1  \n",
      "Apartament cu panorama superba, etaj intermediar, 53 mp, balcon                                  1  \n",
      "Name: titlu, Length: 6141, dtype: int64\n",
      "pret 85 000 EUR     205\n",
      "95 000 EUR     176\n",
      "75 000 EUR     167\n",
      "110 000 EUR    154\n",
      "65 000 EUR     152\n",
      "90 000 EUR     148\n",
      "70 000 EUR     146\n",
      "100 000 EUR    135\n",
      "120 000 EUR    135\n",
      "80 000 EUR     129\n",
      "105 000 EUR    117\n",
      "125 000 EUR    112\n",
      "72 000 EUR     106\n",
      "115 000 EUR    100\n",
      "78 000 EUR     94 \n",
      "45 000 EUR     93 \n",
      "87 000 EUR     85 \n",
      "82 000 EUR     84 \n",
      "69 000 EUR     80 \n",
      "60 000 EUR     75 \n",
      "89 000 EUR     74 \n",
      "130 000 EUR    74 \n",
      "79 000 EUR     73 \n",
      "76 000 EUR     71 \n",
      "77 000 EUR     71 \n",
      "68 000 EUR     70 \n",
      "99 000 EUR     69 \n",
      "93 000 EUR     67 \n",
      "50 000 EUR     67 \n",
      "55 000 EUR     66 \n",
      "               .. \n",
      "52 600 EUR     1  \n",
      "199 900 EUR    1  \n",
      "70 575 EUR     1  \n",
      "41 550 EUR     1  \n",
      "600 EUR/mp     1  \n",
      "51 192 EUR     1  \n",
      "132 100 EUR    1  \n",
      "178 857 EUR    1  \n",
      "87 472 EUR     1  \n",
      "33 900 EUR     1  \n",
      "77 440 EUR     1  \n",
      "44 200 EUR     1  \n",
      "71 541 EUR     1  \n",
      "116 500 EUR    1  \n",
      "41 250 EUR     1  \n",
      "119 791 RON    1  \n",
      "85 770 EUR     1  \n",
      "109 200 EUR    1  \n",
      "95 468 EUR     1  \n",
      "60 700 EUR     1  \n",
      "48 020 EUR     1  \n",
      "52 700 EUR     1  \n",
      "72 396 EUR     1  \n",
      "84 200 EUR     1  \n",
      "95 700 EUR     1  \n",
      "37 620 EUR     1  \n",
      "50 800 EUR     1  \n",
      "60 100 EUR     1  \n",
      "26 600 EUR     1  \n",
      "86 705 EUR     1  \n",
      "Name: pret, Length: 950, dtype: int64\n",
      "oras Cluj-Napoca, Cluj, Manastur           1585\n",
      "Cluj-Napoca, Cluj, Marasti            1432\n",
      "Cluj-Napoca, Cluj, Gheorgheni         1059\n",
      "Cluj-Napoca, Cluj, Centru             978 \n",
      "Cluj-Napoca, Cluj, Zorilor            593 \n",
      "Cluj-Napoca, Cluj, Grigorescu         455 \n",
      "Cluj-Napoca, Cluj                     402 \n",
      "Cluj-Napoca, Cluj, Buna-Ziua          338 \n",
      "Cluj-Napoca, Cluj, Floresti           324 \n",
      "Cluj-Napoca, Cluj, Europa             240 \n",
      "Cluj-Napoca, Cluj, Borhanci           160 \n",
      "Cluj-Napoca, Cluj, Andrei Muresanu    135 \n",
      "Cluj-Napoca, Cluj, Plopilor           125 \n",
      "Cluj-Napoca, Cluj, Iris               123 \n",
      "Cluj-Napoca, Cluj, Baciu              87  \n",
      "Cluj-Napoca, Cluj, Gruia              70  \n",
      "Cluj-Napoca, Cluj, Dambul-Rotund      57  \n",
      "Cluj-Napoca, Cluj, Apahida            37  \n",
      "Cluj-Napoca, Cluj, Someseni           24  \n",
      "Cluj-Napoca, Cluj, Gara               24  \n",
      "Cluj-Napoca, Cluj, Bulgaria           17  \n",
      "Cluj-Napoca, Cluj, Faget              3   \n",
      "Cluj-Napoca, Cluj, Sopor              1   \n",
      "Cluj-Napoca, Cluj, Feleacu            1   \n",
      "Name: oras, dtype: int64\n",
      "grad_finisare Nespecificat         2649\n",
      "Finisat modern       1218\n",
      "Semifinisat          1174\n",
      "Finisat clasic       811 \n",
      "Ultrafinisat         396 \n",
      "Nefinisat            236 \n",
      "Renovat              66  \n",
      "Necesita renovare    38  \n",
      "Name: grad_finisare, dtype: int64\n",
      "descriere     Tudoria ofera spre vanzare apartamente de 1 camera cu suprafete cuprinse intre 35 si 40 mp situate intr-un ansamblu rezidential nou edificat de catre unul dintre cei mai reputati dezvoltatori de pe piata de profil. Apartamentele sunt decomandate,  compuse din camera,  bucatarie,  baie,  hol si balcon si sunt localizate la etajele intermediare ale imobilului de 7 etaje. Se predau la stadiul semifinisat,  cu centrala termica individuala,  instalatii trase pe pozitii,  pereti gletuiti si sapa autonivelanta turnata. In vederea achizitionarii se solicita un avans de minim 15%. La plata integrala se ofera bonus un loc de parcare exterior al carui pret este de 3.000 Euro + TVA. Preturi incepand de la 1.155 Euro/mp,  TVA de 5% inclus,  in functie de pozitionarea si modalitatea de plata a apartamentului. Pentru informatii suplimentare nu ezitati sa ne contactati la numerele de telefon afisate sau la sediul agentiei,  pe Calea Dorobantilor,  nr. 70.                                                                                                                                                                                                                                                                                                                                                                                                                                                                                                                                                                9\n",
      "    IMOFINDER va propune spre vanzare apartamente intr-un proiect nou,  acesta dispune de o arhitectura moderna si de o functionalitate buna,  avand curte interioara cu spatii verzi,  iar spatiile comerciale situate la parterul imobilelor sunt destinate unor activitati menite sa ridice confortul viitorilor clienti.\\r  Proiectul se afla in apropierea numeroaselor scoli si gradinite si totodata este bine conectat prin mijloacele de transport in comun aflate in apropiere,  precum si alte puncte de interes: Piata Mihai Viteazu.\\r  Proiectul dispunde de apartamente cu 1,  2 si 3 camere,  locuri de parcare subterane,  iar apartamente se vor preda la clientul final semifinisate si spatiile comune vor fi finisate modern.\\rDispune de apartamente cu suprafete intre 42 mp si 73 mp utili.\\rPreturi incepand de la 1400 euro/mp cu TVA 5% inclus.\\rParcare 7500 euro cu TVA inclus.\\rFinalizare sfarsitul anului 2018.\\r\\rApartamentele se pot achizitiona prin credit bancar.\\rPentru mai multe detalii suplimentare,  oferete de pret personalizate,  precum si disponibilitatea apartamentelor asteptam sa ne contactati telefonic sau prin e-mail!                                                                                                                                                                                                                                                                                                                                                                              8\n",
      "    Tudoria ofera spre vanzare apartamente de 1 camera cu suprafete cuprinse intre 46 si 51 mp situate intr-un ansamblu rezidential nou edificat de catre unul dintre dezvoltatorii imobiliari de renume de pe piata de profil. Apartamentele sunt decomandate,  compuse din dormitor,  bucatarie,  baie,  hol si balcon si sunt localizate la etajele intermediare ale imobilului de 7 etaje. Se predau la stadiul semifinisat,  cu geamuri termopan,  centrala termica si calorifere,  usa metalica la intrare,  pereti gletuiti,  instalatii trase pe pozitii si sapa autonivelanta turnata. In vederea achizitionarii se solicita un avans de minim 10.000 Euro. La plata unui avans de peste 30% se ofera un discount in functie de cuantumul sumei achitate. Exista posibilitatea achizitionarii unor locuri de parcare subterana la pretul de 4.000 Euro/loc. Preturi cuprinse intre 52.000 si 58.000 Euro,  TVA de 5% inclus. Pentru informatii suplimentare nu ezitati sa ne contactati la numerele de telefon afisate sau la sediul agentiei,  pe Calea Dorobantilor,  nr. 70.                                                                                                                                                                                                                                                                                                                                                                                                                                                                     8\n",
      "    Tudoria ofera spre vanzare apartament in zona Pietei Zorilor! Apartamentul este situat la etajul 1 al unui imobil cu 4 etaje,  format din 4 camere decomandate,  bucatarie,  hol si 2 bai,  in suprafata utila de 78mp+logie. Apartamentul este mediu finisat,  detine centrala termica individuala,  tamplarie PVC cu geam termopan,  parchet lemn masiv in stare buna,  gresie si faianta,  oferit spre vanzare cu bucataria mobilata. Datorita locatiei,  recomandam aceasta oferta atat pentru locuinta,  cat si pentru investitie!                                                                                                                                                                                                                                                                                                                                                                                                                                                                                                                                                                                                                                                                                                                                                                                                                                                                                                                                                                                                                  7\n",
      "    Tudoria ofera spre vanzare apartamente de 2 camere cu suprafete cuprinse intre 49 si 66 mp situate intr-un ansamblu rezidential nou edificat de catre unul dintre cei mai reputati dezvoltatori de pe piata de profil. Apartamentele sunt semidecomandate,  compuse din living+bucatarie open space,  dormitor,  baie si balcon si sunt localizate la etajele intermediare ale imobilului de 7 etaje. Se predau la stadiul semifinisat,  cu centrala termica individuala,  instalatii trase pe pozitii,  pereti gletuiti si sapa autonivelanta turnata. In vederea achizitionarii se solicita un avans de minim 15%. La plata integrala se ofera bonus un loc de parcare exterior al carui pret este de 3.000 Euro + TVA. Preturi incepand de la 1.155 Euro/mp,  TVA de 5% inclus,  in functie de pozitionarea si modalitatea de plata a apartamentului. Pentru informatii suplimentare nu ezitati sa ne contactati la numerele de telefon afisate sau la sediul agentiei,  pe Calea Dorobantilor,  nr. 70.                                                                                                                                                                                                                                                                                                                                                                                                                                                                                                                                              7\n",
      "    Vand apartament o camera,  central situat,  str. Nasaud,  et.3/7,  decomandat,  compus din camera,  bucatarie,  baie,  balcon,  2 debarale, un hol la intrare,  cu C.T, usa antiefractie,  izolat exterior,  finisaje clasice,  locatie excelenta la 3 min de Iulius-Moll,  la 3 min de centru,  pret 59900eur.                                                                                                                                                                                                                                                                                                                                                                                                                                                                                                                                                                                                                                                                                                                                                                                                                                                                                                                                                                                                                                                                                                                                                                                                                                          6\n",
      "    Tudoria ofera spre vanzare un apartament in zona strazii Dorobantilor! Apartamentul este situat la etajul 7 al unui imobil cu 7 etaje,  format din camera,  bucatarie,  camara,  hol si baie,  in suprafata de 40 mp+ balcon. Finisajele imobilului sunt moderne. Orientarea sud-estica,  finisajele de calitate: centrala termica individuala,  ferestre termopan,  parchet laminat,  gresie si faianta moderna,  fac ca aceasta proprietate sa fie ideala alat pentru locuinta,  cat si pentru investitie. Informatii suplimentare pot fi furnizate telefonic la numerele afisate,  sau la sediul agentiei noastre,  pe Calea Dorobantilor,  Nr.70.                                                                                                                                                                                                                                                                                                                                                                                                                                                                                                                                                                                                                                                                                                                                                                                                                                                                                                    6\n",
      "    Tudoria ofera spre vanzare apartamente de 2 camere cu suprafete cuprinse intre 52 si 70 mp situate intr-un ansamblu rezidential nou edificat de catre unul dintre dezvoltatorii imobiliari de renume de pe piata de profil. Apartamentele sunt semidecomandate,  compuse din dormitor,  zona de zi + bucatarie,  baie,  hol si balcon si sunt localizate la etajele intermediare ale imobilului de 7 etaje. Se predau la stadiul semifinisat,  cu geamuri termopan,  centrala termica si calorifere,  usa metalica la intrare,  pereti gletuiti,  instalatii trase pe pozitii si sapa autonivelanta turnata. In vederea achizitionarii se solicita un avans de minim 10.000 Euro. La plata unui avans de peste 30% se ofera un discount in functie de cuantumul sumei achitate. Exista posibilitatea achizitionarii unor locuri de parcare subterana la pretul de 4.000 Euro/loc. Preturi cuprinse intre 59.000 si 75.000 Euro,  TVA de 5% inclus. Pentru informatii suplimentare nu ezitati sa ne contactati la numerele de telefon afisate sau la sediul agentiei,  pe Calea Dorobantilor,  nr. 70.                                                                                                                                                                                                                                                                                                                                                                                                                                                    6\n",
      "    Tudoria ofera spre vanzare apartament de 4 camere situat in zona BIG a cartierului Manastur. Aflat la etajul intermediar al unui imobil reabilitat termic si monitorizat video interior/exterior,  apartamentul decomandat este compartimentat astfel : 4 camere,  bucatarie,  2 bai,  dressing si hol,  avand suprafata utila de 80mp + 2 balcoane inchise cu suprafata de10mp. Finisajele imobilului sunt moderne,  parchet lemn masiv in stare foarte buna,  gresie,  faianta,  centrala termica individuala,  ferestre termopan,  usa metalica,  sistem de aer conditionat,  instalatie electrica noua,  cabluri ingropate in sapa. Apartamentul se ofera spre vanzare cu bucataria mobilata si utilata,  restul camerelor fiind partial mobilate. Aflat in imediata vecinatate a mijloacelor de transport in comun,  scolilor,  gradintelor,  spatiilor de joaca,  institutiilor bancare,  farmaciilor si pietei agroalimentare,  aceasta oferta este ideala atat pentru investitie,  cat si pentru locuinta. Pentru informatii suplimentare nu ezitati sa ne contactati la numerele de telefon afisate sau la sediul agentiei noastre,  pe Calea Dorobantilor nr. 70.                                                                                                                                                                                                                                                                                                                                                                              5\n",
      "    IMOFINDER  va recomanda la vanzare un ansamblu rezidential modern,  situat in Buna Ziua,  zona Calea Turzii,  o zona in plina dezvoltare imobiliara . Sunt disponibile apartamente  de 2 si 3 camere cu suprafete intre 41 si 73 mp utili ce se vor preda semifinisate in luna iulie 2017. Locul de parcare 4000 Euro (neacoperit) sau 6000 Euro (acoperit). Pentru mai multe detalii,  va rugam sa ne contactati.                                                                                                                                                                                                                                                                                                                                                                                                                                                                                                                                                                                                                                                                                                                                                                                                                                                                                                                                                                                                                                                                                                                                       5\n",
      "    Agentie Imobiliara va ofera spre vanzare apartament cu 2 camere in centru zona str. Horea,  parter/1,  74mp,  decomandat,  finisat modern,  centrala termica, termopane,  parchet din lemn masiv,  gresie si faianta moderne. Apartamentul poate fi achizitionat si prin credit,  ocupabil  imediat.                                                                                                                                                                                                                                                                                                                                                                                                                                                                                                                                                                                                                                                                                                                                                                                                                                                                                                                                                                                                                                                                                                                                                                                                                                                     4\n",
      "    Lider Imobiliare ofera spre vanzare apartament 2 camere decomandat confort unic situat in cartierul Manastur zona Sirena etaj 8 suprafata utila 42 mp baie balcon inchis beci boxa finisat cu parchet gresie faianta usa metalica geamuri termopan si centrala termica.Se vinde mobilat.Pret  58000 euro negociabi                                                                                                                                                                                                                                                                                                                                                                                                                                                                                                                                                                                                                                                                                                                                                                                                                                                                                                                                                                                                                                                                                                                                                                                                                                       4\n",
      "    Tudoria ofera spre vanzare apartament situat la etajul 2 al unei vile cu 6 apartamente. Imobilul este format din zona de zi,  bucatarie,  camara de alimente,  2 dormitoare,  2 bai (ambele cu geam),  hol si spatiu de depozitare,  in suprafata utila de 87mp+3 balcoane. Finisajele apartamentului sunt moderne,  parchet laminat,  gresie,  faianta,  detine centrala termica individuala,  ferestre termopan,  usa metalica,  oferit spre vanzare complet mobilat si utilat. Zona deosebita si suprafata generoasa,  recomanda aceasta oferta atat pentru investitie,  cat si pentru locuinta.                                                                                                                                                                                                                                                                                                                                                                                                                                                                                                                                                                                                                                                                                                                                                                                                                                                                                                                                                      4\n",
      "    IMOFINDER va propune spre vanzare apartamente noi cu 1, 2 si 3 camere,  situate intr-un ansamblu deosebit,  zona IRA,  in apropiere de Leroy Merlin,  LIDL,  dispus S+P+6 Etaje. Acestea se vor preda semifinisate cu centrala termica proprie,  peretii tencuiti si gletuiti,  sapa autonivelanta,  instalatii trase si pozate. Executantul lucrarii are la activ deja mai multe proiecte realizate. preturiile incep de la 1035 euro/mp util,  TVA 5% inclus,  parcare subterana 4000 euro!                                                                                                                                                                                                                                                                                                                                                                                                                                                                                                                                                                                                                                                                                                                                                                                                                                                                                                                                                                                                                                                            4\n",
      "    Tudoria ofera spre vanzare apartament in zona Oncos! Apartamentul este situat la etajul 1 al unui imobil dispus pe 3 niveluri,  retras de la artera principala,  format din zona de zi,  bucatarie inchisa,  debara,  2 dormitoare,  2 bai si hol,  in suprafata utila de 105mp+terasa. Apartamentul este finisat,  detine centrala termica individuala,  ferestre termopan,  usa metalica si se ofera spre vanzare partial mobilat. In plus,  imobilul dispune de boxa la subsol si 2 locuri de parcare. Confortul sporit dat de suprafata generoasa,  compartimentarea ingenioasa,  orientarea sud-estica si zona in care este situat apartamentul,  recomanda aceasta oferta pentru locuinta. Informatii suplimentare pot fi obtinute telefonic,  sau la sediul agentiei noastre,  pe Calea Dorobantilor,  Nr.70.                                                                                                                                                                                                                                                                                                                                                                                                                                                                                                                                                                                                                                                                                                                                     4\n",
      "    Tudoria ofera spre vanzare in exclusivitate apartament compus din o camera,  o bucatarie,  o baie,  un hol,  o debara si un balcon,  situat la etajul 3 al unui imobil dat in folosinta in anul 1995,  localizat pe Calea Dorobantilor. Unitatea locativa are o suprafata utila de 43, 33 mp,  beneficiaza de boxa la subsol si are o orientare integral vestica. Apartamentul este finisat clasic si este propus spre tranzactionare complet mobilat si utilat. Calitatea materialelor utilizate la edificarea imobilului asigura locatarilor un ridicat confort termic. Pozitionarea si orientarea apartamentului il fac ideal atat pentru locuinta,  cat si pentru investitie. Pentru informatii suplimentare nu ezitati sa ne contactati la numerele de telefon afisate sau la sediul agentiei,  pe Calea Dorobantilor,  Nr. 70.                                                                                                                                                                                                                                                                                                                                                                                                                                                                                                                                                                                                                                                                                                                     4\n",
      "    IMOFINDER va propune la vanzare apartamente cu 2 si 3 camere cu diferite compartimentari situat in  zona Calea Baciului.  Apartamentele se predau in stadiul de semifinisat cuprinzand: sapa cu instalatii termice,  peretii vor fi gletuiti,  centrala termica proprie,  calorifere,  geamuri termopane,  usi interioare,  usa de intrare metalica ,  toate instalatiile electrice si sanitare pozate ,  inclusiv panoul electric,  iar balcoanele vor fi finisate complet cu gresie si balustrada. Se accepta si prima Casa.                                                                                                                                                                                                                                                                                                                                                                                                                                                                                                                                                                                                                                                                                                                                                                                                                                                                                                                                                                                                                           4\n",
      "    Agentie Imobiliara va ofera spre vanzare apartament cu 2 camere in cartierul Marasti,  parter inalt/3,  bloc nou cu CF,  51mp+balcon,  semidec,  semifinisat cu centrala termica proprie,  termopane,  sapa,  glet,  usa metalica. Ocupabil imediat!!!!                                                                                                                                                                                                                                                                                                                                                                                                                                                                                                                                                                                                                                                                                                                                                                                                                                                                                                                                                                                                                                                                                                                                                                                                                                                                                                  4\n",
      "    Natanael Construct - Vând apartamente cu 1,  2 şi 3 camere,  la doar 2 minute de aeroport şi 10 minute de Iulius Mall. Suprafeţe cuprinse între 40 şi 75 mp utili,  de la 700 EUR/mp.                                                                                                                                                                                                                                                                                                                                                                                                                                                                                                                                                                                                                                                                                                                                                                                                                                                                                                                                                                                                                                                                                                                                                                                                                                                                                                                                                                    3\n",
      "    Koncept imobiliare vinde apartamente cu 2 camere in constructie noua finalizata cu doar 5 apartamente in cartierul Borhanci. Apartamente cu 2 camere disponibile la parter cu gradina de 23 mp sau 106 mp iar la etaj cu balcon de 4 mp. Apartamentele au suprafetele cuprinse intre 53 mp si 56 mp si sunt total decomandate. Optional parcari exterioare 3000 euro. Toate apartamentele vor fi dotate cu centrala termica individuala,  geamuri termopan,  usa metalica intrare,  instalatie electrica pe pozitie. CF-uri disponibile la sfarsitul lunii Mai. Pentru mai multe detalii nu ezitati sa ne contactati telefonic sau la sediul agentiei de pe strada Napoca 10 din Cluj-Napoca.                                                                                                                                                                                                                                                                                                                                                                                                                                                                                                                                                                                                                                                                                                                                                                                                                                                            3\n",
      "    Vand apartament 2 camere,  str Florilor,  suprafata utila 60mp + 2 terase(6mp inchisa si 9 mp deschisa),  semidecomandat(posibilitate decomandare),  etaj parter,  finisat modern,  complet mobilat si utilat,  orientare s-v,  cf,  pret neg.                                                                                                                                                                                                                                                                                                                                                                                                                                                                                                                                                                                                                                                                                                                                                                                                                                                                                                                                                                                                                                                                                                                                                                                                                                                                                                           3\n",
      "    IMOFINDER va prezinta spre vanzare un nou proiect care se situeaza in partea sud-estica a Clujului,  acest lucru facilitand accesibilitatea catre aeroportul international Avram Iancu Cluj-Napoca,   In imediata vecinatate a imobilului se afla atat facultatea FSEGA si ansamblul de birouri Iulius Bussines Center cat si parcul de agrement Iulius.\\r \\r   Imobilul dispune de o arhitectura moderna si de o functionalitate buna,  avand curtea interioara cu spatii verzi. Spatiile comerciale situate la parterul imobilelor sunt destinate unor activitati menite sa ridice confortul viitorilor locatari.\\rProiectul se afla in apropierea numeroaselor scoli si gradinite si totodata este bine conectat prin mijloacele de transport in comun aflate in apropiere si de alte puncte de interes.\\rProiectul dispune de apartamente cu 1,  2 si 3 camere,  locuri de parcare subterane. \\rApartamente se vor preda la clientul final semifinisate si spatiile comune vor fi finisate modern.\\r\\rPreturile incep de la 1450 euro/mp util + TVA. Pretul final se stabileste in functie de avansul achitat. \\rAvansul minim este de 30%.\\rLa pretul apartamentului se adauga si terasele,  pretul este de 725 euro /mp. + TVA\\rPret garaj: 6500 euro + TVA.\\r\\rApartamentele se pot achizitiona si prin credit bancar.\\r\\rAcest proiect se va finaliza in anul 2018.\\r\\rPentru mai multe detalii suplimentare,  oferete de pret personalizate,  precum si disponibilitatea apartamentelor asteptam sa ne contactati telefonic sau prin e-mail!    3\n",
      "    Tudoria ofera spre vanzare apartament in Marasti,  zona Calea Dorobantilor! Apartamentul este situat la etajul 1 al unui imobil cu 8 etaje,  format din 2 camere decomandate,  bucatarie,  baie si hol,  in suprafata utila de 59mp+2 balcoane. Apartamentul este finisat,  detine centrala termica individuala,  ferestre termopan,  usa metalica,  parchet laminat si se ofera spre vanzare mobilat si utilat. Exista si loc de parcare. Zona in care este amplasat imobilul recomanda aceasta proprietate atat pentru locuinta,  cat si pentru investitie! Informatii suplimentare pot fi obtinute telefonic la numerele de contact afisate,  sau la sediul agentiei noastre,  pe Calea Dorobantilor,  Nr.70!                                                                                                                                                                                                                                                                                                                                                                                                                                                                                                                                                                                                                                                                                                                                                                                                                                         3\n",
      "    Vand apartament cu 2 camere in Manastur pe Aleea Garbau,  etaj 4 din 4,  bloc de caramida,  reabilitat termic,  inclusiv acoperisul este izolat recent. Apartamentul are 42.37mp.,  renovat recent,  refacut complet toate instalatiile (apa,  curent,  gaz). Utilat cu: centrala termica,  frigider,  aragaz,  mobilat partial (bucatarie personalizata-noua,  mobilier hol,  mobilier in baie). Foarte aproape de toate mijloacele de transport in comun. Logie inchisa cu termopan. Ocupabil imediat. Pret: 67.000 euro,  usor negociabilTel: 0751.115.721                                                                                                                                                                                                                                                                                                                                                                                                                                                                                                                                                                                                                                                                                                                                                                                                                                                                                                                                                                                            3\n",
      "    Agentie Imobiliara va ofera spre vanzare apartament cu 2 camere in cartierul Marasti zona str. Aurel Vlaicu,  bloc nou cu termen de finalizare in Mai 2018,  regim de inaltime S+P+9E,  semidecomandat,  54.57mp+10mp balcon,   se preda in stadiul semifinisat cu centrala termica proprie,  termopane,  sapa,  glet,  usa metalica.                                                                                                                                                                                                                                                                                                                                                                                                                                                                                                                                                                                                                                                                                                                                                                                                                                                                                                                                                                                                                                                                                                                                                                                                                    3\n",
      "    Tudoria ofera spre vanzare apartament de 3 camere cu suprafata utila de 86 mp + terasa 17 mp situat in cartierul Buna Ziua. Apartamentul spatios dispune de doua dormitoare,  doua bai,  living cu bucatarie si hol amenajat cu spatii de depozitare. Pretul include un loc de parcare in parcarea subterana. Apartamentul se vinde finisat si partial mobilat. In vederea tranzactionarii se solicita un avans de minim 50.000 euro. Pentru informatii suplimentare sau stabilirea unei vizionari nu ezitati sa ne contactati la numerele de telefon afisate sau la sediul agentiei,  pe Calea Dorobantilor,  Nr. 70.                                                                                                                                                                                                                                                                                                                                                                                                                                                                                                                                                                                                                                                                                                                                                                                                                                                                                                                                   3\n",
      "    Agentie Imobiliara va ofera spre vanzare apartament cu 3 camere in cartierul Gheorgheni,  langa Iulius Mall,  la Viva City,  blocul verde,  etajul 3/11,  69mp+20mp terasa,  semidecomandat,  finisat modern,  mobilat si utilat modern.  Beneficiile imobilului: paza permanenta la intrare,  supraveghere video,  2 sali de petrecere,   2 terenuri de squash,  sala de fitnes,  loc de joaca pentru copii,  lac in curtea interioara. Apartamentul este ideal atat pentru investitie cat si pentru locuinta,  apartamnetul poate fi achizitionat si prin credit.                                                                                                                                                                                                                                                                                                                                                                                                                                                                                                                                                                                                                                                                                                                                                                                                                                                                                                                                                                                      3\n",
      "    Agentie Imobiliara va ofera spre vanzare apartament cu 2 camere in cartierul Marasti zona str. Aurel Vlaicu,  bloc nou cu termen de finalizare in Mai 2018,  regim de inaltime S+P+9E,  semidecomandat,  43, 66mp+balcon,   se preda in stadiul semifinisat cu centrala termica proprie,  termopane,  sapa,  glet,  usa metalica.                                                                                                                                                                                                                                                                                                                                                                                                                                                                                                                                                                                                                                                                                                                                                                                                                                                                                                                                                                                                                                                                                                                                                                                                                        3\n",
      "    Agentie Imobiliara va ofera spre vanzare apartament cu 2 camere in cartierul Marasti zona str. Aurel Vlaicu,  bloc nou cu termen de finalizare in Mai 2018,  regim de inaltime S+P+9E,  semidecomandat,  48, 31mp+balcon,   se preda in stadiul semifinisat cu centrala termica proprie,  termopane,  sapa,  glet,  usa metalica.                                                                                                                                                                                                                                                                                                                                                                                                                                                                                                                                                                                                                                                                                                                                                                                                                                                                                                                                                                                                                                                                                                                                                                                                                        3\n",
      "    Agentie Imobiliara va ofera spre vanzare  apartament cu 3 camere in cartierul Manastur,  zona str. Campului,  bloc nou tip vila,   75mp cu CF,  semidec,  finisat modern,  cu centrala termica proprie,  termopane,  gresie si faianta moderne,  parchet laminat,  mobilat si utilat modern. Apartamentul dispune de loc de parcare,  pod,  20mp de teren,  apartamentul poate fi achizitionat si prin credit.                                                                                                                                                                                                                                                                                                                                                                                                                                                                                                                                                                                                                                                                                                                                                                                                                                                                                                                                                                                                                                                                                                                                           3\n",
      "                                                                                                                                                                                                                                                                                                                                                                                                                                                                                                                                                                                                                                                                                                                                                                                                                                                                                                                                                                                                                                                                                                                                                                                                                                                                                                                                                                                                                                                                                                                                                            ..\n",
      "    Agentia  Piacenza  intermediaza  vanzare ap 1 camere la aproximativ 2, 5 km de centru in Iris in suprafata de 36 mp+balcon  in bloc nou la etajul 10 . Apartamentul se va preda la stadiul  de semifinisat ,  sapa autonivelanta,  pereti gletuiti,  instalatii pe pozitie , centrala termica,  calorifere . Pret 37500 euro .                                                                                                                                                                                                                                                                                                                                                                                                                                                                                                                                                                                                                                                                                                                                                                                                                                                                                                                                                                                                                                                                                                                                                                                                                           1\n",
      "    Kassa imobiliare propune spre vanzare un apartament cu 3 camere confort 1 situat in zona strazii Fabricii de Zahar in cartierul Marasti.\\rApartamentul are o suprafata utila de 65 mp plus balcon si este situat la etajul 4 intr-un imobil recent reabilitat termic.\\rDispune de finisaje clasice : geamuri termopan, gresie si faianta, parchet, usa matalica la intrare, etc.\\r\\rSe vinde mobilat si utilat.\\rSe vinde cu loc de parcare privat si boxa la subsol.\\r\\rPentru mai multe detalii va rugam sa ne contactati                                                                                                                                                                                                                                                                                                                                                                                                                                                                                                                                                                                                                                                                                                                                                                                                                                                                                                                                                                                                                              1\n",
      "    Apartament cu 1 camera in Centru,  zona P-ta Mihai Viteazu,  suprafata 22 mp,  parter din 4 cu geamuri spre curtea interioara.                                                                                                                                                                                                                                                                                                                                                                                                                                                                                                                                                                                                                                                                                                                                                                                                                                                                                                                                                                                                                                                                                                                                                                                                                                                                                                                                                                                                                           1\n",
      "    Tudoria ofera spre vanzare un apartament deosebit,  in zona Calea Dorobantilor. Apartamentul este situat la etajul intermediar al unui imobil cu 7 etaje retras de la artera principala,  orientat E-V,  format din 3 camere decomandate,  bucatarie,  hol si 2 bai (o baie a fost transformata in spatiu de depozitare,  dar instalatiile au ramas pe pozitii),  in suprafata utila de 72mp + balcon inchis. Finisajele apartamentului sunt de calitate superioara,  incalzirea se realizeaza prin intermediul centralei termica individuale,  tamplarie PVC cu geam termopan,  usa metalica,  oferit spre vanzare complet mobilat si utilat modern. In plus,  apartamentul detine o boxa de depozitare la subsolul blocului. Pentru informatii suplimentare sau stabilirea unei vizionari,  va rugam sa ne contactati telefonic la numerele afisate,  sau la sediul agentiei noastre,  pe Calea Dorobantilor,  Nr.70.                                                                                                                                                                                                                                                                                                                                                                                                                                                                                                                                                                                                                                  1\n",
      "    Oportunitate de investitie! Va oferim spre vanzare apartament la etaj intermediar,  in cartierul Europa,  zona Grigore Moisil. Imobilul se afla intr-o zona linistita,  in apropierea terenului de golf,  zona ferita de zgomotul orasului,  aproape de mijloace de transport,  scoli,  gradinite,  magazine,  zona usor accesibila. Apartamentul este situat la etajul 1 intr-un imobil dispus pe 3 nivele. Avand o suprafata utila de 68 mp dispune de 2 camere semidecomandate,  o bucatarie,  o baie. Proprietatea dispune si de loc de parcare , in parcarea subterana a blocului. Apartamentul se preda la stadiu de finisat  astfel: pereti cu lavabil,  geamuri termoizolante din PVC,  usi interioare din lemn,   usa de la intrare metalica. Sistemul de incalzire in apartament este cu centrala termica. Apartamentul se vinde  nemobilat. Avand in vedere pozitionarea excelenta in cartierul Europa si raportul foarte bun pret/calitate/zona/mp va recomandam cu incredere aceasta proprietate. Pentru detalii ne puteti contacta telefonic sau la sediul agentiei.                                                                                                                                                                                                                                                                                                                                                                                                                                                                       1\n",
      "    Om serios cumpar urgent uscatorie de bloc pt amenajare locuinta rog seriozitate,  platesc   in functie de suprafata cash imediat                                                                                                                                                                                                                                                                                                                                                                                                                                                                                                                                                                                                                                                                                                                                                                                                                                                                                                                                                                                                                                                                                                                                                                                                                                                                                                                                                                                                                         1\n",
      "    Apartament cu 3 camere la etaj intermediar in cartierul Marasti! Oferim spre vanzare apartament in cartierul Marasti,  zona strazii Aurel Vlaicu. Apartamentul este situat la etajul 1 intr-un imobil dispus pe 10 nivele. Avand o suprafata utila de 66 mp dispune de 3 camere decomandate,  1 bucatarie,  2 bai si un balcon foarte mare. Finisajele de tip clasic si modern sunt evidentiate astfel: pardoseala cu parchet din lemn masiv,  pereti cu lavabil,  gresie si faianta in bai si bucatarie,  geamuri termoizolante din PVC,  usi interioare din lemn,   usa de la intrare metalica. Sistemul de incalzire in apartament este cu centrala termica. Spatiul mare pe care il ofera balconul a fost amenajat ca si o alta camera. Apartamentul se vinde  mobilat si utilat. Zona in care este amplasata locuinta ofera acces facil spre mijloacele de transport in comun,  magazine,  scoli,  facultati. Pentru mai multe informatii sau programarea unei vizionari,  nu ezitati sa ne contactati!                                                                                                                                                                                                                                                                                                                                                                                                                                                                                                                                             1\n",
      "    MEIN HAUS,  vinde apartament 1 camera,  confort sporit,  39 mp,  decomandat,  etaj intermediar,  in Plopilor,  finisat,  contorizat (apa si gaz) - centrala termica,  complet mobilat si utilat,  parchet,  gresie si faianta moderna.                                                                                                                                                                                                                                                                                                                                                                                                                                                                                                                                                                                                                                                                                                                                                                                                                                                                                                                                                                                                                                                                                                                                                                                                                                                                                                                   1\n",
      "    IMOFINDER  va ofera  un apartament ultrafinisat de 2 camere decomandate confort sporit in Zorilor zona Sigma Center. Apartamentul este situat la etajul 6 din 7 si dispune de o suprafata utila de 65 mp plus 3 balcoane din care 1 este inchis,  iar suprafata utila este de 70 mp. Ca si dotari apartamentul dispune de: centrala termica proprie,  parchet din lemn masiv,  usa metalica la intrare,  usi interioare schimbate,  baia renovata. Se vinde partial mobilat. Dispune si de un loc de parcare in fata blocului.                                                                                                                                                                                                                                                                                                                                                                                                                                                                                                                                                                                                                                                                                                                                                                                                                                                                                                                                                                                                                           1\n",
      "    MEIN HAUS,  vinde apartament 3 camere,  confort I,  65 mp,  decomandat,  in Marasti,  finisat,  contorizat (apa si gaz) - centrala termica,  termopan,  parcare,  2 bai,  parchet,  gresie si faianta moderna,  usa metalica,  usi interior schimbate,  izolat termic.                                                                                                                                                                                                                                                                                                                                                                                                                                                                                                                                                                                                                                                                                                                                                                                                                                                                                                                                                                                                                                                                                                                                                                                                                                                                                   1\n",
      "    Garsoniera superfinisata,  mobilata,  utilata modern,  aproape de statii,  5 minute de Iulius Mall,  parc langa bloc                                                                                                                                                                                                                                                                                                                                                                                                                                                                                                                                                                                                                                                                                                                                                                                                                                                                                                                                                                                                                                                                                                                                                                                                                                                                                                                                                                                                                                     1\n",
      "    Agentia Piacenza vinde apartament cu 2 camere in cartierul Manastur,  zona strazii Clabucet,  decomandat,  suprafata 42 mp,  etajul 10/10,  nefinisat,  geamuri termopan,  centrala termica,  usa metalica mobilat. Pret 48500 euro .                                                                                                                                                                                                                                                                                                                                                                                                                                                                                                                                                                                                                                                                                                                                                                                                                                                                                                                                                                                                                                                                                                                                                                                                                                                                                                                    1\n",
      "    P.F. vand apartament 1 camera nou,  str. Alverna,  cartier Gheorgheni,  47 mp parter cu geamurile la stradă (bun de firmă,  cabinet sau locuit),  finisat,  gresie,  faianta,  centrala termica proprie,  aproape de mijloace de transport. 51000 Euro                                                                                                                                                                                                                                                                                                                                                                                                                                                                                                                                                                                                                                                                                                                                                                                                                                                                                                                                                                                                                                                                                                                                                                                                                                                                                                   1\n",
      "    Va oferim spre vanzare apartament in Cluj Napoca,   cartierul Borhanci,  zona strazii Borhanciului. Apartamentul este situat la etajul 3 intr-un imobil nou dispus pe 3 nivele. Avand o suprafata utila de 119 mp,  dispune de 4 camere semidecomandate,  1 bucatarie,  2 bai,  2 balcoane,  1 parcare. Apartamentul se vinde la stadiul de semifinisat,  cu instalatiile pe pozitie,  geamuri termoizolante din profil PVC,  usa intrare metalica,  centrala termica proprie.\\rPentru mai multe detalii despre aceasta proprietate,  contactati-ne cu incredere sau vizitati sediul agentiei noastre de pe strada Teodor Mihali 31-35 pentru a putea stabili o vizionare in cel mai scurt timp posibil !                                                                                                                                                                                                                                                                                                                                                                                                                                                                                                                                                                                                                                                                                                                                                                                                                                                1\n",
      "    Propunem spre vanzare apartament cu 1 camera,  suprafata utila 41.05 mp,  semidecomandat,  pozitionat la parterul unui imobil nou,  cu regim de inaltime S+P+3E,  ce va fi finalizat in Octombrie 2015. Imobilul este situat in cartierul Intre Lacuri,  in apropiere de statia de autobuz,  Iulius Mall,  parcuri si universitati. Este compus din 1 camera,  1 bucatarie,  1 baie si 1 terasa. Va dispune de centrala termica,  geamuri termopan si usa metalica. Se vinde la stadiul de semifinisat cu sapa autonivelanta si peretii gletuiti. In pretul imobilului este inclus si 1 loc de parcare.                                                                                                                                                                                                                                                                                                                                                                                                                                                                                                                                                                                                                                                                                                                                                                                                                                                                                                                                                  1\n",
      "    MEIN HAUS,  vinde apartament 4 camere,  confort I,  85 mp,  decomandat,  etaj 2,  in Manastur,  strada Almasului,  contorizat,  termopan,  parcare,  beci,  2 bai,  balcon,  usa metalica.                                                                                                                                                                                                                                                                                                                                                                                                                                                                                                                                                                                                                                                                                                                                                                                                                                                                                                                                                                                                                                                                                                                                                                                                                                                                                                                                                               1\n",
      "    Vanzare garsoniera 28 mp in zona Manastur,   - ID V444337                                                                                                                                                                                                                                                                                                                                                                                                                                                                                                                                                                                                                                                                                                                                                                                                                                                                                                                                                                                                                                                                                                                                                                                                                                                                                                                                                                                                                                                                                                1\n",
      "    Vand urgent garsoniera in Marasti , garsoniera este situata in apropiere de Auchan , garsoniera este la etajul 4 intr-un bloc izolat , dispune de centrala termica, finisata , mai multe detalii la nr de telefon                                                                                                                                                                                                                                                                                                                                                                                                                                                                                                                                                                                                                                                                                                                                                                                                                                                                                                                                                                                                                                                                                                                                                                                                                                                                                                                                        1\n",
      "    Vanzare apartament cu 3 camere in zona Manastur,  cu suprafata utila de 57 mp,  1 baie,  1 balcon,  decomandat - ID V485384                                                                                                                                                                                                                                                                                                                                                                                                                                                                                                                                                                                                                                                                                                                                                                                                                                                                                                                                                                                                                                                                                                                                                                                                                                                                                                                                                                                                                              1\n",
      "    Koncept imobiliare va ofera spre vanzre un apartament de 3 camere decomandate,  confort sporit,  aflat la etajul 7 al unui imobil  situat pe str. Bucuresti,  in apropierea blocului Spray. Apartamentul in suprafata utila de 73mp este conpartimentat in 3 camere decomandate,  2 bai si bucatarie. Totodata exista un balcon de 7mp si o boxa la demisolul cladirii. Apartamentul este renovat total,  cu finisaje peste medie si se vinde mobilat si utilat complet. Pentru informatii suplimentare,  pentru programarea unei vizionari sau pentru a afla oferta noastra completa nu ezitati sa ne contactati telefonic,  prin e-mail sau la sediul agentiei noastre,  pe str. Napoca nr. 10.                                                                                                                                                                                                                                                                                                                                                                                                                                                                                                                                                                                                                                                                                                                                                                                                                                                        1\n",
      "    Ofer spre vanzare apartament cu 3 camere situat in cartierul Gheorgheni. Imobilul are o suprafata de 61 mp si este situat la parter din 4 etaje in zona linistita si verde. Se vinde mobilat si utilat.                                                                                                                                                                                                                                                                                                                                                                                                                                                                                                                                                                                                                                                                                                                                                                                                                                                                                                                                                                                                                                                                                                                                                                                                                                                                                                                                                  1\n",
      "     Apt.e situat la et 1 al imobilului, complet finisat, lemnarie fara pvc., 57 mp., constructie recenta caramida, zona vile, parcare.Pret 85 mii E.         Pt.inf.suplimentare tel 0748652512.                                                                                                                                                                                                                                                                                                                                                                                                                                                                                                                                                                                                                                                                                                                                                                                                                                                                                                                                                                                                                                                                                                                                                                                                                                                                                                                                                            1\n",
      "    MEIN HAUS,  vinde apartament 2 camere,  confort I,  48 mp,  in Gheorgheni,  strada Unirii,  nefinisat,  contorizat,  balcon,  eliberabil 1 saptamana.                                                                                                                                                                                                                                                                                                                                                                                                                                                                                                                                                                                                                                                                                                                                                                                                                                                                                                                                                                                                                                                                                                                                                                                                                                                                                                                                                                                                    1\n",
      "    MEIN HAUS,  vinde apartament 3 camere,  confort sporit,  120 mp,  etaj 2,  in A.Muresanu,  in constructie noua,  superfinisat,  contorizat (apa si gaz) - centrala termica,  termopan,  complet mobilat si utilat,  garaj sub bloc,  parcare,  2 bai,  terasa,  parchet,  gresie si faianta moderna,  usa metalica.                                                                                                                                                                                                                                                                                                                                                                                                                                                                                                                                                                                                                                                                                                                                                                                                                                                                                                                                                                                                                                                                                                                                                                                                                                      1\n",
      "    Constructor vand apartamente de 3 camere la etajul 1 intr-un ansamblu de sase blocuri in constructie,  finalizare 2018,  p+e+m,  apartamentele se vor preda semifinisate,  cu centrala si calorifere,  utilitati,  parcare 1500 euro,  pretul e valabil la plata integrala,  la avans si diferenta la finalizare sau credit pretul e de 650 euro/mp                                                                                                                                                                                                                                                                                                                                                                                                                                                                                                                                                                                                                                                                                                                                                                                                                                                                                                                                                                                                                                                                                                                                                                                                      1\n",
      "    Oportunitate incredibila de investitie in zona ultracentrala!\\rVa oferim spre vanzare,  la 2 minute de Sora Shopping Center,  apartament cu 3 camere,  2 bai,  1 spatiu depozitare,  1 bucatarie si 1 hol spatios.\\rSuprafata utila este de 70 mp,  iar finisajele sunt atat clasice cat si moderne.\\rGeamurile,  mari si luminoase,  sunt termoizolante PVC pe structura de lemn,  dispune de gresie si faianta in bai si bucatarie,  parchet din lemn masiv in toate camerele,  pardoseala holului din mozaic,  iar incalzirea se efectueaza prin centrala termica proprie. Un mare atu il reprezinta  lumina exterioara pe senzori de miscare si camerele de supraveghere.\\rCurtea interioara este ingrijita,  selecta si ofera posibilitatea de relaxare intr-un cadru intim si verde,  ferit de stresul fonic al orasului.\\rMarele avantaj al acestei proprietati il reprezita atat locatia cat si spatiul generos pe care-l pune la dispozitie.\\rRecomandam aceasta proprietate atat investitorilor cat si firmelor care isi doresc un sediu central intr-o zona selecta.\\rContactati-ne negresit pentru detaliile dorite si stabilirea unei vizionari!                                                                                                                                                                                                                                                                                                                                                                                            1\n",
      "    Welt Imobiliare va ofera spre vanzare un apartament cu 3 camere,  decomandate,  situat in cartierul Manastur.Acesta dispune de 3 camere decomandate,  bucatarie,  baie si 2 balcoane.Este situat in apropiere de magazine,  fiind ideal pentru locuit sau investitie.Pentru detalii suplimentare sau vizionari nu ezitati sa ne contactati.                                                                                                                                                                                                                                                                                                                                                                                                                                                                                                                                                                                                                                                                                                                                                                                                                                                                                                                                                                                                                                                                                                                                                                                                              1\n",
      "    Koncept Imobiliare va propune spre vanzare apartament cu 3 camere in zona strazii Pasteur. Apartamentul are suprafata de 62 mp utili si este compartimentat astfel: 3 camere,  bucatarie,  2 bai si hol. Apartamentul a fost renovat complet in 2016 si se vinde mobilat si utilat complet. Apartamentul se poate cumpara cu preluare de chiriasi,  daca se doreste pentru investitie. Pentru mai multe detalii,  pentru programarea unei vizionari sau pentru a afla oferta noastra completa,  nu ezitati sa ne contactati telefonic,  prin e-mail sau la sediul agentiei noastre,  pe strada Napoca nr.10.                                                                                                                                                                                                                                                                                                                                                                                                                                                                                                                                                                                                                                                                                                                                                                                                                                                                                                                                             1\n",
      "    Va oferim spre vanzare un apartament cu 1 camera,  situat in cartierul Manastur,  in apropierea centrului comercial Polus. \\rLocuinta se afla la primul nivel al unui bloc cu 4 etaje,  finalizat in 2008,  si are orientare sudica,  spre padure. \\rApartamenul are o suprafata utila de 42 mp si este finisat modern,  cu marmura si piatra naturala (camera),  faianta si gresie (baie,  bucatarie,  hol ) balcon inchis,  usa metalica,  centrala termica. Se vinde mobilat partial. In fata blocului este disponibil loc de parcare.   \\rVa stam la dispozitie pentru mai multe detalii sau daca doriti programarea unei vizionari.                                                                                                                                                                                                                                                                                                                                                                                                                                                                                                                                                                                                                                                                                                                                                                                                                                                                                                                 1\n",
      "     Apartament in Gheorgheni,  zona Iuliu Mall.\\r\\rApartamentul este compus din 2 camere semidecomandate,  baie,  bucatarie,  hol,  balcon cu suprafata utila de 48 mp  si se afla intr-un imobil nou. Finisajele apartamentului sunt de  cea mai buna calitate. Apartamentul se preda finisat dar nemobilat.De asemenea,  se afla in imediata apropiere a mijloacelor de transport in comun si magazine. Complexul rezidential dispune de paza 24h/24h cu portar la intrarea in complex si foarte multe facilitati.                                                                                                                                                                                                                                                                                                                                                                                                                                                                                                                                                                                                                                                                                                                                                                                                                                                                                                                                                                                                                                        1\n",
      "Name: descriere, Length: 8013, dtype: int64\n",
      "tip_oferta Vand    7764\n",
      "Name: tip_oferta, dtype: int64\n",
      "persoana Agentie Imobiliara    7262\n",
      "Persoana Fizica       448 \n",
      "Constructor           44  \n",
      "Lichidator            8   \n",
      "Persoana Juridica     2   \n",
      "Name: persoana, dtype: int64\n",
      "etaj Etajul 1            1256\n",
      "Parter              1183\n",
      "Nespecificat        1162\n",
      "Etajul 2            990 \n",
      "Etajul 3            843 \n",
      "Etajul 4            757 \n",
      "Etaj intermediar    451 \n",
      "Etajul 5            236 \n",
      "Ultimul etaj        196 \n",
      "Etajul 7            181 \n",
      "Etajul 8            145 \n",
      "Etajul 6            124 \n",
      "Etajul 10           100 \n",
      "Etajul 9            97  \n",
      "Mansarda            80  \n",
      "Demisol             75  \n",
      "Name: etaj, dtype: int64\n",
      "vechime_imobil mai vechi de 2000    3292\n",
      "bloc nou             2663\n",
      "Nespecificat         1285\n",
      "In constructie       215 \n",
      "Name: vechime_imobil, dtype: int64\n",
      "numar_bai 1               4303\n",
      "2               2019\n",
      "Nespecificat    1381\n",
      "3               43  \n",
      "4               6   \n",
      "1.0             6   \n",
      "Name: numar_bai, dtype: int64\n",
      "numar_balcoane 1                   3185\n",
      "Nespecificat        2852\n",
      "2                   1120\n",
      "Fara balcon         216 \n",
      "3                   137 \n",
      "Terasa              89  \n",
      "Balcon inchis       46  \n",
      "Balcoane inchise    8   \n",
      "1.0                 6   \n",
      "Name: numar_balcoane, dtype: int64\n",
      "geamuri_termopan Da    5277\n",
      "Nu    1108\n",
      "Name: geamuri_termopan, dtype: int64\n",
      "centrala_termica Da    6184\n",
      "Nu    1468\n",
      "Name: centrala_termica, dtype: int64\n",
      "compatimentare Decomandat        4096\n",
      "Semidecomandat    2637\n",
      "Nespecificat      737 \n",
      "Open space        38  \n",
      "Nedecomandat      18  \n",
      "Circular          15  \n",
      "Vagon             3   \n",
      "Name: compatimentare, dtype: int64\n",
      "parchet Da    5205\n",
      "Nu    2230\n",
      "Name: parchet, dtype: int64\n",
      "confort 1               4231\n",
      "Sporit          1533\n",
      "Nespecificat    1180\n",
      "Unic            134 \n",
      "2               122 \n",
      "3               51  \n",
      "Name: confort, dtype: int64\n"
     ]
    },
    {
     "name": "stdout",
     "output_type": "stream",
     "text": [
      "gresie Nu    3735\n",
      "Da    3620\n",
      "Name: gresie, dtype: int64\n",
      "faianta Da    5249\n",
      "Nu    2123\n",
      "Name: faianta, dtype: int64\n",
      "zugravit_lavabil Da    4765\n",
      "Nu    2409\n",
      "Name: zugravit_lavabil, dtype: int64\n",
      "loc_parcare Nu    3372\n",
      "Da    2490\n",
      "Name: loc_parcare, dtype: int64\n",
      "agentie NAPOCA Imobiliare           1459\n",
      "MEIN HAUS                   980 \n",
      "EDIL                        694 \n",
      "Axa Imobiliare              525 \n",
      "REMS Imobiliare             504 \n",
      "IMOFINDER                   435 \n",
      "Koncept Imobiliare          335 \n",
      "Habitas Imobiliare          273 \n",
      "Tara Imobiliare             240 \n",
      "Welt Imobiliare             218 \n",
      "MOBITIM                     146 \n",
      "Tudoria Real Estate         135 \n",
      "kassa imobiliare            119 \n",
      "Impakt                      76  \n",
      "Mein Haus                   58  \n",
      "Impakt Imobiliare           57  \n",
      "ClasicImobiliare            50  \n",
      "RE/MAX Exclusive            45  \n",
      "Camino Imobiliare           39  \n",
      "Metropolitan Real Estate    34  \n",
      "Nicole                      30  \n",
      "record imobiliare           25  \n",
      "lider                       24  \n",
      "RE/MAX Concept              23  \n",
      "NAPOCA IMOBILIARE           22  \n",
      "IMOBILI                     21  \n",
      "Agentia Tara                20  \n",
      "lider imobiliare            20  \n",
      "Tudoria                     18  \n",
      "Imobil Star                 17  \n",
      "                            ..  \n",
      "cordos imobiliare           1   \n",
      "Napoca Imobiliare           1   \n",
      "Rohouse                     1   \n",
      "Pro Dinamic                 1   \n",
      "TOP REAL INTERMED           1   \n",
      "Persoana fizica             1   \n",
      "Phi Smart                   1   \n",
      "Apartamente Cluj            1   \n",
      "mrm                         1   \n",
      "Imobiliare Dobra            1   \n",
      "Piacenza                    1   \n",
      "IMPAKT IMOBILIARE           1   \n",
      "SC Gillian Gheorghiu SRL    1   \n",
      "Imobili                     1   \n",
      "EUMIPA                      1   \n",
      "Trust Imobiliare            1   \n",
      "MIRCEA P.F.A                1   \n",
      "pf                          1   \n",
      "Saphir Imobiliare           1   \n",
      "Persoana Fizica             1   \n",
      "fara                        1   \n",
      "im                          1   \n",
      "Anunt Privat                1   \n",
      "agentia tara                1   \n",
      "Pentalar imobiliare         1   \n",
      "persona fizica              1   \n",
      "persoana fizica             1   \n",
      "Proprietar                  1   \n",
      "Particular                  1   \n",
      "Residence Imobiliare        1   \n",
      "Name: agentie, Length: 104, dtype: int64\n",
      "numar_camere 2      3413\n",
      "3      2679\n",
      "1      824 \n",
      "4      755 \n",
      "1      512 \n",
      "5      56  \n",
      "6      11  \n",
      "15     1   \n",
      "7      1   \n",
      "8      1   \n",
      "9      1   \n",
      "4+     1   \n",
      "Name: numar_camere, dtype: int64\n",
      "strada -                                                      4145\n",
      ".                                                      558 \n",
      "-                                                      96  \n",
      "Fabricii                                               38  \n",
      "Dorobantilor                                           35  \n",
      "Horea                                                  34  \n",
      "Campului                                               30  \n",
      "CALEA DOROBANTILOR                                     27  \n",
      "Manastur                                               26  \n",
      "Florilor                                               26  \n",
      "CALEA TURZII                                           25  \n",
      "Donath                                                 25  \n",
      "Buna Ziua                                              24  \n",
      "Calea Manastur                                         23  \n",
      "MOTILOR                                                23  \n",
      "Aurel Vlaicu                                           23  \n",
      "BUNA ZIUA                                              21  \n",
      "Observatorului                                         21  \n",
      "HOREA                                                  20  \n",
      "21 Decembrie                                           20  \n",
      "CAMPULUI                                               19  \n",
      "Titulescu                                              19  \n",
      "MEHEDINTI                                              19  \n",
      "Plopilor                                               18  \n",
      "Bucegi                                                 17  \n",
      "Izlazului                                              17  \n",
      "Pasteur                                                16  \n",
      "Marasti                                                16  \n",
      "Traian                                                 16  \n",
      "Calea Turzii                                           16  \n",
      "                                                       ..  \n",
      "Strada Campului                                        1   \n",
      "wzesrtyxrui                                            1   \n",
      "G                                                      1   \n",
      "Aleea Muscel                                           1   \n",
      "paris                                                  1   \n",
      "Aurel Gurghianu                                        1   \n",
      "Diana                                                  1   \n",
      "Piata Flora                                            1   \n",
      "Strada Dunării, Cluj-Napoca, Romania                   1   \n",
      "9                                                      1   \n",
      "Radu Gyr                                               1   \n",
      "jrgdfklgbjf                                            1   \n",
      "Cocorilor                                              1   \n",
      "Aleea Barsei                                           1   \n",
      "Strada Ialomiței, Cluj-Napoca 400000, Romania          1   \n",
      "cernei                                                 1   \n",
      "garbau                                                 1   \n",
      "valea girboului                                        1   \n",
      "zona strazii Eftimie Murgu                             1   \n",
      "baita                                                  1   \n",
      "brancusi                                               1   \n",
      "Strada Agricultorilor                                  1   \n",
      "Strada Agricultorilor, Cluj-Napoca 400000, Romania     1   \n",
      "\\sdgzdj                                                1   \n",
      "v                                                      1   \n",
      "Clinicilor                                             1   \n",
      "Strada Soporului, Cluj-Napoca, România                 1   \n",
      "Ciobanului                                             1   \n",
      "Nasaud 10                                              1   \n",
      "P-ta Garii                                             1   \n",
      "Name: strada, Length: 1211, dtype: int64\n",
      "suprafata 65mp        415\n",
      "50mp        360\n",
      "52mp        309\n",
      "40mp        230\n",
      "70mp        212\n",
      "60mp        205\n",
      "54mp        199\n",
      "80mp        184\n",
      "42mp        168\n",
      "53mp        157\n",
      "48mp        155\n",
      "46mp        149\n",
      "56mp        143\n",
      "45mp        143\n",
      "68mp        142\n",
      "67mp        140\n",
      "55mp        136\n",
      "47mp        119\n",
      "64mp        118\n",
      "78mp        118\n",
      "58mp        117\n",
      "51mp        116\n",
      "63mp        116\n",
      "mp          110\n",
      "57mp        106\n",
      "38mp        104\n",
      "28mp        104\n",
      "49mp        102\n",
      "72mp        94 \n",
      "44mp        92 \n",
      "            .. \n",
      "457mp       1  \n",
      "36.94mp     1  \n",
      "53.25mp     1  \n",
      "285mp       1  \n",
      "67.68mp     1  \n",
      "52.76mp     1  \n",
      "60.25mp     1  \n",
      "53.15mp     1  \n",
      "47.5mp      1  \n",
      "181mp       1  \n",
      "43.45mp     1  \n",
      "37.84mp     1  \n",
      "57.04mp     1  \n",
      "133mp       1  \n",
      "48.15mp     1  \n",
      "81.4mp      1  \n",
      "60.33mp     1  \n",
      "94.8mp      1  \n",
      "44.35mp     1  \n",
      "38.72mp     1  \n",
      "55.36mp     1  \n",
      "12mp        1  \n",
      "62.71mp     1  \n",
      "55.4mp      1  \n",
      "60.3mp      1  \n",
      "43.43mp     1  \n",
      "52.41mp     1  \n",
      "60.47mp     1  \n",
      "96.83mp     1  \n",
      "58.17mp     1  \n",
      "Name: suprafata, Length: 558, dtype: int64\n",
      "cartier Manastur           1585\n",
      "Marasti            1432\n",
      "Gheorgheni         1059\n",
      "Centru             978 \n",
      "Zorilor            593 \n",
      "Grigorescu         455 \n",
      "Buna-Ziua          338 \n",
      "Floresti           324 \n",
      "Europa             240 \n",
      "Borhanci           160 \n",
      "Andrei Muresanu    135 \n",
      "Plopilor           125 \n",
      "Iris               123 \n",
      "Baciu              87  \n",
      "Gruia              70  \n",
      "Dambul-Rotund      57  \n",
      "Apahida            37  \n",
      "Gara               24  \n",
      "Someseni           24  \n",
      "Bulgaria           17  \n",
      "Faget              3   \n",
      "Feleacu            1   \n",
      "Sopor              1   \n",
      "Name: cartier, dtype: int64\n",
      "link http://www.piata-az.ro/anunturi/oras-cluj-napoca/7601620    6\n",
      "http://www.piata-az.ro/anunturi/oras-cluj-napoca/7411896    1\n",
      "http://www.piata-az.ro/anunturi/oras-cluj-napoca/7457021    1\n",
      "http://www.piata-az.ro/anunturi/oras-cluj-napoca/7563484    1\n",
      "http://www.piata-az.ro/anunturi/oras-cluj-napoca/7250001    1\n",
      "http://www.piata-az.ro/anunturi/oras-cluj-napoca/7446906    1\n",
      "http://www.piata-az.ro/anunturi/oras-cluj-napoca/7422378    1\n",
      "http://www.piata-az.ro/anunturi/oras-cluj-napoca/7463658    1\n",
      "http://www.piata-az.ro/anunturi/oras-cluj-napoca/7363386    1\n",
      "http://www.piata-az.ro/anunturi/oras-cluj-napoca/7593284    1\n",
      "http://www.piata-az.ro/anunturi/oras-cluj-napoca/7456678    1\n",
      "http://www.piata-az.ro/anunturi/oras-cluj-napoca/7565097    1\n",
      "http://www.piata-az.ro/anunturi/oras-cluj-napoca/7562357    1\n",
      "http://www.piata-az.ro/anunturi/oras-cluj-napoca/7255339    1\n",
      "http://www.piata-az.ro/anunturi/oras-cluj-napoca/7407803    1\n",
      "http://www.piata-az.ro/anunturi/oras-cluj-napoca/7589383    1\n",
      "http://www.piata-az.ro/anunturi/oras-cluj-napoca/7571900    1\n",
      "http://www.piata-az.ro/anunturi/oras-cluj-napoca/6973972    1\n",
      "http://www.piata-az.ro/anunturi/oras-cluj-napoca/7506084    1\n",
      "http://www.piata-az.ro/anunturi/oras-cluj-napoca/7600321    1\n",
      "http://www.piata-az.ro/anunturi/oras-cluj-napoca/7552744    1\n",
      "http://www.piata-az.ro/anunturi/oras-cluj-napoca/7511695    1\n",
      "http://www.piata-az.ro/anunturi/oras-cluj-napoca/7554276    1\n",
      "http://www.piata-az.ro/anunturi/oras-cluj-napoca/7584790    1\n",
      "http://www.piata-az.ro/anunturi/oras-cluj-napoca/7597451    1\n",
      "http://www.piata-az.ro/anunturi/oras-cluj-napoca/7463661    1\n",
      "http://www.piata-az.ro/anunturi/oras-cluj-napoca/7452180    1\n",
      "http://www.piata-az.ro/anunturi/oras-cluj-napoca/7433366    1\n",
      "http://www.piata-az.ro/anunturi/oras-cluj-napoca/7281952    1\n",
      "http://www.piata-az.ro/anunturi/oras-cluj-napoca/7278155    1\n",
      "                                                           ..\n",
      "http://www.piata-az.ro/anunturi/oras-cluj-napoca/7539615    1\n",
      "http://www.piata-az.ro/anunturi/oras-cluj-napoca/7283946    1\n",
      "http://www.piata-az.ro/anunturi/oras-cluj-napoca/7440574    1\n",
      "http://www.piata-az.ro/anunturi/oras-cluj-napoca/7495413    1\n",
      "http://www.piata-az.ro/anunturi/oras-cluj-napoca/7555796    1\n",
      "http://www.piata-az.ro/anunturi/oras-cluj-napoca/7386583    1\n",
      "http://www.piata-az.ro/anunturi/oras-cluj-napoca/7411801    1\n",
      "http://www.piata-az.ro/anunturi/oras-cluj-napoca/7452633    1\n",
      "http://www.piata-az.ro/anunturi/oras-cluj-napoca/7245401    1\n",
      "http://www.piata-az.ro/anunturi/oras-cluj-napoca/7440908    1\n",
      "http://www.piata-az.ro/anunturi/oras-cluj-napoca/7497105    1\n",
      "http://www.piata-az.ro/anunturi/oras-cluj-napoca/7539495    1\n",
      "http://www.piata-az.ro/anunturi/oras-cluj-napoca/7536711    1\n",
      "http://www.piata-az.ro/anunturi/oras-cluj-napoca/7111356    1\n",
      "http://www.piata-az.ro/anunturi/oras-cluj-napoca/7588174    1\n",
      "http://www.piata-az.ro/anunturi/oras-cluj-napoca/7531747    1\n",
      "http://www.piata-az.ro/anunturi/oras-cluj-napoca/7529449    1\n",
      "http://www.piata-az.ro/anunturi/oras-cluj-napoca/7513991    1\n",
      "http://www.piata-az.ro/anunturi/oras-cluj-napoca/7511378    1\n",
      "http://www.piata-az.ro/anunturi/oras-cluj-napoca/7592293    1\n",
      "http://www.piata-az.ro/anunturi/oras-cluj-napoca/7454964    1\n",
      "http://www.piata-az.ro/anunturi/oras-cluj-napoca/7518113    1\n",
      "http://www.piata-az.ro/anunturi/oras-cluj-napoca/7550934    1\n",
      "http://www.piata-az.ro/anunturi/oras-cluj-napoca/7319633    1\n",
      "http://www.piata-az.ro/anunturi/oras-cluj-napoca/7433388    1\n",
      "http://www.piata-az.ro/anunturi/oras-cluj-napoca/7031219    1\n",
      "http://www.piata-az.ro/anunturi/oras-cluj-napoca/7284160    1\n",
      "http://www.piata-az.ro/anunturi/oras-cluj-napoca/7515160    1\n",
      "http://www.piata-az.ro/anunturi/oras-cluj-napoca/7541987    1\n",
      "http://www.piata-az.ro/anunturi/oras-cluj-napoca/7554110    1\n",
      "Name: link, Length: 8265, dtype: int64\n"
     ]
    },
    {
     "name": "stdout",
     "output_type": "stream",
     "text": [
      "modificari_interioare Nu    3785\n",
      "Da    375 \n",
      "Name: modificari_interioare, dtype: int64\n",
      "balcoane_inchise Nu    2965\n",
      "Da    868 \n",
      "Name: balcoane_inchise, dtype: int64\n",
      "aer_conditionat Nu    5071\n",
      "Da    325 \n",
      "Name: aer_conditionat, dtype: int64\n",
      "loc_in_pod Nu    4224\n",
      "Da    714 \n",
      "Name: loc_in_pod, dtype: int64\n",
      "loc_in_pivnita Nu    4124\n",
      "Da    1025\n",
      "Name: loc_in_pivnita, dtype: int64\n",
      "uscator Nu    4250\n",
      "Da    671 \n",
      "Name: uscator, dtype: int64\n"
     ]
    }
   ],
   "source": [
    "for x in coloane:\n",
    "    print('{0}'.format(x) , data[x].value_counts())"
   ]
  },
  {
   "cell_type": "raw",
   "metadata": {},
   "source": [
    "Vom face cate o lista care sa fie conforma cu tipul de date a coloanelor.\n",
    "De exemplu in \"coloane_bool\" vom avea acele caracteristi pe care un utilizator cand introduce un anunt pe site poate alege sa bifeze in dreptul caracteristicii.\n",
    "In \"coloane_liber\" utilizatorul poate introduce ce valori doreste.\n",
    "In \"coloane_selectat\" utilizatorul trebuie sa selecteze dintr-un set de valori pe care site-ul le pune la indemana.\n",
    "\n",
    "nota: cand vorbim de utilizator ma refer la utilizatorul care introduce un anunt pe site-ul www.piata-az.ro"
   ]
  },
  {
   "cell_type": "code",
   "execution_count": 14,
   "metadata": {
    "collapsed": true
   },
   "outputs": [],
   "source": [
    "coloane_bool = [\n",
    " 'geamuri_termopan',\n",
    " 'centrala_termica',\n",
    " 'parchet',\n",
    " 'gresie',\n",
    " 'faianta',\n",
    " 'zugravit_lavabil',\n",
    " 'loc_parcare',\n",
    " 'modificari_interioare',\n",
    " 'balcoane_inchise',\n",
    " 'aer_conditionat',\n",
    " 'loc_in_pod',\n",
    " 'loc_in_pivnita',\n",
    " 'uscator']"
   ]
  },
  {
   "cell_type": "code",
   "execution_count": 15,
   "metadata": {
    "collapsed": true
   },
   "outputs": [],
   "source": [
    "coloane_liber = ['titlu',\n",
    " 'pret',\n",
    " 'descriere',\n",
    " 'agentie',\n",
    " 'strada',\n",
    " 'suprafata',\n",
    " 'link']"
   ]
  },
  {
   "cell_type": "code",
   "execution_count": 16,
   "metadata": {
    "collapsed": true
   },
   "outputs": [],
   "source": [
    "coloane_selectat = [\n",
    " 'oras',\n",
    " 'grad_finisare',\n",
    " 'tip_oferta',\n",
    " 'persoana',\n",
    " 'etaj',\n",
    " 'vechime_imobil',\n",
    " 'numar_bai',\n",
    " 'numar_balcoane',\n",
    " 'compatimentare',\n",
    " 'confort',\n",
    " 'cartier',]"
   ]
  },
  {
   "cell_type": "raw",
   "metadata": {},
   "source": [
    "Specificatii!!!\n",
    "La variabilele unde avem de bifat cand adaugam anuntul in caz ca nu bifam (de ex aer_conditionat) avem 2 rezultate: Nan values ori 'Nu'. In ambele situatii nu a fost bifata casuta din dreptul variabilei. La fel in cazul coloanelor unde trebuie sa selectam din niste valori daca nu a fost selectat nimic avem ori valori Nan (nule, not a number) ori avem \"Nespecificat\""
   ]
  },
  {
   "cell_type": "raw",
   "metadata": {},
   "source": [
    "Vom crea cate functii care ne ajuta sa grupam coloanele in functie de tipul de date, care ne ajuta sa vedem cate valori unice avem si cate valori nule avem intr-o lista de coloane"
   ]
  },
  {
   "cell_type": "code",
   "execution_count": 17,
   "metadata": {},
   "outputs": [
    {
     "data": {
      "text/plain": [
       "{dtype('O'): Index(['titlu', 'pret', 'oras', 'grad_finisare', 'descriere', 'tip_oferta',\n",
       "        'persoana', 'etaj', 'vechime_imobil', 'numar_bai', 'numar_balcoane',\n",
       "        'geamuri_termopan', 'centrala_termica', 'compatimentare', 'parchet',\n",
       "        'confort', 'gresie', 'faianta', 'zugravit_lavabil', 'loc_parcare',\n",
       "        'agentie', 'numar_camere', 'strada', 'suprafata', 'cartier', 'link',\n",
       "        'modificari_interioare', 'balcoane_inchise', 'aer_conditionat',\n",
       "        'loc_in_pod', 'loc_in_pivnita', 'uscator'],\n",
       "       dtype='object')}"
      ]
     },
     "execution_count": 17,
     "metadata": {},
     "output_type": "execute_result"
    }
   ],
   "source": [
    "data_types = data.columns.to_series().groupby(data.dtypes).groups\n",
    "data_types"
   ]
  },
  {
   "cell_type": "code",
   "execution_count": 18,
   "metadata": {
    "collapsed": true
   },
   "outputs": [],
   "source": [
    "def valori_unice(col):\n",
    "    for x in col:\n",
    "        print('{0}'.format(x) , data[x].value_counts())"
   ]
  },
  {
   "cell_type": "code",
   "execution_count": 19,
   "metadata": {
    "collapsed": true
   },
   "outputs": [],
   "source": [
    "def valori_nule(col):\n",
    "    for x in col:\n",
    "        print('{0}'.format(x) , data[x].isnull().sum())"
   ]
  },
  {
   "cell_type": "code",
   "execution_count": 20,
   "metadata": {
    "collapsed": true
   },
   "outputs": [],
   "source": [
    "def tipuri_date():\n",
    "    data_types = data.columns.to_series().groupby(data.dtypes).groups\n",
    "    return data_types"
   ]
  },
  {
   "cell_type": "code",
   "execution_count": 21,
   "metadata": {},
   "outputs": [
    {
     "name": "stdout",
     "output_type": "stream",
     "text": [
      "geamuri_termopan 1885\n",
      "centrala_termica 618\n",
      "parchet 835\n",
      "gresie 915\n",
      "faianta 898\n",
      "zugravit_lavabil 1096\n",
      "loc_parcare 2408\n",
      "modificari_interioare 4110\n",
      "balcoane_inchise 4437\n",
      "aer_conditionat 2874\n",
      "loc_in_pod 3332\n",
      "loc_in_pivnita 3121\n",
      "uscator 3349\n"
     ]
    }
   ],
   "source": [
    "_ = valori_nule(coloane_bool)"
   ]
  },
  {
   "cell_type": "code",
   "execution_count": 22,
   "metadata": {},
   "outputs": [
    {
     "name": "stdout",
     "output_type": "stream",
     "text": [
      "geamuri_termopan Da    5277\n",
      "Nu    1108\n",
      "Name: geamuri_termopan, dtype: int64\n",
      "centrala_termica Da    6184\n",
      "Nu    1468\n",
      "Name: centrala_termica, dtype: int64\n",
      "parchet Da    5205\n",
      "Nu    2230\n",
      "Name: parchet, dtype: int64\n",
      "gresie Nu    3735\n",
      "Da    3620\n",
      "Name: gresie, dtype: int64\n",
      "faianta Da    5249\n",
      "Nu    2123\n",
      "Name: faianta, dtype: int64\n",
      "zugravit_lavabil Da    4765\n",
      "Nu    2409\n",
      "Name: zugravit_lavabil, dtype: int64\n",
      "loc_parcare Nu    3372\n",
      "Da    2490\n",
      "Name: loc_parcare, dtype: int64\n",
      "modificari_interioare Nu    3785\n",
      "Da    375 \n",
      "Name: modificari_interioare, dtype: int64\n",
      "balcoane_inchise Nu    2965\n",
      "Da    868 \n",
      "Name: balcoane_inchise, dtype: int64\n",
      "aer_conditionat Nu    5071\n",
      "Da    325 \n",
      "Name: aer_conditionat, dtype: int64\n",
      "loc_in_pod Nu    4224\n",
      "Da    714 \n",
      "Name: loc_in_pod, dtype: int64\n",
      "loc_in_pivnita Nu    4124\n",
      "Da    1025\n",
      "Name: loc_in_pivnita, dtype: int64\n",
      "uscator Nu    4250\n",
      "Da    671 \n",
      "Name: uscator, dtype: int64\n"
     ]
    }
   ],
   "source": [
    "_ = valori_unice(coloane_bool)"
   ]
  },
  {
   "cell_type": "code",
   "execution_count": 23,
   "metadata": {
    "collapsed": true
   },
   "outputs": [],
   "source": [
    "data.replace(['Nu', 'Nespecificat'], [np.nan, np.nan], inplace=True)"
   ]
  },
  {
   "cell_type": "code",
   "execution_count": 24,
   "metadata": {},
   "outputs": [
    {
     "name": "stdout",
     "output_type": "stream",
     "text": [
      "geamuri_termopan Da    5277\n",
      "Name: geamuri_termopan, dtype: int64\n",
      "centrala_termica Da    6184\n",
      "Name: centrala_termica, dtype: int64\n",
      "parchet Da    5205\n",
      "Name: parchet, dtype: int64\n",
      "gresie Da    3620\n",
      "Name: gresie, dtype: int64\n",
      "faianta Da    5249\n",
      "Name: faianta, dtype: int64\n",
      "zugravit_lavabil Da    4765\n",
      "Name: zugravit_lavabil, dtype: int64\n",
      "loc_parcare Da    2490\n",
      "Name: loc_parcare, dtype: int64\n",
      "modificari_interioare Da    375\n",
      "Name: modificari_interioare, dtype: int64\n",
      "balcoane_inchise Da    868\n",
      "Name: balcoane_inchise, dtype: int64\n",
      "aer_conditionat Da    325\n",
      "Name: aer_conditionat, dtype: int64\n",
      "loc_in_pod Da    714\n",
      "Name: loc_in_pod, dtype: int64\n",
      "loc_in_pivnita Da    1025\n",
      "Name: loc_in_pivnita, dtype: int64\n",
      "uscator Da    671\n",
      "Name: uscator, dtype: int64\n"
     ]
    }
   ],
   "source": [
    "_ = valori_unice(coloane_bool)"
   ]
  },
  {
   "cell_type": "code",
   "execution_count": 25,
   "metadata": {},
   "outputs": [
    {
     "name": "stdout",
     "output_type": "stream",
     "text": [
      "geamuri_termopan 2993\n",
      "centrala_termica 2086\n",
      "parchet 3065\n",
      "gresie 4650\n",
      "faianta 3021\n",
      "zugravit_lavabil 3505\n",
      "loc_parcare 5780\n",
      "modificari_interioare 7895\n",
      "balcoane_inchise 7402\n",
      "aer_conditionat 7945\n",
      "loc_in_pod 7556\n",
      "loc_in_pivnita 7245\n",
      "uscator 7599\n"
     ]
    }
   ],
   "source": [
    "_ = valori_nule(coloane_bool)"
   ]
  },
  {
   "cell_type": "code",
   "execution_count": 26,
   "metadata": {},
   "outputs": [
    {
     "data": {
      "text/plain": [
       "{dtype('O'): Index(['titlu', 'pret', 'oras', 'grad_finisare', 'descriere', 'tip_oferta',\n",
       "        'persoana', 'etaj', 'vechime_imobil', 'numar_bai', 'numar_balcoane',\n",
       "        'geamuri_termopan', 'centrala_termica', 'compatimentare', 'parchet',\n",
       "        'confort', 'gresie', 'faianta', 'zugravit_lavabil', 'loc_parcare',\n",
       "        'agentie', 'numar_camere', 'strada', 'suprafata', 'cartier', 'link',\n",
       "        'modificari_interioare', 'balcoane_inchise', 'aer_conditionat',\n",
       "        'loc_in_pod', 'loc_in_pivnita', 'uscator'],\n",
       "       dtype='object')}"
      ]
     },
     "execution_count": 26,
     "metadata": {},
     "output_type": "execute_result"
    }
   ],
   "source": [
    "_ = tipuri_date()\n",
    "_"
   ]
  },
  {
   "cell_type": "raw",
   "metadata": {},
   "source": [
    "Vom modifica tipurile de date. Vom face coloanele \"pret\" si \"suprafata\" sa fie numerice."
   ]
  },
  {
   "cell_type": "code",
   "execution_count": 27,
   "metadata": {
    "collapsed": true
   },
   "outputs": [],
   "source": [
    "import re"
   ]
  },
  {
   "cell_type": "code",
   "execution_count": 28,
   "metadata": {
    "collapsed": true
   },
   "outputs": [],
   "source": [
    "def pret_modificare(column):\n",
    "    column = str(column)\n",
    "    column = re.sub(r'\\D', '', column)\n",
    "    column = int(column)\n",
    "    return column\n",
    "\n",
    "data['pret'] = data['pret'].apply(pret_modificare)"
   ]
  },
  {
   "cell_type": "code",
   "execution_count": 29,
   "metadata": {},
   "outputs": [
    {
     "data": {
      "text/plain": [
       "85000     205\n",
       "95000     176\n",
       "75000     167\n",
       "110000    154\n",
       "65000     152\n",
       "90000     148\n",
       "70000     146\n",
       "100000    136\n",
       "120000    135\n",
       "80000     129\n",
       "105000    117\n",
       "125000    112\n",
       "72000     106\n",
       "115000    100\n",
       "78000     94 \n",
       "45000     93 \n",
       "87000     85 \n",
       "82000     84 \n",
       "69000     80 \n",
       "60000     75 \n",
       "89000     74 \n",
       "130000    74 \n",
       "79000     73 \n",
       "77000     71 \n",
       "76000     71 \n",
       "68000     70 \n",
       "99000     69 \n",
       "50000     67 \n",
       "55000     67 \n",
       "93000     67 \n",
       "          .. \n",
       "237000    1  \n",
       "130500    1  \n",
       "44780     1  \n",
       "60830     1  \n",
       "81300     1  \n",
       "48516     1  \n",
       "96200     1  \n",
       "81991     1  \n",
       "81999     1  \n",
       "46365     1  \n",
       "40200     1  \n",
       "52778     1  \n",
       "32300     1  \n",
       "48700     1  \n",
       "98300     1  \n",
       "57300     1  \n",
       "32900     1  \n",
       "55375     1  \n",
       "73800     1  \n",
       "163900    1  \n",
       "24600     1  \n",
       "75719     1  \n",
       "73280     1  \n",
       "94150     1  \n",
       "153500    1  \n",
       "118610    1  \n",
       "85770     1  \n",
       "61094     1  \n",
       "85602     1  \n",
       "73700     1  \n",
       "Name: pret, Length: 937, dtype: int64"
      ]
     },
     "execution_count": 29,
     "metadata": {},
     "output_type": "execute_result"
    }
   ],
   "source": [
    "data.pret.value_counts()"
   ]
  },
  {
   "cell_type": "code",
   "execution_count": 30,
   "metadata": {},
   "outputs": [
    {
     "data": {
      "text/plain": [
       "65mp        415\n",
       "50mp        360\n",
       "52mp        309\n",
       "40mp        230\n",
       "70mp        212\n",
       "60mp        205\n",
       "54mp        199\n",
       "80mp        184\n",
       "42mp        168\n",
       "53mp        157\n",
       "48mp        155\n",
       "46mp        149\n",
       "56mp        143\n",
       "45mp        143\n",
       "68mp        142\n",
       "67mp        140\n",
       "55mp        136\n",
       "47mp        119\n",
       "64mp        118\n",
       "78mp        118\n",
       "58mp        117\n",
       "51mp        116\n",
       "63mp        116\n",
       "mp          110\n",
       "57mp        106\n",
       "38mp        104\n",
       "28mp        104\n",
       "49mp        102\n",
       "72mp        94 \n",
       "44mp        92 \n",
       "            .. \n",
       "457mp       1  \n",
       "36.94mp     1  \n",
       "53.25mp     1  \n",
       "285mp       1  \n",
       "67.68mp     1  \n",
       "52.76mp     1  \n",
       "60.25mp     1  \n",
       "53.15mp     1  \n",
       "47.5mp      1  \n",
       "181mp       1  \n",
       "43.45mp     1  \n",
       "37.84mp     1  \n",
       "57.04mp     1  \n",
       "133mp       1  \n",
       "48.15mp     1  \n",
       "81.4mp      1  \n",
       "60.33mp     1  \n",
       "94.8mp      1  \n",
       "44.35mp     1  \n",
       "38.72mp     1  \n",
       "55.36mp     1  \n",
       "12mp        1  \n",
       "62.71mp     1  \n",
       "55.4mp      1  \n",
       "60.3mp      1  \n",
       "43.43mp     1  \n",
       "52.41mp     1  \n",
       "60.47mp     1  \n",
       "96.83mp     1  \n",
       "58.17mp     1  \n",
       "Name: suprafata, Length: 558, dtype: int64"
      ]
     },
     "execution_count": 30,
     "metadata": {},
     "output_type": "execute_result"
    }
   ],
   "source": [
    "data.suprafata.value_counts()"
   ]
  },
  {
   "cell_type": "code",
   "execution_count": 31,
   "metadata": {
    "collapsed": true
   },
   "outputs": [],
   "source": [
    "def supraf_mod(column):\n",
    "    column = str(column)\n",
    "    column = re.sub(r'mp', '', column)\n",
    "    return column\n",
    "data['suprafata'] = data['suprafata'].apply(supraf_mod)\n",
    "\n",
    "def supraf_modificare(column):\n",
    "    column = str(column)\n",
    "    column = re.sub(r'\\.\\d+', '', column)\n",
    "    return column\n",
    "data['suprafata'] = data['suprafata'].apply(supraf_modificare)"
   ]
  },
  {
   "cell_type": "code",
   "execution_count": 32,
   "metadata": {
    "collapsed": true
   },
   "outputs": [],
   "source": [
    "data = data[data['suprafata'] != ' ']\n",
    "\n",
    "def convert_int(rand):\n",
    "    rand = re.sub(r'\\s', '', rand)\n",
    "    rand = int(rand)\n",
    "    return rand\n",
    "\n",
    "contor = data['suprafata']==' '\n",
    "contor.sum()\n",
    "data['suprafata'] = data['suprafata'].apply(convert_int)"
   ]
  },
  {
   "cell_type": "code",
   "execution_count": 33,
   "metadata": {},
   "outputs": [
    {
     "data": {
      "text/plain": [
       "65       418\n",
       "50       370\n",
       "52       330\n",
       "40       236\n",
       "70       219\n",
       "60       211\n",
       "54       210\n",
       "80       187\n",
       "42       176\n",
       "53       170\n",
       "48       162\n",
       "56       157\n",
       "46       155\n",
       "45       152\n",
       "68       150\n",
       "55       149\n",
       "67       144\n",
       "58       129\n",
       "63       128\n",
       "47       127\n",
       "51       126\n",
       "57       125\n",
       "64       123\n",
       "78       122\n",
       "38       110\n",
       "49       110\n",
       "28       105\n",
       "72       100\n",
       "44       99 \n",
       "62       94 \n",
       "         .. \n",
       "174      1  \n",
       "186      1  \n",
       "198      1  \n",
       "206      1  \n",
       "226      1  \n",
       "322      1  \n",
       "370      1  \n",
       "8157     1  \n",
       "19       1  \n",
       "123      1  \n",
       "147      1  \n",
       "142      1  \n",
       "138      1  \n",
       "45000    1  \n",
       "133      1  \n",
       "188      1  \n",
       "212      1  \n",
       "420      1  \n",
       "2012     1  \n",
       "34900    1  \n",
       "129      1  \n",
       "137      1  \n",
       "457      1  \n",
       "153      1  \n",
       "161      1  \n",
       "173      1  \n",
       "217      1  \n",
       "159      1  \n",
       "285      1  \n",
       "233      1  \n",
       "Name: suprafata, Length: 180, dtype: int64"
      ]
     },
     "execution_count": 33,
     "metadata": {},
     "output_type": "execute_result"
    }
   ],
   "source": [
    "data.suprafata.value_counts()"
   ]
  },
  {
   "cell_type": "raw",
   "metadata": {},
   "source": [
    "Vom incepe procesul de curatare a datelor"
   ]
  },
  {
   "cell_type": "raw",
   "metadata": {},
   "source": [
    "Vom vedea cate apartamente au pretul mai mic de 10000 de euro."
   ]
  },
  {
   "cell_type": "code",
   "execution_count": 34,
   "metadata": {
    "collapsed": true
   },
   "outputs": [],
   "source": [
    "mask_pret = data['pret'] < 10000"
   ]
  },
  {
   "cell_type": "code",
   "execution_count": 35,
   "metadata": {},
   "outputs": [
    {
     "data": {
      "text/plain": [
       "79"
      ]
     },
     "execution_count": 35,
     "metadata": {},
     "output_type": "execute_result"
    }
   ],
   "source": [
    "mask_pret.sum()"
   ]
  },
  {
   "cell_type": "raw",
   "metadata": {},
   "source": [
    "Vom elimina preturile mai mici de 10000 de euro"
   ]
  },
  {
   "cell_type": "code",
   "execution_count": 36,
   "metadata": {
    "collapsed": true
   },
   "outputs": [],
   "source": [
    "data = data[data['pret'] > 10000]"
   ]
  },
  {
   "cell_type": "raw",
   "metadata": {},
   "source": [
    "Vom investiga cum sunt distribuitele datele cu ajutorul unei Histrograme si cu ajutorul unul box-plot."
   ]
  },
  {
   "cell_type": "code",
   "execution_count": 37,
   "metadata": {},
   "outputs": [
    {
     "data": {
      "image/png": "[encoded data removed]",
      "text/plain": [
       "<matplotlib.figure.Figure at 0x1dacfffeb00>"
      ]
     },
     "metadata": {},
     "output_type": "display_data"
    }
   ],
   "source": [
    "data.pret.hist(bins=30)\n",
    "plt.show()"
   ]
  },
  {
   "cell_type": "code",
   "execution_count": 38,
   "metadata": {},
   "outputs": [
    {
     "data": {
      "image/png": "[encoded data removed]",
      "text/plain": [
       "<matplotlib.figure.Figure at 0x1dad033c7b8>"
      ]
     },
     "metadata": {},
     "output_type": "display_data"
    }
   ],
   "source": [
    "plt.boxplot(data.pret)\n",
    "plt.show()"
   ]
  },
  {
   "cell_type": "code",
   "execution_count": 39,
   "metadata": {},
   "outputs": [
    {
     "data": {
      "text/plain": [
       "173"
      ]
     },
     "execution_count": 39,
     "metadata": {},
     "output_type": "execute_result"
    }
   ],
   "source": [
    "mask_pret = data['pret'] >200000\n",
    "mask_pret.sum()"
   ]
  },
  {
   "cell_type": "raw",
   "metadata": {},
   "source": [
    "Vom investiga manual cateva anunturi care au pretul mai mare de 200.000 de euro ca sa vedem daca sunt data introduse gresit"
   ]
  },
  {
   "cell_type": "code",
   "execution_count": 40,
   "metadata": {},
   "outputs": [
    {
     "data": {
      "text/plain": [
       "34      http://www.piata-az.ro/anunturi/oras-cluj-napoca/7536832\n",
       "104     http://www.piata-az.ro/anunturi/oras-cluj-napoca/7597626\n",
       "375     http://www.piata-az.ro/anunturi/oras-cluj-napoca/7505767\n",
       "794     http://www.piata-az.ro/anunturi/oras-cluj-napoca/7597743\n",
       "803     http://www.piata-az.ro/anunturi/oras-cluj-napoca/7443036\n",
       "896     http://www.piata-az.ro/anunturi/oras-cluj-napoca/7286589\n",
       "1051    http://www.piata-az.ro/anunturi/oras-cluj-napoca/7316804\n",
       "1069    http://www.piata-az.ro/anunturi/oras-cluj-napoca/7431314\n",
       "1075    http://www.piata-az.ro/anunturi/oras-cluj-napoca/7518272\n",
       "1119    http://www.piata-az.ro/anunturi/oras-cluj-napoca/7442998\n",
       "1176    http://www.piata-az.ro/anunturi/oras-cluj-napoca/7165589\n",
       "1217    http://www.piata-az.ro/anunturi/oras-cluj-napoca/7346936\n",
       "1237    http://www.piata-az.ro/anunturi/oras-cluj-napoca/7418365\n",
       "1240    http://www.piata-az.ro/anunturi/oras-cluj-napoca/7298390\n",
       "1247    http://www.piata-az.ro/anunturi/oras-cluj-napoca/6453745\n",
       "1460    http://www.piata-az.ro/anunturi/oras-cluj-napoca/7451651\n",
       "1523    http://www.piata-az.ro/anunturi/oras-cluj-napoca/7454870\n",
       "1585    http://www.piata-az.ro/anunturi/oras-cluj-napoca/7328983\n",
       "1624    http://www.piata-az.ro/anunturi/oras-cluj-napoca/7320927\n",
       "1641    http://www.piata-az.ro/anunturi/oras-cluj-napoca/7094028\n",
       "1847    http://www.piata-az.ro/anunturi/oras-cluj-napoca/7509063\n",
       "2051    http://www.piata-az.ro/anunturi/oras-cluj-napoca/7045384\n",
       "2053    http://www.piata-az.ro/anunturi/oras-cluj-napoca/7433316\n",
       "2057    http://www.piata-az.ro/anunturi/oras-cluj-napoca/7397782\n",
       "2058    http://www.piata-az.ro/anunturi/oras-cluj-napoca/7048106\n",
       "2072    http://www.piata-az.ro/anunturi/oras-cluj-napoca/7433318\n",
       "2081    http://www.piata-az.ro/anunturi/oras-cluj-napoca/7433319\n",
       "2086    http://www.piata-az.ro/anunturi/oras-cluj-napoca/7028322\n",
       "2111    http://www.piata-az.ro/anunturi/oras-cluj-napoca/7083664\n",
       "2116    http://www.piata-az.ro/anunturi/oras-cluj-napoca/7446712\n",
       "                                  ...                           \n",
       "6648    http://www.piata-az.ro/anunturi/oras-cluj-napoca/7361925\n",
       "6901    http://www.piata-az.ro/anunturi/oras-cluj-napoca/7243890\n",
       "6903    http://www.piata-az.ro/anunturi/oras-cluj-napoca/7525706\n",
       "6906    http://www.piata-az.ro/anunturi/oras-cluj-napoca/7525734\n",
       "6907    http://www.piata-az.ro/anunturi/oras-cluj-napoca/7525845\n",
       "6958    http://www.piata-az.ro/anunturi/oras-cluj-napoca/7523329\n",
       "7018    http://www.piata-az.ro/anunturi/oras-cluj-napoca/7512574\n",
       "7050    http://www.piata-az.ro/anunturi/oras-cluj-napoca/7511366\n",
       "7052    http://www.piata-az.ro/anunturi/oras-cluj-napoca/7511383\n",
       "7098    http://www.piata-az.ro/anunturi/oras-cluj-napoca/7371838\n",
       "7105    http://www.piata-az.ro/anunturi/oras-cluj-napoca/7569778\n",
       "7124    http://www.piata-az.ro/anunturi/oras-cluj-napoca/7568422\n",
       "7128    http://www.piata-az.ro/anunturi/oras-cluj-napoca/7568364\n",
       "7134    http://www.piata-az.ro/anunturi/oras-cluj-napoca/7568275\n",
       "7248    http://www.piata-az.ro/anunturi/oras-cluj-napoca/7565819\n",
       "7249    http://www.piata-az.ro/anunturi/oras-cluj-napoca/7565814\n",
       "7280    http://www.piata-az.ro/anunturi/oras-cluj-napoca/7565440\n",
       "7283    http://www.piata-az.ro/anunturi/oras-cluj-napoca/7564785\n",
       "7320    http://www.piata-az.ro/anunturi/oras-cluj-napoca/7564274\n",
       "7329    http://www.piata-az.ro/anunturi/oras-cluj-napoca/7564213\n",
       "7335    http://www.piata-az.ro/anunturi/oras-cluj-napoca/7564117\n",
       "7505    http://www.piata-az.ro/anunturi/oras-cluj-napoca/7562068\n",
       "7644    http://www.piata-az.ro/anunturi/oras-cluj-napoca/7557370\n",
       "7651    http://www.piata-az.ro/anunturi/oras-cluj-napoca/7557333\n",
       "7800    http://www.piata-az.ro/anunturi/oras-cluj-napoca/7554081\n",
       "7859    http://www.piata-az.ro/anunturi/oras-cluj-napoca/7252808\n",
       "7959    http://www.piata-az.ro/anunturi/oras-cluj-napoca/7553239\n",
       "7960    http://www.piata-az.ro/anunturi/oras-cluj-napoca/7553232\n",
       "8025    http://www.piata-az.ro/anunturi/oras-cluj-napoca/7247877\n",
       "8118    http://www.piata-az.ro/anunturi/oras-cluj-napoca/7550520\n",
       "Name: link, Length: 173, dtype: object"
      ]
     },
     "execution_count": 40,
     "metadata": {},
     "output_type": "execute_result"
    }
   ],
   "source": [
    "data[mask_pret].link"
   ]
  },
  {
   "cell_type": "code",
   "execution_count": 41,
   "metadata": {
    "collapsed": true
   },
   "outputs": [],
   "source": [
    "data = data[data['pret'] < 200000]"
   ]
  },
  {
   "cell_type": "code",
   "execution_count": 42,
   "metadata": {},
   "outputs": [
    {
     "data": {
      "image/png": "[encoded data removed]",
      "text/plain": [
       "<matplotlib.figure.Figure at 0x1dad01b86a0>"
      ]
     },
     "metadata": {},
     "output_type": "display_data"
    }
   ],
   "source": [
    "data.pret.hist(bins=20)\n",
    "plt.show()"
   ]
  },
  {
   "cell_type": "code",
   "execution_count": 43,
   "metadata": {},
   "outputs": [
    {
     "data": {
      "image/png": "[encoded data removed]",
      "text/plain": [
       "<matplotlib.figure.Figure at 0x1dad04b1eb8>"
      ]
     },
     "metadata": {},
     "output_type": "display_data"
    }
   ],
   "source": [
    "data.suprafata.hist(bins=30)\n",
    "plt.show()"
   ]
  },
  {
   "cell_type": "code",
   "execution_count": 44,
   "metadata": {
    "collapsed": true
   },
   "outputs": [],
   "source": [
    "data = data[data['suprafata'] < 250]"
   ]
  },
  {
   "cell_type": "code",
   "execution_count": 45,
   "metadata": {
    "collapsed": true
   },
   "outputs": [],
   "source": [
    "data = data[data['suprafata'] > 10]"
   ]
  },
  {
   "cell_type": "code",
   "execution_count": 46,
   "metadata": {},
   "outputs": [
    {
     "data": {
      "image/png": "[encoded data removed]",
      "text/plain": [
       "<matplotlib.figure.Figure at 0x1dad081a400>"
      ]
     },
     "metadata": {},
     "output_type": "display_data"
    }
   ],
   "source": [
    "data.suprafata.hist(bins=25)\n",
    "plt.show()"
   ]
  },
  {
   "cell_type": "code",
   "execution_count": 47,
   "metadata": {},
   "outputs": [
    {
     "data": {
      "text/plain": [
       "{dtype('int64'): Index(['pret', 'suprafata'], dtype='object'),\n",
       " dtype('O'): Index(['titlu', 'oras', 'grad_finisare', 'descriere', 'tip_oferta', 'persoana',\n",
       "        'etaj', 'vechime_imobil', 'numar_bai', 'numar_balcoane',\n",
       "        'geamuri_termopan', 'centrala_termica', 'compatimentare', 'parchet',\n",
       "        'confort', 'gresie', 'faianta', 'zugravit_lavabil', 'loc_parcare',\n",
       "        'agentie', 'numar_camere', 'strada', 'cartier', 'link',\n",
       "        'modificari_interioare', 'balcoane_inchise', 'aer_conditionat',\n",
       "        'loc_in_pod', 'loc_in_pivnita', 'uscator'],\n",
       "       dtype='object')}"
      ]
     },
     "execution_count": 47,
     "metadata": {},
     "output_type": "execute_result"
    }
   ],
   "source": [
    "_ = tipuri_date()\n",
    "_"
   ]
  },
  {
   "cell_type": "raw",
   "metadata": {},
   "source": [
    "Vom creea o coloana noua, \"pret/suprafata\", pentru a putea analiza mai bine datele."
   ]
  },
  {
   "cell_type": "code",
   "execution_count": 48,
   "metadata": {
    "collapsed": true
   },
   "outputs": [],
   "source": [
    "data['pret/suprafata']= data['pret'] // data['suprafata']"
   ]
  },
  {
   "cell_type": "code",
   "execution_count": 49,
   "metadata": {},
   "outputs": [
    {
     "data": {
      "text/plain": [
       "65     416\n",
       "50     365\n",
       "52     328\n",
       "40     235\n",
       "70     218\n",
       "60     208\n",
       "54     206\n",
       "80     185\n",
       "42     174\n",
       "53     165\n",
       "48     158\n",
       "56     156\n",
       "46     155\n",
       "45     151\n",
       "68     148\n",
       "55     147\n",
       "67     142\n",
       "63     128\n",
       "58     125\n",
       "57     124\n",
       "64     123\n",
       "47     123\n",
       "51     122\n",
       "78     122\n",
       "49     110\n",
       "38     109\n",
       "28     105\n",
       "44     99 \n",
       "72     99 \n",
       "75     92 \n",
       "       .. \n",
       "160    3  \n",
       "106    3  \n",
       "18     3  \n",
       "113    2  \n",
       "176    2  \n",
       "155    2  \n",
       "159    1  \n",
       "177    1  \n",
       "144    1  \n",
       "148    1  \n",
       "147    1  \n",
       "143    1  \n",
       "123    1  \n",
       "19     1  \n",
       "198    1  \n",
       "174    1  \n",
       "166    1  \n",
       "162    1  \n",
       "154    1  \n",
       "146    1  \n",
       "173    1  \n",
       "161    1  \n",
       "145    1  \n",
       "137    1  \n",
       "133    1  \n",
       "129    1  \n",
       "240    1  \n",
       "180    1  \n",
       "152    1  \n",
       "12     1  \n",
       "Name: suprafata, Length: 143, dtype: int64"
      ]
     },
     "execution_count": 49,
     "metadata": {},
     "output_type": "execute_result"
    }
   ],
   "source": [
    "data.suprafata.value_counts()"
   ]
  },
  {
   "cell_type": "code",
   "execution_count": 50,
   "metadata": {},
   "outputs": [
    {
     "data": {
      "image/png": "[encoded data removed]",
      "text/plain": [
       "<matplotlib.figure.Figure at 0x1dad0c33080>"
      ]
     },
     "metadata": {},
     "output_type": "display_data"
    }
   ],
   "source": [
    "data['pret/suprafata'].hist(bins=30)\n",
    "plt.show()"
   ]
  },
  {
   "cell_type": "raw",
   "metadata": {},
   "source": [
    "Vom formata coloana \"numar_camere\" pentru a avea doar date numerice de tip int."
   ]
  },
  {
   "cell_type": "code",
   "execution_count": 51,
   "metadata": {
    "collapsed": true
   },
   "outputs": [],
   "source": [
    "def camere_modificare(column):\n",
    "    column = str(column)\n",
    "    column = re.sub(r'\\D', '', column)\n",
    "    return column\n",
    "\n",
    "data['numar_camere'] = data['numar_camere'].apply(camere_modificare)"
   ]
  },
  {
   "cell_type": "code",
   "execution_count": 52,
   "metadata": {
    "collapsed": true
   },
   "outputs": [],
   "source": [
    "data = data[data['numar_camere'] != '']"
   ]
  },
  {
   "cell_type": "code",
   "execution_count": 53,
   "metadata": {
    "collapsed": true
   },
   "outputs": [],
   "source": [
    "def camere_int(column):\n",
    "    column = int(column)\n",
    "    return column\n",
    "\n",
    "data['numar_camere'] = data['numar_camere'].apply(camere_int)"
   ]
  },
  {
   "cell_type": "code",
   "execution_count": 54,
   "metadata": {},
   "outputs": [
    {
     "data": {
      "text/plain": [
       "2    3294\n",
       "3    2561\n",
       "1    1280\n",
       "4    662 \n",
       "5    31  \n",
       "6    5   \n",
       "7    1   \n",
       "Name: numar_camere, dtype: int64"
      ]
     },
     "execution_count": 54,
     "metadata": {},
     "output_type": "execute_result"
    }
   ],
   "source": [
    "data['numar_camere'].value_counts()"
   ]
  },
  {
   "cell_type": "code",
   "execution_count": 55,
   "metadata": {
    "collapsed": true
   },
   "outputs": [],
   "source": [
    "coloane = data.columns.tolist()"
   ]
  },
  {
   "cell_type": "code",
   "execution_count": 56,
   "metadata": {},
   "outputs": [
    {
     "data": {
      "text/plain": [
       "['titlu',\n",
       " 'pret',\n",
       " 'oras',\n",
       " 'grad_finisare',\n",
       " 'descriere',\n",
       " 'tip_oferta',\n",
       " 'persoana',\n",
       " 'etaj',\n",
       " 'vechime_imobil',\n",
       " 'numar_bai',\n",
       " 'numar_balcoane',\n",
       " 'geamuri_termopan',\n",
       " 'centrala_termica',\n",
       " 'compatimentare',\n",
       " 'parchet',\n",
       " 'confort',\n",
       " 'gresie',\n",
       " 'faianta',\n",
       " 'zugravit_lavabil',\n",
       " 'loc_parcare',\n",
       " 'agentie',\n",
       " 'numar_camere',\n",
       " 'strada',\n",
       " 'suprafata',\n",
       " 'cartier',\n",
       " 'link',\n",
       " 'modificari_interioare',\n",
       " 'balcoane_inchise',\n",
       " 'aer_conditionat',\n",
       " 'loc_in_pod',\n",
       " 'loc_in_pivnita',\n",
       " 'uscator',\n",
       " 'pret/suprafata']"
      ]
     },
     "execution_count": 56,
     "metadata": {},
     "output_type": "execute_result"
    }
   ],
   "source": [
    "coloane"
   ]
  },
  {
   "cell_type": "raw",
   "metadata": {},
   "source": [
    "Coloanele care contin date categorice le vom pune intr-o lista speciala pentru a putea crea variabile dummy."
   ]
  },
  {
   "cell_type": "code",
   "execution_count": 57,
   "metadata": {
    "collapsed": true
   },
   "outputs": [],
   "source": [
    "coloane_one_hot = ['grad_finisare',  'etaj', 'vechime_imobil', 'numar_bai', 'numar_balcoane', 'geamuri_termopan', 'centrala_termica', 'compatimentare', 'parchet', 'confort', 'gresie', 'faianta', 'zugravit_lavabil', 'loc_parcare', 'numar_camere',  'cartier','modificari_interioare', 'balcoane_inchise', 'aer_conditionat', 'loc_in_pod', 'loc_in_pivnita', 'uscator']"
   ]
  },
  {
   "cell_type": "code",
   "execution_count": 58,
   "metadata": {},
   "outputs": [
    {
     "name": "stdout",
     "output_type": "stream",
     "text": [
      "grad_finisare Finisat modern       1178\n",
      "Semifinisat          1100\n",
      "Finisat clasic       779 \n",
      "Ultrafinisat         369 \n",
      "Nefinisat            221 \n",
      "Renovat              62  \n",
      "Necesita renovare    35  \n",
      "Name: grad_finisare, dtype: int64\n",
      "etaj Etajul 1            1189\n",
      "Parter              1132\n",
      "Etajul 2            960 \n",
      "Etajul 3            818 \n",
      "Etajul 4            742 \n",
      "Etaj intermediar    422 \n",
      "Etajul 5            234 \n",
      "Ultimul etaj        191 \n",
      "Etajul 7            181 \n",
      "Etajul 8            143 \n",
      "Etajul 6            122 \n",
      "Etajul 9            97  \n",
      "Etajul 10           97  \n",
      "Mansarda            76  \n",
      "Demisol             70  \n",
      "Name: etaj, dtype: int64\n",
      "vechime_imobil mai vechi de 2000    3173\n",
      "bloc nou             2546\n",
      "In constructie       204 \n",
      "Name: vechime_imobil, dtype: int64\n",
      "numar_bai 1      4216\n",
      "2      1898\n",
      "3      27  \n",
      "1.0    6   \n",
      "4      1   \n",
      "Name: numar_bai, dtype: int64\n",
      "numar_balcoane 1                   3085\n",
      "2                   1093\n",
      "Fara balcon         208 \n",
      "3                   128 \n",
      "Terasa              85  \n",
      "Balcon inchis       45  \n",
      "Balcoane inchise    8   \n",
      "1.0                 6   \n",
      "Name: numar_balcoane, dtype: int64\n",
      "geamuri_termopan Da    5065\n",
      "Name: geamuri_termopan, dtype: int64\n",
      "centrala_termica Da    5932\n",
      "Name: centrala_termica, dtype: int64\n",
      "compatimentare Decomandat        3970\n",
      "Semidecomandat    2507\n",
      "Open space        37  \n",
      "Nedecomandat      17  \n",
      "Circular          14  \n",
      "Vagon             3   \n",
      "Name: compatimentare, dtype: int64\n",
      "parchet Da    5031\n",
      "Name: parchet, dtype: int64\n",
      "confort 1         4140\n",
      "Sporit    1434\n",
      "Unic      126 \n",
      "2         122 \n",
      "3         51  \n",
      "Name: confort, dtype: int64\n",
      "gresie Da    3509\n",
      "Name: gresie, dtype: int64\n",
      "faianta Da    5066\n",
      "Name: faianta, dtype: int64\n",
      "zugravit_lavabil Da    4617\n",
      "Name: zugravit_lavabil, dtype: int64\n",
      "loc_parcare Da    2389\n",
      "Name: loc_parcare, dtype: int64\n",
      "numar_camere 2    3294\n",
      "3    2561\n",
      "1    1280\n",
      "4    662 \n",
      "5    31  \n",
      "6    5   \n",
      "7    1   \n",
      "Name: numar_camere, dtype: int64\n",
      "cartier Manastur           1546\n",
      "Marasti            1385\n",
      "Gheorgheni         1021\n",
      "Centru             840 \n",
      "Zorilor            571 \n",
      "Grigorescu         424 \n",
      "Buna-Ziua          325 \n",
      "Floresti           313 \n",
      "Europa             236 \n",
      "Borhanci           155 \n",
      "Iris               118 \n",
      "Plopilor           116 \n",
      "Andrei Muresanu    111 \n",
      "Baciu              86  \n",
      "Gruia              64  \n",
      "Dambul-Rotund      49  \n",
      "Apahida            32  \n",
      "Someseni           24  \n",
      "Gara               21  \n",
      "Bulgaria           17  \n",
      "Feleacu            1   \n",
      "Faget              1   \n",
      "Sopor              1   \n",
      "Name: cartier, dtype: int64\n",
      "modificari_interioare Da    356\n",
      "Name: modificari_interioare, dtype: int64\n",
      "balcoane_inchise Da    847\n",
      "Name: balcoane_inchise, dtype: int64\n",
      "aer_conditionat Da    314\n",
      "Name: aer_conditionat, dtype: int64\n",
      "loc_in_pod Da    688\n",
      "Name: loc_in_pod, dtype: int64\n",
      "loc_in_pivnita Da    993\n",
      "Name: loc_in_pivnita, dtype: int64\n",
      "uscator Da    648\n",
      "Name: uscator, dtype: int64\n"
     ]
    }
   ],
   "source": [
    "_ = valori_unice(coloane_one_hot)\n",
    "_"
   ]
  },
  {
   "cell_type": "code",
   "execution_count": 59,
   "metadata": {},
   "outputs": [
    {
     "name": "stdout",
     "output_type": "stream",
     "text": [
      "grad_finisare 4090\n",
      "etaj 1360\n",
      "vechime_imobil 1911\n",
      "numar_bai 1686\n",
      "numar_balcoane 3176\n",
      "geamuri_termopan 2769\n",
      "centrala_termica 1902\n",
      "compatimentare 1286\n",
      "parchet 2803\n",
      "confort 1961\n",
      "gresie 4325\n",
      "faianta 2768\n",
      "zugravit_lavabil 3217\n",
      "loc_parcare 5445\n",
      "numar_camere 0\n",
      "cartier 377\n",
      "modificari_interioare 7478\n",
      "balcoane_inchise 6987\n",
      "aer_conditionat 7520\n",
      "loc_in_pod 7146\n",
      "loc_in_pivnita 6841\n",
      "uscator 7186\n"
     ]
    }
   ],
   "source": [
    "_ = valori_nule(coloane_one_hot)\n",
    "_"
   ]
  },
  {
   "cell_type": "code",
   "execution_count": 60,
   "metadata": {
    "collapsed": true
   },
   "outputs": [],
   "source": [
    "var_tinta = data.pret"
   ]
  },
  {
   "cell_type": "code",
   "execution_count": 61,
   "metadata": {
    "collapsed": true
   },
   "outputs": [],
   "source": [
    "var_intrare = data[coloane_one_hot]"
   ]
  },
  {
   "cell_type": "code",
   "execution_count": 62,
   "metadata": {
    "collapsed": true
   },
   "outputs": [],
   "source": [
    "var_intrare = pd.get_dummies(var_intrare, columns=coloane_one_hot)"
   ]
  },
  {
   "cell_type": "code",
   "execution_count": 63,
   "metadata": {},
   "outputs": [
    {
     "data": {
      "text/plain": [
       "['grad_finisare_Finisat clasic',\n",
       " 'grad_finisare_Finisat modern',\n",
       " 'grad_finisare_Necesita renovare',\n",
       " 'grad_finisare_Nefinisat',\n",
       " 'grad_finisare_Renovat',\n",
       " 'grad_finisare_Semifinisat',\n",
       " 'grad_finisare_Ultrafinisat',\n",
       " 'etaj_Demisol',\n",
       " 'etaj_Etaj intermediar',\n",
       " 'etaj_Etajul 1',\n",
       " 'etaj_Etajul 10',\n",
       " 'etaj_Etajul 2',\n",
       " 'etaj_Etajul 3',\n",
       " 'etaj_Etajul 4',\n",
       " 'etaj_Etajul 5',\n",
       " 'etaj_Etajul 6',\n",
       " 'etaj_Etajul 7',\n",
       " 'etaj_Etajul 8',\n",
       " 'etaj_Etajul 9',\n",
       " 'etaj_Mansarda',\n",
       " 'etaj_Parter',\n",
       " 'etaj_Ultimul etaj',\n",
       " 'vechime_imobil_In constructie',\n",
       " 'vechime_imobil_bloc nou',\n",
       " 'vechime_imobil_mai vechi de 2000',\n",
       " 'numar_bai_1.0',\n",
       " 'numar_bai_1',\n",
       " 'numar_bai_2',\n",
       " 'numar_bai_3',\n",
       " 'numar_bai_4',\n",
       " 'numar_balcoane_1.0',\n",
       " 'numar_balcoane_1',\n",
       " 'numar_balcoane_2',\n",
       " 'numar_balcoane_3',\n",
       " 'numar_balcoane_Balcoane inchise',\n",
       " 'numar_balcoane_Balcon inchis',\n",
       " 'numar_balcoane_Fara balcon',\n",
       " 'numar_balcoane_Terasa',\n",
       " 'geamuri_termopan_Da',\n",
       " 'centrala_termica_Da',\n",
       " 'compatimentare_Circular',\n",
       " 'compatimentare_Decomandat',\n",
       " 'compatimentare_Nedecomandat',\n",
       " 'compatimentare_Open space',\n",
       " 'compatimentare_Semidecomandat',\n",
       " 'compatimentare_Vagon',\n",
       " 'parchet_Da',\n",
       " 'confort_1',\n",
       " 'confort_2',\n",
       " 'confort_3',\n",
       " 'confort_Sporit',\n",
       " 'confort_Unic',\n",
       " 'gresie_Da',\n",
       " 'faianta_Da',\n",
       " 'zugravit_lavabil_Da',\n",
       " 'loc_parcare_Da',\n",
       " 'numar_camere_1',\n",
       " 'numar_camere_2',\n",
       " 'numar_camere_3',\n",
       " 'numar_camere_4',\n",
       " 'numar_camere_5',\n",
       " 'numar_camere_6',\n",
       " 'numar_camere_7',\n",
       " 'cartier_Andrei Muresanu',\n",
       " 'cartier_Apahida',\n",
       " 'cartier_Baciu',\n",
       " 'cartier_Borhanci',\n",
       " 'cartier_Bulgaria',\n",
       " 'cartier_Buna-Ziua',\n",
       " 'cartier_Centru',\n",
       " 'cartier_Dambul-Rotund',\n",
       " 'cartier_Europa',\n",
       " 'cartier_Faget',\n",
       " 'cartier_Feleacu',\n",
       " 'cartier_Floresti',\n",
       " 'cartier_Gara',\n",
       " 'cartier_Gheorgheni',\n",
       " 'cartier_Grigorescu',\n",
       " 'cartier_Gruia',\n",
       " 'cartier_Iris',\n",
       " 'cartier_Manastur',\n",
       " 'cartier_Marasti',\n",
       " 'cartier_Plopilor',\n",
       " 'cartier_Someseni',\n",
       " 'cartier_Sopor',\n",
       " 'cartier_Zorilor',\n",
       " 'modificari_interioare_Da',\n",
       " 'balcoane_inchise_Da',\n",
       " 'aer_conditionat_Da',\n",
       " 'loc_in_pod_Da',\n",
       " 'loc_in_pivnita_Da',\n",
       " 'uscator_Da']"
      ]
     },
     "execution_count": 63,
     "metadata": {},
     "output_type": "execute_result"
    }
   ],
   "source": [
    "var_intrare.columns.tolist()"
   ]
  },
  {
   "cell_type": "raw",
   "metadata": {},
   "source": [
    "Singura coloana care contine date numerice, continue, este \"suprafata\". Aceasta va fi adaugata data frame-ului care are variabilele de intrare dummy"
   ]
  },
  {
   "cell_type": "code",
   "execution_count": 64,
   "metadata": {
    "collapsed": true
   },
   "outputs": [],
   "source": [
    "var_intrare = pd.concat([var_intrare, data.suprafata], axis=1)"
   ]
  },
  {
   "cell_type": "code",
   "execution_count": 65,
   "metadata": {},
   "outputs": [
    {
     "name": "stderr",
     "output_type": "stream",
     "text": [
      "F:\\Anaconda323\\lib\\site-packages\\sklearn\\cross_validation.py:41: DeprecationWarning: This module was deprecated in version 0.18 in favor of the model_selection module into which all the refactored classes and functions are moved. Also note that the interface of the new CV iterators are different from that of this module. This module will be removed in 0.20.\n",
      "  \"This module will be removed in 0.20.\", DeprecationWarning)\n"
     ]
    }
   ],
   "source": [
    "from sklearn.model_selection import train_test_split\n",
    "from sklearn.metrics import mean_absolute_error\n",
    "from sklearn.tree import DecisionTreeRegressor\n",
    "from sklearn.metrics import median_absolute_error\n",
    "from sklearn.cross_validation import cross_val_score\n",
    "from sklearn.ensemble import AdaBoostRegressor\n",
    "from sklearn.metrics import median_absolute_error\n",
    "from sklearn import metrics"
   ]
  },
  {
   "cell_type": "raw",
   "metadata": {},
   "source": [
    "Pentru predictie vom folosire un arbore de decizie. Pentru a imbunatatii performantele acestuia vom aplica si algoritmul AdaBoost. \n",
    "Pentru a testa rezultatele vom folosi testare incrucisata."
   ]
  },
  {
   "cell_type": "code",
   "execution_count": 66,
   "metadata": {},
   "outputs": [
    {
     "name": "stdout",
     "output_type": "stream",
     "text": [
      "0.695307149679\n",
      "-11863.9702581\n"
     ]
    }
   ],
   "source": [
    "arbore = DecisionTreeRegressor(min_samples_leaf=15, max_depth=50)\n",
    "train_x, val_X, train_y, val_y = train_test_split(var_intrare, var_tinta, random_state = 0)\n",
    "\n",
    "arbore.fit(train_x, train_y)\n",
    "\n",
    "predictie = arbore.predict(val_X)\n",
    "\n",
    "\n",
    "\n",
    "scor = cross_val_score(arbore, var_intrare, var_tinta, cv=5)\n",
    "print(scor.mean())\n",
    "\n",
    "scor = cross_val_score(arbore, var_intrare, var_tinta, cv=5, scoring=\"neg_mean_absolute_error\")\n",
    "print(scor.mean())"
   ]
  },
  {
   "cell_type": "code",
   "execution_count": 67,
   "metadata": {},
   "outputs": [
    {
     "name": "stdout",
     "output_type": "stream",
     "text": [
      "0.771377253274\n",
      "-9691.46204193\n"
     ]
    }
   ],
   "source": [
    "arboreAda = AdaBoostRegressor(DecisionTreeRegressor(max_depth=50), n_estimators=200, random_state=1)\n",
    "arboreAda.fit(train_x, train_y)\n",
    "\n",
    "\n",
    "predictieAda = arboreAda.predict(val_X)\n",
    "\n",
    "scor = cross_val_score(arboreAda, var_intrare, var_tinta, cv=5)\n",
    "print(scor.mean())\n",
    "\n",
    "scor = cross_val_score(arboreAda, var_intrare, var_tinta, cv=5, scoring=\"neg_mean_absolute_error\")\n",
    "print(scor.mean())"
   ]
  },
  {
   "cell_type": "code",
   "execution_count": 68,
   "metadata": {},
   "outputs": [
    {
     "data": {
      "text/plain": [
       "grad_finisare_Finisat clasic        1 \n",
       "grad_finisare_Finisat modern        0 \n",
       "grad_finisare_Necesita renovare     0 \n",
       "grad_finisare_Nefinisat             0 \n",
       "grad_finisare_Renovat               0 \n",
       "grad_finisare_Semifinisat           0 \n",
       "grad_finisare_Ultrafinisat          0 \n",
       "etaj_Demisol                        0 \n",
       "etaj_Etaj intermediar               0 \n",
       "etaj_Etajul 1                       0 \n",
       "etaj_Etajul 10                      0 \n",
       "etaj_Etajul 2                       0 \n",
       "etaj_Etajul 3                       0 \n",
       "etaj_Etajul 4                       0 \n",
       "etaj_Etajul 5                       0 \n",
       "etaj_Etajul 6                       0 \n",
       "etaj_Etajul 7                       0 \n",
       "etaj_Etajul 8                       1 \n",
       "etaj_Etajul 9                       0 \n",
       "etaj_Mansarda                       0 \n",
       "etaj_Parter                         0 \n",
       "etaj_Ultimul etaj                   0 \n",
       "vechime_imobil_In constructie       0 \n",
       "vechime_imobil_bloc nou             0 \n",
       "vechime_imobil_mai vechi de 2000    1 \n",
       "numar_bai_1.0                       0 \n",
       "numar_bai_1                         0 \n",
       "numar_bai_2                         1 \n",
       "numar_bai_3                         0 \n",
       "numar_bai_4                         0 \n",
       "                                   .. \n",
       "cartier_Andrei Muresanu             0 \n",
       "cartier_Apahida                     0 \n",
       "cartier_Baciu                       0 \n",
       "cartier_Borhanci                    0 \n",
       "cartier_Bulgaria                    0 \n",
       "cartier_Buna-Ziua                   0 \n",
       "cartier_Centru                      0 \n",
       "cartier_Dambul-Rotund               0 \n",
       "cartier_Europa                      0 \n",
       "cartier_Faget                       0 \n",
       "cartier_Feleacu                     0 \n",
       "cartier_Floresti                    0 \n",
       "cartier_Gara                        0 \n",
       "cartier_Gheorgheni                  0 \n",
       "cartier_Grigorescu                  0 \n",
       "cartier_Gruia                       0 \n",
       "cartier_Iris                        0 \n",
       "cartier_Manastur                    0 \n",
       "cartier_Marasti                     1 \n",
       "cartier_Plopilor                    0 \n",
       "cartier_Someseni                    0 \n",
       "cartier_Sopor                       0 \n",
       "cartier_Zorilor                     0 \n",
       "modificari_interioare_Da            0 \n",
       "balcoane_inchise_Da                 0 \n",
       "aer_conditionat_Da                  0 \n",
       "loc_in_pod_Da                       0 \n",
       "loc_in_pivnita_Da                   0 \n",
       "uscator_Da                          0 \n",
       "suprafata                           78\n",
       "Name: 54, Length: 93, dtype: int64"
      ]
     },
     "execution_count": 68,
     "metadata": {},
     "output_type": "execute_result"
    }
   ],
   "source": [
    "var_intrare.iloc[50]"
   ]
  },
  {
   "cell_type": "code",
   "execution_count": 69,
   "metadata": {},
   "outputs": [
    {
     "data": {
      "text/plain": [
       "(7834, 93)"
      ]
     },
     "execution_count": 69,
     "metadata": {},
     "output_type": "execute_result"
    }
   ],
   "source": [
    "var_intrare.shape"
   ]
  },
  {
   "cell_type": "code",
   "execution_count": 70,
   "metadata": {},
   "outputs": [
    {
     "data": {
      "text/plain": [
       "(93,)"
      ]
     },
     "execution_count": 70,
     "metadata": {},
     "output_type": "execute_result"
    }
   ],
   "source": [
    "ex2 = var_intrare.iloc[50]\n",
    "ex2.shape"
   ]
  },
  {
   "cell_type": "code",
   "execution_count": 71,
   "metadata": {},
   "outputs": [
    {
     "ename": "NameError",
     "evalue": "name 'ex1' is not defined",
     "output_type": "error",
     "traceback": [
      "\u001b[1;31m---------------------------------------------------------------------------\u001b[0m",
      "\u001b[1;31mNameError\u001b[0m                                 Traceback (most recent call last)",
      "\u001b[1;32m<ipython-input-71-ed7a7e38979e>\u001b[0m in \u001b[0;36m<module>\u001b[1;34m()\u001b[0m\n\u001b[1;32m----> 1\u001b[1;33m \u001b[0mex2\u001b[0m \u001b[1;33m=\u001b[0m \u001b[0mnp\u001b[0m\u001b[1;33m.\u001b[0m\u001b[0mreshape\u001b[0m\u001b[1;33m(\u001b[0m\u001b[0mex1\u001b[0m\u001b[1;33m,\u001b[0m\u001b[1;33m(\u001b[0m\u001b[1;33m-\u001b[0m\u001b[1;36m1\u001b[0m\u001b[1;33m,\u001b[0m \u001b[1;36m93\u001b[0m\u001b[1;33m)\u001b[0m\u001b[1;33m)\u001b[0m\u001b[1;33m\u001b[0m\u001b[0m\n\u001b[0m",
      "\u001b[1;31mNameError\u001b[0m: name 'ex1' is not defined"
     ]
    }
   ],
   "source": [
    "ex2 = np.reshape(ex1,(-1, 93))"
   ]
  },
  {
   "cell_type": "code",
   "execution_count": null,
   "metadata": {},
   "outputs": [],
   "source": [
    "prez = arboreAda.predict(ex2)\n",
    "prez"
   ]
  },
  {
   "cell_type": "code",
   "execution_count": null,
   "metadata": {},
   "outputs": [],
   "source": [
    "arboreAdaBoost = AdaBoostRegressor(DecisionTreeRegressor(max_depth=50), n_estimators=200, random_state=1)\n",
    "arboreAdaBoost.fit(var_intrare, var_tinta)"
   ]
  },
  {
   "cell_type": "code",
   "execution_count": null,
   "metadata": {},
   "outputs": [],
   "source": [
    "prezAdaBoost = arboreAdaBoost.predict(ex2)\n",
    "prezAdaBoost"
   ]
  },
  {
   "cell_type": "code",
   "execution_count": null,
   "metadata": {},
   "outputs": [],
   "source": [
    "var_tinta.iloc[50]"
   ]
  },
  {
   "cell_type": "code",
   "execution_count": null,
   "metadata": {},
   "outputs": [],
   "source": [
    "scor = cross_val_score(arboreAdaBoost, var_intrare, var_tinta, cv=5)\n",
    "print(scor.mean())"
   ]
  },
  {
   "cell_type": "code",
   "execution_count": null,
   "metadata": {
    "collapsed": true
   },
   "outputs": [],
   "source": []
  },
  {
   "cell_type": "raw",
   "metadata": {
    "collapsed": true
   },
   "source": [
    "Vom incerca sa facem o predictie eliminam valoriile extreme. Ne vom uita la pretul/suprafata al apartamentelor in functie de cate camere au si vom elimina valorile foarte mari si valorile foarte mici."
   ]
  },
  {
   "cell_type": "code",
   "execution_count": null,
   "metadata": {},
   "outputs": [],
   "source": [
    "mask_c1 = data['numar_camere'] == 1\n",
    "data_c1 = data[mask_c1]\n",
    "mask_c1.sum()"
   ]
  },
  {
   "cell_type": "code",
   "execution_count": null,
   "metadata": {},
   "outputs": [],
   "source": [
    "mask_c2 = data['numar_camere'] == 2\n",
    "data_c2 = data[mask_c2]\n",
    "mask_c2.sum()"
   ]
  },
  {
   "cell_type": "code",
   "execution_count": null,
   "metadata": {},
   "outputs": [],
   "source": [
    "mask_c3 = data['numar_camere'] == 3\n",
    "data_c3 = data[mask_c3]\n",
    "mask_c3.sum()"
   ]
  },
  {
   "cell_type": "code",
   "execution_count": null,
   "metadata": {},
   "outputs": [],
   "source": [
    "mask_c4 = data['numar_camere'] == 4\n",
    "data_c4 = data[mask_c4]\n",
    "mask_c4.sum()"
   ]
  },
  {
   "cell_type": "code",
   "execution_count": null,
   "metadata": {},
   "outputs": [],
   "source": [
    "data_c1['pret/suprafata'].hist(bins=30)\n",
    "plt.show()\n"
   ]
  },
  {
   "cell_type": "code",
   "execution_count": null,
   "metadata": {},
   "outputs": [],
   "source": [
    "plt.boxplot(data_c1['pret/suprafata'])\n",
    "plt.show()"
   ]
  },
  {
   "cell_type": "code",
   "execution_count": null,
   "metadata": {},
   "outputs": [],
   "source": [
    "data_c2['pret/suprafata'].hist(bins=30)\n",
    "plt.show()"
   ]
  },
  {
   "cell_type": "code",
   "execution_count": null,
   "metadata": {},
   "outputs": [],
   "source": [
    "plt.boxplot(data_c2['pret/suprafata'].values)\n",
    "plt.show()"
   ]
  },
  {
   "cell_type": "code",
   "execution_count": null,
   "metadata": {},
   "outputs": [],
   "source": [
    "data_c3['pret/suprafata'].hist(bins=30)\n",
    "plt.show()\n"
   ]
  },
  {
   "cell_type": "code",
   "execution_count": null,
   "metadata": {},
   "outputs": [],
   "source": [
    "plt.boxplot(data_c3['pret/suprafata'].values)\n",
    "plt.show()"
   ]
  },
  {
   "cell_type": "code",
   "execution_count": null,
   "metadata": {},
   "outputs": [],
   "source": [
    "data_c4['pret/suprafata'].hist(bins=30)\n",
    "plt.show()\n"
   ]
  },
  {
   "cell_type": "code",
   "execution_count": null,
   "metadata": {},
   "outputs": [],
   "source": [
    "plt.boxplot(data_c4['pret/suprafata'].values)\n",
    "plt.show()"
   ]
  },
  {
   "cell_type": "code",
   "execution_count": null,
   "metadata": {},
   "outputs": [],
   "source": [
    "data['numar_camere'].value_counts()"
   ]
  },
  {
   "cell_type": "code",
   "execution_count": null,
   "metadata": {
    "collapsed": true
   },
   "outputs": [],
   "source": [
    "data2 = data[data['pret/suprafata'] < 2500]"
   ]
  },
  {
   "cell_type": "code",
   "execution_count": null,
   "metadata": {
    "collapsed": true
   },
   "outputs": [],
   "source": [
    "data2 = data2[data2['pret/suprafata'] > 600]"
   ]
  },
  {
   "cell_type": "code",
   "execution_count": null,
   "metadata": {
    "collapsed": true
   },
   "outputs": [],
   "source": [
    "data_c1 = data_c1[data_c1['pret/suprafata'] < 2500]\n",
    "data_c1 = data_c1[data_c1['pret/suprafata'] > 750]"
   ]
  },
  {
   "cell_type": "code",
   "execution_count": null,
   "metadata": {
    "collapsed": true
   },
   "outputs": [],
   "source": [
    "data_c2 = data_c2[data_c2['pret/suprafata'] < 2300]\n",
    "data_c2 = data_c2[data_c2['pret/suprafata'] > 750]"
   ]
  },
  {
   "cell_type": "code",
   "execution_count": null,
   "metadata": {
    "collapsed": true
   },
   "outputs": [],
   "source": [
    "data_c3 = data_c3[data_c3['pret/suprafata'] < 2200]\n",
    "data_c3 = data_c3[data_c3['pret/suprafata'] > 700]"
   ]
  },
  {
   "cell_type": "code",
   "execution_count": null,
   "metadata": {
    "collapsed": true
   },
   "outputs": [],
   "source": [
    "data_c4 = data_c4[data_c4['pret/suprafata'] < 2000]\n",
    "data_c4 = data_c4[data_c4['pret/suprafata'] > 700]"
   ]
  },
  {
   "cell_type": "code",
   "execution_count": null,
   "metadata": {
    "collapsed": true
   },
   "outputs": [],
   "source": [
    "datac= data_c1.append(data_c2, ignore_index=True)"
   ]
  },
  {
   "cell_type": "code",
   "execution_count": null,
   "metadata": {
    "collapsed": true
   },
   "outputs": [],
   "source": [
    "datac= datac.append(data_c3, ignore_index=True)"
   ]
  },
  {
   "cell_type": "code",
   "execution_count": null,
   "metadata": {
    "collapsed": true
   },
   "outputs": [],
   "source": [
    "datac= datac.append(data_c4, ignore_index=True)"
   ]
  },
  {
   "cell_type": "code",
   "execution_count": null,
   "metadata": {},
   "outputs": [],
   "source": [
    "len(datac)"
   ]
  },
  {
   "cell_type": "code",
   "execution_count": null,
   "metadata": {},
   "outputs": [],
   "source": [
    "datac.columns.tolist()"
   ]
  },
  {
   "cell_type": "code",
   "execution_count": null,
   "metadata": {
    "collapsed": true
   },
   "outputs": [],
   "source": [
    "var_tinta2 = datac.pret"
   ]
  },
  {
   "cell_type": "code",
   "execution_count": null,
   "metadata": {
    "collapsed": true
   },
   "outputs": [],
   "source": [
    "var_intrare2 = datac[coloane_one_hot]"
   ]
  },
  {
   "cell_type": "code",
   "execution_count": null,
   "metadata": {
    "collapsed": true
   },
   "outputs": [],
   "source": [
    "var_intrare2 = pd.get_dummies(var_intrare2, columns=coloane_one_hot)"
   ]
  },
  {
   "cell_type": "code",
   "execution_count": null,
   "metadata": {
    "collapsed": true
   },
   "outputs": [],
   "source": [
    "var_intrare2 = pd.concat([var_intrare2, datac.suprafata], axis=1)"
   ]
  },
  {
   "cell_type": "code",
   "execution_count": null,
   "metadata": {},
   "outputs": [],
   "source": [
    "arbore2 = DecisionTreeRegressor(min_samples_leaf=30, max_depth=20)\n",
    "train_x, val_X, train_y, val_y = train_test_split(var_intrare2, var_tinta2, random_state = 0)\n",
    "\n",
    "arbore2.fit(train_x, train_y)\n",
    "\n",
    "predictie2 = arbore2.predict(val_X)\n",
    "\n",
    "#print(mean_absolute_error(val_y, predictie))\n",
    "#print(median_absolute_error(val_y, predictie))\n",
    "\n",
    "scor = cross_val_score(arbore2, var_intrare2, var_tinta2, cv=5)\n",
    "print(scor.mean())\n",
    "\n",
    "scor = cross_val_score(arbore2, var_intrare2, var_tinta2, cv=5, scoring=\"neg_mean_absolute_error\")\n",
    "print(scor.mean())"
   ]
  },
  {
   "cell_type": "code",
   "execution_count": null,
   "metadata": {},
   "outputs": [],
   "source": [
    "arboreAda2 = AdaBoostRegressor(DecisionTreeRegressor(max_depth=50), n_estimators=200, random_state=1)\n",
    "arboreAda2.fit(train_x, train_y)\n",
    "\n",
    "# get predicted prices on validation data\n",
    "predictieAda2 = arboreAda2.predict(val_X)\n",
    "\n",
    "scor = cross_val_score(arboreAda2, var_intrare2, var_tinta2, cv=5)\n",
    "print(scor.mean())\n",
    "\n",
    "scor = cross_val_score(arboreAda2, var_intrare2, var_tinta2, cv=5, scoring=\"neg_mean_absolute_error\")\n",
    "print(scor.mean())"
   ]
  },
  {
   "cell_type": "raw",
   "metadata": {},
   "source": [
    "Vedem ca predictia se inrautateste o data cu eliminarea datelor."
   ]
  },
  {
   "cell_type": "code",
   "execution_count": null,
   "metadata": {},
   "outputs": [],
   "source": [
    "datac['numar_camere'].value_counts()"
   ]
  },
  {
   "cell_type": "code",
   "execution_count": null,
   "metadata": {},
   "outputs": [],
   "source": [
    "datac['pret/suprafata'].hist(bins=20)\n",
    "plt.show()"
   ]
  },
  {
   "cell_type": "code",
   "execution_count": null,
   "metadata": {},
   "outputs": [],
   "source": [
    "data['pret/suprafata'].hist(bins=20)\n",
    "plt.show()"
   ]
  },
  {
   "cell_type": "code",
   "execution_count": null,
   "metadata": {
    "collapsed": true
   },
   "outputs": [],
   "source": [
    "_ = tipuri_date()"
   ]
  },
  {
   "cell_type": "code",
   "execution_count": null,
   "metadata": {},
   "outputs": [],
   "source": [
    "_"
   ]
  },
  {
   "cell_type": "code",
   "execution_count": null,
   "metadata": {},
   "outputs": [],
   "source": [
    "data['cartier'].value_counts()"
   ]
  },
  {
   "cell_type": "raw",
   "metadata": {},
   "source": [
    "Vom incerca sa facem o predictie mai buna eliminand cartiere din preajma Clujul si apartamentele care sunt in constructie."
   ]
  },
  {
   "cell_type": "code",
   "execution_count": null,
   "metadata": {
    "collapsed": true
   },
   "outputs": [],
   "source": [
    "data2 = data.copy()"
   ]
  },
  {
   "cell_type": "code",
   "execution_count": null,
   "metadata": {
    "collapsed": true
   },
   "outputs": [],
   "source": [
    "data2['cartier'].dropna(inplace=True)"
   ]
  },
  {
   "cell_type": "code",
   "execution_count": null,
   "metadata": {},
   "outputs": [],
   "source": [
    "data2.head()"
   ]
  },
  {
   "cell_type": "code",
   "execution_count": null,
   "metadata": {
    "collapsed": true
   },
   "outputs": [],
   "source": [
    "cartiere_afara = ['Borhanci', 'Faget', 'Feleacu', 'Sopor', 'Someseni', 'Apahida', 'Dambul-Rotund', 'Baciu']"
   ]
  },
  {
   "cell_type": "code",
   "execution_count": null,
   "metadata": {},
   "outputs": [],
   "source": [
    "data2['vechime_imobil'].value_counts()"
   ]
  },
  {
   "cell_type": "code",
   "execution_count": null,
   "metadata": {
    "collapsed": true
   },
   "outputs": [],
   "source": [
    "data2 = data2[data2['vechime_imobil'] != 'In constructie']"
   ]
  },
  {
   "cell_type": "code",
   "execution_count": null,
   "metadata": {
    "collapsed": true
   },
   "outputs": [],
   "source": [
    "for i in cartiere_afara:\n",
    "    data2 = data2[data2['cartier'] != i]"
   ]
  },
  {
   "cell_type": "code",
   "execution_count": null,
   "metadata": {},
   "outputs": [],
   "source": [
    "data2['vechime_imobil'].value_counts()"
   ]
  },
  {
   "cell_type": "code",
   "execution_count": null,
   "metadata": {},
   "outputs": [],
   "source": [
    "data2['cartier'].value_counts()"
   ]
  },
  {
   "cell_type": "code",
   "execution_count": null,
   "metadata": {},
   "outputs": [],
   "source": [
    "data2.shape"
   ]
  },
  {
   "cell_type": "code",
   "execution_count": null,
   "metadata": {
    "collapsed": true
   },
   "outputs": [],
   "source": [
    "data2 = data2[data2['numar_camere'] <5]"
   ]
  },
  {
   "cell_type": "code",
   "execution_count": null,
   "metadata": {
    "collapsed": true
   },
   "outputs": [],
   "source": [
    "var_tinta3 = data2.pret"
   ]
  },
  {
   "cell_type": "code",
   "execution_count": null,
   "metadata": {
    "collapsed": true
   },
   "outputs": [],
   "source": [
    "var_intrare3 = data2[coloane_one_hot]"
   ]
  },
  {
   "cell_type": "code",
   "execution_count": null,
   "metadata": {
    "collapsed": true
   },
   "outputs": [],
   "source": [
    "var_intrare3 = pd.get_dummies(var_intrare3, columns=coloane_one_hot)"
   ]
  },
  {
   "cell_type": "code",
   "execution_count": null,
   "metadata": {
    "collapsed": true
   },
   "outputs": [],
   "source": [
    "var_intrare3 = pd.concat([var_intrare3, data2.suprafata], axis=1)"
   ]
  },
  {
   "cell_type": "code",
   "execution_count": null,
   "metadata": {},
   "outputs": [],
   "source": [
    "arbore3 = DecisionTreeRegressor(min_samples_leaf=15, max_depth=50)\n",
    "train_x, val_X, train_y, val_y = train_test_split(var_intrare3, var_tinta3, random_state = 0)\n",
    "\n",
    "arbore3.fit(train_x, train_y)\n",
    "\n",
    "predictie3 = arbore3.predict(val_X)\n",
    "\n",
    "#print(mean_absolute_error(val_y, predictie))\n",
    "#print(median_absolute_error(val_y, predictie))\n",
    "\n",
    "scor = cross_val_score(arbore3, var_intrare3, var_tinta3, cv=5)\n",
    "print(scor.mean())\n",
    "\n",
    "scor = cross_val_score(arbore3, var_intrare3, var_tinta3, cv=5, scoring=\"neg_mean_absolute_error\")\n",
    "print(scor.mean())"
   ]
  },
  {
   "cell_type": "code",
   "execution_count": null,
   "metadata": {},
   "outputs": [],
   "source": [
    "arboreAda3 = AdaBoostRegressor(DecisionTreeRegressor(max_depth=50), n_estimators=200, random_state=1)\n",
    "arboreAda3.fit(train_x, train_y)\n",
    "\n",
    "# get predicted prices on validation data\n",
    "predictieAda3 = arboreAda3.predict(val_X)\n",
    "\n",
    "scor = cross_val_score(arboreAda3, var_intrare3, var_tinta3, cv=5)\n",
    "print(scor.mean())\n",
    "\n",
    "scor = cross_val_score(arboreAda3, var_intrare3, var_tinta3, cv=5, scoring=\"neg_mean_absolute_error\")\n",
    "print(scor.mean())"
   ]
  },
  {
   "cell_type": "raw",
   "metadata": {},
   "source": [
    "Rezultatul predictiei este asemanator cu cel in care am folosit toate datele dupa o prima curatare a datelor. Dezavantajul aici este ca eliminam o categorie de date care ne pot fi de folos"
   ]
  },
  {
   "cell_type": "code",
   "execution_count": null,
   "metadata": {},
   "outputs": [],
   "source": [
    "len(data)"
   ]
  },
  {
   "cell_type": "code",
   "execution_count": null,
   "metadata": {},
   "outputs": [],
   "source": [
    "data.pret.hist(bins=20)\n",
    "plt.show()"
   ]
  },
  {
   "cell_type": "code",
   "execution_count": null,
   "metadata": {},
   "outputs": [],
   "source": [
    "data.suprafata.hist(bins=20)\n",
    "plt.show()"
   ]
  },
  {
   "cell_type": "code",
   "execution_count": null,
   "metadata": {},
   "outputs": [],
   "source": [
    "data['pret/suprafata'].hist(bins=30)\n",
    "plt.show()"
   ]
  },
  {
   "cell_type": "code",
   "execution_count": null,
   "metadata": {},
   "outputs": [],
   "source": [
    "data['numar_camere'].hist(bins=7)\n",
    "plt.show()"
   ]
  },
  {
   "cell_type": "code",
   "execution_count": null,
   "metadata": {},
   "outputs": [],
   "source": [
    "plt.boxplot(data['pret/suprafata'])\n",
    "plt.show()"
   ]
  },
  {
   "cell_type": "code",
   "execution_count": null,
   "metadata": {},
   "outputs": [],
   "source": [
    "plt.boxplot(data['pret'])\n",
    "plt.show()"
   ]
  },
  {
   "cell_type": "code",
   "execution_count": null,
   "metadata": {},
   "outputs": [],
   "source": [
    "plt.boxplot(data['suprafata'])\n",
    "plt.show()"
   ]
  },
  {
   "cell_type": "code",
   "execution_count": null,
   "metadata": {
    "collapsed": true
   },
   "outputs": [],
   "source": [
    "lista_cartiere = data.cartier.unique()"
   ]
  },
  {
   "cell_type": "code",
   "execution_count": null,
   "metadata": {
    "collapsed": true
   },
   "outputs": [],
   "source": [
    "lista_cartiere=lista_cartiere.tolist()"
   ]
  },
  {
   "cell_type": "code",
   "execution_count": null,
   "metadata": {
    "collapsed": true
   },
   "outputs": [],
   "source": [
    "lista_col = data.columns.tolist()"
   ]
  },
  {
   "cell_type": "code",
   "execution_count": null,
   "metadata": {},
   "outputs": [],
   "source": [
    "lista_col"
   ]
  },
  {
   "cell_type": "code",
   "execution_count": null,
   "metadata": {
    "collapsed": true
   },
   "outputs": [],
   "source": [
    "second = ['persoana', 'etaj', 'vechime_imobil', 'compatimentare', 'confort', 'cartier', 'numar_camere']"
   ]
  },
  {
   "cell_type": "code",
   "execution_count": null,
   "metadata": {},
   "outputs": [],
   "source": [
    "_ = valori_unice(second)"
   ]
  },
  {
   "cell_type": "code",
   "execution_count": null,
   "metadata": {},
   "outputs": [],
   "source": [
    "_ = valori_nule(second)"
   ]
  },
  {
   "cell_type": "code",
   "execution_count": null,
   "metadata": {},
   "outputs": [],
   "source": [
    "tipuri_date()"
   ]
  },
  {
   "cell_type": "code",
   "execution_count": null,
   "metadata": {},
   "outputs": [],
   "source": [
    "data.describe()"
   ]
  },
  {
   "cell_type": "raw",
   "metadata": {},
   "source": []
  },
  {
   "cell_type": "code",
   "execution_count": null,
   "metadata": {
    "collapsed": true
   },
   "outputs": [],
   "source": []
  },
  {
   "cell_type": "code",
   "execution_count": null,
   "metadata": {},
   "outputs": [],
   "source": [
    "pd.value_counts(data['cartier']).plot.bar()\n",
    "plt.show()"
   ]
  },
  {
   "cell_type": "code",
   "execution_count": null,
   "metadata": {},
   "outputs": [],
   "source": [
    "pd.value_counts(data['grad_finisare']).plot.bar()\n",
    "plt.show()"
   ]
  },
  {
   "cell_type": "code",
   "execution_count": null,
   "metadata": {},
   "outputs": [],
   "source": [
    "pd.value_counts(data['confort']).plot.bar()\n",
    "plt.show()"
   ]
  },
  {
   "cell_type": "code",
   "execution_count": null,
   "metadata": {},
   "outputs": [],
   "source": [
    "pd.value_counts(data['numar_camere']).plot.bar()\n",
    "plt.show()"
   ]
  },
  {
   "cell_type": "code",
   "execution_count": null,
   "metadata": {},
   "outputs": [],
   "source": [
    "pd.value_counts(data['etaj']).plot.bar()\n",
    "plt.show()"
   ]
  },
  {
   "cell_type": "code",
   "execution_count": null,
   "metadata": {},
   "outputs": [],
   "source": [
    "pd.value_counts(data['vechime_imobil']).plot.bar()\n",
    "plt.show()"
   ]
  },
  {
   "cell_type": "code",
   "execution_count": null,
   "metadata": {},
   "outputs": [],
   "source": [
    "camere = data['numar_camere'].unique()\n",
    "camere = camere.tolist()\n",
    "camere"
   ]
  },
  {
   "cell_type": "code",
   "execution_count": null,
   "metadata": {
    "collapsed": true
   },
   "outputs": [],
   "source": []
  }
 ],
 "metadata": {
  "kernelspec": {
   "display_name": "Python 3",
   "language": "python",
   "name": "python3"
  },
  "language_info": {
   "codemirror_mode": {
    "name": "ipython",
    "version": 3
   },
   "file_extension": ".py",
   "mimetype": "text/x-python",
   "name": "python",
   "nbconvert_exporter": "python",
   "pygments_lexer": "ipython3",
   "version": "3.6.2"
  }
 },
 "nbformat": 4,
 "nbformat_minor": 2
}
